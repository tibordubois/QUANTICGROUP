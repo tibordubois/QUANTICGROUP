{
 "cells": [
  {
   "cell_type": "code",
   "execution_count": 13,
   "metadata": {},
   "outputs": [
    {
     "name": "stdout",
     "output_type": "stream",
     "text": [
      "The autoreload extension is already loaded. To reload it, use:\n",
      "  %reload_ext autoreload\n"
     ]
    }
   ],
   "source": [
    "%load_ext autoreload\n",
    "%autoreload 2\n",
    "\n",
    "import sys\n",
    "if sys.path[-1] != \"..\": sys.path.append(\"..\")\n",
    "\n",
    "from source.qBN.qBNMC import qBayesNet\n",
    "from source.qBN.qBNRejection import qInference\n",
    "from XPs.qBNRT import qRuntime\n",
    "\n",
    "import pyAgrum as gum\n",
    "import pyAgrum.lib.notebook as gnb\n",
    "\n",
    "import random"
   ]
  },
  {
   "cell_type": "code",
   "execution_count": 14,
   "metadata": {},
   "outputs": [],
   "source": [
    "bntest = gum.fastBN(\"SPRINKLER<-RAIN->GRASS WET;SPRINKLER->GRASS WET\")\n",
    "bntest.cpt(\"RAIN\")[:] = [0.2, 0.8]\n",
    "bntest.cpt(\"SPRINKLER\")[:] = [[0.4, 0.6], [0.01, 0.99]]\n",
    "bntest.cpt(\"GRASS WET\")[:] = [[[0, 1], [0.8, 0.2]], [[0.9, 0.1], [0.99, 0.01]]]"
   ]
  },
  {
   "cell_type": "code",
   "execution_count": 15,
   "metadata": {},
   "outputs": [
    {
     "data": {
      "text/plain": [
       "'\\\\documentclass[border=2px]{standalone}\\n\\n\\\\usepackage[braket, qm]{qcircuit}\\n\\\\usepackage{graphicx}\\n\\n\\\\begin{document}\\n\\\\scalebox{1.0}{\\n\\\\Qcircuit @C=1.0em @R=0.2em @!R { \\\\\\\\\\n\\t \\t\\\\nghost{{0} :  } & \\\\lstick{{0} :  } & \\\\qw \\\\barrier[0em]{2} & \\\\qw & \\\\qw & \\\\gate{\\\\mathrm{R_Y}\\\\,(\\\\mathrm{1.772})} & \\\\qw \\\\barrier[0em]{2} & \\\\qw & \\\\gate{\\\\mathrm{R_Y}\\\\,(\\\\mathrm{2.941})} \\\\barrier[0em]{2} & \\\\qw & \\\\gate{\\\\mathrm{X}} & \\\\ctrl{1} & \\\\gate{\\\\mathrm{X}} \\\\barrier[0em]{2} & \\\\qw & \\\\qw & \\\\ctrl{1} & \\\\qw \\\\barrier[0em]{2} & \\\\qw & \\\\gate{\\\\mathrm{X}} & \\\\ctrl{1} & \\\\gate{\\\\mathrm{X}} \\\\barrier[0em]{2} & \\\\qw & \\\\ctrl{1} \\\\barrier[0em]{2} & \\\\qw & \\\\meter & \\\\qw & \\\\qw & \\\\qw & \\\\qw\\\\\\\\\\n\\t \\t\\\\nghost{{1} :  } & \\\\lstick{{1} :  } & \\\\gate{\\\\mathrm{R_Y}\\\\,(\\\\mathrm{2.214})} & \\\\qw & \\\\gate{\\\\mathrm{X}} & \\\\ctrl{-1} & \\\\gate{\\\\mathrm{X}} & \\\\qw & \\\\ctrl{-1} & \\\\qw & \\\\gate{\\\\mathrm{X}} & \\\\ctrl{1} & \\\\gate{\\\\mathrm{X}} & \\\\qw & \\\\gate{\\\\mathrm{X}} & \\\\ctrl{1} & \\\\gate{\\\\mathrm{X}} & \\\\qw & \\\\qw & \\\\ctrl{1} & \\\\qw & \\\\qw & \\\\ctrl{1} & \\\\qw & \\\\qw & \\\\meter & \\\\qw & \\\\qw & \\\\qw\\\\\\\\\\n\\t \\t\\\\nghost{{2} :  } & \\\\lstick{{2} :  } & \\\\qw & \\\\qw & \\\\qw & \\\\qw & \\\\qw & \\\\qw & \\\\qw & \\\\qw & \\\\qw & \\\\gate{\\\\mathrm{R_Y}\\\\,(\\\\mathrm{\\\\pi})} & \\\\qw & \\\\qw & \\\\qw & \\\\gate{\\\\mathrm{R_Y}\\\\,(\\\\mathrm{0.9273})} & \\\\qw & \\\\qw & \\\\qw & \\\\gate{\\\\mathrm{R_Y}\\\\,(\\\\mathrm{0.6435})} & \\\\qw & \\\\qw & \\\\gate{\\\\mathrm{R_Y}\\\\,(\\\\mathrm{0.2003})} & \\\\qw & \\\\qw & \\\\qw & \\\\meter & \\\\qw & \\\\qw\\\\\\\\\\n\\t \\t\\\\nghost{\\\\mathrm{{meas} :  }} & \\\\lstick{\\\\mathrm{{meas} :  }} & \\\\lstick{/_{_{3}}} \\\\cw & \\\\cw & \\\\cw & \\\\cw & \\\\cw & \\\\cw & \\\\cw & \\\\cw & \\\\cw & \\\\cw & \\\\cw & \\\\cw & \\\\cw & \\\\cw & \\\\cw & \\\\cw & \\\\cw & \\\\cw & \\\\cw & \\\\cw & \\\\cw & \\\\cw & \\\\dstick{_{_{\\\\hspace{0.0em}0}}} \\\\cw \\\\ar @{<=} [-3,0] & \\\\dstick{_{_{\\\\hspace{0.0em}1}}} \\\\cw \\\\ar @{<=} [-2,0] & \\\\dstick{_{_{\\\\hspace{0.0em}2}}} \\\\cw \\\\ar @{<=} [-1,0] & \\\\cw & \\\\cw\\\\\\\\\\n\\\\\\\\ }}\\n\\\\end{document}'"
      ]
     },
     "execution_count": 15,
     "metadata": {},
     "output_type": "execute_result"
    }
   ],
   "source": [
    "qbntest = qBayesNet(bntest)\n",
    "qctest = qbntest.buildCircuit()\n",
    "qctest.draw(output=\"latex_source\")"
   ]
  },
  {
   "cell_type": "code",
   "execution_count": 16,
   "metadata": {},
   "outputs": [],
   "source": [
    "from qiskit_ibm_runtime import QiskitRuntimeService\n",
    "\n",
    "service = QiskitRuntimeService(\n",
    "    channel='ibm_quantum',\n",
    "    instance='ibm-q/open/main',\n",
    "    token='1b6910ff55c1d3853e5c8e2ca2b0dbbc3b415fb897d26a6c272c63254527581c824aea1180585f706ab8263318f3c553549d136ca32952ef401abb54011eee33'\n",
    ")\n",
    "\n",
    "backend = service.get_backend(\"ibm_brisbane\")"
   ]
  },
  {
   "cell_type": "code",
   "execution_count": 3,
   "metadata": {},
   "outputs": [],
   "source": [
    "alarm_bn = gum.loadBN(\"alarm.dsl\")"
   ]
  },
  {
   "cell_type": "code",
   "execution_count": 4,
   "metadata": {},
   "outputs": [],
   "source": [
    "def getRandomBinaryCPT(num_parents):\n",
    "    if num_parents <= 0:\n",
    "        r = random.random()\n",
    "        return [r, 1-r]\n",
    "    else:\n",
    "        return [getRandomBinaryCPT(num_parents-1), getRandomBinaryCPT(num_parents-1)]\n",
    "\n",
    "def randomChoice(elements, num_choice):\n",
    "    res = set()\n",
    "    for i in range(num_choice):\n",
    "        chosen = random.choice(list(elements))\n",
    "        elements.discard(chosen)\n",
    "        res.add(chosen)\n",
    "    return res"
   ]
  },
  {
   "cell_type": "code",
   "execution_count": 5,
   "metadata": {},
   "outputs": [],
   "source": [
    "binary_bn = gum.BayesNet('Binary BN')\n",
    "\n",
    "for n_id in alarm_bn.nodes():\n",
    "    binary_bn.add(gum.LabelizedVariable(alarm_bn.variable(n_id).name(), alarm_bn.variable(n_id).description(), 2))\n",
    "\n",
    "for tail, head in alarm_bn.arcs():\n",
    "    binary_bn.addArc(tail, head)\n",
    "\n",
    "for n_id in alarm_bn.nodes():\n",
    "    binary_bn.cpt(n_id)[:] = getRandomBinaryCPT(len(binary_bn.parents(n_id)))"
   ]
  },
  {
   "cell_type": "code",
   "execution_count": 6,
   "metadata": {},
   "outputs": [
    {
     "data": {
      "text/html": [
       "<table style=\"border:1px solid black;border-collapse: collapse;\">\n",
       "<tr><th colspan='4'></th>\n",
       "      <th colspan='2' style='border:1px solid black;color:black;background-color:#808080;'><center>CATECHOL</center>\n",
       "      </th></tr>\n",
       "<tr><th style='border:1px solid black;color:black;background-color:#808080'><center>INSUFFANESTH</center></th><th style='border:1px solid black;color:black;background-color:#808080'><center>TPR</center></th><th style='border:1px solid black;color:black;background-color:#808080'><center>SAO2</center></th><th style='border:1px solid black;color:black;background-color:#808080'><center>ARTCO2</center></th><th style='border:1px solid black;border-bottom-style: double;color:black;background-color:#BBBBBB'>\n",
       "      <center>0</center></th><th style='border:1px solid black;border-bottom-style: double;color:black;background-color:#BBBBBB'>\n",
       "      <center>1</center></th></tr>\n",
       "<tr><th style='border:1px solid black;color:black;background-color:#BBBBBB;' rowspan = '8'>\n",
       "            <center>0</center></th><th style='border:1px solid black;color:black;background-color:#BBBBBB;' rowspan = '4'>\n",
       "            <center>0</center></th><th style='border:1px solid black;color:black;background-color:#BBBBBB;' rowspan = '2'>\n",
       "            <center>0</center></th><th style='border:1px solid black;color:black;background-color:#BBBBBB'><center>0</center></th><td style='color:black;background-color:#98e564;text-align:right;padding: 3px;'>0.8044</td><td style='color:black;background-color:#e59864;text-align:right;padding: 3px;'>0.1956</td></tr>\n",
       "<tr><th style='border:1px solid black;color:black;background-color:#BBBBBB'><center>1</center></th><td style='color:black;background-color:#b5c864;text-align:right;padding: 3px;'>0.5777</td><td style='color:black;background-color:#c8b564;text-align:right;padding: 3px;'>0.4223</td></tr>\n",
       "<tr><th style='border:1px solid black;color:black;background-color:#BBBBBB;' rowspan = '2'>\n",
       "            <center>1</center></th><th style='border:1px solid black;color:black;background-color:#BBBBBB'><center>0</center></th><td style='color:black;background-color:#aecf64;text-align:right;padding: 3px;'>0.6316</td><td style='color:black;background-color:#cfae64;text-align:right;padding: 3px;'>0.3684</td></tr>\n",
       "<tr><th style='border:1px solid black;color:black;background-color:#BBBBBB'><center>1</center></th><td style='color:black;background-color:#cfae64;text-align:right;padding: 3px;'>0.3742</td><td style='color:black;background-color:#aecf64;text-align:right;padding: 3px;'>0.6258</td></tr>\n",
       "<tr><th style='border:1px solid black;color:black;background-color:#BBBBBB;' rowspan = '4'>\n",
       "            <center>1</center></th><th style='border:1px solid black;color:black;background-color:#BBBBBB;' rowspan = '2'>\n",
       "            <center>0</center></th><th style='border:1px solid black;color:black;background-color:#BBBBBB'><center>0</center></th><td style='color:black;background-color:#de9f64;text-align:right;padding: 3px;'>0.2548</td><td style='color:black;background-color:#9fde64;text-align:right;padding: 3px;'>0.7452</td></tr>\n",
       "<tr><th style='border:1px solid black;color:black;background-color:#BBBBBB'><center>1</center></th><td style='color:black;background-color:#b0cd64;text-align:right;padding: 3px;'>0.6161</td><td style='color:black;background-color:#cdb064;text-align:right;padding: 3px;'>0.3839</td></tr>\n",
       "<tr><th style='border:1px solid black;color:black;background-color:#BBBBBB;' rowspan = '2'>\n",
       "            <center>1</center></th><th style='border:1px solid black;color:black;background-color:#BBBBBB'><center>0</center></th><td style='color:black;background-color:#ceaf64;text-align:right;padding: 3px;'>0.3819</td><td style='color:black;background-color:#afce64;text-align:right;padding: 3px;'>0.6181</td></tr>\n",
       "<tr><th style='border:1px solid black;color:black;background-color:#BBBBBB'><center>1</center></th><td style='color:black;background-color:#bac364;text-align:right;padding: 3px;'>0.5370</td><td style='color:black;background-color:#c3ba64;text-align:right;padding: 3px;'>0.4630</td></tr>\n",
       "<tr><th style='border:1px solid black;color:black;background-color:#BBBBBB;' rowspan = '8'>\n",
       "            <center>1</center></th><th style='border:1px solid black;color:black;background-color:#BBBBBB;' rowspan = '4'>\n",
       "            <center>0</center></th><th style='border:1px solid black;color:black;background-color:#BBBBBB;' rowspan = '2'>\n",
       "            <center>0</center></th><th style='border:1px solid black;color:black;background-color:#BBBBBB'><center>0</center></th><td style='color:black;background-color:#8eef64;text-align:right;padding: 3px;'>0.8759</td><td style='color:black;background-color:#ef8e64;text-align:right;padding: 3px;'>0.1241</td></tr>\n",
       "<tr><th style='border:1px solid black;color:black;background-color:#BBBBBB'><center>1</center></th><td style='color:black;background-color:#f78664;text-align:right;padding: 3px;'>0.0575</td><td style='color:black;background-color:#86f764;text-align:right;padding: 3px;'>0.9425</td></tr>\n",
       "<tr><th style='border:1px solid black;color:black;background-color:#BBBBBB;' rowspan = '2'>\n",
       "            <center>1</center></th><th style='border:1px solid black;color:black;background-color:#BBBBBB'><center>0</center></th><td style='color:black;background-color:#90ed64;text-align:right;padding: 3px;'>0.8660</td><td style='color:black;background-color:#ed9064;text-align:right;padding: 3px;'>0.1340</td></tr>\n",
       "<tr><th style='border:1px solid black;color:black;background-color:#BBBBBB'><center>1</center></th><td style='color:black;background-color:#85f864;text-align:right;padding: 3px;'>0.9512</td><td style='color:black;background-color:#f88564;text-align:right;padding: 3px;'>0.0488</td></tr>\n",
       "<tr><th style='border:1px solid black;color:black;background-color:#BBBBBB;' rowspan = '4'>\n",
       "            <center>1</center></th><th style='border:1px solid black;color:black;background-color:#BBBBBB;' rowspan = '2'>\n",
       "            <center>0</center></th><th style='border:1px solid black;color:black;background-color:#BBBBBB'><center>0</center></th><td style='color:black;background-color:#cdb064;text-align:right;padding: 3px;'>0.3857</td><td style='color:black;background-color:#b0cd64;text-align:right;padding: 3px;'>0.6143</td></tr>\n",
       "<tr><th style='border:1px solid black;color:black;background-color:#BBBBBB'><center>1</center></th><td style='color:black;background-color:#f38a64;text-align:right;padding: 3px;'>0.0861</td><td style='color:black;background-color:#8af364;text-align:right;padding: 3px;'>0.9139</td></tr>\n",
       "<tr><th style='border:1px solid black;color:black;background-color:#BBBBBB;' rowspan = '2'>\n",
       "            <center>1</center></th><th style='border:1px solid black;color:black;background-color:#BBBBBB'><center>0</center></th><td style='color:black;background-color:#88f564;text-align:right;padding: 3px;'>0.9291</td><td style='color:black;background-color:#f58864;text-align:right;padding: 3px;'>0.0709</td></tr>\n",
       "<tr><th style='border:1px solid black;color:black;background-color:#BBBBBB'><center>1</center></th><td style='color:black;background-color:#e09d64;text-align:right;padding: 3px;'>0.2348</td><td style='color:black;background-color:#9de064;text-align:right;padding: 3px;'>0.7652</td></tr>\n",
       "</table>"
      ],
      "text/plain": [
       "(pyAgrum.Potential<double>@0x5687d42c8e50) \n",
       "                           ||  CATECHOL         |\n",
       "ARTCO2|SAO2  |TPR   |INSUFF||0        |1        |\n",
       "------|------|------|------||---------|---------|\n",
       "0     |0     |0     |0     || 0.8044  | 0.1956  |\n",
       "1     |0     |0     |0     || 0.5777  | 0.4223  |\n",
       "0     |1     |0     |0     || 0.6316  | 0.3684  |\n",
       "1     |1     |0     |0     || 0.3742  | 0.6258  |\n",
       "0     |0     |1     |0     || 0.2548  | 0.7452  |\n",
       "1     |0     |1     |0     || 0.6161  | 0.3839  |\n",
       "[...4 more line(s) ...]\n",
       "0     |1     |0     |1     || 0.8660  | 0.1340  |\n",
       "1     |1     |0     |1     || 0.9512  | 0.0488  |\n",
       "0     |0     |1     |1     || 0.3857  | 0.6143  |\n",
       "1     |0     |1     |1     || 0.0861  | 0.9139  |\n",
       "0     |1     |1     |1     || 0.9291  | 0.0709  |\n",
       "1     |1     |1     |1     || 0.2348  | 0.7652  |"
      ]
     },
     "execution_count": 6,
     "metadata": {},
     "output_type": "execute_result"
    }
   ],
   "source": [
    "binary_bn.cpt(30)"
   ]
  },
  {
   "cell_type": "code",
   "execution_count": 30,
   "metadata": {},
   "outputs": [],
   "source": [
    "bn0 = gum.fastBN(\"X1->X2->X3->X4->X5->X6->X7->X8->X9->X10->X11->X12->X13->X14->X15->X16->X17->X18->X19->X20\")"
   ]
  },
  {
   "cell_type": "code",
   "execution_count": 31,
   "metadata": {},
   "outputs": [],
   "source": [
    "bn0.cpt(\"X1\")[:] = [0.01, 0.99]"
   ]
  },
  {
   "cell_type": "code",
   "execution_count": 32,
   "metadata": {},
   "outputs": [],
   "source": [
    "qbn0 = qBayesNet(bn0)\n",
    "qc0 = qbn0.buildCircuit()\n",
    "qinf0 = qInference(qbn0)\n",
    "qinf0.setEvidence({0:0})\n",
    "qinf0.setMaxIter(10)\n",
    "qinf0.getGates()\n",
    "#qinf0.transpileGates()\n",
    "#qc0.draw(output=\"mpl\")\n",
    "\n",
    "#transpile function \n",
    "#12 nodes 15s \n",
    "#13 nodes 1m12s\n",
    "#14 nodes 4m57s\n",
    "#15 nodes 19m33s"
   ]
  },
  {
   "cell_type": "code",
   "execution_count": 33,
   "metadata": {},
   "outputs": [],
   "source": [
    "from qiskit import QuantumCircuit\n",
    "A  = QuantumCircuit(*list(qinf0.q_registers.values()))\n",
    "qinf0.addA(A)\n",
    "\n",
    "G  = QuantumCircuit(*list(qinf0.q_registers.values()))\n",
    "qinf0.addG(G, A, {0:0})"
   ]
  },
  {
   "cell_type": "code",
   "execution_count": 12,
   "metadata": {},
   "outputs": [
    {
     "name": "stdout",
     "output_type": "stream",
     "text": [
      "\\documentclass[border=2px]{standalone}\n",
      "\n",
      "\\usepackage[braket, qm]{qcircuit}\n",
      "\\usepackage{graphicx}\n",
      "\n",
      "\\begin{document}\n",
      "\\scalebox{1.0}{\n",
      "\\Qcircuit @C=1.0em @R=0.2em @!R { \\\\\n",
      "\t \t\\nghost{{0} :  } & \\lstick{{0} :  } & \\qw \\barrier[0em]{2} & \\qw & \\qw & \\gate{\\mathrm{R_Y}\\,(\\mathrm{1.772})} & \\qw \\barrier[0em]{2} & \\qw & \\gate{\\mathrm{R_Y}\\,(\\mathrm{2.941})} \\barrier[0em]{2} & \\qw & \\gate{\\mathrm{X}} & \\ctrl{1} & \\gate{\\mathrm{X}} \\barrier[0em]{2} & \\qw & \\qw & \\ctrl{1} & \\qw \\barrier[0em]{2} & \\qw & \\gate{\\mathrm{X}} & \\ctrl{1} & \\gate{\\mathrm{X}} \\barrier[0em]{2} & \\qw & \\ctrl{1} \\barrier[0em]{2} & \\qw & \\meter & \\qw & \\qw & \\qw & \\qw\\\\\n",
      "\t \t\\nghost{{1} :  } & \\lstick{{1} :  } & \\gate{\\mathrm{R_Y}\\,(\\mathrm{2.214})} & \\qw & \\gate{\\mathrm{X}} & \\ctrl{-1} & \\gate{\\mathrm{X}} & \\qw & \\ctrl{-1} & \\qw & \\gate{\\mathrm{X}} & \\ctrl{1} & \\gate{\\mathrm{X}} & \\qw & \\gate{\\mathrm{X}} & \\ctrl{1} & \\gate{\\mathrm{X}} & \\qw & \\qw & \\ctrl{1} & \\qw & \\qw & \\ctrl{1} & \\qw & \\qw & \\meter & \\qw & \\qw & \\qw\\\\\n",
      "\t \t\\nghost{{2} :  } & \\lstick{{2} :  } & \\qw & \\qw & \\qw & \\qw & \\qw & \\qw & \\qw & \\qw & \\qw & \\gate{\\mathrm{R_Y}\\,(\\mathrm{\\pi})} & \\qw & \\qw & \\qw & \\gate{\\mathrm{R_Y}\\,(\\mathrm{0.9273})} & \\qw & \\qw & \\qw & \\gate{\\mathrm{R_Y}\\,(\\mathrm{0.6435})} & \\qw & \\qw & \\gate{\\mathrm{R_Y}\\,(\\mathrm{0.2003})} & \\qw & \\qw & \\qw & \\meter & \\qw & \\qw\\\\\n",
      "\t \t\\nghost{\\mathrm{{meas} :  }} & \\lstick{\\mathrm{{meas} :  }} & \\lstick{/_{_{3}}} \\cw & \\cw & \\cw & \\cw & \\cw & \\cw & \\cw & \\cw & \\cw & \\cw & \\cw & \\cw & \\cw & \\cw & \\cw & \\cw & \\cw & \\cw & \\cw & \\cw & \\cw & \\cw & \\dstick{_{_{\\hspace{0.0em}0}}} \\cw \\ar @{<=} [-3,0] & \\dstick{_{_{\\hspace{0.0em}1}}} \\cw \\ar @{<=} [-2,0] & \\dstick{_{_{\\hspace{0.0em}2}}} \\cw \\ar @{<=} [-1,0] & \\cw & \\cw\\\\\n",
      "\\\\ }}\n",
      "\\end{document}\n"
     ]
    }
   ],
   "source": [
    "print('\\\\documentclass[border=2px]{standalone}\\n\\n\\\\usepackage[braket, qm]{qcircuit}\\n\\\\usepackage{graphicx}\\n\\n\\\\begin{document}\\n\\\\scalebox{1.0}{\\n\\\\Qcircuit @C=1.0em @R=0.2em @!R { \\\\\\\\\\n\\t \\t\\\\nghost{{0} :  } & \\\\lstick{{0} :  } & \\\\qw \\\\barrier[0em]{2} & \\\\qw & \\\\qw & \\\\gate{\\\\mathrm{R_Y}\\\\,(\\\\mathrm{1.772})} & \\\\qw \\\\barrier[0em]{2} & \\\\qw & \\\\gate{\\\\mathrm{R_Y}\\\\,(\\\\mathrm{2.941})} \\\\barrier[0em]{2} & \\\\qw & \\\\gate{\\\\mathrm{X}} & \\\\ctrl{1} & \\\\gate{\\\\mathrm{X}} \\\\barrier[0em]{2} & \\\\qw & \\\\qw & \\\\ctrl{1} & \\\\qw \\\\barrier[0em]{2} & \\\\qw & \\\\gate{\\\\mathrm{X}} & \\\\ctrl{1} & \\\\gate{\\\\mathrm{X}} \\\\barrier[0em]{2} & \\\\qw & \\\\ctrl{1} \\\\barrier[0em]{2} & \\\\qw & \\\\meter & \\\\qw & \\\\qw & \\\\qw & \\\\qw\\\\\\\\\\n\\t \\t\\\\nghost{{1} :  } & \\\\lstick{{1} :  } & \\\\gate{\\\\mathrm{R_Y}\\\\,(\\\\mathrm{2.214})} & \\\\qw & \\\\gate{\\\\mathrm{X}} & \\\\ctrl{-1} & \\\\gate{\\\\mathrm{X}} & \\\\qw & \\\\ctrl{-1} & \\\\qw & \\\\gate{\\\\mathrm{X}} & \\\\ctrl{1} & \\\\gate{\\\\mathrm{X}} & \\\\qw & \\\\gate{\\\\mathrm{X}} & \\\\ctrl{1} & \\\\gate{\\\\mathrm{X}} & \\\\qw & \\\\qw & \\\\ctrl{1} & \\\\qw & \\\\qw & \\\\ctrl{1} & \\\\qw & \\\\qw & \\\\meter & \\\\qw & \\\\qw & \\\\qw\\\\\\\\\\n\\t \\t\\\\nghost{{2} :  } & \\\\lstick{{2} :  } & \\\\qw & \\\\qw & \\\\qw & \\\\qw & \\\\qw & \\\\qw & \\\\qw & \\\\qw & \\\\qw & \\\\gate{\\\\mathrm{R_Y}\\\\,(\\\\mathrm{\\\\pi})} & \\\\qw & \\\\qw & \\\\qw & \\\\gate{\\\\mathrm{R_Y}\\\\,(\\\\mathrm{0.9273})} & \\\\qw & \\\\qw & \\\\qw & \\\\gate{\\\\mathrm{R_Y}\\\\,(\\\\mathrm{0.6435})} & \\\\qw & \\\\qw & \\\\gate{\\\\mathrm{R_Y}\\\\,(\\\\mathrm{0.2003})} & \\\\qw & \\\\qw & \\\\qw & \\\\meter & \\\\qw & \\\\qw\\\\\\\\\\n\\t \\t\\\\nghost{\\\\mathrm{{meas} :  }} & \\\\lstick{\\\\mathrm{{meas} :  }} & \\\\lstick{/_{_{3}}} \\\\cw & \\\\cw & \\\\cw & \\\\cw & \\\\cw & \\\\cw & \\\\cw & \\\\cw & \\\\cw & \\\\cw & \\\\cw & \\\\cw & \\\\cw & \\\\cw & \\\\cw & \\\\cw & \\\\cw & \\\\cw & \\\\cw & \\\\cw & \\\\cw & \\\\cw & \\\\dstick{_{_{\\\\hspace{0.0em}0}}} \\\\cw \\\\ar @{<=} [-3,0] & \\\\dstick{_{_{\\\\hspace{0.0em}1}}} \\\\cw \\\\ar @{<=} [-2,0] & \\\\dstick{_{_{\\\\hspace{0.0em}2}}} \\\\cw \\\\ar @{<=} [-1,0] & \\\\cw & \\\\cw\\\\\\\\\\n\\\\\\\\ }}\\n\\\\end{document}')"
   ]
  },
  {
   "cell_type": "code",
   "execution_count": 35,
   "metadata": {},
   "outputs": [
    {
     "ename": "AerError",
     "evalue": "'unknown instruction: cry'",
     "output_type": "error",
     "traceback": [
      "\u001b[0;31m---------------------------------------------------------------------------\u001b[0m",
      "\u001b[0;31mAerError\u001b[0m                                  Traceback (most recent call last)",
      "Cell \u001b[0;32mIn[35], line 1\u001b[0m\n\u001b[0;32m----> 1\u001b[0m \u001b[43mqinf0\u001b[49m\u001b[38;5;241;43m.\u001b[39;49m\u001b[43mmakeInference\u001b[49m\u001b[43m(\u001b[49m\u001b[43mverbose\u001b[49m\u001b[38;5;241;43m=\u001b[39;49m\u001b[38;5;241;43m1\u001b[39;49m\u001b[43m)\u001b[49m\n\u001b[1;32m      2\u001b[0m \u001b[38;5;66;03m#inference simulation time 10 iter, 07890\u001b[39;00m\n\u001b[1;32m      3\u001b[0m \n\u001b[1;32m      4\u001b[0m \u001b[38;5;66;03m#12 nodes 7s\u001b[39;00m\n\u001b[1;32m      5\u001b[0m \u001b[38;5;66;03m#13 nodes 12s\u001b[39;00m\n\u001b[1;32m      6\u001b[0m \u001b[38;5;66;03m#14 nodes 14s\u001b[39;00m\n\u001b[1;32m      7\u001b[0m \u001b[38;5;66;03m#15 nodes 16m16s\u001b[39;00m\n",
      "File \u001b[0;32m~/Desktop/ProjetQuanticBN/github/QUANTICGROUP/tutorials/../source/qBN/qBNRejection.py:385\u001b[0m, in \u001b[0;36mqInference.makeInference\u001b[0;34m(self, verbose)\u001b[0m\n\u001b[1;32m    381\u001b[0m res \u001b[38;5;241m=\u001b[39m {node: [\u001b[38;5;241m0\u001b[39m] \u001b[38;5;241m*\u001b[39m \u001b[38;5;28mself\u001b[39m\u001b[38;5;241m.\u001b[39mqbn\u001b[38;5;241m.\u001b[39mbn\u001b[38;5;241m.\u001b[39mvariable(node)\u001b[38;5;241m.\u001b[39mdomainSize()\n\u001b[1;32m    382\u001b[0m        \u001b[38;5;28;01mfor\u001b[39;00m node \u001b[38;5;129;01min\u001b[39;00m \u001b[38;5;28mself\u001b[39m\u001b[38;5;241m.\u001b[39mqbn\u001b[38;5;241m.\u001b[39mn_qb_map\u001b[38;5;241m.\u001b[39mkeys()}\n\u001b[1;32m    384\u001b[0m \u001b[38;5;28;01mfor\u001b[39;00m i \u001b[38;5;129;01min\u001b[39;00m \u001b[38;5;28mrange\u001b[39m(\u001b[38;5;28mself\u001b[39m\u001b[38;5;241m.\u001b[39mmax_iter):\n\u001b[0;32m--> 385\u001b[0m     sample \u001b[38;5;241m=\u001b[39m \u001b[38;5;28;43mself\u001b[39;49m\u001b[38;5;241;43m.\u001b[39;49m\u001b[43mgetSample\u001b[49m\u001b[43m(\u001b[49m\u001b[38;5;28;43mself\u001b[39;49m\u001b[38;5;241;43m.\u001b[39;49m\u001b[43mA\u001b[49m\u001b[43m,\u001b[49m\u001b[43m \u001b[49m\u001b[38;5;28;43mself\u001b[39;49m\u001b[38;5;241;43m.\u001b[39;49m\u001b[43mG\u001b[49m\u001b[43m,\u001b[49m\u001b[43m \u001b[49m\u001b[38;5;28;43mself\u001b[39;49m\u001b[38;5;241;43m.\u001b[39;49m\u001b[43mevidence\u001b[49m\u001b[43m,\u001b[49m\u001b[43m \u001b[49m\u001b[43mverbose\u001b[49m\u001b[43m \u001b[49m\u001b[38;5;241;43m=\u001b[39;49m\u001b[43m \u001b[49m\u001b[38;5;241;43m1\u001b[39;49m\u001b[43m \u001b[49m\u001b[38;5;28;43;01mif\u001b[39;49;00m\u001b[43m \u001b[49m\u001b[43mverbose\u001b[49m\u001b[43m \u001b[49m\u001b[38;5;241;43m==\u001b[39;49m\u001b[43m \u001b[49m\u001b[38;5;241;43m2\u001b[39;49m\u001b[43m \u001b[49m\u001b[38;5;28;43;01melse\u001b[39;49;00m\u001b[43m \u001b[49m\u001b[38;5;241;43m0\u001b[39;49m\u001b[43m)\u001b[49m\n\u001b[1;32m    387\u001b[0m     \u001b[38;5;28;01mfor\u001b[39;00m node, state \u001b[38;5;129;01min\u001b[39;00m sample\u001b[38;5;241m.\u001b[39mitems():\n\u001b[1;32m    388\u001b[0m         res[node][state] \u001b[38;5;241m+\u001b[39m\u001b[38;5;241m=\u001b[39m \u001b[38;5;241m1.0\u001b[39m\u001b[38;5;241m/\u001b[39m\u001b[38;5;28mself\u001b[39m\u001b[38;5;241m.\u001b[39mmax_iter\n",
      "File \u001b[0;32m~/Desktop/ProjetQuanticBN/github/QUANTICGROUP/tutorials/../source/qBN/qBNRejection.py:269\u001b[0m, in \u001b[0;36mqInference.getSample\u001b[0;34m(self, A, G, evidence, verbose)\u001b[0m\n\u001b[1;32m    265\u001b[0m circuit\u001b[38;5;241m.\u001b[39mcompose(G\u001b[38;5;241m.\u001b[39mpower(\u001b[38;5;28mint\u001b[39m(np\u001b[38;5;241m.\u001b[39mceil(\u001b[38;5;241m2.0\u001b[39m\u001b[38;5;241m*\u001b[39m\u001b[38;5;241m*\u001b[39mk))), inplace\u001b[38;5;241m=\u001b[39m\u001b[38;5;28;01mTrue\u001b[39;00m)\n\u001b[1;32m    267\u001b[0m circuit\u001b[38;5;241m.\u001b[39mmeasure_all(add_bits\u001b[38;5;241m=\u001b[39m\u001b[38;5;28;01mFalse\u001b[39;00m)\n\u001b[0;32m--> 269\u001b[0m run_res \u001b[38;5;241m=\u001b[39m \u001b[38;5;28;43mself\u001b[39;49m\u001b[38;5;241;43m.\u001b[39;49m\u001b[43mqbn\u001b[49m\u001b[38;5;241;43m.\u001b[39;49m\u001b[43maerSimulation\u001b[49m\u001b[43m(\u001b[49m\u001b[43mcircuit\u001b[49m\u001b[43m,\u001b[49m\u001b[43m \u001b[49m\u001b[43mshots\u001b[49m\u001b[38;5;241;43m=\u001b[39;49m\u001b[38;5;241;43m1\u001b[39;49m\u001b[43m)\u001b[49m\n\u001b[1;32m    270\u001b[0m \u001b[38;5;28mself\u001b[39m\u001b[38;5;241m.\u001b[39mlog[\u001b[38;5;124m'\u001b[39m\u001b[38;5;124mA\u001b[39m\u001b[38;5;124m'\u001b[39m] \u001b[38;5;241m+\u001b[39m\u001b[38;5;241m=\u001b[39m \u001b[38;5;241m1\u001b[39m\n\u001b[1;32m    271\u001b[0m \u001b[38;5;28mself\u001b[39m\u001b[38;5;241m.\u001b[39mlog[\u001b[38;5;124m'\u001b[39m\u001b[38;5;124mG\u001b[39m\u001b[38;5;124m'\u001b[39m] \u001b[38;5;241m+\u001b[39m\u001b[38;5;241m=\u001b[39m \u001b[38;5;241m2\u001b[39m\u001b[38;5;241m*\u001b[39m\u001b[38;5;241m*\u001b[39m(k\u001b[38;5;241m+\u001b[39m\u001b[38;5;241m1\u001b[39m)\n",
      "File \u001b[0;32m~/Desktop/ProjetQuanticBN/github/QUANTICGROUP/tutorials/../source/qBN/qBNMC.py:579\u001b[0m, in \u001b[0;36mqBayesNet.aerSimulation\u001b[0;34m(self, circuit, optimise, shots)\u001b[0m\n\u001b[1;32m    577\u001b[0m circuit_aer \u001b[38;5;241m=\u001b[39m transpile(circuit, backend\u001b[38;5;241m=\u001b[39mbackend_aer) \u001b[38;5;28;01mif\u001b[39;00m optimise \u001b[38;5;28;01melse\u001b[39;00m circuit\n\u001b[1;32m    578\u001b[0m job_aer \u001b[38;5;241m=\u001b[39m sampler_aer\u001b[38;5;241m.\u001b[39mrun([circuit_aer], shots\u001b[38;5;241m=\u001b[39mshots)\n\u001b[0;32m--> 579\u001b[0m result_aer \u001b[38;5;241m=\u001b[39m \u001b[43mjob_aer\u001b[49m\u001b[38;5;241;43m.\u001b[39;49m\u001b[43mresult\u001b[49m\u001b[43m(\u001b[49m\u001b[43m)\u001b[49m\n\u001b[1;32m    580\u001b[0m counts_aer \u001b[38;5;241m=\u001b[39m result_aer[\u001b[38;5;241m0\u001b[39m]\u001b[38;5;241m.\u001b[39mdata\u001b[38;5;241m.\u001b[39mmeas\u001b[38;5;241m.\u001b[39mget_counts()\n\u001b[1;32m    582\u001b[0m res \u001b[38;5;241m=\u001b[39m \u001b[38;5;28mdict\u001b[39m()\n",
      "File \u001b[0;32m~/.local/lib/python3.10/site-packages/qiskit/primitives/primitive_job.py:51\u001b[0m, in \u001b[0;36mPrimitiveJob.result\u001b[0;34m(self)\u001b[0m\n\u001b[1;32m     49\u001b[0m \u001b[38;5;28;01mdef\u001b[39;00m \u001b[38;5;21mresult\u001b[39m(\u001b[38;5;28mself\u001b[39m) \u001b[38;5;241m-\u001b[39m\u001b[38;5;241m>\u001b[39m ResultT:\n\u001b[1;32m     50\u001b[0m     \u001b[38;5;28mself\u001b[39m\u001b[38;5;241m.\u001b[39m_check_submitted()\n\u001b[0;32m---> 51\u001b[0m     \u001b[38;5;28;01mreturn\u001b[39;00m \u001b[38;5;28;43mself\u001b[39;49m\u001b[38;5;241;43m.\u001b[39;49m\u001b[43m_future\u001b[49m\u001b[38;5;241;43m.\u001b[39;49m\u001b[43mresult\u001b[49m\u001b[43m(\u001b[49m\u001b[43m)\u001b[49m\n",
      "File \u001b[0;32m/usr/lib/python3.10/concurrent/futures/_base.py:458\u001b[0m, in \u001b[0;36mFuture.result\u001b[0;34m(self, timeout)\u001b[0m\n\u001b[1;32m    456\u001b[0m     \u001b[38;5;28;01mraise\u001b[39;00m CancelledError()\n\u001b[1;32m    457\u001b[0m \u001b[38;5;28;01melif\u001b[39;00m \u001b[38;5;28mself\u001b[39m\u001b[38;5;241m.\u001b[39m_state \u001b[38;5;241m==\u001b[39m FINISHED:\n\u001b[0;32m--> 458\u001b[0m     \u001b[38;5;28;01mreturn\u001b[39;00m \u001b[38;5;28;43mself\u001b[39;49m\u001b[38;5;241;43m.\u001b[39;49m\u001b[43m__get_result\u001b[49m\u001b[43m(\u001b[49m\u001b[43m)\u001b[49m\n\u001b[1;32m    459\u001b[0m \u001b[38;5;28;01melse\u001b[39;00m:\n\u001b[1;32m    460\u001b[0m     \u001b[38;5;28;01mraise\u001b[39;00m \u001b[38;5;167;01mTimeoutError\u001b[39;00m()\n",
      "File \u001b[0;32m/usr/lib/python3.10/concurrent/futures/_base.py:403\u001b[0m, in \u001b[0;36mFuture.__get_result\u001b[0;34m(self)\u001b[0m\n\u001b[1;32m    401\u001b[0m \u001b[38;5;28;01mif\u001b[39;00m \u001b[38;5;28mself\u001b[39m\u001b[38;5;241m.\u001b[39m_exception:\n\u001b[1;32m    402\u001b[0m     \u001b[38;5;28;01mtry\u001b[39;00m:\n\u001b[0;32m--> 403\u001b[0m         \u001b[38;5;28;01mraise\u001b[39;00m \u001b[38;5;28mself\u001b[39m\u001b[38;5;241m.\u001b[39m_exception\n\u001b[1;32m    404\u001b[0m     \u001b[38;5;28;01mfinally\u001b[39;00m:\n\u001b[1;32m    405\u001b[0m         \u001b[38;5;66;03m# Break a reference cycle with the exception in self._exception\u001b[39;00m\n\u001b[1;32m    406\u001b[0m         \u001b[38;5;28mself\u001b[39m \u001b[38;5;241m=\u001b[39m \u001b[38;5;28;01mNone\u001b[39;00m\n",
      "File \u001b[0;32m/usr/lib/python3.10/concurrent/futures/thread.py:58\u001b[0m, in \u001b[0;36m_WorkItem.run\u001b[0;34m(self)\u001b[0m\n\u001b[1;32m     55\u001b[0m     \u001b[38;5;28;01mreturn\u001b[39;00m\n\u001b[1;32m     57\u001b[0m \u001b[38;5;28;01mtry\u001b[39;00m:\n\u001b[0;32m---> 58\u001b[0m     result \u001b[38;5;241m=\u001b[39m \u001b[38;5;28;43mself\u001b[39;49m\u001b[38;5;241;43m.\u001b[39;49m\u001b[43mfn\u001b[49m\u001b[43m(\u001b[49m\u001b[38;5;241;43m*\u001b[39;49m\u001b[38;5;28;43mself\u001b[39;49m\u001b[38;5;241;43m.\u001b[39;49m\u001b[43margs\u001b[49m\u001b[43m,\u001b[49m\u001b[43m \u001b[49m\u001b[38;5;241;43m*\u001b[39;49m\u001b[38;5;241;43m*\u001b[39;49m\u001b[38;5;28;43mself\u001b[39;49m\u001b[38;5;241;43m.\u001b[39;49m\u001b[43mkwargs\u001b[49m\u001b[43m)\u001b[49m\n\u001b[1;32m     59\u001b[0m \u001b[38;5;28;01mexcept\u001b[39;00m \u001b[38;5;167;01mBaseException\u001b[39;00m \u001b[38;5;28;01mas\u001b[39;00m exc:\n\u001b[1;32m     60\u001b[0m     \u001b[38;5;28mself\u001b[39m\u001b[38;5;241m.\u001b[39mfuture\u001b[38;5;241m.\u001b[39mset_exception(exc)\n",
      "File \u001b[0;32m~/.local/lib/python3.10/site-packages/qiskit_ibm_runtime/qiskit/primitives/backend_sampler_v2.py:146\u001b[0m, in \u001b[0;36mBackendSamplerV2._run\u001b[0;34m(self, pubs)\u001b[0m\n\u001b[1;32m    145\u001b[0m \u001b[38;5;28;01mdef\u001b[39;00m \u001b[38;5;21m_run\u001b[39m(\u001b[38;5;28mself\u001b[39m, pubs: Iterable[SamplerPub]) \u001b[38;5;241m-\u001b[39m\u001b[38;5;241m>\u001b[39m PrimitiveResult[PubResult]:\n\u001b[0;32m--> 146\u001b[0m     results \u001b[38;5;241m=\u001b[39m [\u001b[38;5;28mself\u001b[39m\u001b[38;5;241m.\u001b[39m_run_pub(pub) \u001b[38;5;28;01mfor\u001b[39;00m pub \u001b[38;5;129;01min\u001b[39;00m pubs]\n\u001b[1;32m    147\u001b[0m     \u001b[38;5;28;01mreturn\u001b[39;00m PrimitiveResult(results)\n",
      "File \u001b[0;32m~/.local/lib/python3.10/site-packages/qiskit_ibm_runtime/qiskit/primitives/backend_sampler_v2.py:146\u001b[0m, in \u001b[0;36m<listcomp>\u001b[0;34m(.0)\u001b[0m\n\u001b[1;32m    145\u001b[0m \u001b[38;5;28;01mdef\u001b[39;00m \u001b[38;5;21m_run\u001b[39m(\u001b[38;5;28mself\u001b[39m, pubs: Iterable[SamplerPub]) \u001b[38;5;241m-\u001b[39m\u001b[38;5;241m>\u001b[39m PrimitiveResult[PubResult]:\n\u001b[0;32m--> 146\u001b[0m     results \u001b[38;5;241m=\u001b[39m [\u001b[38;5;28;43mself\u001b[39;49m\u001b[38;5;241;43m.\u001b[39;49m\u001b[43m_run_pub\u001b[49m\u001b[43m(\u001b[49m\u001b[43mpub\u001b[49m\u001b[43m)\u001b[49m \u001b[38;5;28;01mfor\u001b[39;00m pub \u001b[38;5;129;01min\u001b[39;00m pubs]\n\u001b[1;32m    147\u001b[0m     \u001b[38;5;28;01mreturn\u001b[39;00m PrimitiveResult(results)\n",
      "File \u001b[0;32m~/.local/lib/python3.10/site-packages/qiskit_ibm_runtime/qiskit/primitives/backend_sampler_v2.py:159\u001b[0m, in \u001b[0;36mBackendSamplerV2._run_pub\u001b[0;34m(self, pub)\u001b[0m\n\u001b[1;32m    152\u001b[0m arrays \u001b[38;5;241m=\u001b[39m {\n\u001b[1;32m    153\u001b[0m     item\u001b[38;5;241m.\u001b[39mcreg_name: np\u001b[38;5;241m.\u001b[39mzeros(\n\u001b[1;32m    154\u001b[0m         bound_circuits\u001b[38;5;241m.\u001b[39mshape \u001b[38;5;241m+\u001b[39m (pub\u001b[38;5;241m.\u001b[39mshots, item\u001b[38;5;241m.\u001b[39mnum_bytes), dtype\u001b[38;5;241m=\u001b[39mnp\u001b[38;5;241m.\u001b[39muint8\n\u001b[1;32m    155\u001b[0m     )\n\u001b[1;32m    156\u001b[0m     \u001b[38;5;28;01mfor\u001b[39;00m item \u001b[38;5;129;01min\u001b[39;00m meas_info\n\u001b[1;32m    157\u001b[0m }\n\u001b[1;32m    158\u001b[0m flatten_circuits \u001b[38;5;241m=\u001b[39m np\u001b[38;5;241m.\u001b[39mravel(bound_circuits)\u001b[38;5;241m.\u001b[39mtolist()\n\u001b[0;32m--> 159\u001b[0m result_memory, _ \u001b[38;5;241m=\u001b[39m \u001b[43m_run_circuits\u001b[49m\u001b[43m(\u001b[49m\n\u001b[1;32m    160\u001b[0m \u001b[43m    \u001b[49m\u001b[43mflatten_circuits\u001b[49m\u001b[43m,\u001b[49m\n\u001b[1;32m    161\u001b[0m \u001b[43m    \u001b[49m\u001b[38;5;28;43mself\u001b[39;49m\u001b[38;5;241;43m.\u001b[39;49m\u001b[43m_backend\u001b[49m\u001b[43m,\u001b[49m\n\u001b[1;32m    162\u001b[0m \u001b[43m    \u001b[49m\u001b[43mmemory\u001b[49m\u001b[38;5;241;43m=\u001b[39;49m\u001b[38;5;28;43;01mTrue\u001b[39;49;00m\u001b[43m,\u001b[49m\n\u001b[1;32m    163\u001b[0m \u001b[43m    \u001b[49m\u001b[43mshots\u001b[49m\u001b[38;5;241;43m=\u001b[39;49m\u001b[43mpub\u001b[49m\u001b[38;5;241;43m.\u001b[39;49m\u001b[43mshots\u001b[49m\u001b[43m,\u001b[49m\n\u001b[1;32m    164\u001b[0m \u001b[43m    \u001b[49m\u001b[43mseed_simulator\u001b[49m\u001b[38;5;241;43m=\u001b[39;49m\u001b[38;5;28;43mself\u001b[39;49m\u001b[38;5;241;43m.\u001b[39;49m\u001b[43m_options\u001b[49m\u001b[38;5;241;43m.\u001b[39;49m\u001b[43mseed_simulator\u001b[49m\u001b[43m,\u001b[49m\n\u001b[1;32m    165\u001b[0m \u001b[43m\u001b[49m\u001b[43m)\u001b[49m\n\u001b[1;32m    166\u001b[0m memory_list \u001b[38;5;241m=\u001b[39m _prepare_memory(result_memory, max_num_bytes)\n\u001b[1;32m    168\u001b[0m \u001b[38;5;28;01mfor\u001b[39;00m samples, index \u001b[38;5;129;01min\u001b[39;00m \u001b[38;5;28mzip\u001b[39m(memory_list, np\u001b[38;5;241m.\u001b[39mndindex(\u001b[38;5;241m*\u001b[39mbound_circuits\u001b[38;5;241m.\u001b[39mshape)):\n",
      "File \u001b[0;32m~/.local/lib/python3.10/site-packages/qiskit/primitives/backend_estimator.py:75\u001b[0m, in \u001b[0;36m_run_circuits\u001b[0;34m(circuits, backend, **run_options)\u001b[0m\n\u001b[1;32m     73\u001b[0m     result \u001b[38;5;241m=\u001b[39m [x\u001b[38;5;241m.\u001b[39mresult() \u001b[38;5;28;01mfor\u001b[39;00m x \u001b[38;5;129;01min\u001b[39;00m jobs]\n\u001b[1;32m     74\u001b[0m \u001b[38;5;28;01melse\u001b[39;00m:\n\u001b[0;32m---> 75\u001b[0m     result \u001b[38;5;241m=\u001b[39m [\u001b[43mbackend\u001b[49m\u001b[38;5;241;43m.\u001b[39;49m\u001b[43mrun\u001b[49m\u001b[43m(\u001b[49m\u001b[43mcircuits\u001b[49m\u001b[43m,\u001b[49m\u001b[43m \u001b[49m\u001b[38;5;241;43m*\u001b[39;49m\u001b[38;5;241;43m*\u001b[39;49m\u001b[43mrun_options\u001b[49m\u001b[43m)\u001b[49m\u001b[38;5;241;43m.\u001b[39;49m\u001b[43mresult\u001b[49m\u001b[43m(\u001b[49m\u001b[43m)\u001b[49m]\n\u001b[1;32m     76\u001b[0m \u001b[38;5;28;01mreturn\u001b[39;00m result, metadata\n",
      "File \u001b[0;32m~/.local/lib/python3.10/site-packages/qiskit_aer/jobs/utils.py:42\u001b[0m, in \u001b[0;36mrequires_submit.<locals>._wrapper\u001b[0;34m(self, *args, **kwargs)\u001b[0m\n\u001b[1;32m     40\u001b[0m \u001b[38;5;28;01mif\u001b[39;00m \u001b[38;5;28mself\u001b[39m\u001b[38;5;241m.\u001b[39m_future \u001b[38;5;129;01mis\u001b[39;00m \u001b[38;5;28;01mNone\u001b[39;00m:\n\u001b[1;32m     41\u001b[0m     \u001b[38;5;28;01mraise\u001b[39;00m JobError(\u001b[38;5;124m\"\u001b[39m\u001b[38;5;124mJob not submitted yet!. You have to .submit() first!\u001b[39m\u001b[38;5;124m\"\u001b[39m)\n\u001b[0;32m---> 42\u001b[0m \u001b[38;5;28;01mreturn\u001b[39;00m \u001b[43mfunc\u001b[49m\u001b[43m(\u001b[49m\u001b[38;5;28;43mself\u001b[39;49m\u001b[43m,\u001b[49m\u001b[43m \u001b[49m\u001b[38;5;241;43m*\u001b[39;49m\u001b[43margs\u001b[49m\u001b[43m,\u001b[49m\u001b[43m \u001b[49m\u001b[38;5;241;43m*\u001b[39;49m\u001b[38;5;241;43m*\u001b[39;49m\u001b[43mkwargs\u001b[49m\u001b[43m)\u001b[49m\n",
      "File \u001b[0;32m~/.local/lib/python3.10/site-packages/qiskit_aer/jobs/aerjob.py:114\u001b[0m, in \u001b[0;36mAerJob.result\u001b[0;34m(self, timeout)\u001b[0m\n\u001b[1;32m     96\u001b[0m \u001b[38;5;129m@requires_submit\u001b[39m\n\u001b[1;32m     97\u001b[0m \u001b[38;5;28;01mdef\u001b[39;00m \u001b[38;5;21mresult\u001b[39m(\u001b[38;5;28mself\u001b[39m, timeout\u001b[38;5;241m=\u001b[39m\u001b[38;5;28;01mNone\u001b[39;00m):\n\u001b[1;32m     98\u001b[0m     \u001b[38;5;66;03m# pylint: disable=arguments-differ\u001b[39;00m\n\u001b[1;32m     99\u001b[0m \u001b[38;5;250m    \u001b[39m\u001b[38;5;124;03m\"\"\"Get job result. The behavior is the same as the underlying\u001b[39;00m\n\u001b[1;32m    100\u001b[0m \u001b[38;5;124;03m    concurrent Future objects,\u001b[39;00m\n\u001b[1;32m    101\u001b[0m \n\u001b[0;32m   (...)\u001b[0m\n\u001b[1;32m    112\u001b[0m \u001b[38;5;124;03m        concurrent.futures.CancelledError: if job cancelled before completed.\u001b[39;00m\n\u001b[1;32m    113\u001b[0m \u001b[38;5;124;03m    \"\"\"\u001b[39;00m\n\u001b[0;32m--> 114\u001b[0m     \u001b[38;5;28;01mreturn\u001b[39;00m \u001b[38;5;28;43mself\u001b[39;49m\u001b[38;5;241;43m.\u001b[39;49m\u001b[43m_future\u001b[49m\u001b[38;5;241;43m.\u001b[39;49m\u001b[43mresult\u001b[49m\u001b[43m(\u001b[49m\u001b[43mtimeout\u001b[49m\u001b[38;5;241;43m=\u001b[39;49m\u001b[43mtimeout\u001b[49m\u001b[43m)\u001b[49m\n",
      "File \u001b[0;32m/usr/lib/python3.10/concurrent/futures/_base.py:458\u001b[0m, in \u001b[0;36mFuture.result\u001b[0;34m(self, timeout)\u001b[0m\n\u001b[1;32m    456\u001b[0m     \u001b[38;5;28;01mraise\u001b[39;00m CancelledError()\n\u001b[1;32m    457\u001b[0m \u001b[38;5;28;01melif\u001b[39;00m \u001b[38;5;28mself\u001b[39m\u001b[38;5;241m.\u001b[39m_state \u001b[38;5;241m==\u001b[39m FINISHED:\n\u001b[0;32m--> 458\u001b[0m     \u001b[38;5;28;01mreturn\u001b[39;00m \u001b[38;5;28;43mself\u001b[39;49m\u001b[38;5;241;43m.\u001b[39;49m\u001b[43m__get_result\u001b[49m\u001b[43m(\u001b[49m\u001b[43m)\u001b[49m\n\u001b[1;32m    459\u001b[0m \u001b[38;5;28;01melse\u001b[39;00m:\n\u001b[1;32m    460\u001b[0m     \u001b[38;5;28;01mraise\u001b[39;00m \u001b[38;5;167;01mTimeoutError\u001b[39;00m()\n",
      "File \u001b[0;32m/usr/lib/python3.10/concurrent/futures/_base.py:403\u001b[0m, in \u001b[0;36mFuture.__get_result\u001b[0;34m(self)\u001b[0m\n\u001b[1;32m    401\u001b[0m \u001b[38;5;28;01mif\u001b[39;00m \u001b[38;5;28mself\u001b[39m\u001b[38;5;241m.\u001b[39m_exception:\n\u001b[1;32m    402\u001b[0m     \u001b[38;5;28;01mtry\u001b[39;00m:\n\u001b[0;32m--> 403\u001b[0m         \u001b[38;5;28;01mraise\u001b[39;00m \u001b[38;5;28mself\u001b[39m\u001b[38;5;241m.\u001b[39m_exception\n\u001b[1;32m    404\u001b[0m     \u001b[38;5;28;01mfinally\u001b[39;00m:\n\u001b[1;32m    405\u001b[0m         \u001b[38;5;66;03m# Break a reference cycle with the exception in self._exception\u001b[39;00m\n\u001b[1;32m    406\u001b[0m         \u001b[38;5;28mself\u001b[39m \u001b[38;5;241m=\u001b[39m \u001b[38;5;28;01mNone\u001b[39;00m\n",
      "File \u001b[0;32m/usr/lib/python3.10/concurrent/futures/thread.py:58\u001b[0m, in \u001b[0;36m_WorkItem.run\u001b[0;34m(self)\u001b[0m\n\u001b[1;32m     55\u001b[0m     \u001b[38;5;28;01mreturn\u001b[39;00m\n\u001b[1;32m     57\u001b[0m \u001b[38;5;28;01mtry\u001b[39;00m:\n\u001b[0;32m---> 58\u001b[0m     result \u001b[38;5;241m=\u001b[39m \u001b[38;5;28;43mself\u001b[39;49m\u001b[38;5;241;43m.\u001b[39;49m\u001b[43mfn\u001b[49m\u001b[43m(\u001b[49m\u001b[38;5;241;43m*\u001b[39;49m\u001b[38;5;28;43mself\u001b[39;49m\u001b[38;5;241;43m.\u001b[39;49m\u001b[43margs\u001b[49m\u001b[43m,\u001b[49m\u001b[43m \u001b[49m\u001b[38;5;241;43m*\u001b[39;49m\u001b[38;5;241;43m*\u001b[39;49m\u001b[38;5;28;43mself\u001b[39;49m\u001b[38;5;241;43m.\u001b[39;49m\u001b[43mkwargs\u001b[49m\u001b[43m)\u001b[49m\n\u001b[1;32m     59\u001b[0m \u001b[38;5;28;01mexcept\u001b[39;00m \u001b[38;5;167;01mBaseException\u001b[39;00m \u001b[38;5;28;01mas\u001b[39;00m exc:\n\u001b[1;32m     60\u001b[0m     \u001b[38;5;28mself\u001b[39m\u001b[38;5;241m.\u001b[39mfuture\u001b[38;5;241m.\u001b[39mset_exception(exc)\n",
      "File \u001b[0;32m~/.local/lib/python3.10/site-packages/qiskit_aer/backends/aerbackend.py:456\u001b[0m, in \u001b[0;36mAerBackend._execute_circuits_job\u001b[0;34m(self, circuits, parameter_binds, run_options, job_id, format_result)\u001b[0m\n\u001b[1;32m    454\u001b[0m     aer_circuits, idx_maps \u001b[38;5;241m=\u001b[39m assemble_circuits(circuits, \u001b[38;5;28mself\u001b[39m\u001b[38;5;241m.\u001b[39mconfiguration()\u001b[38;5;241m.\u001b[39mbasis_gates)\n\u001b[1;32m    455\u001b[0m \u001b[38;5;28;01melse\u001b[39;00m:\n\u001b[0;32m--> 456\u001b[0m     aer_circuits, idx_maps \u001b[38;5;241m=\u001b[39m \u001b[43massemble_circuits\u001b[49m\u001b[43m(\u001b[49m\u001b[43mcircuits\u001b[49m\u001b[43m)\u001b[49m\n\u001b[1;32m    457\u001b[0m \u001b[38;5;28;01mif\u001b[39;00m parameter_binds:\n\u001b[1;32m    458\u001b[0m     run_options[\u001b[38;5;124m\"\u001b[39m\u001b[38;5;124mparameterizations\u001b[39m\u001b[38;5;124m\"\u001b[39m] \u001b[38;5;241m=\u001b[39m \u001b[38;5;28mself\u001b[39m\u001b[38;5;241m.\u001b[39m_convert_binds(\n\u001b[1;32m    459\u001b[0m         circuits, parameter_binds, idx_maps\n\u001b[1;32m    460\u001b[0m     )\n",
      "File \u001b[0;32m~/.local/lib/python3.10/site-packages/qiskit_aer/backends/aer_compiler.py:962\u001b[0m, in \u001b[0;36massemble_circuits\u001b[0;34m(circuits, basis_gates)\u001b[0m\n\u001b[1;32m    958\u001b[0m     aer_circuits, idx_maps \u001b[38;5;241m=\u001b[39m \u001b[38;5;28mzip\u001b[39m(\n\u001b[1;32m    959\u001b[0m         \u001b[38;5;241m*\u001b[39m[assemble_circuit(circuit, basis_gates_set) \u001b[38;5;28;01mfor\u001b[39;00m circuit \u001b[38;5;129;01min\u001b[39;00m circuits]\n\u001b[1;32m    960\u001b[0m     )\n\u001b[1;32m    961\u001b[0m \u001b[38;5;28;01melse\u001b[39;00m:\n\u001b[0;32m--> 962\u001b[0m     aer_circuits, idx_maps \u001b[38;5;241m=\u001b[39m \u001b[38;5;28mzip\u001b[39m(\u001b[38;5;241m*\u001b[39m[assemble_circuit(circuit) \u001b[38;5;28;01mfor\u001b[39;00m circuit \u001b[38;5;129;01min\u001b[39;00m circuits])\n\u001b[1;32m    963\u001b[0m \u001b[38;5;28;01mreturn\u001b[39;00m \u001b[38;5;28mlist\u001b[39m(aer_circuits), \u001b[38;5;28mlist\u001b[39m(idx_maps)\n",
      "File \u001b[0;32m~/.local/lib/python3.10/site-packages/qiskit_aer/backends/aer_compiler.py:962\u001b[0m, in \u001b[0;36m<listcomp>\u001b[0;34m(.0)\u001b[0m\n\u001b[1;32m    958\u001b[0m     aer_circuits, idx_maps \u001b[38;5;241m=\u001b[39m \u001b[38;5;28mzip\u001b[39m(\n\u001b[1;32m    959\u001b[0m         \u001b[38;5;241m*\u001b[39m[assemble_circuit(circuit, basis_gates_set) \u001b[38;5;28;01mfor\u001b[39;00m circuit \u001b[38;5;129;01min\u001b[39;00m circuits]\n\u001b[1;32m    960\u001b[0m     )\n\u001b[1;32m    961\u001b[0m \u001b[38;5;28;01melse\u001b[39;00m:\n\u001b[0;32m--> 962\u001b[0m     aer_circuits, idx_maps \u001b[38;5;241m=\u001b[39m \u001b[38;5;28mzip\u001b[39m(\u001b[38;5;241m*\u001b[39m[\u001b[43massemble_circuit\u001b[49m\u001b[43m(\u001b[49m\u001b[43mcircuit\u001b[49m\u001b[43m)\u001b[49m \u001b[38;5;28;01mfor\u001b[39;00m circuit \u001b[38;5;129;01min\u001b[39;00m circuits])\n\u001b[1;32m    963\u001b[0m \u001b[38;5;28;01mreturn\u001b[39;00m \u001b[38;5;28mlist\u001b[39m(aer_circuits), \u001b[38;5;28mlist\u001b[39m(idx_maps)\n",
      "File \u001b[0;32m~/.local/lib/python3.10/site-packages/qiskit_aer/backends/aer_compiler.py:681\u001b[0m, in \u001b[0;36massemble_circuit\u001b[0;34m(circuit, basis_gates)\u001b[0m\n\u001b[1;32m    678\u001b[0m     \u001b[38;5;28;01melif\u001b[39;00m \u001b[38;5;28mhasattr\u001b[39m(inst\u001b[38;5;241m.\u001b[39moperation, \u001b[38;5;124m\"\u001b[39m\u001b[38;5;124mcondition_expr\u001b[39m\u001b[38;5;124m\"\u001b[39m) \u001b[38;5;129;01mand\u001b[39;00m inst\u001b[38;5;241m.\u001b[39moperation\u001b[38;5;241m.\u001b[39mcondition_expr:\n\u001b[1;32m    679\u001b[0m         conditional_expr \u001b[38;5;241m=\u001b[39m inst\u001b[38;5;241m.\u001b[39moperation\u001b[38;5;241m.\u001b[39mcondition_expr\n\u001b[0;32m--> 681\u001b[0m     num_of_aer_ops \u001b[38;5;241m+\u001b[39m\u001b[38;5;241m=\u001b[39m \u001b[43m_assemble_op\u001b[49m\u001b[43m(\u001b[49m\n\u001b[1;32m    682\u001b[0m \u001b[43m        \u001b[49m\u001b[43mcircuit\u001b[49m\u001b[43m,\u001b[49m\n\u001b[1;32m    683\u001b[0m \u001b[43m        \u001b[49m\u001b[43maer_circ\u001b[49m\u001b[43m,\u001b[49m\n\u001b[1;32m    684\u001b[0m \u001b[43m        \u001b[49m\u001b[43minst\u001b[49m\u001b[43m,\u001b[49m\n\u001b[1;32m    685\u001b[0m \u001b[43m        \u001b[49m\u001b[43mqubit_indices\u001b[49m\u001b[43m,\u001b[49m\n\u001b[1;32m    686\u001b[0m \u001b[43m        \u001b[49m\u001b[43mclbit_indices\u001b[49m\u001b[43m,\u001b[49m\n\u001b[1;32m    687\u001b[0m \u001b[43m        \u001b[49m\u001b[43mis_conditional\u001b[49m\u001b[43m,\u001b[49m\n\u001b[1;32m    688\u001b[0m \u001b[43m        \u001b[49m\u001b[43mconditional_reg\u001b[49m\u001b[43m,\u001b[49m\n\u001b[1;32m    689\u001b[0m \u001b[43m        \u001b[49m\u001b[43mconditional_expr\u001b[49m\u001b[43m,\u001b[49m\n\u001b[1;32m    690\u001b[0m \u001b[43m        \u001b[49m\u001b[43mbasis_gates\u001b[49m\u001b[43m,\u001b[49m\n\u001b[1;32m    691\u001b[0m \u001b[43m    \u001b[49m\u001b[43m)\u001b[49m\n\u001b[1;32m    692\u001b[0m     index_map\u001b[38;5;241m.\u001b[39mappend(num_of_aer_ops \u001b[38;5;241m-\u001b[39m \u001b[38;5;241m1\u001b[39m)\n\u001b[1;32m    694\u001b[0m \u001b[38;5;28;01mreturn\u001b[39;00m aer_circ, index_map\n",
      "File \u001b[0;32m~/.local/lib/python3.10/site-packages/qiskit_aer/backends/aer_compiler.py:926\u001b[0m, in \u001b[0;36m_assemble_op\u001b[0;34m(circ, aer_circ, inst, qubit_indices, clbit_indices, is_conditional, conditional_reg, conditional_expr, basis_gates)\u001b[0m\n\u001b[1;32m    921\u001b[0m     \u001b[38;5;28;01mraise\u001b[39;00m AerError(\n\u001b[1;32m    922\u001b[0m         \u001b[38;5;124m\"\u001b[39m\u001b[38;5;124mcontrol-flow instructions must be converted \u001b[39m\u001b[38;5;124m\"\u001b[39m \u001b[38;5;124mf\u001b[39m\u001b[38;5;124m\"\u001b[39m\u001b[38;5;124mto jump and mark instructions: \u001b[39m\u001b[38;5;132;01m{\u001b[39;00mname\u001b[38;5;132;01m}\u001b[39;00m\u001b[38;5;124m\"\u001b[39m\n\u001b[1;32m    923\u001b[0m     )\n\u001b[1;32m    925\u001b[0m \u001b[38;5;28;01melse\u001b[39;00m:\n\u001b[0;32m--> 926\u001b[0m     \u001b[38;5;28;01mraise\u001b[39;00m AerError(\u001b[38;5;124mf\u001b[39m\u001b[38;5;124m\"\u001b[39m\u001b[38;5;124munknown instruction: \u001b[39m\u001b[38;5;132;01m{\u001b[39;00mname\u001b[38;5;132;01m}\u001b[39;00m\u001b[38;5;124m\"\u001b[39m)\n\u001b[1;32m    928\u001b[0m \u001b[38;5;28;01mreturn\u001b[39;00m num_of_aer_ops\n",
      "\u001b[0;31mAerError\u001b[0m: 'unknown instruction: cry'"
     ]
    }
   ],
   "source": [
    "qinf0.makeInference(verbose=1)\n",
    "#inference simulation time 10 iter, 07890\n",
    "\n",
    "#12 nodes 7s\n",
    "#13 nodes 12s\n",
    "#14 nodes 14s\n",
    "#15 nodes 16m16s\n"
   ]
  },
  {
   "cell_type": "code",
   "execution_count": 18,
   "metadata": {},
   "outputs": [
    {
     "data": {
      "text/plain": [
       "{'A': 21, 'G': 515}"
      ]
     },
     "execution_count": 18,
     "metadata": {},
     "output_type": "execute_result"
    }
   ],
   "source": [
    "qinf0.log"
   ]
  },
  {
   "cell_type": "code",
   "execution_count": 9,
   "metadata": {},
   "outputs": [
    {
     "name": "stdout",
     "output_type": "stream",
     "text": [
      "{'A': 185, 'G': 271}\n"
     ]
    },
    {
     "data": {
      "text/plain": [
       "0.4161590600000001"
      ]
     },
     "execution_count": 9,
     "metadata": {},
     "output_type": "execute_result"
    }
   ],
   "source": [
    "print(qinf0.log)\n",
    "qrt0 = qRuntime(qinf0, backend)\n",
    "qrt0.rejectionSamplingRuntime()"
   ]
  },
  {
   "cell_type": "code",
   "execution_count": null,
   "metadata": {},
   "outputs": [],
   "source": [
    "qbn = qBayesNet(binary_bn)\n",
    "qc = qbn.buildCircuit(add_measure=True)"
   ]
  },
  {
   "cell_type": "code",
   "execution_count": 148,
   "metadata": {},
   "outputs": [
    {
     "name": "stdout",
     "output_type": "stream",
     "text": [
      "Evidence: {1: 1, 3: 0, 5: 1, 8: 0, 14: 0, 15: 0, 20: 0, 23: 1, 24: 1, 31: 0}, Target: {12}\n",
      "Evidence probability (10 values): 6.952018710175363e-05\n"
     ]
    },
    {
     "ename": "ValueError",
     "evalue": "array is too big; `arr.size * arr.dtype.itemsize` is larger than the maximum possible size.",
     "output_type": "error",
     "traceback": [
      "\u001b[0;31m---------------------------------------------------------------------------\u001b[0m",
      "\u001b[0;31mValueError\u001b[0m                                Traceback (most recent call last)",
      "Cell \u001b[0;32mIn[148], line 24\u001b[0m\n\u001b[1;32m     22\u001b[0m qinf\u001b[38;5;241m.\u001b[39msetEvidence(evidence)\n\u001b[1;32m     23\u001b[0m qinf\u001b[38;5;241m.\u001b[39msetMaxIter(max_iter)\n\u001b[0;32m---> 24\u001b[0m \u001b[43mqinf\u001b[49m\u001b[38;5;241;43m.\u001b[39;49m\u001b[43mmakeInference\u001b[49m\u001b[43m(\u001b[49m\u001b[43m)\u001b[49m\n\u001b[1;32m     25\u001b[0m qinf_run_time \u001b[38;5;241m=\u001b[39m qrt\u001b[38;5;241m.\u001b[39mrejectionSamplingRuntime()\n\u001b[1;32m     26\u001b[0m qinf_max_error \u001b[38;5;241m=\u001b[39m (qinf\u001b[38;5;241m.\u001b[39mposterior(target)\u001b[38;5;241m.\u001b[39mtoarray() \u001b[38;5;241m-\u001b[39m ie\u001b[38;5;241m.\u001b[39mposterior(target)\u001b[38;5;241m.\u001b[39mtoarray())\u001b[38;5;241m.\u001b[39mmax()\n",
      "File \u001b[0;32m~/Desktop/ProjetQuanticBN/github/QUANTICGROUP/tutorials/../source/qBN/qBNRejection.py:348\u001b[0m, in \u001b[0;36mqInference.makeInference\u001b[0;34m(self)\u001b[0m\n\u001b[1;32m    336\u001b[0m \u001b[38;5;28;01mdef\u001b[39;00m \u001b[38;5;21mmakeInference\u001b[39m(\u001b[38;5;28mself\u001b[39m) \u001b[38;5;241m-\u001b[39m\u001b[38;5;241m>\u001b[39m \u001b[38;5;28mdict\u001b[39m[Union[\u001b[38;5;28mstr\u001b[39m, \u001b[38;5;28mint\u001b[39m]: \u001b[38;5;28mlist\u001b[39m[\u001b[38;5;28mfloat\u001b[39m]]:\n\u001b[1;32m    337\u001b[0m \u001b[38;5;250m    \u001b[39m\u001b[38;5;124;03m\"\"\"\u001b[39;00m\n\u001b[1;32m    338\u001b[0m \u001b[38;5;124;03m    Performs rejection sampling on Quantum Circuit representation of\u001b[39;00m\n\u001b[1;32m    339\u001b[0m \u001b[38;5;124;03m    Baysian Network\u001b[39;00m\n\u001b[0;32m   (...)\u001b[0m\n\u001b[1;32m    345\u001b[0m \n\u001b[1;32m    346\u001b[0m \u001b[38;5;124;03m    \"\"\"\u001b[39;00m\n\u001b[0;32m--> 348\u001b[0m     \u001b[38;5;28;01mif\u001b[39;00m \u001b[38;5;28mself\u001b[39m\u001b[38;5;241m.\u001b[39mA \u001b[38;5;129;01mis\u001b[39;00m \u001b[38;5;28;01mNone\u001b[39;00m \u001b[38;5;129;01mor\u001b[39;00m \u001b[38;5;28mself\u001b[39m\u001b[38;5;241m.\u001b[39mG \u001b[38;5;129;01mis\u001b[39;00m \u001b[38;5;28;01mNone\u001b[39;00m: \u001b[38;5;28;43mself\u001b[39;49m\u001b[38;5;241;43m.\u001b[39;49m\u001b[43mgetGates\u001b[49m\u001b[43m(\u001b[49m\u001b[43m)\u001b[49m\n\u001b[1;32m    350\u001b[0m     \u001b[38;5;28mself\u001b[39m\u001b[38;5;241m.\u001b[39mlog \u001b[38;5;241m=\u001b[39m {\u001b[38;5;124m\"\u001b[39m\u001b[38;5;124mA\u001b[39m\u001b[38;5;124m\"\u001b[39m: \u001b[38;5;241m0\u001b[39m, \u001b[38;5;124m\"\u001b[39m\u001b[38;5;124mG\u001b[39m\u001b[38;5;124m\"\u001b[39m: \u001b[38;5;241m0\u001b[39m}\n\u001b[1;32m    352\u001b[0m     res \u001b[38;5;241m=\u001b[39m {node: [\u001b[38;5;241m0\u001b[39m] \u001b[38;5;241m*\u001b[39m \u001b[38;5;28mself\u001b[39m\u001b[38;5;241m.\u001b[39mqbn\u001b[38;5;241m.\u001b[39mbn\u001b[38;5;241m.\u001b[39mvariable(node)\u001b[38;5;241m.\u001b[39mdomainSize()\n\u001b[1;32m    353\u001b[0m            \u001b[38;5;28;01mfor\u001b[39;00m node \u001b[38;5;129;01min\u001b[39;00m \u001b[38;5;28mself\u001b[39m\u001b[38;5;241m.\u001b[39mqbn\u001b[38;5;241m.\u001b[39mn_qb_map\u001b[38;5;241m.\u001b[39mkeys()}\n",
      "File \u001b[0;32m~/Desktop/ProjetQuanticBN/github/QUANTICGROUP/tutorials/../source/qBN/qBNRejection.py:375\u001b[0m, in \u001b[0;36mqInference.getGates\u001b[0;34m(self)\u001b[0m\n\u001b[1;32m    371\u001b[0m evidence_n_id \u001b[38;5;241m=\u001b[39m {\u001b[38;5;28mself\u001b[39m\u001b[38;5;241m.\u001b[39mqbn\u001b[38;5;241m.\u001b[39mbn\u001b[38;5;241m.\u001b[39mnodeId(\u001b[38;5;28mself\u001b[39m\u001b[38;5;241m.\u001b[39mqbn\u001b[38;5;241m.\u001b[39mbn\u001b[38;5;241m.\u001b[39mvariable(key)): val\n\u001b[1;32m    372\u001b[0m                  \u001b[38;5;28;01mfor\u001b[39;00m key, val \u001b[38;5;129;01min\u001b[39;00m \u001b[38;5;28mself\u001b[39m\u001b[38;5;241m.\u001b[39mevidence\u001b[38;5;241m.\u001b[39mitems()}\n\u001b[1;32m    373\u001b[0m evidence_qbs \u001b[38;5;241m=\u001b[39m \u001b[38;5;28mself\u001b[39m\u001b[38;5;241m.\u001b[39mgetEvidenceQuBits(evidence_n_id)\n\u001b[0;32m--> 375\u001b[0m \u001b[38;5;28mself\u001b[39m\u001b[38;5;241m.\u001b[39mA \u001b[38;5;241m=\u001b[39m \u001b[38;5;28;43mself\u001b[39;49m\u001b[38;5;241;43m.\u001b[39;49m\u001b[43mgetA\u001b[49m\u001b[43m(\u001b[49m\u001b[43m)\u001b[49m\n\u001b[1;32m    376\u001b[0m \u001b[38;5;28mself\u001b[39m\u001b[38;5;241m.\u001b[39mG \u001b[38;5;241m=\u001b[39m \u001b[38;5;28mself\u001b[39m\u001b[38;5;241m.\u001b[39mgetG(\u001b[38;5;28mself\u001b[39m\u001b[38;5;241m.\u001b[39mA, evidence_qbs\u001b[38;5;241m=\u001b[39mevidence_qbs)\n",
      "File \u001b[0;32m~/Desktop/ProjetQuanticBN/github/QUANTICGROUP/tutorials/../source/qBN/qBNRejection.py:78\u001b[0m, in \u001b[0;36mqInference.getA\u001b[0;34m(self)\u001b[0m\n\u001b[1;32m     75\u001b[0m circuit \u001b[38;5;241m=\u001b[39m \u001b[38;5;28mself\u001b[39m\u001b[38;5;241m.\u001b[39mqbn\u001b[38;5;241m.\u001b[39mbuildCircuit(add_measure\u001b[38;5;241m=\u001b[39m\u001b[38;5;28;01mFalse\u001b[39;00m)\n\u001b[1;32m     76\u001b[0m circuit \u001b[38;5;241m=\u001b[39m circuit\u001b[38;5;241m.\u001b[39mdecompose()\n\u001b[0;32m---> 78\u001b[0m A \u001b[38;5;241m=\u001b[39m \u001b[43mOperator\u001b[49m\u001b[43m(\u001b[49m\u001b[43mcircuit\u001b[49m\u001b[43m)\u001b[49m\n\u001b[1;32m     79\u001b[0m A \u001b[38;5;241m=\u001b[39m A\u001b[38;5;241m.\u001b[39mto_instruction()\n\u001b[1;32m     80\u001b[0m A\u001b[38;5;241m.\u001b[39mlabel \u001b[38;5;241m=\u001b[39m \u001b[38;5;124m'\u001b[39m\u001b[38;5;124mA\u001b[39m\u001b[38;5;124m'\u001b[39m\n",
      "File \u001b[0;32m~/.local/lib/python3.10/site-packages/qiskit/quantum_info/operators/operator.py:97\u001b[0m, in \u001b[0;36mOperator.__init__\u001b[0;34m(self, data, input_dims, output_dims)\u001b[0m\n\u001b[1;32m     88\u001b[0m     \u001b[38;5;28mself\u001b[39m\u001b[38;5;241m.\u001b[39m_data \u001b[38;5;241m=\u001b[39m np\u001b[38;5;241m.\u001b[39masarray(data, dtype\u001b[38;5;241m=\u001b[39m\u001b[38;5;28mcomplex\u001b[39m)\n\u001b[1;32m     89\u001b[0m \u001b[38;5;28;01melif\u001b[39;00m \u001b[38;5;28misinstance\u001b[39m(data, (QuantumCircuit, Operation)):\n\u001b[1;32m     90\u001b[0m     \u001b[38;5;66;03m# If the input is a Terra QuantumCircuit or Operation we\u001b[39;00m\n\u001b[1;32m     91\u001b[0m     \u001b[38;5;66;03m# perform a simulation to construct the unitary operator.\u001b[39;00m\n\u001b[0;32m   (...)\u001b[0m\n\u001b[1;32m     95\u001b[0m     \u001b[38;5;66;03m# conditional gates, measure, or reset will cause an\u001b[39;00m\n\u001b[1;32m     96\u001b[0m     \u001b[38;5;66;03m# exception to be raised.\u001b[39;00m\n\u001b[0;32m---> 97\u001b[0m     \u001b[38;5;28mself\u001b[39m\u001b[38;5;241m.\u001b[39m_data \u001b[38;5;241m=\u001b[39m \u001b[38;5;28;43mself\u001b[39;49m\u001b[38;5;241;43m.\u001b[39;49m\u001b[43m_init_instruction\u001b[49m\u001b[43m(\u001b[49m\u001b[43mdata\u001b[49m\u001b[43m)\u001b[49m\u001b[38;5;241m.\u001b[39mdata\n\u001b[1;32m     98\u001b[0m \u001b[38;5;28;01melif\u001b[39;00m \u001b[38;5;28mhasattr\u001b[39m(data, \u001b[38;5;124m\"\u001b[39m\u001b[38;5;124mto_operator\u001b[39m\u001b[38;5;124m\"\u001b[39m):\n\u001b[1;32m     99\u001b[0m     \u001b[38;5;66;03m# If the data object has a 'to_operator' attribute this is given\u001b[39;00m\n\u001b[1;32m    100\u001b[0m     \u001b[38;5;66;03m# higher preference than the 'to_matrix' method for initializing\u001b[39;00m\n\u001b[1;32m    101\u001b[0m     \u001b[38;5;66;03m# an Operator object.\u001b[39;00m\n\u001b[1;32m    102\u001b[0m     data \u001b[38;5;241m=\u001b[39m data\u001b[38;5;241m.\u001b[39mto_operator()\n",
      "File \u001b[0;32m~/.local/lib/python3.10/site-packages/qiskit/quantum_info/operators/operator.py:703\u001b[0m, in \u001b[0;36mOperator._init_instruction\u001b[0;34m(cls, instruction)\u001b[0m\n\u001b[1;32m    700\u001b[0m     \u001b[38;5;28;01mreturn\u001b[39;00m Operator(np\u001b[38;5;241m.\u001b[39marray(instruction, dtype\u001b[38;5;241m=\u001b[39m\u001b[38;5;28mcomplex\u001b[39m))\n\u001b[1;32m    702\u001b[0m dimension \u001b[38;5;241m=\u001b[39m \u001b[38;5;241m2\u001b[39m\u001b[38;5;241m*\u001b[39m\u001b[38;5;241m*\u001b[39minstruction\u001b[38;5;241m.\u001b[39mnum_qubits\n\u001b[0;32m--> 703\u001b[0m op \u001b[38;5;241m=\u001b[39m Operator(\u001b[43mnp\u001b[49m\u001b[38;5;241;43m.\u001b[39;49m\u001b[43meye\u001b[49m\u001b[43m(\u001b[49m\u001b[43mdimension\u001b[49m\u001b[43m)\u001b[49m)\n\u001b[1;32m    704\u001b[0m \u001b[38;5;66;03m# Convert circuit to an instruction\u001b[39;00m\n\u001b[1;32m    705\u001b[0m \u001b[38;5;28;01mif\u001b[39;00m \u001b[38;5;28misinstance\u001b[39m(instruction, QuantumCircuit):\n",
      "File \u001b[0;32m~/.local/lib/python3.10/site-packages/numpy/lib/twodim_base.py:211\u001b[0m, in \u001b[0;36meye\u001b[0;34m(N, M, k, dtype, order, like)\u001b[0m\n\u001b[1;32m    209\u001b[0m \u001b[38;5;28;01mif\u001b[39;00m M \u001b[38;5;129;01mis\u001b[39;00m \u001b[38;5;28;01mNone\u001b[39;00m:\n\u001b[1;32m    210\u001b[0m     M \u001b[38;5;241m=\u001b[39m N\n\u001b[0;32m--> 211\u001b[0m m \u001b[38;5;241m=\u001b[39m \u001b[43mzeros\u001b[49m\u001b[43m(\u001b[49m\u001b[43m(\u001b[49m\u001b[43mN\u001b[49m\u001b[43m,\u001b[49m\u001b[43m \u001b[49m\u001b[43mM\u001b[49m\u001b[43m)\u001b[49m\u001b[43m,\u001b[49m\u001b[43m \u001b[49m\u001b[43mdtype\u001b[49m\u001b[38;5;241;43m=\u001b[39;49m\u001b[43mdtype\u001b[49m\u001b[43m,\u001b[49m\u001b[43m \u001b[49m\u001b[43morder\u001b[49m\u001b[38;5;241;43m=\u001b[39;49m\u001b[43morder\u001b[49m\u001b[43m)\u001b[49m\n\u001b[1;32m    212\u001b[0m \u001b[38;5;28;01mif\u001b[39;00m k \u001b[38;5;241m>\u001b[39m\u001b[38;5;241m=\u001b[39m M:\n\u001b[1;32m    213\u001b[0m     \u001b[38;5;28;01mreturn\u001b[39;00m m\n",
      "\u001b[0;31mValueError\u001b[0m: array is too big; `arr.size * arr.dtype.itemsize` is larger than the maximum possible size."
     ]
    }
   ],
   "source": [
    "num_runs = 1\n",
    "num_evidence_var = 10\n",
    "max_iter = 2000\n",
    "\n",
    "for i in range(num_runs):\n",
    "\n",
    "    #Randomly Chosen Evidence and Target\n",
    "    n_ids = binary_bn.nodes()\n",
    "    evidence = {ev_id: random.randint(0,1) for ev_id in randomChoice(n_ids, num_evidence_var)}\n",
    "    target = randomChoice(n_ids, 1)\n",
    "\n",
    "    #Lazy Propagation Benchmark\n",
    "    ie = gum.LazyPropagation(binary_bn)\n",
    "    ie.setEvidence(evidence)\n",
    "    ie.makeInference()\n",
    "    print(f\"Evidence: {evidence}, Target: {target}\")\n",
    "    print(f\"Evidence probability ({num_evidence_var} values): {ie.evidenceProbability()}\")\n",
    "\n",
    "    #Quantum Rejection Sampling\n",
    "    qinf = qInference(qbn)\n",
    "    qrt = qRuntime(qinf, backend)\n",
    "    qinf.setEvidence(evidence)\n",
    "    qinf.setMaxIter(max_iter)\n",
    "    qinf.makeInference()\n",
    "    qinf_run_time = qrt.rejectionSamplingRuntime()\n",
    "    qinf_max_error = (qinf.posterior(target).toarray() - ie.posterior(target).toarray()).max()\n",
    "    print(f\"QS - Run time: {qinf_run_time}, Max Error: {qinf_max_error}\")\n",
    "\n",
    "    #Monte Carlo Classical Rejection Sampling\n",
    "    mc = gum.MonteCarloSampling(binary_bn)\n",
    "    mc.setEpsilon(1e-20)\n",
    "    mc.setMaxTime(1e20)\n",
    "    mc.setEvidence(evidence)\n",
    "    mc.setMaxIter(max_iter)\n",
    "    mc.makeInference()\n",
    "    mc_run_time = mc.currentTime()\n",
    "    mc_max_error = (mc.posterior(target).toarray() - ie.posterior(target).toarray()).max()\n",
    "    print(f\"MC - Run time: {mc_run_time}, Max Error: {mc_max_error}\")\n"
   ]
  },
  {
   "cell_type": "code",
   "execution_count": 111,
   "metadata": {},
   "outputs": [
    {
     "name": "stdout",
     "output_type": "stream",
     "text": [
      "Evidence: {'MINVOLSET': 0, 'DISCONNECT': 0}\n",
      "Evidence probability: 0.05825177497125137\n"
     ]
    }
   ],
   "source": [
    "evidence = {\"MINVOLSET\": 0, \"DISCONNECT\": 0}\n",
    "ie = gum.LazyPropagation(binary_bn)\n",
    "ie.setEvidence(evidence)\n",
    "ie.makeInference()\n",
    "print(f\"Evidence: {evidence}\")\n",
    "print(f\"Evidence probability: {ie.evidenceProbability()}\")"
   ]
  },
  {
   "cell_type": "code",
   "execution_count": 8,
   "metadata": {},
   "outputs": [
    {
     "data": {
      "image/svg+xml": [
       "<svg xmlns=\"http://www.w3.org/2000/svg\" xmlns:xlink=\"http://www.w3.org/1999/xlink\" width=\"318pt\" height=\"188pt\" viewBox=\"0.00 0.00 317.89 188.00\">\n",
       "<g id=\"graph0\" class=\"graph\" transform=\"scale(1 1) rotate(0) translate(4 184)\">\n",
       "<title>G</title>\n",
       "<!-- VENTMACH -->\n",
       "<g id=\"node1\" class=\"node\">\n",
       "<title>VENTMACH</title>\n",
       "<g id=\"a_node1\"><a xlink:title=\"(16) VENTMACH\">\n",
       "<ellipse fill=\"#404040\" stroke=\"#4a4a4a\" cx=\"240.34\" cy=\"-90\" rx=\"67.69\" ry=\"18\"/>\n",
       "<text text-anchor=\"middle\" x=\"240.34\" y=\"-86.3\" font-family=\"Times,serif\" font-size=\"14.00\" fill=\"white\">VENTMACH</text>\n",
       "</a>\n",
       "</g>\n",
       "</g>\n",
       "<!-- VENTTUBE -->\n",
       "<g id=\"node3\" class=\"node\">\n",
       "<title>VENTTUBE</title>\n",
       "<g id=\"a_node3\"><a xlink:title=\"(20) VENTTUBE\">\n",
       "<ellipse fill=\"#404040\" stroke=\"#4a4a4a\" cx=\"158.34\" cy=\"-18\" rx=\"65.79\" ry=\"18\"/>\n",
       "<text text-anchor=\"middle\" x=\"158.34\" y=\"-14.3\" font-family=\"Times,serif\" font-size=\"14.00\" fill=\"white\">VENTTUBE</text>\n",
       "</a>\n",
       "</g>\n",
       "</g>\n",
       "<!-- VENTMACH&#45;&gt;VENTTUBE -->\n",
       "<g id=\"edge1\" class=\"edge\">\n",
       "<title>VENTMACH-&gt;VENTTUBE</title>\n",
       "<g id=\"a_edge1\"><a xlink:title=\"16 → 20\">\n",
       "<path fill=\"none\" stroke=\"#4a4a4a\" d=\"M220.91,-72.41C210.29,-63.34 196.97,-51.97 185.35,-42.06\"/>\n",
       "<polygon fill=\"#4a4a4a\" stroke=\"#4a4a4a\" points=\"187.51,-39.3 177.64,-35.47 182.97,-44.62 187.51,-39.3\"/>\n",
       "</a>\n",
       "</g>\n",
       "</g>\n",
       "<!-- MINVOLSET -->\n",
       "<g id=\"node2\" class=\"node\">\n",
       "<title>MINVOLSET</title>\n",
       "<g id=\"a_node2\"><a xlink:title=\"(3) MINVOLSET\">\n",
       "<ellipse fill=\"#404040\" stroke=\"#4a4a4a\" cx=\"240.34\" cy=\"-162\" rx=\"69.59\" ry=\"18\"/>\n",
       "<text text-anchor=\"middle\" x=\"240.34\" y=\"-158.3\" font-family=\"Times,serif\" font-size=\"14.00\" fill=\"white\">MINVOLSET</text>\n",
       "</a>\n",
       "</g>\n",
       "</g>\n",
       "<!-- MINVOLSET&#45;&gt;VENTMACH -->\n",
       "<g id=\"edge2\" class=\"edge\">\n",
       "<title>MINVOLSET-&gt;VENTMACH</title>\n",
       "<g id=\"a_edge2\"><a xlink:title=\"3 → 16\">\n",
       "<path fill=\"none\" stroke=\"#4a4a4a\" d=\"M240.34,-143.7C240.34,-135.98 240.34,-126.71 240.34,-118.11\"/>\n",
       "<polygon fill=\"#4a4a4a\" stroke=\"#4a4a4a\" points=\"243.84,-118.1 240.34,-108.1 236.84,-118.1 243.84,-118.1\"/>\n",
       "</a>\n",
       "</g>\n",
       "</g>\n",
       "<!-- DISCONNECT -->\n",
       "<g id=\"node4\" class=\"node\">\n",
       "<title>DISCONNECT</title>\n",
       "<g id=\"a_node4\"><a xlink:title=\"(10) DISCONNECT\">\n",
       "<ellipse fill=\"#404040\" stroke=\"#4a4a4a\" cx=\"77.34\" cy=\"-90\" rx=\"77.19\" ry=\"18\"/>\n",
       "<text text-anchor=\"middle\" x=\"77.34\" y=\"-86.3\" font-family=\"Times,serif\" font-size=\"14.00\" fill=\"white\">DISCONNECT</text>\n",
       "</a>\n",
       "</g>\n",
       "</g>\n",
       "<!-- DISCONNECT&#45;&gt;VENTTUBE -->\n",
       "<g id=\"edge3\" class=\"edge\">\n",
       "<title>DISCONNECT-&gt;VENTTUBE</title>\n",
       "<g id=\"a_edge3\"><a xlink:title=\"10 → 20\">\n",
       "<path fill=\"none\" stroke=\"#4a4a4a\" d=\"M96.54,-72.41C107.03,-63.34 120.19,-51.97 131.66,-42.06\"/>\n",
       "<polygon fill=\"#4a4a4a\" stroke=\"#4a4a4a\" points=\"134.01,-44.66 139.29,-35.47 129.43,-39.36 134.01,-44.66\"/>\n",
       "</a>\n",
       "</g>\n",
       "</g>\n",
       "</g>\n",
       "</svg>"
      ],
      "text/plain": [
       "<IPython.core.display.SVG object>"
      ]
     },
     "metadata": {},
     "output_type": "display_data"
    }
   ],
   "source": [
    "qinf = qInference(qbn)\n",
    "qinf.setEvidence(evidence)\n",
    "qinf.setMaxIter(1000)\n",
    "qinf.useFragmentBN(target={target_node})\n",
    "gnb.showBN(qinf.qbn.bn, size=20)"
   ]
  },
  {
   "cell_type": "code",
   "execution_count": 9,
   "metadata": {},
   "outputs": [],
   "source": [
    "qinf.getGates()"
   ]
  },
  {
   "cell_type": "code",
   "execution_count": 10,
   "metadata": {},
   "outputs": [
    {
     "data": {
      "text/plain": [
       "{'VENTMACH': [0.06100000000000005, 0.9240000000000007, 0.007, 0.008],\n",
       " 'DISCONNECT': [1.0000000000000007, 0],\n",
       " 'MINVOLSET': [1.0000000000000007, 0, 0],\n",
       " 'VENTTUBE': [0.9670000000000007,\n",
       "  0.006,\n",
       "  0.016000000000000007,\n",
       "  0.011000000000000003]}"
      ]
     },
     "execution_count": 10,
     "metadata": {},
     "output_type": "execute_result"
    }
   ],
   "source": [
    "qinf.makeInference()"
   ]
  },
  {
   "cell_type": "code",
   "execution_count": 11,
   "metadata": {},
   "outputs": [
    {
     "data": {
      "text/html": [
       "<table style=\"border-style: hidden; border-collapse: collapse;\" width=\"100%\"><tr><td style=\"border-top:hidden;border-bottom:hidden;vertical-align:middle;\"><div align=\"center\" style=\"vertical-align:middle;\"><table style=\"border:1px solid black;border-collapse: collapse;\">\n",
       "<tr style='border:1px solid black;color:black;background-color:#808080'>\n",
       "      <th colspan='4'><center>VENTTUBE</center></th></tr>\n",
       "<tr><th style='border:1px solid black;border-bottom-style: double;color:black;background-color:#BBBBBB'>\n",
       "      <center>ZERO</center></th><th style='border:1px solid black;border-bottom-style: double;color:black;background-color:#BBBBBB'>\n",
       "      <center>LOW</center></th><th style='border:1px solid black;border-bottom-style: double;color:black;background-color:#BBBBBB'>\n",
       "      <center>NORMAL</center></th><th style='border:1px solid black;border-bottom-style: double;color:black;background-color:#BBBBBB'>\n",
       "      <center>HIGH</center></th></tr>\n",
       "<tr><td style='color:black;background-color:#83fa64;text-align:right;padding: 3px;'>0.9670</td><td style='color:black;background-color:#fe7f64;text-align:right;padding: 3px;'>0.0060</td><td style='color:black;background-color:#fc8164;text-align:right;padding: 3px;'>0.0160</td><td style='color:black;background-color:#fd8064;text-align:right;padding: 3px;'>0.0110</td></tr>\n",
       "</table><br><small><i>qInference</i></small></div></td><td style=\"border-top:hidden;border-bottom:hidden;vertical-align:middle;\"><div align=\"center\" style=\"vertical-align:middle;\"><table style=\"border:1px solid black;border-collapse: collapse;\">\n",
       "<tr style='border:1px solid black;color:black;background-color:#808080'>\n",
       "      <th colspan='4'><center>VENTTUBE</center></th></tr>\n",
       "<tr><th style='border:1px solid black;border-bottom-style: double;color:black;background-color:#BBBBBB'>\n",
       "      <center>ZERO</center></th><th style='border:1px solid black;border-bottom-style: double;color:black;background-color:#BBBBBB'>\n",
       "      <center>LOW</center></th><th style='border:1px solid black;border-bottom-style: double;color:black;background-color:#BBBBBB'>\n",
       "      <center>NORMAL</center></th><th style='border:1px solid black;border-bottom-style: double;color:black;background-color:#BBBBBB'>\n",
       "      <center>HIGH</center></th></tr>\n",
       "<tr><td style='color:black;background-color:#84f964;text-align:right;padding: 3px;'>0.9604</td><td style='color:black;background-color:#fd8064;text-align:right;padding: 3px;'>0.0100</td><td style='color:black;background-color:#fc8164;text-align:right;padding: 3px;'>0.0196</td><td style='color:black;background-color:#fd8064;text-align:right;padding: 3px;'>0.0100</td></tr>\n",
       "</table><br><small><i>LazyPropagation</i></small></div></td></tr></table>"
      ],
      "text/plain": [
       "<IPython.core.display.HTML object>"
      ]
     },
     "metadata": {},
     "output_type": "display_data"
    }
   ],
   "source": [
    "gnb.sideBySide(qinf.posterior(target_node),\n",
    "               ie.posterior(target_node),\n",
    "               captions=[\"qInference\", \"LazyPropagation\"])"
   ]
  },
  {
   "cell_type": "code",
   "execution_count": 15,
   "metadata": {},
   "outputs": [],
   "source": [
    "mc = gum.MonteCarloSampling(bn)\n",
    "mc.setEvidence(evidence)\n",
    "mc.setMaxIter(10000)\n",
    "mc.makeInference()"
   ]
  },
  {
   "cell_type": "code",
   "execution_count": 30,
   "metadata": {},
   "outputs": [],
   "source": [
    "r = mc.posterior(target_node).toarray() - ie.posterior(target_node).toarray()"
   ]
  },
  {
   "cell_type": "code",
   "execution_count": 32,
   "metadata": {},
   "outputs": [
    {
     "data": {
      "text/plain": [
       "0.003758412832682745"
      ]
     },
     "execution_count": 32,
     "metadata": {},
     "output_type": "execute_result"
    }
   ],
   "source": [
    "r.max()"
   ]
  },
  {
   "cell_type": "code",
   "execution_count": 17,
   "metadata": {},
   "outputs": [],
   "source": [
    "bn = gum.fastBN(\"A->B\")\n",
    "qbn = qBayesNet(bn)\n",
    "qinf = qInference(qbn)\n",
    "qinf.setEvidence({0:0})"
   ]
  },
  {
   "cell_type": "code",
   "execution_count": 18,
   "metadata": {},
   "outputs": [],
   "source": [
    "qinf.getGates()"
   ]
  },
  {
   "cell_type": "code",
   "execution_count": 23,
   "metadata": {},
   "outputs": [
    {
     "data": {
      "image/svg+xml": [
       "<?xml version=\"1.0\" encoding=\"utf-8\" standalone=\"no\"?>\n",
       "<!DOCTYPE svg PUBLIC \"-//W3C//DTD SVG 1.1//EN\"\n",
       "  \"http://www.w3.org/Graphics/SVG/1.1/DTD/svg11.dtd\">\n",
       "<svg xmlns:xlink=\"http://www.w3.org/1999/xlink\" width=\"348.985022pt\" height=\"125.649599pt\" viewBox=\"0 0 348.985022 125.649599\" xmlns=\"http://www.w3.org/2000/svg\" version=\"1.1\">\n",
       " <metadata>\n",
       "  <rdf:RDF xmlns:dc=\"http://purl.org/dc/elements/1.1/\" xmlns:cc=\"http://creativecommons.org/ns#\" xmlns:rdf=\"http://www.w3.org/1999/02/22-rdf-syntax-ns#\">\n",
       "   <cc:Work>\n",
       "    <dc:type rdf:resource=\"http://purl.org/dc/dcmitype/StillImage\"/>\n",
       "    <dc:date>2024-06-14T22:38:22.988863</dc:date>\n",
       "    <dc:format>image/svg+xml</dc:format>\n",
       "    <dc:creator>\n",
       "     <cc:Agent>\n",
       "      <dc:title>Matplotlib v3.5.1, https://matplotlib.org/</dc:title>\n",
       "     </cc:Agent>\n",
       "    </dc:creator>\n",
       "   </cc:Work>\n",
       "  </rdf:RDF>\n",
       " </metadata>\n",
       " <defs>\n",
       "  <style type=\"text/css\">*{stroke-linejoin: round; stroke-linecap: butt}</style>\n",
       " </defs>\n",
       " <g id=\"figure_1\">\n",
       "  <g id=\"patch_1\">\n",
       "   <path d=\"M 0 125.649599 \n",
       "L 348.985022 125.649599 \n",
       "L 348.985022 0 \n",
       "L 0 0 \n",
       "z\n",
       "\" style=\"fill: #ffffff\"/>\n",
       "  </g>\n",
       "  <g id=\"axes_1\">\n",
       "   <g id=\"line2d_1\">\n",
       "    <path d=\"M 54.390226 44.2832 \n",
       "L 337.149622 44.2832 \n",
       "\" clip-path=\"url(#p4bc3686d20)\" style=\"fill: none; stroke: #000000; stroke-width: 2; stroke-linecap: square\"/>\n",
       "   </g>\n",
       "   <g id=\"line2d_2\">\n",
       "    <path d=\"M 54.390226 90.637199 \n",
       "L 337.149622 90.637199 \n",
       "\" clip-path=\"url(#p4bc3686d20)\" style=\"fill: none; stroke: #000000; stroke-width: 2; stroke-linecap: square\"/>\n",
       "   </g>\n",
       "   <g id=\"patch_2\">\n",
       "    <path d=\"M 49.754826 21.1062 \n",
       "L -1109.095159 21.1062 \n",
       "L -1109.095159 160.168198 \n",
       "L 49.754826 160.168198 \n",
       "z\n",
       "\" clip-path=\"url(#p4bc3686d20)\" style=\"fill: #ffffff; stroke: #ffffff; stroke-width: 1.5; stroke-linejoin: miter\"/>\n",
       "   </g>\n",
       "   <g id=\"patch_3\">\n",
       "    <path d=\"M 65.906877 105.702249 \n",
       "L 185.643892 105.702249 \n",
       "L 185.643892 29.21815 \n",
       "L 65.906877 29.21815 \n",
       "z\n",
       "\" clip-path=\"url(#p4bc3686d20)\" style=\"fill: #9f1853; stroke: #9f1853; stroke-width: 1.5; stroke-linejoin: miter\"/>\n",
       "   </g>\n",
       "   <g id=\"patch_4\">\n",
       "    <path d=\"M 204.968875 105.702249 \n",
       "L 324.705891 105.702249 \n",
       "L 324.705891 29.21815 \n",
       "L 204.968875 29.21815 \n",
       "z\n",
       "\" clip-path=\"url(#p4bc3686d20)\" style=\"fill: #9f1853; stroke: #9f1853; stroke-width: 1.5; stroke-linejoin: miter\"/>\n",
       "   </g>\n",
       "   <g id=\"text_1\">\n",
       "    <g clip-path=\"url(#p4bc3686d20)\">\n",
       "     <!-- ${0}$ -->\n",
       "     <g transform=\"translate(34.719426 48.767184)scale(0.1625 -0.1625)\">\n",
       "      <defs>\n",
       "       <path id=\"DejaVuSans-30\" d=\"M 2034 4250 \n",
       "Q 1547 4250 1301 3770 \n",
       "Q 1056 3291 1056 2328 \n",
       "Q 1056 1369 1301 889 \n",
       "Q 1547 409 2034 409 \n",
       "Q 2525 409 2770 889 \n",
       "Q 3016 1369 3016 2328 \n",
       "Q 3016 3291 2770 3770 \n",
       "Q 2525 4250 2034 4250 \n",
       "z\n",
       "M 2034 4750 \n",
       "Q 2819 4750 3233 4129 \n",
       "Q 3647 3509 3647 2328 \n",
       "Q 3647 1150 3233 529 \n",
       "Q 2819 -91 2034 -91 \n",
       "Q 1250 -91 836 529 \n",
       "Q 422 1150 422 2328 \n",
       "Q 422 3509 836 4129 \n",
       "Q 1250 4750 2034 4750 \n",
       "z\n",
       "\" transform=\"scale(0.015625)\"/>\n",
       "      </defs>\n",
       "      <use xlink:href=\"#DejaVuSans-30\" transform=\"translate(0 0.78125)\"/>\n",
       "     </g>\n",
       "    </g>\n",
       "   </g>\n",
       "   <g id=\"text_2\">\n",
       "    <g clip-path=\"url(#p4bc3686d20)\">\n",
       "     <!-- ${1}$ -->\n",
       "     <g transform=\"translate(34.719426 95.121183)scale(0.1625 -0.1625)\">\n",
       "      <defs>\n",
       "       <path id=\"DejaVuSans-31\" d=\"M 794 531 \n",
       "L 1825 531 \n",
       "L 1825 4091 \n",
       "L 703 3866 \n",
       "L 703 4441 \n",
       "L 1819 4666 \n",
       "L 2450 4666 \n",
       "L 2450 531 \n",
       "L 3481 531 \n",
       "L 3481 0 \n",
       "L 794 0 \n",
       "L 794 531 \n",
       "z\n",
       "\" transform=\"scale(0.015625)\"/>\n",
       "      </defs>\n",
       "      <use xlink:href=\"#DejaVuSans-31\" transform=\"translate(0 0.09375)\"/>\n",
       "     </g>\n",
       "    </g>\n",
       "   </g>\n",
       "   <g id=\"text_3\">\n",
       "    <g clip-path=\"url(#p4bc3686d20)\">\n",
       "     <!-- 0 -->\n",
       "     <g style=\"fill: #ffffff\" transform=\"translate(69.151657 47.870387)scale(0.13 -0.13)\">\n",
       "      <use xlink:href=\"#DejaVuSans-30\"/>\n",
       "     </g>\n",
       "    </g>\n",
       "   </g>\n",
       "   <g id=\"text_4\">\n",
       "    <g clip-path=\"url(#p4bc3686d20)\">\n",
       "     <!-- 1 -->\n",
       "     <g style=\"fill: #ffffff\" transform=\"translate(69.151657 94.224386)scale(0.13 -0.13)\">\n",
       "      <use xlink:href=\"#DejaVuSans-31\"/>\n",
       "     </g>\n",
       "    </g>\n",
       "   </g>\n",
       "   <g id=\"text_5\">\n",
       "    <g clip-path=\"url(#p4bc3686d20)\">\n",
       "     <!-- circuit-3632051 -->\n",
       "     <g style=\"fill: #ffffff\" transform=\"translate(79.626903 71.047387)scale(0.13 -0.13)\">\n",
       "      <defs>\n",
       "       <path id=\"DejaVuSans-63\" d=\"M 3122 3366 \n",
       "L 3122 2828 \n",
       "Q 2878 2963 2633 3030 \n",
       "Q 2388 3097 2138 3097 \n",
       "Q 1578 3097 1268 2742 \n",
       "Q 959 2388 959 1747 \n",
       "Q 959 1106 1268 751 \n",
       "Q 1578 397 2138 397 \n",
       "Q 2388 397 2633 464 \n",
       "Q 2878 531 3122 666 \n",
       "L 3122 134 \n",
       "Q 2881 22 2623 -34 \n",
       "Q 2366 -91 2075 -91 \n",
       "Q 1284 -91 818 406 \n",
       "Q 353 903 353 1747 \n",
       "Q 353 2603 823 3093 \n",
       "Q 1294 3584 2113 3584 \n",
       "Q 2378 3584 2631 3529 \n",
       "Q 2884 3475 3122 3366 \n",
       "z\n",
       "\" transform=\"scale(0.015625)\"/>\n",
       "       <path id=\"DejaVuSans-69\" d=\"M 603 3500 \n",
       "L 1178 3500 \n",
       "L 1178 0 \n",
       "L 603 0 \n",
       "L 603 3500 \n",
       "z\n",
       "M 603 4863 \n",
       "L 1178 4863 \n",
       "L 1178 4134 \n",
       "L 603 4134 \n",
       "L 603 4863 \n",
       "z\n",
       "\" transform=\"scale(0.015625)\"/>\n",
       "       <path id=\"DejaVuSans-72\" d=\"M 2631 2963 \n",
       "Q 2534 3019 2420 3045 \n",
       "Q 2306 3072 2169 3072 \n",
       "Q 1681 3072 1420 2755 \n",
       "Q 1159 2438 1159 1844 \n",
       "L 1159 0 \n",
       "L 581 0 \n",
       "L 581 3500 \n",
       "L 1159 3500 \n",
       "L 1159 2956 \n",
       "Q 1341 3275 1631 3429 \n",
       "Q 1922 3584 2338 3584 \n",
       "Q 2397 3584 2469 3576 \n",
       "Q 2541 3569 2628 3553 \n",
       "L 2631 2963 \n",
       "z\n",
       "\" transform=\"scale(0.015625)\"/>\n",
       "       <path id=\"DejaVuSans-75\" d=\"M 544 1381 \n",
       "L 544 3500 \n",
       "L 1119 3500 \n",
       "L 1119 1403 \n",
       "Q 1119 906 1312 657 \n",
       "Q 1506 409 1894 409 \n",
       "Q 2359 409 2629 706 \n",
       "Q 2900 1003 2900 1516 \n",
       "L 2900 3500 \n",
       "L 3475 3500 \n",
       "L 3475 0 \n",
       "L 2900 0 \n",
       "L 2900 538 \n",
       "Q 2691 219 2414 64 \n",
       "Q 2138 -91 1772 -91 \n",
       "Q 1169 -91 856 284 \n",
       "Q 544 659 544 1381 \n",
       "z\n",
       "M 1991 3584 \n",
       "L 1991 3584 \n",
       "z\n",
       "\" transform=\"scale(0.015625)\"/>\n",
       "       <path id=\"DejaVuSans-74\" d=\"M 1172 4494 \n",
       "L 1172 3500 \n",
       "L 2356 3500 \n",
       "L 2356 3053 \n",
       "L 1172 3053 \n",
       "L 1172 1153 \n",
       "Q 1172 725 1289 603 \n",
       "Q 1406 481 1766 481 \n",
       "L 2356 481 \n",
       "L 2356 0 \n",
       "L 1766 0 \n",
       "Q 1100 0 847 248 \n",
       "Q 594 497 594 1153 \n",
       "L 594 3053 \n",
       "L 172 3053 \n",
       "L 172 3500 \n",
       "L 594 3500 \n",
       "L 594 4494 \n",
       "L 1172 4494 \n",
       "z\n",
       "\" transform=\"scale(0.015625)\"/>\n",
       "       <path id=\"DejaVuSans-2d\" d=\"M 313 2009 \n",
       "L 1997 2009 \n",
       "L 1997 1497 \n",
       "L 313 1497 \n",
       "L 313 2009 \n",
       "z\n",
       "\" transform=\"scale(0.015625)\"/>\n",
       "       <path id=\"DejaVuSans-33\" d=\"M 2597 2516 \n",
       "Q 3050 2419 3304 2112 \n",
       "Q 3559 1806 3559 1356 \n",
       "Q 3559 666 3084 287 \n",
       "Q 2609 -91 1734 -91 \n",
       "Q 1441 -91 1130 -33 \n",
       "Q 819 25 488 141 \n",
       "L 488 750 \n",
       "Q 750 597 1062 519 \n",
       "Q 1375 441 1716 441 \n",
       "Q 2309 441 2620 675 \n",
       "Q 2931 909 2931 1356 \n",
       "Q 2931 1769 2642 2001 \n",
       "Q 2353 2234 1838 2234 \n",
       "L 1294 2234 \n",
       "L 1294 2753 \n",
       "L 1863 2753 \n",
       "Q 2328 2753 2575 2939 \n",
       "Q 2822 3125 2822 3475 \n",
       "Q 2822 3834 2567 4026 \n",
       "Q 2313 4219 1838 4219 \n",
       "Q 1578 4219 1281 4162 \n",
       "Q 984 4106 628 3988 \n",
       "L 628 4550 \n",
       "Q 988 4650 1302 4700 \n",
       "Q 1616 4750 1894 4750 \n",
       "Q 2613 4750 3031 4423 \n",
       "Q 3450 4097 3450 3541 \n",
       "Q 3450 3153 3228 2886 \n",
       "Q 3006 2619 2597 2516 \n",
       "z\n",
       "\" transform=\"scale(0.015625)\"/>\n",
       "       <path id=\"DejaVuSans-36\" d=\"M 2113 2584 \n",
       "Q 1688 2584 1439 2293 \n",
       "Q 1191 2003 1191 1497 \n",
       "Q 1191 994 1439 701 \n",
       "Q 1688 409 2113 409 \n",
       "Q 2538 409 2786 701 \n",
       "Q 3034 994 3034 1497 \n",
       "Q 3034 2003 2786 2293 \n",
       "Q 2538 2584 2113 2584 \n",
       "z\n",
       "M 3366 4563 \n",
       "L 3366 3988 \n",
       "Q 3128 4100 2886 4159 \n",
       "Q 2644 4219 2406 4219 \n",
       "Q 1781 4219 1451 3797 \n",
       "Q 1122 3375 1075 2522 \n",
       "Q 1259 2794 1537 2939 \n",
       "Q 1816 3084 2150 3084 \n",
       "Q 2853 3084 3261 2657 \n",
       "Q 3669 2231 3669 1497 \n",
       "Q 3669 778 3244 343 \n",
       "Q 2819 -91 2113 -91 \n",
       "Q 1303 -91 875 529 \n",
       "Q 447 1150 447 2328 \n",
       "Q 447 3434 972 4092 \n",
       "Q 1497 4750 2381 4750 \n",
       "Q 2619 4750 2861 4703 \n",
       "Q 3103 4656 3366 4563 \n",
       "z\n",
       "\" transform=\"scale(0.015625)\"/>\n",
       "       <path id=\"DejaVuSans-32\" d=\"M 1228 531 \n",
       "L 3431 531 \n",
       "L 3431 0 \n",
       "L 469 0 \n",
       "L 469 531 \n",
       "Q 828 903 1448 1529 \n",
       "Q 2069 2156 2228 2338 \n",
       "Q 2531 2678 2651 2914 \n",
       "Q 2772 3150 2772 3378 \n",
       "Q 2772 3750 2511 3984 \n",
       "Q 2250 4219 1831 4219 \n",
       "Q 1534 4219 1204 4116 \n",
       "Q 875 4013 500 3803 \n",
       "L 500 4441 \n",
       "Q 881 4594 1212 4672 \n",
       "Q 1544 4750 1819 4750 \n",
       "Q 2544 4750 2975 4387 \n",
       "Q 3406 4025 3406 3419 \n",
       "Q 3406 3131 3298 2873 \n",
       "Q 3191 2616 2906 2266 \n",
       "Q 2828 2175 2409 1742 \n",
       "Q 1991 1309 1228 531 \n",
       "z\n",
       "\" transform=\"scale(0.015625)\"/>\n",
       "       <path id=\"DejaVuSans-35\" d=\"M 691 4666 \n",
       "L 3169 4666 \n",
       "L 3169 4134 \n",
       "L 1269 4134 \n",
       "L 1269 2991 \n",
       "Q 1406 3038 1543 3061 \n",
       "Q 1681 3084 1819 3084 \n",
       "Q 2600 3084 3056 2656 \n",
       "Q 3513 2228 3513 1497 \n",
       "Q 3513 744 3044 326 \n",
       "Q 2575 -91 1722 -91 \n",
       "Q 1428 -91 1123 -41 \n",
       "Q 819 9 494 109 \n",
       "L 494 744 \n",
       "Q 775 591 1075 516 \n",
       "Q 1375 441 1709 441 \n",
       "Q 2250 441 2565 725 \n",
       "Q 2881 1009 2881 1497 \n",
       "Q 2881 1984 2565 2268 \n",
       "Q 2250 2553 1709 2553 \n",
       "Q 1456 2553 1204 2497 \n",
       "Q 953 2441 691 2322 \n",
       "L 691 4666 \n",
       "z\n",
       "\" transform=\"scale(0.015625)\"/>\n",
       "      </defs>\n",
       "      <use xlink:href=\"#DejaVuSans-63\"/>\n",
       "      <use xlink:href=\"#DejaVuSans-69\" x=\"54.980469\"/>\n",
       "      <use xlink:href=\"#DejaVuSans-72\" x=\"82.763672\"/>\n",
       "      <use xlink:href=\"#DejaVuSans-63\" x=\"121.626953\"/>\n",
       "      <use xlink:href=\"#DejaVuSans-75\" x=\"176.607422\"/>\n",
       "      <use xlink:href=\"#DejaVuSans-69\" x=\"239.986328\"/>\n",
       "      <use xlink:href=\"#DejaVuSans-74\" x=\"267.769531\"/>\n",
       "      <use xlink:href=\"#DejaVuSans-2d\" x=\"306.978516\"/>\n",
       "      <use xlink:href=\"#DejaVuSans-33\" x=\"343.0625\"/>\n",
       "      <use xlink:href=\"#DejaVuSans-36\" x=\"406.685547\"/>\n",
       "      <use xlink:href=\"#DejaVuSans-33\" x=\"470.308594\"/>\n",
       "      <use xlink:href=\"#DejaVuSans-32\" x=\"533.931641\"/>\n",
       "      <use xlink:href=\"#DejaVuSans-30\" x=\"597.554688\"/>\n",
       "      <use xlink:href=\"#DejaVuSans-35\" x=\"661.177734\"/>\n",
       "      <use xlink:href=\"#DejaVuSans-31\" x=\"724.800781\"/>\n",
       "     </g>\n",
       "    </g>\n",
       "   </g>\n",
       "   <g id=\"text_6\">\n",
       "    <g clip-path=\"url(#p4bc3686d20)\">\n",
       "     <!-- 0 -->\n",
       "     <g style=\"fill: #ffffff\" transform=\"translate(208.213655 47.870387)scale(0.13 -0.13)\">\n",
       "      <use xlink:href=\"#DejaVuSans-30\"/>\n",
       "     </g>\n",
       "    </g>\n",
       "   </g>\n",
       "   <g id=\"text_7\">\n",
       "    <g clip-path=\"url(#p4bc3686d20)\">\n",
       "     <!-- 1 -->\n",
       "     <g style=\"fill: #ffffff\" transform=\"translate(208.213655 94.224386)scale(0.13 -0.13)\">\n",
       "      <use xlink:href=\"#DejaVuSans-31\"/>\n",
       "     </g>\n",
       "    </g>\n",
       "   </g>\n",
       "   <g id=\"text_8\">\n",
       "    <g clip-path=\"url(#p4bc3686d20)\">\n",
       "     <!-- circuit-3632051 -->\n",
       "     <g style=\"fill: #ffffff\" transform=\"translate(218.688901 71.047387)scale(0.13 -0.13)\">\n",
       "      <use xlink:href=\"#DejaVuSans-63\"/>\n",
       "      <use xlink:href=\"#DejaVuSans-69\" x=\"54.980469\"/>\n",
       "      <use xlink:href=\"#DejaVuSans-72\" x=\"82.763672\"/>\n",
       "      <use xlink:href=\"#DejaVuSans-63\" x=\"121.626953\"/>\n",
       "      <use xlink:href=\"#DejaVuSans-75\" x=\"176.607422\"/>\n",
       "      <use xlink:href=\"#DejaVuSans-69\" x=\"239.986328\"/>\n",
       "      <use xlink:href=\"#DejaVuSans-74\" x=\"267.769531\"/>\n",
       "      <use xlink:href=\"#DejaVuSans-2d\" x=\"306.978516\"/>\n",
       "      <use xlink:href=\"#DejaVuSans-33\" x=\"343.0625\"/>\n",
       "      <use xlink:href=\"#DejaVuSans-36\" x=\"406.685547\"/>\n",
       "      <use xlink:href=\"#DejaVuSans-33\" x=\"470.308594\"/>\n",
       "      <use xlink:href=\"#DejaVuSans-32\" x=\"533.931641\"/>\n",
       "      <use xlink:href=\"#DejaVuSans-30\" x=\"597.554688\"/>\n",
       "      <use xlink:href=\"#DejaVuSans-35\" x=\"661.177734\"/>\n",
       "      <use xlink:href=\"#DejaVuSans-31\" x=\"724.800781\"/>\n",
       "     </g>\n",
       "    </g>\n",
       "   </g>\n",
       "  </g>\n",
       " </g>\n",
       " <defs>\n",
       "  <clipPath id=\"p4bc3686d20\">\n",
       "   <rect x=\"7.2\" y=\"7.2\" width=\"334.585022\" height=\"111.249599\"/>\n",
       "  </clipPath>\n",
       " </defs>\n",
       "</svg>\n"
      ],
      "text/plain": [
       "<Figure size 603.508x200.667 with 1 Axes>"
      ]
     },
     "execution_count": 23,
     "metadata": {},
     "output_type": "execute_result"
    }
   ],
   "source": [
    "qinf.G.power(2).draw(output=\"mpl\")"
   ]
  },
  {
   "cell_type": "code",
   "execution_count": 17,
   "metadata": {},
   "outputs": [
    {
     "data": {
      "text/plain": [
       "'stopped with max iteration=10000'"
      ]
     },
     "execution_count": 17,
     "metadata": {},
     "output_type": "execute_result"
    }
   ],
   "source": [
    "mc.messageApproximationScheme()"
   ]
  },
  {
   "cell_type": "code",
   "execution_count": null,
   "metadata": {},
   "outputs": [],
   "source": []
  }
 ],
 "metadata": {
  "kernelspec": {
   "display_name": "Python 3",
   "language": "python",
   "name": "python3"
  },
  "language_info": {
   "codemirror_mode": {
    "name": "ipython",
    "version": 3
   },
   "file_extension": ".py",
   "mimetype": "text/x-python",
   "name": "python",
   "nbconvert_exporter": "python",
   "pygments_lexer": "ipython3",
   "version": "3.10.12"
  }
 },
 "nbformat": 4,
 "nbformat_minor": 2
}
