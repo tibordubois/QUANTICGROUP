{
 "cells": [
  {
   "cell_type": "code",
   "execution_count": 2,
   "metadata": {},
   "outputs": [
    {
     "name": "stderr",
     "output_type": "stream",
     "text": [
      "/usr/lib/python3/dist-packages/scipy/__init__.py:146: UserWarning: A NumPy version >=1.17.3 and <1.25.0 is required for this version of SciPy (detected version 1.26.3\n",
      "  warnings.warn(f\"A NumPy version >={np_minversion} and <{np_maxversion}\"\n"
     ]
    }
   ],
   "source": [
    "%load_ext autoreload\n",
    "%autoreload 2\n",
    "\n",
    "import sys\n",
    "if sys.path[-1] != \"..\": sys.path.append(\"..\")\n",
    "\n",
    "from source.qBN.qBNMC import qBayesNet\n",
    "from source.qBN.qBNRejection import qInference\n",
    "from source.qBN.qBNRT import qRuntime\n",
    "\n",
    "import pyAgrum as gum\n",
    "import pyAgrum.lib.notebook as gnb\n",
    "\n",
    "import random"
   ]
  },
  {
   "cell_type": "code",
   "execution_count": 3,
   "metadata": {},
   "outputs": [],
   "source": [
    "from qiskit_ibm_runtime import QiskitRuntimeService\n",
    "\n",
    "service = QiskitRuntimeService(\n",
    "    channel='ibm_quantum',\n",
    "    instance='ibm-q/open/main',\n",
    "    token='1b6910ff55c1d3853e5c8e2ca2b0dbbc3b415fb897d26a6c272c63254527581c824aea1180585f706ab8263318f3c553549d136ca32952ef401abb54011eee33'\n",
    ")\n",
    "\n",
    "backend = service.get_backend(\"ibm_brisbane\")"
   ]
  },
  {
   "cell_type": "code",
   "execution_count": 97,
   "metadata": {},
   "outputs": [],
   "source": [
    "alarm_bn = gum.loadBN(\"alarm.dsl\")"
   ]
  },
  {
   "cell_type": "code",
   "execution_count": 108,
   "metadata": {},
   "outputs": [],
   "source": [
    "def getRandomBinaryCPT(num_parents):\n",
    "    if num_parents <= 0:\n",
    "        r = random.random()\n",
    "        return [r, 1-r]\n",
    "    else:\n",
    "        return [getRandomBinaryCPT(num_parents-1), getRandomBinaryCPT(num_parents-1)]"
   ]
  },
  {
   "cell_type": "code",
   "execution_count": 112,
   "metadata": {},
   "outputs": [],
   "source": [
    "def randomChoice(elements, num_choice):\n",
    "    res = set()\n",
    "    for i in range(num_choice):\n",
    "        chosen = random.choice(list(elements))\n",
    "        elements.discard(chosen)\n",
    "        res.add(chosen)\n",
    "    return res"
   ]
  },
  {
   "cell_type": "code",
   "execution_count": 109,
   "metadata": {},
   "outputs": [],
   "source": [
    "binary_bn = gum.BayesNet('Binary BN')\n",
    "\n",
    "for n_id in alarm_bn.nodes():\n",
    "    binary_bn.add(gum.LabelizedVariable(alarm_bn.variable(n_id).name(), alarm_bn.variable(n_id).description(), 2))\n",
    "\n",
    "for tail, head in alarm_bn.arcs():\n",
    "    binary_bn.addArc(tail, head)\n",
    "\n",
    "for n_id in alarm_bn.nodes():\n",
    "    binary_bn.cpt(n_id)[:] = getRandomBinaryCPT(len(binary_bn.parents(n_id)))"
   ]
  },
  {
   "cell_type": "code",
   "execution_count": 110,
   "metadata": {},
   "outputs": [
    {
     "data": {
      "text/html": [
       "<table style=\"border:1px solid black;border-collapse: collapse;\">\n",
       "<tr><th colspan='4'></th>\n",
       "      <th colspan='2' style='border:1px solid black;color:black;background-color:#808080;'><center>CATECHOL</center>\n",
       "      </th></tr>\n",
       "<tr><th style='border:1px solid black;color:black;background-color:#808080'><center>INSUFFANESTH</center></th><th style='border:1px solid black;color:black;background-color:#808080'><center>TPR</center></th><th style='border:1px solid black;color:black;background-color:#808080'><center>SAO2</center></th><th style='border:1px solid black;color:black;background-color:#808080'><center>ARTCO2</center></th><th style='border:1px solid black;border-bottom-style: double;color:black;background-color:#BBBBBB'>\n",
       "      <center>0</center></th><th style='border:1px solid black;border-bottom-style: double;color:black;background-color:#BBBBBB'>\n",
       "      <center>1</center></th></tr>\n",
       "<tr><th style='border:1px solid black;color:black;background-color:#BBBBBB;' rowspan = '8'>\n",
       "            <center>0</center></th><th style='border:1px solid black;color:black;background-color:#BBBBBB;' rowspan = '4'>\n",
       "            <center>0</center></th><th style='border:1px solid black;color:black;background-color:#BBBBBB;' rowspan = '2'>\n",
       "            <center>0</center></th><th style='border:1px solid black;color:black;background-color:#BBBBBB'><center>0</center></th><td style='color:black;background-color:#d9a464;text-align:right;padding: 3px;'>0.2954</td><td style='color:black;background-color:#a4d964;text-align:right;padding: 3px;'>0.7046</td></tr>\n",
       "<tr><th style='border:1px solid black;color:black;background-color:#BBBBBB'><center>1</center></th><td style='color:black;background-color:#bcc164;text-align:right;padding: 3px;'>0.5199</td><td style='color:black;background-color:#c1bc64;text-align:right;padding: 3px;'>0.4801</td></tr>\n",
       "<tr><th style='border:1px solid black;color:black;background-color:#BBBBBB;' rowspan = '2'>\n",
       "            <center>1</center></th><th style='border:1px solid black;color:black;background-color:#BBBBBB'><center>0</center></th><td style='color:black;background-color:#f98464;text-align:right;padding: 3px;'>0.0402</td><td style='color:black;background-color:#84f964;text-align:right;padding: 3px;'>0.9598</td></tr>\n",
       "<tr><th style='border:1px solid black;color:black;background-color:#BBBBBB'><center>1</center></th><td style='color:black;background-color:#c8b564;text-align:right;padding: 3px;'>0.4287</td><td style='color:black;background-color:#b5c864;text-align:right;padding: 3px;'>0.5713</td></tr>\n",
       "<tr><th style='border:1px solid black;color:black;background-color:#BBBBBB;' rowspan = '4'>\n",
       "            <center>1</center></th><th style='border:1px solid black;color:black;background-color:#BBBBBB;' rowspan = '2'>\n",
       "            <center>0</center></th><th style='border:1px solid black;color:black;background-color:#BBBBBB'><center>0</center></th><td style='color:black;background-color:#c6b764;text-align:right;padding: 3px;'>0.4390</td><td style='color:black;background-color:#b7c664;text-align:right;padding: 3px;'>0.5610</td></tr>\n",
       "<tr><th style='border:1px solid black;color:black;background-color:#BBBBBB'><center>1</center></th><td style='color:black;background-color:#9edf64;text-align:right;padding: 3px;'>0.7525</td><td style='color:black;background-color:#df9e64;text-align:right;padding: 3px;'>0.2475</td></tr>\n",
       "<tr><th style='border:1px solid black;color:black;background-color:#BBBBBB;' rowspan = '2'>\n",
       "            <center>1</center></th><th style='border:1px solid black;color:black;background-color:#BBBBBB'><center>0</center></th><td style='color:black;background-color:#dda064;text-align:right;padding: 3px;'>0.2647</td><td style='color:black;background-color:#a0dd64;text-align:right;padding: 3px;'>0.7353</td></tr>\n",
       "<tr><th style='border:1px solid black;color:black;background-color:#BBBBBB'><center>1</center></th><td style='color:black;background-color:#e39a64;text-align:right;padding: 3px;'>0.2178</td><td style='color:black;background-color:#9ae364;text-align:right;padding: 3px;'>0.7822</td></tr>\n",
       "<tr><th style='border:1px solid black;color:black;background-color:#BBBBBB;' rowspan = '8'>\n",
       "            <center>1</center></th><th style='border:1px solid black;color:black;background-color:#BBBBBB;' rowspan = '4'>\n",
       "            <center>0</center></th><th style='border:1px solid black;color:black;background-color:#BBBBBB;' rowspan = '2'>\n",
       "            <center>0</center></th><th style='border:1px solid black;color:black;background-color:#BBBBBB'><center>0</center></th><td style='color:black;background-color:#eb9264;text-align:right;padding: 3px;'>0.1486</td><td style='color:black;background-color:#92eb64;text-align:right;padding: 3px;'>0.8514</td></tr>\n",
       "<tr><th style='border:1px solid black;color:black;background-color:#BBBBBB'><center>1</center></th><td style='color:black;background-color:#81fc64;text-align:right;padding: 3px;'>0.9831</td><td style='color:black;background-color:#fc8164;text-align:right;padding: 3px;'>0.0169</td></tr>\n",
       "<tr><th style='border:1px solid black;color:black;background-color:#BBBBBB;' rowspan = '2'>\n",
       "            <center>1</center></th><th style='border:1px solid black;color:black;background-color:#BBBBBB'><center>0</center></th><td style='color:black;background-color:#fe7f64;text-align:right;padding: 3px;'>0.0061</td><td style='color:black;background-color:#7ffe64;text-align:right;padding: 3px;'>0.9939</td></tr>\n",
       "<tr><th style='border:1px solid black;color:black;background-color:#BBBBBB'><center>1</center></th><td style='color:black;background-color:#b5c864;text-align:right;padding: 3px;'>0.5742</td><td style='color:black;background-color:#c8b564;text-align:right;padding: 3px;'>0.4258</td></tr>\n",
       "<tr><th style='border:1px solid black;color:black;background-color:#BBBBBB;' rowspan = '4'>\n",
       "            <center>1</center></th><th style='border:1px solid black;color:black;background-color:#BBBBBB;' rowspan = '2'>\n",
       "            <center>0</center></th><th style='border:1px solid black;color:black;background-color:#BBBBBB'><center>0</center></th><td style='color:black;background-color:#9edf64;text-align:right;padding: 3px;'>0.7567</td><td style='color:black;background-color:#df9e64;text-align:right;padding: 3px;'>0.2433</td></tr>\n",
       "<tr><th style='border:1px solid black;color:black;background-color:#BBBBBB'><center>1</center></th><td style='color:black;background-color:#ea9364;text-align:right;padding: 3px;'>0.1587</td><td style='color:black;background-color:#93ea64;text-align:right;padding: 3px;'>0.8413</td></tr>\n",
       "<tr><th style='border:1px solid black;color:black;background-color:#BBBBBB;' rowspan = '2'>\n",
       "            <center>1</center></th><th style='border:1px solid black;color:black;background-color:#BBBBBB'><center>0</center></th><td style='color:black;background-color:#9fde64;text-align:right;padding: 3px;'>0.7499</td><td style='color:black;background-color:#de9f64;text-align:right;padding: 3px;'>0.2501</td></tr>\n",
       "<tr><th style='border:1px solid black;color:black;background-color:#BBBBBB'><center>1</center></th><td style='color:black;background-color:#93ea64;text-align:right;padding: 3px;'>0.8366</td><td style='color:black;background-color:#ea9364;text-align:right;padding: 3px;'>0.1634</td></tr>\n",
       "</table>"
      ],
      "text/plain": [
       "(pyAgrum.Potential<double>@0x5566a5c32780) \n",
       "                           ||  CATECHOL         |\n",
       "ARTCO2|SAO2  |TPR   |INSUFF||0        |1        |\n",
       "------|------|------|------||---------|---------|\n",
       "0     |0     |0     |0     || 0.2954  | 0.7046  |\n",
       "1     |0     |0     |0     || 0.5199  | 0.4801  |\n",
       "0     |1     |0     |0     || 0.0402  | 0.9598  |\n",
       "1     |1     |0     |0     || 0.4287  | 0.5713  |\n",
       "0     |0     |1     |0     || 0.4390  | 0.5610  |\n",
       "1     |0     |1     |0     || 0.7525  | 0.2475  |\n",
       "[...4 more line(s) ...]\n",
       "0     |1     |0     |1     || 0.0061  | 0.9939  |\n",
       "1     |1     |0     |1     || 0.5742  | 0.4258  |\n",
       "0     |0     |1     |1     || 0.7567  | 0.2433  |\n",
       "1     |0     |1     |1     || 0.1587  | 0.8413  |\n",
       "0     |1     |1     |1     || 0.7499  | 0.2501  |\n",
       "1     |1     |1     |1     || 0.8366  | 0.1634  |"
      ]
     },
     "execution_count": 110,
     "metadata": {},
     "output_type": "execute_result"
    }
   ],
   "source": [
    "binary_bn.cpt(30)"
   ]
  },
  {
   "cell_type": "code",
   "execution_count": 190,
   "metadata": {},
   "outputs": [
    {
     "data": {
      "text/plain": [
       "2046.6576"
      ]
     },
     "execution_count": 190,
     "metadata": {},
     "output_type": "execute_result"
    }
   ],
   "source": [
    "import numpy as np\n",
    "e = np.eye(int(4.524e4))\n",
    "e.size/1e6"
   ]
  },
  {
   "cell_type": "code",
   "execution_count": 185,
   "metadata": {},
   "outputs": [
    {
     "data": {
      "text/plain": [
       "2147.483648"
      ]
     },
     "execution_count": 185,
     "metadata": {},
     "output_type": "execute_result"
    }
   ],
   "source": [
    "(2**31)/1e6"
   ]
  },
  {
   "cell_type": "code",
   "execution_count": 195,
   "metadata": {},
   "outputs": [
    {
     "data": {
      "text/plain": [
       "array([[1., 0., 0., ..., 0., 0., 0.],\n",
       "       [0., 1., 0., ..., 0., 0., 0.],\n",
       "       [0., 0., 1., ..., 0., 0., 0.],\n",
       "       ...,\n",
       "       [0., 0., 0., ..., 1., 0., 0.],\n",
       "       [0., 0., 0., ..., 0., 1., 0.],\n",
       "       [0., 0., 0., ..., 0., 0., 1.]])"
      ]
     },
     "execution_count": 195,
     "metadata": {},
     "output_type": "execute_result"
    }
   ],
   "source": [
    "np.eye(int(2**15))"
   ]
  },
  {
   "cell_type": "code",
   "execution_count": 3,
   "metadata": {},
   "outputs": [],
   "source": [
    "bn0 = gum.BayesNet(\"bn\")\n",
    "for i in range(10):\n",
    "    bn0.add(gum.LabelizedVariable(str(i),str(i),2))"
   ]
  },
  {
   "cell_type": "code",
   "execution_count": 5,
   "metadata": {},
   "outputs": [],
   "source": [
    "qbn0 = qBayesNet(bn0)\n",
    "qc0 = qbn0.buildCircuit()\n",
    "qinf0 = qInference(qbn0)\n",
    "qinf0.setEvidence({0:0})\n",
    "qinf0.getGates()"
   ]
  },
  {
   "cell_type": "code",
   "execution_count": 94,
   "metadata": {},
   "outputs": [],
   "source": [
    "qbn = qBayesNet(binary_bn)\n",
    "qc = qbn.buildCircuit(add_measure=True)"
   ]
  },
  {
   "cell_type": "code",
   "execution_count": 148,
   "metadata": {},
   "outputs": [
    {
     "name": "stdout",
     "output_type": "stream",
     "text": [
      "Evidence: {1: 1, 3: 0, 5: 1, 8: 0, 14: 0, 15: 0, 20: 0, 23: 1, 24: 1, 31: 0}, Target: {12}\n",
      "Evidence probability (10 values): 6.952018710175363e-05\n"
     ]
    },
    {
     "ename": "ValueError",
     "evalue": "array is too big; `arr.size * arr.dtype.itemsize` is larger than the maximum possible size.",
     "output_type": "error",
     "traceback": [
      "\u001b[0;31m---------------------------------------------------------------------------\u001b[0m",
      "\u001b[0;31mValueError\u001b[0m                                Traceback (most recent call last)",
      "Cell \u001b[0;32mIn[148], line 24\u001b[0m\n\u001b[1;32m     22\u001b[0m qinf\u001b[38;5;241m.\u001b[39msetEvidence(evidence)\n\u001b[1;32m     23\u001b[0m qinf\u001b[38;5;241m.\u001b[39msetMaxIter(max_iter)\n\u001b[0;32m---> 24\u001b[0m \u001b[43mqinf\u001b[49m\u001b[38;5;241;43m.\u001b[39;49m\u001b[43mmakeInference\u001b[49m\u001b[43m(\u001b[49m\u001b[43m)\u001b[49m\n\u001b[1;32m     25\u001b[0m qinf_run_time \u001b[38;5;241m=\u001b[39m qrt\u001b[38;5;241m.\u001b[39mrejectionSamplingRuntime()\n\u001b[1;32m     26\u001b[0m qinf_max_error \u001b[38;5;241m=\u001b[39m (qinf\u001b[38;5;241m.\u001b[39mposterior(target)\u001b[38;5;241m.\u001b[39mtoarray() \u001b[38;5;241m-\u001b[39m ie\u001b[38;5;241m.\u001b[39mposterior(target)\u001b[38;5;241m.\u001b[39mtoarray())\u001b[38;5;241m.\u001b[39mmax()\n",
      "File \u001b[0;32m~/Desktop/ProjetQuanticBN/github/QUANTICGROUP/tutorials/../source/qBN/qBNRejection.py:348\u001b[0m, in \u001b[0;36mqInference.makeInference\u001b[0;34m(self)\u001b[0m\n\u001b[1;32m    336\u001b[0m \u001b[38;5;28;01mdef\u001b[39;00m \u001b[38;5;21mmakeInference\u001b[39m(\u001b[38;5;28mself\u001b[39m) \u001b[38;5;241m-\u001b[39m\u001b[38;5;241m>\u001b[39m \u001b[38;5;28mdict\u001b[39m[Union[\u001b[38;5;28mstr\u001b[39m, \u001b[38;5;28mint\u001b[39m]: \u001b[38;5;28mlist\u001b[39m[\u001b[38;5;28mfloat\u001b[39m]]:\n\u001b[1;32m    337\u001b[0m \u001b[38;5;250m    \u001b[39m\u001b[38;5;124;03m\"\"\"\u001b[39;00m\n\u001b[1;32m    338\u001b[0m \u001b[38;5;124;03m    Performs rejection sampling on Quantum Circuit representation of\u001b[39;00m\n\u001b[1;32m    339\u001b[0m \u001b[38;5;124;03m    Baysian Network\u001b[39;00m\n\u001b[0;32m   (...)\u001b[0m\n\u001b[1;32m    345\u001b[0m \n\u001b[1;32m    346\u001b[0m \u001b[38;5;124;03m    \"\"\"\u001b[39;00m\n\u001b[0;32m--> 348\u001b[0m     \u001b[38;5;28;01mif\u001b[39;00m \u001b[38;5;28mself\u001b[39m\u001b[38;5;241m.\u001b[39mA \u001b[38;5;129;01mis\u001b[39;00m \u001b[38;5;28;01mNone\u001b[39;00m \u001b[38;5;129;01mor\u001b[39;00m \u001b[38;5;28mself\u001b[39m\u001b[38;5;241m.\u001b[39mG \u001b[38;5;129;01mis\u001b[39;00m \u001b[38;5;28;01mNone\u001b[39;00m: \u001b[38;5;28;43mself\u001b[39;49m\u001b[38;5;241;43m.\u001b[39;49m\u001b[43mgetGates\u001b[49m\u001b[43m(\u001b[49m\u001b[43m)\u001b[49m\n\u001b[1;32m    350\u001b[0m     \u001b[38;5;28mself\u001b[39m\u001b[38;5;241m.\u001b[39mlog \u001b[38;5;241m=\u001b[39m {\u001b[38;5;124m\"\u001b[39m\u001b[38;5;124mA\u001b[39m\u001b[38;5;124m\"\u001b[39m: \u001b[38;5;241m0\u001b[39m, \u001b[38;5;124m\"\u001b[39m\u001b[38;5;124mG\u001b[39m\u001b[38;5;124m\"\u001b[39m: \u001b[38;5;241m0\u001b[39m}\n\u001b[1;32m    352\u001b[0m     res \u001b[38;5;241m=\u001b[39m {node: [\u001b[38;5;241m0\u001b[39m] \u001b[38;5;241m*\u001b[39m \u001b[38;5;28mself\u001b[39m\u001b[38;5;241m.\u001b[39mqbn\u001b[38;5;241m.\u001b[39mbn\u001b[38;5;241m.\u001b[39mvariable(node)\u001b[38;5;241m.\u001b[39mdomainSize()\n\u001b[1;32m    353\u001b[0m            \u001b[38;5;28;01mfor\u001b[39;00m node \u001b[38;5;129;01min\u001b[39;00m \u001b[38;5;28mself\u001b[39m\u001b[38;5;241m.\u001b[39mqbn\u001b[38;5;241m.\u001b[39mn_qb_map\u001b[38;5;241m.\u001b[39mkeys()}\n",
      "File \u001b[0;32m~/Desktop/ProjetQuanticBN/github/QUANTICGROUP/tutorials/../source/qBN/qBNRejection.py:375\u001b[0m, in \u001b[0;36mqInference.getGates\u001b[0;34m(self)\u001b[0m\n\u001b[1;32m    371\u001b[0m evidence_n_id \u001b[38;5;241m=\u001b[39m {\u001b[38;5;28mself\u001b[39m\u001b[38;5;241m.\u001b[39mqbn\u001b[38;5;241m.\u001b[39mbn\u001b[38;5;241m.\u001b[39mnodeId(\u001b[38;5;28mself\u001b[39m\u001b[38;5;241m.\u001b[39mqbn\u001b[38;5;241m.\u001b[39mbn\u001b[38;5;241m.\u001b[39mvariable(key)): val\n\u001b[1;32m    372\u001b[0m                  \u001b[38;5;28;01mfor\u001b[39;00m key, val \u001b[38;5;129;01min\u001b[39;00m \u001b[38;5;28mself\u001b[39m\u001b[38;5;241m.\u001b[39mevidence\u001b[38;5;241m.\u001b[39mitems()}\n\u001b[1;32m    373\u001b[0m evidence_qbs \u001b[38;5;241m=\u001b[39m \u001b[38;5;28mself\u001b[39m\u001b[38;5;241m.\u001b[39mgetEvidenceQuBits(evidence_n_id)\n\u001b[0;32m--> 375\u001b[0m \u001b[38;5;28mself\u001b[39m\u001b[38;5;241m.\u001b[39mA \u001b[38;5;241m=\u001b[39m \u001b[38;5;28;43mself\u001b[39;49m\u001b[38;5;241;43m.\u001b[39;49m\u001b[43mgetA\u001b[49m\u001b[43m(\u001b[49m\u001b[43m)\u001b[49m\n\u001b[1;32m    376\u001b[0m \u001b[38;5;28mself\u001b[39m\u001b[38;5;241m.\u001b[39mG \u001b[38;5;241m=\u001b[39m \u001b[38;5;28mself\u001b[39m\u001b[38;5;241m.\u001b[39mgetG(\u001b[38;5;28mself\u001b[39m\u001b[38;5;241m.\u001b[39mA, evidence_qbs\u001b[38;5;241m=\u001b[39mevidence_qbs)\n",
      "File \u001b[0;32m~/Desktop/ProjetQuanticBN/github/QUANTICGROUP/tutorials/../source/qBN/qBNRejection.py:78\u001b[0m, in \u001b[0;36mqInference.getA\u001b[0;34m(self)\u001b[0m\n\u001b[1;32m     75\u001b[0m circuit \u001b[38;5;241m=\u001b[39m \u001b[38;5;28mself\u001b[39m\u001b[38;5;241m.\u001b[39mqbn\u001b[38;5;241m.\u001b[39mbuildCircuit(add_measure\u001b[38;5;241m=\u001b[39m\u001b[38;5;28;01mFalse\u001b[39;00m)\n\u001b[1;32m     76\u001b[0m circuit \u001b[38;5;241m=\u001b[39m circuit\u001b[38;5;241m.\u001b[39mdecompose()\n\u001b[0;32m---> 78\u001b[0m A \u001b[38;5;241m=\u001b[39m \u001b[43mOperator\u001b[49m\u001b[43m(\u001b[49m\u001b[43mcircuit\u001b[49m\u001b[43m)\u001b[49m\n\u001b[1;32m     79\u001b[0m A \u001b[38;5;241m=\u001b[39m A\u001b[38;5;241m.\u001b[39mto_instruction()\n\u001b[1;32m     80\u001b[0m A\u001b[38;5;241m.\u001b[39mlabel \u001b[38;5;241m=\u001b[39m \u001b[38;5;124m'\u001b[39m\u001b[38;5;124mA\u001b[39m\u001b[38;5;124m'\u001b[39m\n",
      "File \u001b[0;32m~/.local/lib/python3.10/site-packages/qiskit/quantum_info/operators/operator.py:97\u001b[0m, in \u001b[0;36mOperator.__init__\u001b[0;34m(self, data, input_dims, output_dims)\u001b[0m\n\u001b[1;32m     88\u001b[0m     \u001b[38;5;28mself\u001b[39m\u001b[38;5;241m.\u001b[39m_data \u001b[38;5;241m=\u001b[39m np\u001b[38;5;241m.\u001b[39masarray(data, dtype\u001b[38;5;241m=\u001b[39m\u001b[38;5;28mcomplex\u001b[39m)\n\u001b[1;32m     89\u001b[0m \u001b[38;5;28;01melif\u001b[39;00m \u001b[38;5;28misinstance\u001b[39m(data, (QuantumCircuit, Operation)):\n\u001b[1;32m     90\u001b[0m     \u001b[38;5;66;03m# If the input is a Terra QuantumCircuit or Operation we\u001b[39;00m\n\u001b[1;32m     91\u001b[0m     \u001b[38;5;66;03m# perform a simulation to construct the unitary operator.\u001b[39;00m\n\u001b[0;32m   (...)\u001b[0m\n\u001b[1;32m     95\u001b[0m     \u001b[38;5;66;03m# conditional gates, measure, or reset will cause an\u001b[39;00m\n\u001b[1;32m     96\u001b[0m     \u001b[38;5;66;03m# exception to be raised.\u001b[39;00m\n\u001b[0;32m---> 97\u001b[0m     \u001b[38;5;28mself\u001b[39m\u001b[38;5;241m.\u001b[39m_data \u001b[38;5;241m=\u001b[39m \u001b[38;5;28;43mself\u001b[39;49m\u001b[38;5;241;43m.\u001b[39;49m\u001b[43m_init_instruction\u001b[49m\u001b[43m(\u001b[49m\u001b[43mdata\u001b[49m\u001b[43m)\u001b[49m\u001b[38;5;241m.\u001b[39mdata\n\u001b[1;32m     98\u001b[0m \u001b[38;5;28;01melif\u001b[39;00m \u001b[38;5;28mhasattr\u001b[39m(data, \u001b[38;5;124m\"\u001b[39m\u001b[38;5;124mto_operator\u001b[39m\u001b[38;5;124m\"\u001b[39m):\n\u001b[1;32m     99\u001b[0m     \u001b[38;5;66;03m# If the data object has a 'to_operator' attribute this is given\u001b[39;00m\n\u001b[1;32m    100\u001b[0m     \u001b[38;5;66;03m# higher preference than the 'to_matrix' method for initializing\u001b[39;00m\n\u001b[1;32m    101\u001b[0m     \u001b[38;5;66;03m# an Operator object.\u001b[39;00m\n\u001b[1;32m    102\u001b[0m     data \u001b[38;5;241m=\u001b[39m data\u001b[38;5;241m.\u001b[39mto_operator()\n",
      "File \u001b[0;32m~/.local/lib/python3.10/site-packages/qiskit/quantum_info/operators/operator.py:703\u001b[0m, in \u001b[0;36mOperator._init_instruction\u001b[0;34m(cls, instruction)\u001b[0m\n\u001b[1;32m    700\u001b[0m     \u001b[38;5;28;01mreturn\u001b[39;00m Operator(np\u001b[38;5;241m.\u001b[39marray(instruction, dtype\u001b[38;5;241m=\u001b[39m\u001b[38;5;28mcomplex\u001b[39m))\n\u001b[1;32m    702\u001b[0m dimension \u001b[38;5;241m=\u001b[39m \u001b[38;5;241m2\u001b[39m\u001b[38;5;241m*\u001b[39m\u001b[38;5;241m*\u001b[39minstruction\u001b[38;5;241m.\u001b[39mnum_qubits\n\u001b[0;32m--> 703\u001b[0m op \u001b[38;5;241m=\u001b[39m Operator(\u001b[43mnp\u001b[49m\u001b[38;5;241;43m.\u001b[39;49m\u001b[43meye\u001b[49m\u001b[43m(\u001b[49m\u001b[43mdimension\u001b[49m\u001b[43m)\u001b[49m)\n\u001b[1;32m    704\u001b[0m \u001b[38;5;66;03m# Convert circuit to an instruction\u001b[39;00m\n\u001b[1;32m    705\u001b[0m \u001b[38;5;28;01mif\u001b[39;00m \u001b[38;5;28misinstance\u001b[39m(instruction, QuantumCircuit):\n",
      "File \u001b[0;32m~/.local/lib/python3.10/site-packages/numpy/lib/twodim_base.py:211\u001b[0m, in \u001b[0;36meye\u001b[0;34m(N, M, k, dtype, order, like)\u001b[0m\n\u001b[1;32m    209\u001b[0m \u001b[38;5;28;01mif\u001b[39;00m M \u001b[38;5;129;01mis\u001b[39;00m \u001b[38;5;28;01mNone\u001b[39;00m:\n\u001b[1;32m    210\u001b[0m     M \u001b[38;5;241m=\u001b[39m N\n\u001b[0;32m--> 211\u001b[0m m \u001b[38;5;241m=\u001b[39m \u001b[43mzeros\u001b[49m\u001b[43m(\u001b[49m\u001b[43m(\u001b[49m\u001b[43mN\u001b[49m\u001b[43m,\u001b[49m\u001b[43m \u001b[49m\u001b[43mM\u001b[49m\u001b[43m)\u001b[49m\u001b[43m,\u001b[49m\u001b[43m \u001b[49m\u001b[43mdtype\u001b[49m\u001b[38;5;241;43m=\u001b[39;49m\u001b[43mdtype\u001b[49m\u001b[43m,\u001b[49m\u001b[43m \u001b[49m\u001b[43morder\u001b[49m\u001b[38;5;241;43m=\u001b[39;49m\u001b[43morder\u001b[49m\u001b[43m)\u001b[49m\n\u001b[1;32m    212\u001b[0m \u001b[38;5;28;01mif\u001b[39;00m k \u001b[38;5;241m>\u001b[39m\u001b[38;5;241m=\u001b[39m M:\n\u001b[1;32m    213\u001b[0m     \u001b[38;5;28;01mreturn\u001b[39;00m m\n",
      "\u001b[0;31mValueError\u001b[0m: array is too big; `arr.size * arr.dtype.itemsize` is larger than the maximum possible size."
     ]
    }
   ],
   "source": [
    "num_runs = 1\n",
    "num_evidence_var = 10\n",
    "max_iter = 2000\n",
    "\n",
    "for i in range(num_runs):\n",
    "\n",
    "    #Randomly Chosen Evidence and Target\n",
    "    n_ids = binary_bn.nodes()\n",
    "    evidence = {ev_id: random.randint(0,1) for ev_id in randomChoice(n_ids, num_evidence_var)}\n",
    "    target = randomChoice(n_ids, 1)\n",
    "\n",
    "    #Lazy Propagation Benchmark\n",
    "    ie = gum.LazyPropagation(binary_bn)\n",
    "    ie.setEvidence(evidence)\n",
    "    ie.makeInference()\n",
    "    print(f\"Evidence: {evidence}, Target: {target}\")\n",
    "    print(f\"Evidence probability ({num_evidence_var} values): {ie.evidenceProbability()}\")\n",
    "\n",
    "    #Quantum Rejection Sampling\n",
    "    qinf = qInference(qbn)\n",
    "    qrt = qRuntime(qinf, backend)\n",
    "    qinf.setEvidence(evidence)\n",
    "    qinf.setMaxIter(max_iter)\n",
    "    qinf.makeInference()\n",
    "    qinf_run_time = qrt.rejectionSamplingRuntime()\n",
    "    qinf_max_error = (qinf.posterior(target).toarray() - ie.posterior(target).toarray()).max()\n",
    "    print(f\"QS - Run time: {qinf_run_time}, Max Error: {qinf_max_error}\")\n",
    "\n",
    "    #Monte Carlo Classical Rejection Sampling\n",
    "    mc = gum.MonteCarloSampling(binary_bn)\n",
    "    mc.setEpsilon(1e-20)\n",
    "    mc.setMaxTime(1e20)\n",
    "    mc.setEvidence(evidence)\n",
    "    mc.setMaxIter(max_iter)\n",
    "    mc.makeInference()\n",
    "    mc_run_time = mc.currentTime()\n",
    "    mc_max_error = (mc.posterior(target).toarray() - ie.posterior(target).toarray()).max()\n",
    "    print(f\"MC - Run time: {mc_run_time}, Max Error: {mc_max_error}\")\n"
   ]
  },
  {
   "cell_type": "code",
   "execution_count": 111,
   "metadata": {},
   "outputs": [
    {
     "name": "stdout",
     "output_type": "stream",
     "text": [
      "Evidence: {'MINVOLSET': 0, 'DISCONNECT': 0}\n",
      "Evidence probability: 0.05825177497125137\n"
     ]
    }
   ],
   "source": [
    "evidence = {\"MINVOLSET\": 0, \"DISCONNECT\": 0}\n",
    "ie = gum.LazyPropagation(binary_bn)\n",
    "ie.setEvidence(evidence)\n",
    "ie.makeInference()\n",
    "print(f\"Evidence: {evidence}\")\n",
    "print(f\"Evidence probability: {ie.evidenceProbability()}\")"
   ]
  },
  {
   "cell_type": "code",
   "execution_count": 8,
   "metadata": {},
   "outputs": [
    {
     "data": {
      "image/svg+xml": [
       "<svg xmlns=\"http://www.w3.org/2000/svg\" xmlns:xlink=\"http://www.w3.org/1999/xlink\" width=\"318pt\" height=\"188pt\" viewBox=\"0.00 0.00 317.89 188.00\">\n",
       "<g id=\"graph0\" class=\"graph\" transform=\"scale(1 1) rotate(0) translate(4 184)\">\n",
       "<title>G</title>\n",
       "<!-- VENTMACH -->\n",
       "<g id=\"node1\" class=\"node\">\n",
       "<title>VENTMACH</title>\n",
       "<g id=\"a_node1\"><a xlink:title=\"(16) VENTMACH\">\n",
       "<ellipse fill=\"#404040\" stroke=\"#4a4a4a\" cx=\"240.34\" cy=\"-90\" rx=\"67.69\" ry=\"18\"/>\n",
       "<text text-anchor=\"middle\" x=\"240.34\" y=\"-86.3\" font-family=\"Times,serif\" font-size=\"14.00\" fill=\"white\">VENTMACH</text>\n",
       "</a>\n",
       "</g>\n",
       "</g>\n",
       "<!-- VENTTUBE -->\n",
       "<g id=\"node3\" class=\"node\">\n",
       "<title>VENTTUBE</title>\n",
       "<g id=\"a_node3\"><a xlink:title=\"(20) VENTTUBE\">\n",
       "<ellipse fill=\"#404040\" stroke=\"#4a4a4a\" cx=\"158.34\" cy=\"-18\" rx=\"65.79\" ry=\"18\"/>\n",
       "<text text-anchor=\"middle\" x=\"158.34\" y=\"-14.3\" font-family=\"Times,serif\" font-size=\"14.00\" fill=\"white\">VENTTUBE</text>\n",
       "</a>\n",
       "</g>\n",
       "</g>\n",
       "<!-- VENTMACH&#45;&gt;VENTTUBE -->\n",
       "<g id=\"edge1\" class=\"edge\">\n",
       "<title>VENTMACH-&gt;VENTTUBE</title>\n",
       "<g id=\"a_edge1\"><a xlink:title=\"16 → 20\">\n",
       "<path fill=\"none\" stroke=\"#4a4a4a\" d=\"M220.91,-72.41C210.29,-63.34 196.97,-51.97 185.35,-42.06\"/>\n",
       "<polygon fill=\"#4a4a4a\" stroke=\"#4a4a4a\" points=\"187.51,-39.3 177.64,-35.47 182.97,-44.62 187.51,-39.3\"/>\n",
       "</a>\n",
       "</g>\n",
       "</g>\n",
       "<!-- MINVOLSET -->\n",
       "<g id=\"node2\" class=\"node\">\n",
       "<title>MINVOLSET</title>\n",
       "<g id=\"a_node2\"><a xlink:title=\"(3) MINVOLSET\">\n",
       "<ellipse fill=\"#404040\" stroke=\"#4a4a4a\" cx=\"240.34\" cy=\"-162\" rx=\"69.59\" ry=\"18\"/>\n",
       "<text text-anchor=\"middle\" x=\"240.34\" y=\"-158.3\" font-family=\"Times,serif\" font-size=\"14.00\" fill=\"white\">MINVOLSET</text>\n",
       "</a>\n",
       "</g>\n",
       "</g>\n",
       "<!-- MINVOLSET&#45;&gt;VENTMACH -->\n",
       "<g id=\"edge2\" class=\"edge\">\n",
       "<title>MINVOLSET-&gt;VENTMACH</title>\n",
       "<g id=\"a_edge2\"><a xlink:title=\"3 → 16\">\n",
       "<path fill=\"none\" stroke=\"#4a4a4a\" d=\"M240.34,-143.7C240.34,-135.98 240.34,-126.71 240.34,-118.11\"/>\n",
       "<polygon fill=\"#4a4a4a\" stroke=\"#4a4a4a\" points=\"243.84,-118.1 240.34,-108.1 236.84,-118.1 243.84,-118.1\"/>\n",
       "</a>\n",
       "</g>\n",
       "</g>\n",
       "<!-- DISCONNECT -->\n",
       "<g id=\"node4\" class=\"node\">\n",
       "<title>DISCONNECT</title>\n",
       "<g id=\"a_node4\"><a xlink:title=\"(10) DISCONNECT\">\n",
       "<ellipse fill=\"#404040\" stroke=\"#4a4a4a\" cx=\"77.34\" cy=\"-90\" rx=\"77.19\" ry=\"18\"/>\n",
       "<text text-anchor=\"middle\" x=\"77.34\" y=\"-86.3\" font-family=\"Times,serif\" font-size=\"14.00\" fill=\"white\">DISCONNECT</text>\n",
       "</a>\n",
       "</g>\n",
       "</g>\n",
       "<!-- DISCONNECT&#45;&gt;VENTTUBE -->\n",
       "<g id=\"edge3\" class=\"edge\">\n",
       "<title>DISCONNECT-&gt;VENTTUBE</title>\n",
       "<g id=\"a_edge3\"><a xlink:title=\"10 → 20\">\n",
       "<path fill=\"none\" stroke=\"#4a4a4a\" d=\"M96.54,-72.41C107.03,-63.34 120.19,-51.97 131.66,-42.06\"/>\n",
       "<polygon fill=\"#4a4a4a\" stroke=\"#4a4a4a\" points=\"134.01,-44.66 139.29,-35.47 129.43,-39.36 134.01,-44.66\"/>\n",
       "</a>\n",
       "</g>\n",
       "</g>\n",
       "</g>\n",
       "</svg>"
      ],
      "text/plain": [
       "<IPython.core.display.SVG object>"
      ]
     },
     "metadata": {},
     "output_type": "display_data"
    }
   ],
   "source": [
    "qinf = qInference(qbn)\n",
    "qinf.setEvidence(evidence)\n",
    "qinf.setMaxIter(1000)\n",
    "qinf.useFragmentBN(target={target_node})\n",
    "gnb.showBN(qinf.qbn.bn, size=20)"
   ]
  },
  {
   "cell_type": "code",
   "execution_count": 9,
   "metadata": {},
   "outputs": [],
   "source": [
    "qinf.getGates()"
   ]
  },
  {
   "cell_type": "code",
   "execution_count": 10,
   "metadata": {},
   "outputs": [
    {
     "data": {
      "text/plain": [
       "{'VENTMACH': [0.06100000000000005, 0.9240000000000007, 0.007, 0.008],\n",
       " 'DISCONNECT': [1.0000000000000007, 0],\n",
       " 'MINVOLSET': [1.0000000000000007, 0, 0],\n",
       " 'VENTTUBE': [0.9670000000000007,\n",
       "  0.006,\n",
       "  0.016000000000000007,\n",
       "  0.011000000000000003]}"
      ]
     },
     "execution_count": 10,
     "metadata": {},
     "output_type": "execute_result"
    }
   ],
   "source": [
    "qinf.makeInference()"
   ]
  },
  {
   "cell_type": "code",
   "execution_count": 11,
   "metadata": {},
   "outputs": [
    {
     "data": {
      "text/html": [
       "<table style=\"border-style: hidden; border-collapse: collapse;\" width=\"100%\"><tr><td style=\"border-top:hidden;border-bottom:hidden;vertical-align:middle;\"><div align=\"center\" style=\"vertical-align:middle;\"><table style=\"border:1px solid black;border-collapse: collapse;\">\n",
       "<tr style='border:1px solid black;color:black;background-color:#808080'>\n",
       "      <th colspan='4'><center>VENTTUBE</center></th></tr>\n",
       "<tr><th style='border:1px solid black;border-bottom-style: double;color:black;background-color:#BBBBBB'>\n",
       "      <center>ZERO</center></th><th style='border:1px solid black;border-bottom-style: double;color:black;background-color:#BBBBBB'>\n",
       "      <center>LOW</center></th><th style='border:1px solid black;border-bottom-style: double;color:black;background-color:#BBBBBB'>\n",
       "      <center>NORMAL</center></th><th style='border:1px solid black;border-bottom-style: double;color:black;background-color:#BBBBBB'>\n",
       "      <center>HIGH</center></th></tr>\n",
       "<tr><td style='color:black;background-color:#83fa64;text-align:right;padding: 3px;'>0.9670</td><td style='color:black;background-color:#fe7f64;text-align:right;padding: 3px;'>0.0060</td><td style='color:black;background-color:#fc8164;text-align:right;padding: 3px;'>0.0160</td><td style='color:black;background-color:#fd8064;text-align:right;padding: 3px;'>0.0110</td></tr>\n",
       "</table><br><small><i>qInference</i></small></div></td><td style=\"border-top:hidden;border-bottom:hidden;vertical-align:middle;\"><div align=\"center\" style=\"vertical-align:middle;\"><table style=\"border:1px solid black;border-collapse: collapse;\">\n",
       "<tr style='border:1px solid black;color:black;background-color:#808080'>\n",
       "      <th colspan='4'><center>VENTTUBE</center></th></tr>\n",
       "<tr><th style='border:1px solid black;border-bottom-style: double;color:black;background-color:#BBBBBB'>\n",
       "      <center>ZERO</center></th><th style='border:1px solid black;border-bottom-style: double;color:black;background-color:#BBBBBB'>\n",
       "      <center>LOW</center></th><th style='border:1px solid black;border-bottom-style: double;color:black;background-color:#BBBBBB'>\n",
       "      <center>NORMAL</center></th><th style='border:1px solid black;border-bottom-style: double;color:black;background-color:#BBBBBB'>\n",
       "      <center>HIGH</center></th></tr>\n",
       "<tr><td style='color:black;background-color:#84f964;text-align:right;padding: 3px;'>0.9604</td><td style='color:black;background-color:#fd8064;text-align:right;padding: 3px;'>0.0100</td><td style='color:black;background-color:#fc8164;text-align:right;padding: 3px;'>0.0196</td><td style='color:black;background-color:#fd8064;text-align:right;padding: 3px;'>0.0100</td></tr>\n",
       "</table><br><small><i>LazyPropagation</i></small></div></td></tr></table>"
      ],
      "text/plain": [
       "<IPython.core.display.HTML object>"
      ]
     },
     "metadata": {},
     "output_type": "display_data"
    }
   ],
   "source": [
    "gnb.sideBySide(qinf.posterior(target_node),\n",
    "               ie.posterior(target_node),\n",
    "               captions=[\"qInference\", \"LazyPropagation\"])"
   ]
  },
  {
   "cell_type": "code",
   "execution_count": 15,
   "metadata": {},
   "outputs": [],
   "source": [
    "mc = gum.MonteCarloSampling(bn)\n",
    "mc.setEvidence(evidence)\n",
    "mc.setMaxIter(10000)\n",
    "mc.makeInference()"
   ]
  },
  {
   "cell_type": "code",
   "execution_count": 30,
   "metadata": {},
   "outputs": [],
   "source": [
    "r = mc.posterior(target_node).toarray() - ie.posterior(target_node).toarray()"
   ]
  },
  {
   "cell_type": "code",
   "execution_count": 32,
   "metadata": {},
   "outputs": [
    {
     "data": {
      "text/plain": [
       "0.003758412832682745"
      ]
     },
     "execution_count": 32,
     "metadata": {},
     "output_type": "execute_result"
    }
   ],
   "source": [
    "r.max()"
   ]
  },
  {
   "cell_type": "code",
   "execution_count": 22,
   "metadata": {},
   "outputs": [
    {
     "data": {
      "text/plain": [
       "0.003758412832682745"
      ]
     },
     "execution_count": 22,
     "metadata": {},
     "output_type": "execute_result"
    }
   ],
   "source": [
    "r.max()"
   ]
  },
  {
   "cell_type": "code",
   "execution_count": 17,
   "metadata": {},
   "outputs": [
    {
     "data": {
      "text/plain": [
       "'stopped with max iteration=10000'"
      ]
     },
     "execution_count": 17,
     "metadata": {},
     "output_type": "execute_result"
    }
   ],
   "source": [
    "mc.messageApproximationScheme()"
   ]
  },
  {
   "cell_type": "code",
   "execution_count": null,
   "metadata": {},
   "outputs": [],
   "source": []
  }
 ],
 "metadata": {
  "kernelspec": {
   "display_name": "Python 3",
   "language": "python",
   "name": "python3"
  },
  "language_info": {
   "codemirror_mode": {
    "name": "ipython",
    "version": 3
   },
   "file_extension": ".py",
   "mimetype": "text/x-python",
   "name": "python",
   "nbconvert_exporter": "python",
   "pygments_lexer": "ipython3",
   "version": "3.10.12"
  }
 },
 "nbformat": 4,
 "nbformat_minor": 2
}
