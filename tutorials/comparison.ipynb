{
 "cells": [
  {
   "cell_type": "code",
   "execution_count": 1,
   "metadata": {},
   "outputs": [],
   "source": [
    "%load_ext autoreload\n",
    "%autoreload 2\n",
    "\n",
    "import sys\n",
    "if sys.path[-1] != \"..\": sys.path.append(\"..\")\n",
    "\n",
    "from qBN.qBNMC import qBNMC\n",
    "from qBN.qBNRejection import qBNRejection\n",
    "from XPs.qBNRT import qRuntime\n",
    "\n",
    "import pyAgrum as gum\n",
    "import pyAgrum.lib.notebook as gnb\n",
    "\n",
    "import matplotlib.pyplot as plt\n",
    "\n",
    "import numpy as np"
   ]
  },
  {
   "cell_type": "code",
   "execution_count": 2,
   "metadata": {},
   "outputs": [
    {
     "name": "stderr",
     "output_type": "stream",
     "text": [
      "/tmp/ipykernel_22181/1844146419.py:9: DeprecationWarning: The get_backend() method is deprecated as of qiskit-ibm-runtime 0.24 and will be removed no sooner than 3 months after the release date. Please use backend() instead.\n",
      "  backend = service.get_backend(\"ibm_brisbane\")\n"
     ]
    }
   ],
   "source": [
    "from qiskit_ibm_runtime import QiskitRuntimeService\n",
    "\n",
    "service = QiskitRuntimeService(\n",
    "    channel='ibm_quantum',\n",
    "    instance='ibm-q/open/main',\n",
    "    token='1b6910ff55c1d3853e5c8e2ca2b0dbbc3b415fb897d26a6c272c63254527581c824aea1180585f706ab8263318f3c553549d136ca32952ef401abb54011eee33'\n",
    ")\n",
    "\n",
    "backend = service.get_backend(\"ibm_brisbane\")\n",
    "\n",
    "# Or save your credentials on disk.\n",
    "# QiskitRuntimeService.save_account(channel='ibm_quantum', instance='ibm-q/open/main', token='1b6910ff55c1d3853e5c8e2ca2b0dbbc3b415fb897d26a6c272c63254527581c824aea1180585f706ab8263318f3c553549d136ca32952ef401abb54011eee33')\n"
   ]
  },
  {
   "cell_type": "code",
   "execution_count": 3,
   "metadata": {},
   "outputs": [],
   "source": [
    "bn1 = gum.fastBN(\"A->B<-C\", 2)\n",
    "bn1.cpt(\"A\")[:] = [0.05, 0.95]\n",
    "bn1.cpt(\"C\")[:] = [0.05, 0.95]\n",
    "bn1.cpt(\"B\")[:] = [[[0.1, 0.9], [0.2, 0.8]], [[0.3, 0.7], [0.4, 0.6]]]\n",
    "qbn1 = qBNMC(bn1)"
   ]
  },
  {
   "cell_type": "code",
   "execution_count": 4,
   "metadata": {},
   "outputs": [],
   "source": [
    "ev1 = {\"A\": 0, \"C\":0}\n",
    "tn1 = \"B\"\n",
    "value_range = range(100,1000,100)"
   ]
  },
  {
   "cell_type": "code",
   "execution_count": 5,
   "metadata": {},
   "outputs": [],
   "source": [
    "qinf1 = qBNRejection(qbn1)\n",
    "qinf1.setEvidence(ev1)\n",
    "qinf1.useFragmentBN(target={tn1})\n",
    "qinf1.getGates()"
   ]
  },
  {
   "cell_type": "code",
   "execution_count": 6,
   "metadata": {},
   "outputs": [],
   "source": [
    "ie1 = gum.LazyPropagation(bn1)\n",
    "ie1.setEvidence(ev1)\n",
    "ie1.makeInference()"
   ]
  },
  {
   "cell_type": "code",
   "execution_count": 7,
   "metadata": {},
   "outputs": [],
   "source": [
    "nb_obs = 10"
   ]
  },
  {
   "cell_type": "code",
   "execution_count": 8,
   "metadata": {},
   "outputs": [],
   "source": [
    "mc1_max_err = list()\n",
    "\n",
    "for j in range(nb_obs):\n",
    "    mc1_max_err.append(list())\n",
    "    for i in value_range:\n",
    "\n",
    "        mc1 = gum.MonteCarloSampling(bn1)\n",
    "        mc1.setEvidence(ev1)\n",
    "        mc1.setEpsilon(1e-10)\n",
    "        mc1.setMaxTime(1e10)\n",
    "        mc1.setMaxIter(i)\n",
    "        mc1.makeInference()\n",
    "\n",
    "        offset = mc1.posterior(tn1).toarray() - ie1.posterior(tn1).toarray()\n",
    "        max_offset = offset.max()\n",
    "        mc1_max_err[j].append(max_offset)\n",
    "\n",
    "mc1_max_err = np.array(mc1_max_err)"
   ]
  },
  {
   "cell_type": "code",
   "execution_count": 9,
   "metadata": {},
   "outputs": [
    {
     "name": "stdout",
     "output_type": "stream",
     "text": [
      "Run number 0 - 100: 0.0100, 200: 0.0400, 300: 0.0100, 400: 0.0100, 500: 0.0140, 600: 0.0117, 700: 0.0043, 800: 0.0112, "
     ]
    },
    {
     "ename": "KeyboardInterrupt",
     "evalue": "",
     "output_type": "error",
     "traceback": [
      "\u001b[0;31m---------------------------------------------------------------------------\u001b[0m",
      "\u001b[0;31mKeyboardInterrupt\u001b[0m                         Traceback (most recent call last)",
      "Cell \u001b[0;32mIn[9], line 9\u001b[0m\n\u001b[1;32m      6\u001b[0m \u001b[38;5;28;01mfor\u001b[39;00m i \u001b[38;5;129;01min\u001b[39;00m value_range:\n\u001b[1;32m      8\u001b[0m     qinf1\u001b[38;5;241m.\u001b[39msetMaxIter(i)\n\u001b[0;32m----> 9\u001b[0m     \u001b[43mqinf1\u001b[49m\u001b[38;5;241;43m.\u001b[39;49m\u001b[43mmakeInference\u001b[49m\u001b[43m(\u001b[49m\u001b[43m)\u001b[49m\n\u001b[1;32m     11\u001b[0m     offset \u001b[38;5;241m=\u001b[39m qinf1\u001b[38;5;241m.\u001b[39mposterior(tn1)\u001b[38;5;241m.\u001b[39mtoarray() \u001b[38;5;241m-\u001b[39m ie1\u001b[38;5;241m.\u001b[39mposterior(tn1)\u001b[38;5;241m.\u001b[39mtoarray()\n\u001b[1;32m     12\u001b[0m     max_offset \u001b[38;5;241m=\u001b[39m offset\u001b[38;5;241m.\u001b[39mmax()\n",
      "File \u001b[0;32m~/Documents/Projets/QUANTICGROUP/tutorials/../qBN/qBNRejection.py:356\u001b[0m, in \u001b[0;36mqInference.makeInference\u001b[0;34m(self)\u001b[0m\n\u001b[1;32m    352\u001b[0m res \u001b[38;5;241m=\u001b[39m {node: [\u001b[38;5;241m0\u001b[39m] \u001b[38;5;241m*\u001b[39m \u001b[38;5;28mself\u001b[39m\u001b[38;5;241m.\u001b[39mqbn\u001b[38;5;241m.\u001b[39mbn\u001b[38;5;241m.\u001b[39mvariable(node)\u001b[38;5;241m.\u001b[39mdomainSize()\n\u001b[1;32m    353\u001b[0m        \u001b[38;5;28;01mfor\u001b[39;00m node \u001b[38;5;129;01min\u001b[39;00m \u001b[38;5;28mself\u001b[39m\u001b[38;5;241m.\u001b[39mqbn\u001b[38;5;241m.\u001b[39mn_qb_map\u001b[38;5;241m.\u001b[39mkeys()}\n\u001b[1;32m    355\u001b[0m \u001b[38;5;28;01mfor\u001b[39;00m i \u001b[38;5;129;01min\u001b[39;00m \u001b[38;5;28mrange\u001b[39m(\u001b[38;5;28mself\u001b[39m\u001b[38;5;241m.\u001b[39mmax_iter):\n\u001b[0;32m--> 356\u001b[0m     sample \u001b[38;5;241m=\u001b[39m \u001b[38;5;28;43mself\u001b[39;49m\u001b[38;5;241;43m.\u001b[39;49m\u001b[43mgetSample\u001b[49m\u001b[43m(\u001b[49m\u001b[38;5;28;43mself\u001b[39;49m\u001b[38;5;241;43m.\u001b[39;49m\u001b[43mA\u001b[49m\u001b[43m,\u001b[49m\u001b[43m \u001b[49m\u001b[38;5;28;43mself\u001b[39;49m\u001b[38;5;241;43m.\u001b[39;49m\u001b[43mG\u001b[49m\u001b[43m,\u001b[49m\u001b[43m \u001b[49m\u001b[38;5;28;43mself\u001b[39;49m\u001b[38;5;241;43m.\u001b[39;49m\u001b[43mevidence\u001b[49m\u001b[43m)\u001b[49m\n\u001b[1;32m    358\u001b[0m     \u001b[38;5;28;01mfor\u001b[39;00m node, state \u001b[38;5;129;01min\u001b[39;00m sample\u001b[38;5;241m.\u001b[39mitems():\n\u001b[1;32m    359\u001b[0m         res[node][state] \u001b[38;5;241m+\u001b[39m\u001b[38;5;241m=\u001b[39m \u001b[38;5;241m1.0\u001b[39m\u001b[38;5;241m/\u001b[39m\u001b[38;5;28mself\u001b[39m\u001b[38;5;241m.\u001b[39mmax_iter\n",
      "File \u001b[0;32m~/Documents/Projets/QUANTICGROUP/tutorials/../qBN/qBNRejection.py:312\u001b[0m, in \u001b[0;36mqInference.getSample\u001b[0;34m(self, A, G, evidence, verbose)\u001b[0m\n\u001b[1;32m    308\u001b[0m circuit\u001b[38;5;241m.\u001b[39mcompose(G\u001b[38;5;241m.\u001b[39mpower(\u001b[38;5;28mint\u001b[39m(np\u001b[38;5;241m.\u001b[39mceil(\u001b[38;5;241m2.0\u001b[39m\u001b[38;5;241m*\u001b[39m\u001b[38;5;241m*\u001b[39mk))), inplace\u001b[38;5;241m=\u001b[39m\u001b[38;5;28;01mTrue\u001b[39;00m)\n\u001b[1;32m    310\u001b[0m circuit\u001b[38;5;241m.\u001b[39mmeasure_all(add_bits\u001b[38;5;241m=\u001b[39m\u001b[38;5;28;01mFalse\u001b[39;00m)\n\u001b[0;32m--> 312\u001b[0m run_res \u001b[38;5;241m=\u001b[39m \u001b[38;5;28;43mself\u001b[39;49m\u001b[38;5;241;43m.\u001b[39;49m\u001b[43mqbn\u001b[49m\u001b[38;5;241;43m.\u001b[39;49m\u001b[43maerSimulation\u001b[49m\u001b[43m(\u001b[49m\u001b[43mcircuit\u001b[49m\u001b[43m,\u001b[49m\u001b[43m \u001b[49m\u001b[43mshots\u001b[49m\u001b[38;5;241;43m=\u001b[39;49m\u001b[38;5;241;43m1\u001b[39;49m\u001b[43m)\u001b[49m\n\u001b[1;32m    314\u001b[0m run_res \u001b[38;5;241m=\u001b[39m {\u001b[38;5;28mself\u001b[39m\u001b[38;5;241m.\u001b[39mqbn\u001b[38;5;241m.\u001b[39mbn\u001b[38;5;241m.\u001b[39mnodeId(\u001b[38;5;28mself\u001b[39m\u001b[38;5;241m.\u001b[39mqbn\u001b[38;5;241m.\u001b[39mbn\u001b[38;5;241m.\u001b[39mvariable(node)): state\u001b[38;5;241m.\u001b[39mindex(\u001b[38;5;241m1.0\u001b[39m)\n\u001b[1;32m    315\u001b[0m            \u001b[38;5;28;01mfor\u001b[39;00m node, state \u001b[38;5;129;01min\u001b[39;00m run_res\u001b[38;5;241m.\u001b[39mitems()}\n\u001b[1;32m    317\u001b[0m \u001b[38;5;28;01mif\u001b[39;00m verbose \u001b[38;5;241m>\u001b[39m \u001b[38;5;241m0\u001b[39m: \u001b[38;5;28mprint\u001b[39m(\u001b[38;5;124mf\u001b[39m\u001b[38;5;124m\"\u001b[39m\u001b[38;5;124mrun_res = \u001b[39m\u001b[38;5;132;01m{\u001b[39;00mrun_res\u001b[38;5;132;01m}\u001b[39;00m\u001b[38;5;124m\"\u001b[39m)\n",
      "File \u001b[0;32m~/Documents/Projets/QUANTICGROUP/tutorials/../qBN/qBNMC.py:578\u001b[0m, in \u001b[0;36mqBayesNet.aerSimulation\u001b[0;34m(self, circuit, shots)\u001b[0m\n\u001b[1;32m    576\u001b[0m sampler_aer \u001b[38;5;241m=\u001b[39m SamplerV2(backend\u001b[38;5;241m=\u001b[39mbackend_aer)\n\u001b[1;32m    577\u001b[0m circuit_aer \u001b[38;5;241m=\u001b[39m transpile(circuit, backend\u001b[38;5;241m=\u001b[39mbackend_aer)\n\u001b[0;32m--> 578\u001b[0m job_aer \u001b[38;5;241m=\u001b[39m \u001b[43msampler_aer\u001b[49m\u001b[38;5;241;43m.\u001b[39;49m\u001b[43mrun\u001b[49m\u001b[43m(\u001b[49m\u001b[43m[\u001b[49m\u001b[43mcircuit_aer\u001b[49m\u001b[43m]\u001b[49m\u001b[43m,\u001b[49m\u001b[43m \u001b[49m\u001b[43mshots\u001b[49m\u001b[38;5;241;43m=\u001b[39;49m\u001b[43mshots\u001b[49m\u001b[43m)\u001b[49m\n\u001b[1;32m    579\u001b[0m result_aer \u001b[38;5;241m=\u001b[39m job_aer\u001b[38;5;241m.\u001b[39mresult()\n\u001b[1;32m    580\u001b[0m counts_aer \u001b[38;5;241m=\u001b[39m result_aer[\u001b[38;5;241m0\u001b[39m]\u001b[38;5;241m.\u001b[39mdata\u001b[38;5;241m.\u001b[39mmeas\u001b[38;5;241m.\u001b[39mget_counts()\n",
      "File \u001b[0;32m~/.local/lib/python3.10/site-packages/qiskit_ibm_runtime/sampler.py:156\u001b[0m, in \u001b[0;36mSamplerV2.run\u001b[0;34m(self, pubs, shots)\u001b[0m\n\u001b[1;32m    149\u001b[0m \u001b[38;5;28;01mif\u001b[39;00m \u001b[38;5;28many\u001b[39m(\u001b[38;5;28mlen\u001b[39m(pub\u001b[38;5;241m.\u001b[39mcircuit\u001b[38;5;241m.\u001b[39mcregs) \u001b[38;5;241m==\u001b[39m \u001b[38;5;241m0\u001b[39m \u001b[38;5;28;01mfor\u001b[39;00m pub \u001b[38;5;129;01min\u001b[39;00m coerced_pubs):\n\u001b[1;32m    150\u001b[0m     warnings\u001b[38;5;241m.\u001b[39mwarn(\n\u001b[1;32m    151\u001b[0m         \u001b[38;5;124m\"\u001b[39m\u001b[38;5;124mOne of your circuits has no output classical registers and so the result \u001b[39m\u001b[38;5;124m\"\u001b[39m\n\u001b[1;32m    152\u001b[0m         \u001b[38;5;124m\"\u001b[39m\u001b[38;5;124mwill be empty. Did you mean to add measurement instructions?\u001b[39m\u001b[38;5;124m\"\u001b[39m,\n\u001b[1;32m    153\u001b[0m         \u001b[38;5;167;01mUserWarning\u001b[39;00m,\n\u001b[1;32m    154\u001b[0m     )\n\u001b[0;32m--> 156\u001b[0m \u001b[38;5;28;01mreturn\u001b[39;00m \u001b[38;5;28;43mself\u001b[39;49m\u001b[38;5;241;43m.\u001b[39;49m\u001b[43m_run\u001b[49m\u001b[43m(\u001b[49m\u001b[43mcoerced_pubs\u001b[49m\u001b[43m)\u001b[49m\n",
      "File \u001b[0;32m~/.local/lib/python3.10/site-packages/qiskit_ibm_runtime/base_primitive.py:179\u001b[0m, in \u001b[0;36mBasePrimitiveV2._run\u001b[0;34m(self, pubs)\u001b[0m\n\u001b[1;32m    170\u001b[0m \u001b[38;5;28;01mif\u001b[39;00m \u001b[38;5;28misinstance\u001b[39m(\u001b[38;5;28mself\u001b[39m\u001b[38;5;241m.\u001b[39m_service, QiskitRuntimeService):\n\u001b[1;32m    171\u001b[0m     \u001b[38;5;28;01mreturn\u001b[39;00m \u001b[38;5;28mself\u001b[39m\u001b[38;5;241m.\u001b[39m_service\u001b[38;5;241m.\u001b[39mrun(\n\u001b[1;32m    172\u001b[0m         program_id\u001b[38;5;241m=\u001b[39m\u001b[38;5;28mself\u001b[39m\u001b[38;5;241m.\u001b[39m_program_id(),\n\u001b[1;32m    173\u001b[0m         options\u001b[38;5;241m=\u001b[39mruntime_options,\n\u001b[0;32m   (...)\u001b[0m\n\u001b[1;32m    176\u001b[0m         result_decoder\u001b[38;5;241m=\u001b[39mDEFAULT_DECODERS\u001b[38;5;241m.\u001b[39mget(\u001b[38;5;28mself\u001b[39m\u001b[38;5;241m.\u001b[39m_program_id()),\n\u001b[1;32m    177\u001b[0m     )\n\u001b[0;32m--> 179\u001b[0m \u001b[38;5;28;01mreturn\u001b[39;00m \u001b[38;5;28;43mself\u001b[39;49m\u001b[38;5;241;43m.\u001b[39;49m\u001b[43m_service\u001b[49m\u001b[38;5;241;43m.\u001b[39;49m\u001b[43mrun\u001b[49m\u001b[43m(\u001b[49m\n\u001b[1;32m    180\u001b[0m \u001b[43m    \u001b[49m\u001b[43mprogram_id\u001b[49m\u001b[38;5;241;43m=\u001b[39;49m\u001b[38;5;28;43mself\u001b[39;49m\u001b[38;5;241;43m.\u001b[39;49m\u001b[43m_program_id\u001b[49m\u001b[43m(\u001b[49m\u001b[43m)\u001b[49m\u001b[43m,\u001b[49m\u001b[43m  \u001b[49m\u001b[38;5;66;43;03m# type: ignore[arg-type]\u001b[39;49;00m\n\u001b[1;32m    181\u001b[0m \u001b[43m    \u001b[49m\u001b[43moptions\u001b[49m\u001b[38;5;241;43m=\u001b[39;49m\u001b[43mruntime_options\u001b[49m\u001b[43m,\u001b[49m\n\u001b[1;32m    182\u001b[0m \u001b[43m    \u001b[49m\u001b[43minputs\u001b[49m\u001b[38;5;241;43m=\u001b[39;49m\u001b[43mprimitive_inputs\u001b[49m\u001b[43m,\u001b[49m\n\u001b[1;32m    183\u001b[0m \u001b[43m\u001b[49m\u001b[43m)\u001b[49m\n",
      "File \u001b[0;32m~/.local/lib/python3.10/site-packages/qiskit_ibm_runtime/fake_provider/local_service.py:77\u001b[0m, in \u001b[0;36mQiskitRuntimeLocalService.run\u001b[0;34m(self, program_id, inputs, options)\u001b[0m\n\u001b[1;32m     60\u001b[0m \u001b[38;5;250m\u001b[39m\u001b[38;5;124;03m\"\"\"Execute the runtime program.\u001b[39;00m\n\u001b[1;32m     61\u001b[0m \n\u001b[1;32m     62\u001b[0m \u001b[38;5;124;03mArgs:\u001b[39;00m\n\u001b[0;32m   (...)\u001b[0m\n\u001b[1;32m     74\u001b[0m \u001b[38;5;124;03m    NotImplementedError: If using V2 primitives.\u001b[39;00m\n\u001b[1;32m     75\u001b[0m \u001b[38;5;124;03m\"\"\"\u001b[39;00m\n\u001b[1;32m     76\u001b[0m \u001b[38;5;28;01mif\u001b[39;00m \u001b[38;5;28misinstance\u001b[39m(options, Dict):\n\u001b[0;32m---> 77\u001b[0m     qrt_options \u001b[38;5;241m=\u001b[39m \u001b[43mcopy\u001b[49m\u001b[38;5;241;43m.\u001b[39;49m\u001b[43mdeepcopy\u001b[49m\u001b[43m(\u001b[49m\u001b[43moptions\u001b[49m\u001b[43m)\u001b[49m\n\u001b[1;32m     78\u001b[0m \u001b[38;5;28;01melse\u001b[39;00m:\n\u001b[1;32m     79\u001b[0m     qrt_options \u001b[38;5;241m=\u001b[39m asdict(options)\n",
      "File \u001b[0;32m/usr/lib/python3.10/copy.py:146\u001b[0m, in \u001b[0;36mdeepcopy\u001b[0;34m(x, memo, _nil)\u001b[0m\n\u001b[1;32m    144\u001b[0m copier \u001b[38;5;241m=\u001b[39m _deepcopy_dispatch\u001b[38;5;241m.\u001b[39mget(\u001b[38;5;28mcls\u001b[39m)\n\u001b[1;32m    145\u001b[0m \u001b[38;5;28;01mif\u001b[39;00m copier \u001b[38;5;129;01mis\u001b[39;00m \u001b[38;5;129;01mnot\u001b[39;00m \u001b[38;5;28;01mNone\u001b[39;00m:\n\u001b[0;32m--> 146\u001b[0m     y \u001b[38;5;241m=\u001b[39m \u001b[43mcopier\u001b[49m\u001b[43m(\u001b[49m\u001b[43mx\u001b[49m\u001b[43m,\u001b[49m\u001b[43m \u001b[49m\u001b[43mmemo\u001b[49m\u001b[43m)\u001b[49m\n\u001b[1;32m    147\u001b[0m \u001b[38;5;28;01melse\u001b[39;00m:\n\u001b[1;32m    148\u001b[0m     \u001b[38;5;28;01mif\u001b[39;00m \u001b[38;5;28missubclass\u001b[39m(\u001b[38;5;28mcls\u001b[39m, \u001b[38;5;28mtype\u001b[39m):\n",
      "File \u001b[0;32m/usr/lib/python3.10/copy.py:231\u001b[0m, in \u001b[0;36m_deepcopy_dict\u001b[0;34m(x, memo, deepcopy)\u001b[0m\n\u001b[1;32m    229\u001b[0m memo[\u001b[38;5;28mid\u001b[39m(x)] \u001b[38;5;241m=\u001b[39m y\n\u001b[1;32m    230\u001b[0m \u001b[38;5;28;01mfor\u001b[39;00m key, value \u001b[38;5;129;01min\u001b[39;00m x\u001b[38;5;241m.\u001b[39mitems():\n\u001b[0;32m--> 231\u001b[0m     y[deepcopy(key, memo)] \u001b[38;5;241m=\u001b[39m \u001b[43mdeepcopy\u001b[49m\u001b[43m(\u001b[49m\u001b[43mvalue\u001b[49m\u001b[43m,\u001b[49m\u001b[43m \u001b[49m\u001b[43mmemo\u001b[49m\u001b[43m)\u001b[49m\n\u001b[1;32m    232\u001b[0m \u001b[38;5;28;01mreturn\u001b[39;00m y\n",
      "File \u001b[0;32m/usr/lib/python3.10/copy.py:172\u001b[0m, in \u001b[0;36mdeepcopy\u001b[0;34m(x, memo, _nil)\u001b[0m\n\u001b[1;32m    170\u001b[0m                 y \u001b[38;5;241m=\u001b[39m x\n\u001b[1;32m    171\u001b[0m             \u001b[38;5;28;01melse\u001b[39;00m:\n\u001b[0;32m--> 172\u001b[0m                 y \u001b[38;5;241m=\u001b[39m \u001b[43m_reconstruct\u001b[49m\u001b[43m(\u001b[49m\u001b[43mx\u001b[49m\u001b[43m,\u001b[49m\u001b[43m \u001b[49m\u001b[43mmemo\u001b[49m\u001b[43m,\u001b[49m\u001b[43m \u001b[49m\u001b[38;5;241;43m*\u001b[39;49m\u001b[43mrv\u001b[49m\u001b[43m)\u001b[49m\n\u001b[1;32m    174\u001b[0m \u001b[38;5;66;03m# If is its own copy, don't memoize.\u001b[39;00m\n\u001b[1;32m    175\u001b[0m \u001b[38;5;28;01mif\u001b[39;00m y \u001b[38;5;129;01mis\u001b[39;00m \u001b[38;5;129;01mnot\u001b[39;00m x:\n",
      "File \u001b[0;32m/usr/lib/python3.10/copy.py:271\u001b[0m, in \u001b[0;36m_reconstruct\u001b[0;34m(x, memo, func, args, state, listiter, dictiter, deepcopy)\u001b[0m\n\u001b[1;32m    269\u001b[0m \u001b[38;5;28;01mif\u001b[39;00m state \u001b[38;5;129;01mis\u001b[39;00m \u001b[38;5;129;01mnot\u001b[39;00m \u001b[38;5;28;01mNone\u001b[39;00m:\n\u001b[1;32m    270\u001b[0m     \u001b[38;5;28;01mif\u001b[39;00m deep:\n\u001b[0;32m--> 271\u001b[0m         state \u001b[38;5;241m=\u001b[39m \u001b[43mdeepcopy\u001b[49m\u001b[43m(\u001b[49m\u001b[43mstate\u001b[49m\u001b[43m,\u001b[49m\u001b[43m \u001b[49m\u001b[43mmemo\u001b[49m\u001b[43m)\u001b[49m\n\u001b[1;32m    272\u001b[0m     \u001b[38;5;28;01mif\u001b[39;00m \u001b[38;5;28mhasattr\u001b[39m(y, \u001b[38;5;124m'\u001b[39m\u001b[38;5;124m__setstate__\u001b[39m\u001b[38;5;124m'\u001b[39m):\n\u001b[1;32m    273\u001b[0m         y\u001b[38;5;241m.\u001b[39m__setstate__(state)\n",
      "File \u001b[0;32m/usr/lib/python3.10/copy.py:146\u001b[0m, in \u001b[0;36mdeepcopy\u001b[0;34m(x, memo, _nil)\u001b[0m\n\u001b[1;32m    144\u001b[0m copier \u001b[38;5;241m=\u001b[39m _deepcopy_dispatch\u001b[38;5;241m.\u001b[39mget(\u001b[38;5;28mcls\u001b[39m)\n\u001b[1;32m    145\u001b[0m \u001b[38;5;28;01mif\u001b[39;00m copier \u001b[38;5;129;01mis\u001b[39;00m \u001b[38;5;129;01mnot\u001b[39;00m \u001b[38;5;28;01mNone\u001b[39;00m:\n\u001b[0;32m--> 146\u001b[0m     y \u001b[38;5;241m=\u001b[39m \u001b[43mcopier\u001b[49m\u001b[43m(\u001b[49m\u001b[43mx\u001b[49m\u001b[43m,\u001b[49m\u001b[43m \u001b[49m\u001b[43mmemo\u001b[49m\u001b[43m)\u001b[49m\n\u001b[1;32m    147\u001b[0m \u001b[38;5;28;01melse\u001b[39;00m:\n\u001b[1;32m    148\u001b[0m     \u001b[38;5;28;01mif\u001b[39;00m \u001b[38;5;28missubclass\u001b[39m(\u001b[38;5;28mcls\u001b[39m, \u001b[38;5;28mtype\u001b[39m):\n",
      "File \u001b[0;32m/usr/lib/python3.10/copy.py:231\u001b[0m, in \u001b[0;36m_deepcopy_dict\u001b[0;34m(x, memo, deepcopy)\u001b[0m\n\u001b[1;32m    229\u001b[0m memo[\u001b[38;5;28mid\u001b[39m(x)] \u001b[38;5;241m=\u001b[39m y\n\u001b[1;32m    230\u001b[0m \u001b[38;5;28;01mfor\u001b[39;00m key, value \u001b[38;5;129;01min\u001b[39;00m x\u001b[38;5;241m.\u001b[39mitems():\n\u001b[0;32m--> 231\u001b[0m     y[deepcopy(key, memo)] \u001b[38;5;241m=\u001b[39m \u001b[43mdeepcopy\u001b[49m\u001b[43m(\u001b[49m\u001b[43mvalue\u001b[49m\u001b[43m,\u001b[49m\u001b[43m \u001b[49m\u001b[43mmemo\u001b[49m\u001b[43m)\u001b[49m\n\u001b[1;32m    232\u001b[0m \u001b[38;5;28;01mreturn\u001b[39;00m y\n",
      "File \u001b[0;32m/usr/lib/python3.10/copy.py:146\u001b[0m, in \u001b[0;36mdeepcopy\u001b[0;34m(x, memo, _nil)\u001b[0m\n\u001b[1;32m    144\u001b[0m copier \u001b[38;5;241m=\u001b[39m _deepcopy_dispatch\u001b[38;5;241m.\u001b[39mget(\u001b[38;5;28mcls\u001b[39m)\n\u001b[1;32m    145\u001b[0m \u001b[38;5;28;01mif\u001b[39;00m copier \u001b[38;5;129;01mis\u001b[39;00m \u001b[38;5;129;01mnot\u001b[39;00m \u001b[38;5;28;01mNone\u001b[39;00m:\n\u001b[0;32m--> 146\u001b[0m     y \u001b[38;5;241m=\u001b[39m \u001b[43mcopier\u001b[49m\u001b[43m(\u001b[49m\u001b[43mx\u001b[49m\u001b[43m,\u001b[49m\u001b[43m \u001b[49m\u001b[43mmemo\u001b[49m\u001b[43m)\u001b[49m\n\u001b[1;32m    147\u001b[0m \u001b[38;5;28;01melse\u001b[39;00m:\n\u001b[1;32m    148\u001b[0m     \u001b[38;5;28;01mif\u001b[39;00m \u001b[38;5;28missubclass\u001b[39m(\u001b[38;5;28mcls\u001b[39m, \u001b[38;5;28mtype\u001b[39m):\n",
      "File \u001b[0;32m/usr/lib/python3.10/copy.py:231\u001b[0m, in \u001b[0;36m_deepcopy_dict\u001b[0;34m(x, memo, deepcopy)\u001b[0m\n\u001b[1;32m    229\u001b[0m memo[\u001b[38;5;28mid\u001b[39m(x)] \u001b[38;5;241m=\u001b[39m y\n\u001b[1;32m    230\u001b[0m \u001b[38;5;28;01mfor\u001b[39;00m key, value \u001b[38;5;129;01min\u001b[39;00m x\u001b[38;5;241m.\u001b[39mitems():\n\u001b[0;32m--> 231\u001b[0m     y[deepcopy(key, memo)] \u001b[38;5;241m=\u001b[39m \u001b[43mdeepcopy\u001b[49m\u001b[43m(\u001b[49m\u001b[43mvalue\u001b[49m\u001b[43m,\u001b[49m\u001b[43m \u001b[49m\u001b[43mmemo\u001b[49m\u001b[43m)\u001b[49m\n\u001b[1;32m    232\u001b[0m \u001b[38;5;28;01mreturn\u001b[39;00m y\n",
      "File \u001b[0;32m/usr/lib/python3.10/copy.py:153\u001b[0m, in \u001b[0;36mdeepcopy\u001b[0;34m(x, memo, _nil)\u001b[0m\n\u001b[1;32m    151\u001b[0m copier \u001b[38;5;241m=\u001b[39m \u001b[38;5;28mgetattr\u001b[39m(x, \u001b[38;5;124m\"\u001b[39m\u001b[38;5;124m__deepcopy__\u001b[39m\u001b[38;5;124m\"\u001b[39m, \u001b[38;5;28;01mNone\u001b[39;00m)\n\u001b[1;32m    152\u001b[0m \u001b[38;5;28;01mif\u001b[39;00m copier \u001b[38;5;129;01mis\u001b[39;00m \u001b[38;5;129;01mnot\u001b[39;00m \u001b[38;5;28;01mNone\u001b[39;00m:\n\u001b[0;32m--> 153\u001b[0m     y \u001b[38;5;241m=\u001b[39m \u001b[43mcopier\u001b[49m\u001b[43m(\u001b[49m\u001b[43mmemo\u001b[49m\u001b[43m)\u001b[49m\n\u001b[1;32m    154\u001b[0m \u001b[38;5;28;01melse\u001b[39;00m:\n\u001b[1;32m    155\u001b[0m     reductor \u001b[38;5;241m=\u001b[39m dispatch_table\u001b[38;5;241m.\u001b[39mget(\u001b[38;5;28mcls\u001b[39m)\n",
      "File \u001b[0;32m~/.local/lib/python3.10/site-packages/qiskit/circuit/controlledgate.py:252\u001b[0m, in \u001b[0;36mControlledGate.__deepcopy__\u001b[0;34m(self, memo)\u001b[0m\n\u001b[1;32m    250\u001b[0m cpy\u001b[38;5;241m.\u001b[39mbase_gate \u001b[38;5;241m=\u001b[39m \u001b[38;5;28mself\u001b[39m\u001b[38;5;241m.\u001b[39mbase_gate\u001b[38;5;241m.\u001b[39mcopy()\n\u001b[1;32m    251\u001b[0m \u001b[38;5;28;01mif\u001b[39;00m \u001b[38;5;28mself\u001b[39m\u001b[38;5;241m.\u001b[39m_definition:\n\u001b[0;32m--> 252\u001b[0m     cpy\u001b[38;5;241m.\u001b[39m_definition \u001b[38;5;241m=\u001b[39m \u001b[43mcopy\u001b[49m\u001b[38;5;241;43m.\u001b[39;49m\u001b[43mdeepcopy\u001b[49m\u001b[43m(\u001b[49m\u001b[38;5;28;43mself\u001b[39;49m\u001b[38;5;241;43m.\u001b[39;49m\u001b[43m_definition\u001b[49m\u001b[43m,\u001b[49m\u001b[43m \u001b[49m\u001b[43mmemo\u001b[49m\u001b[43m)\u001b[49m\n\u001b[1;32m    253\u001b[0m \u001b[38;5;28;01mreturn\u001b[39;00m cpy\n",
      "File \u001b[0;32m/usr/lib/python3.10/copy.py:153\u001b[0m, in \u001b[0;36mdeepcopy\u001b[0;34m(x, memo, _nil)\u001b[0m\n\u001b[1;32m    151\u001b[0m copier \u001b[38;5;241m=\u001b[39m \u001b[38;5;28mgetattr\u001b[39m(x, \u001b[38;5;124m\"\u001b[39m\u001b[38;5;124m__deepcopy__\u001b[39m\u001b[38;5;124m\"\u001b[39m, \u001b[38;5;28;01mNone\u001b[39;00m)\n\u001b[1;32m    152\u001b[0m \u001b[38;5;28;01mif\u001b[39;00m copier \u001b[38;5;129;01mis\u001b[39;00m \u001b[38;5;129;01mnot\u001b[39;00m \u001b[38;5;28;01mNone\u001b[39;00m:\n\u001b[0;32m--> 153\u001b[0m     y \u001b[38;5;241m=\u001b[39m \u001b[43mcopier\u001b[49m\u001b[43m(\u001b[49m\u001b[43mmemo\u001b[49m\u001b[43m)\u001b[49m\n\u001b[1;32m    154\u001b[0m \u001b[38;5;28;01melse\u001b[39;00m:\n\u001b[1;32m    155\u001b[0m     reductor \u001b[38;5;241m=\u001b[39m dispatch_table\u001b[38;5;241m.\u001b[39mget(\u001b[38;5;28mcls\u001b[39m)\n",
      "File \u001b[0;32m~/.local/lib/python3.10/site-packages/qiskit/circuit/quantumcircuit.py:1379\u001b[0m, in \u001b[0;36mQuantumCircuit.__deepcopy__\u001b[0;34m(self, memo)\u001b[0m\n\u001b[1;32m   1377\u001b[0m result \u001b[38;5;241m=\u001b[39m \u001b[38;5;28mcls\u001b[39m\u001b[38;5;241m.\u001b[39m\u001b[38;5;21m__new__\u001b[39m(\u001b[38;5;28mcls\u001b[39m)\n\u001b[1;32m   1378\u001b[0m \u001b[38;5;28;01mfor\u001b[39;00m k \u001b[38;5;129;01min\u001b[39;00m \u001b[38;5;28mself\u001b[39m\u001b[38;5;241m.\u001b[39m\u001b[38;5;18m__dict__\u001b[39m\u001b[38;5;241m.\u001b[39mkeys() \u001b[38;5;241m-\u001b[39m {\u001b[38;5;124m\"\u001b[39m\u001b[38;5;124m_data\u001b[39m\u001b[38;5;124m\"\u001b[39m, \u001b[38;5;124m\"\u001b[39m\u001b[38;5;124m_builder_api\u001b[39m\u001b[38;5;124m\"\u001b[39m}:\n\u001b[0;32m-> 1379\u001b[0m     \u001b[38;5;28msetattr\u001b[39m(result, k, \u001b[43m_copy\u001b[49m\u001b[38;5;241;43m.\u001b[39;49m\u001b[43mdeepcopy\u001b[49m\u001b[43m(\u001b[49m\u001b[38;5;28;43mself\u001b[39;49m\u001b[38;5;241;43m.\u001b[39;49m\u001b[38;5;18;43m__dict__\u001b[39;49m\u001b[43m[\u001b[49m\u001b[43mk\u001b[49m\u001b[43m]\u001b[49m\u001b[43m,\u001b[49m\u001b[43m \u001b[49m\u001b[43mmemo\u001b[49m\u001b[43m)\u001b[49m)\n\u001b[1;32m   1381\u001b[0m result\u001b[38;5;241m.\u001b[39m_builder_api \u001b[38;5;241m=\u001b[39m _OuterCircuitScopeInterface(result)\n\u001b[1;32m   1383\u001b[0m \u001b[38;5;66;03m# Avoids pulling self._data into a Python list\u001b[39;00m\n\u001b[1;32m   1384\u001b[0m \u001b[38;5;66;03m# like we would when pickling.\u001b[39;00m\n",
      "File \u001b[0;32m/usr/lib/python3.10/copy.py:146\u001b[0m, in \u001b[0;36mdeepcopy\u001b[0;34m(x, memo, _nil)\u001b[0m\n\u001b[1;32m    144\u001b[0m copier \u001b[38;5;241m=\u001b[39m _deepcopy_dispatch\u001b[38;5;241m.\u001b[39mget(\u001b[38;5;28mcls\u001b[39m)\n\u001b[1;32m    145\u001b[0m \u001b[38;5;28;01mif\u001b[39;00m copier \u001b[38;5;129;01mis\u001b[39;00m \u001b[38;5;129;01mnot\u001b[39;00m \u001b[38;5;28;01mNone\u001b[39;00m:\n\u001b[0;32m--> 146\u001b[0m     y \u001b[38;5;241m=\u001b[39m \u001b[43mcopier\u001b[49m\u001b[43m(\u001b[49m\u001b[43mx\u001b[49m\u001b[43m,\u001b[49m\u001b[43m \u001b[49m\u001b[43mmemo\u001b[49m\u001b[43m)\u001b[49m\n\u001b[1;32m    147\u001b[0m \u001b[38;5;28;01melse\u001b[39;00m:\n\u001b[1;32m    148\u001b[0m     \u001b[38;5;28;01mif\u001b[39;00m \u001b[38;5;28missubclass\u001b[39m(\u001b[38;5;28mcls\u001b[39m, \u001b[38;5;28mtype\u001b[39m):\n",
      "File \u001b[0;32m/usr/lib/python3.10/copy.py:231\u001b[0m, in \u001b[0;36m_deepcopy_dict\u001b[0;34m(x, memo, deepcopy)\u001b[0m\n\u001b[1;32m    229\u001b[0m memo[\u001b[38;5;28mid\u001b[39m(x)] \u001b[38;5;241m=\u001b[39m y\n\u001b[1;32m    230\u001b[0m \u001b[38;5;28;01mfor\u001b[39;00m key, value \u001b[38;5;129;01min\u001b[39;00m x\u001b[38;5;241m.\u001b[39mitems():\n\u001b[0;32m--> 231\u001b[0m     y[deepcopy(key, memo)] \u001b[38;5;241m=\u001b[39m \u001b[43mdeepcopy\u001b[49m\u001b[43m(\u001b[49m\u001b[43mvalue\u001b[49m\u001b[43m,\u001b[49m\u001b[43m \u001b[49m\u001b[43mmemo\u001b[49m\u001b[43m)\u001b[49m\n\u001b[1;32m    232\u001b[0m \u001b[38;5;28;01mreturn\u001b[39;00m y\n",
      "File \u001b[0;32m/usr/lib/python3.10/copy.py:172\u001b[0m, in \u001b[0;36mdeepcopy\u001b[0;34m(x, memo, _nil)\u001b[0m\n\u001b[1;32m    170\u001b[0m                 y \u001b[38;5;241m=\u001b[39m x\n\u001b[1;32m    171\u001b[0m             \u001b[38;5;28;01melse\u001b[39;00m:\n\u001b[0;32m--> 172\u001b[0m                 y \u001b[38;5;241m=\u001b[39m \u001b[43m_reconstruct\u001b[49m\u001b[43m(\u001b[49m\u001b[43mx\u001b[49m\u001b[43m,\u001b[49m\u001b[43m \u001b[49m\u001b[43mmemo\u001b[49m\u001b[43m,\u001b[49m\u001b[43m \u001b[49m\u001b[38;5;241;43m*\u001b[39;49m\u001b[43mrv\u001b[49m\u001b[43m)\u001b[49m\n\u001b[1;32m    174\u001b[0m \u001b[38;5;66;03m# If is its own copy, don't memoize.\u001b[39;00m\n\u001b[1;32m    175\u001b[0m \u001b[38;5;28;01mif\u001b[39;00m y \u001b[38;5;129;01mis\u001b[39;00m \u001b[38;5;129;01mnot\u001b[39;00m x:\n",
      "File \u001b[0;32m/usr/lib/python3.10/copy.py:265\u001b[0m, in \u001b[0;36m_reconstruct\u001b[0;34m(x, memo, func, args, state, listiter, dictiter, deepcopy)\u001b[0m\n\u001b[1;32m    263\u001b[0m \u001b[38;5;28;01mif\u001b[39;00m deep \u001b[38;5;129;01mand\u001b[39;00m args:\n\u001b[1;32m    264\u001b[0m     args \u001b[38;5;241m=\u001b[39m (deepcopy(arg, memo) \u001b[38;5;28;01mfor\u001b[39;00m arg \u001b[38;5;129;01min\u001b[39;00m args)\n\u001b[0;32m--> 265\u001b[0m y \u001b[38;5;241m=\u001b[39m \u001b[43mfunc\u001b[49m\u001b[43m(\u001b[49m\u001b[38;5;241;43m*\u001b[39;49m\u001b[43margs\u001b[49m\u001b[43m)\u001b[49m\n\u001b[1;32m    266\u001b[0m \u001b[38;5;28;01mif\u001b[39;00m deep:\n\u001b[1;32m    267\u001b[0m     memo[\u001b[38;5;28mid\u001b[39m(x)] \u001b[38;5;241m=\u001b[39m y\n",
      "File \u001b[0;32m/usr/lib/python3.10/copyreg.py:100\u001b[0m, in \u001b[0;36m__newobj__\u001b[0;34m(cls, *args)\u001b[0m\n\u001b[1;32m     96\u001b[0m         \u001b[38;5;28;01mreturn\u001b[39;00m _reconstructor, args\n\u001b[1;32m     98\u001b[0m \u001b[38;5;66;03m# Helper for __reduce_ex__ protocol 2\u001b[39;00m\n\u001b[0;32m--> 100\u001b[0m \u001b[38;5;28;01mdef\u001b[39;00m \u001b[38;5;21m__newobj__\u001b[39m(\u001b[38;5;28mcls\u001b[39m, \u001b[38;5;241m*\u001b[39margs):\n\u001b[1;32m    101\u001b[0m     \u001b[38;5;28;01mreturn\u001b[39;00m \u001b[38;5;28mcls\u001b[39m\u001b[38;5;241m.\u001b[39m\u001b[38;5;21m__new__\u001b[39m(\u001b[38;5;28mcls\u001b[39m, \u001b[38;5;241m*\u001b[39margs)\n\u001b[1;32m    103\u001b[0m \u001b[38;5;28;01mdef\u001b[39;00m \u001b[38;5;21m__newobj_ex__\u001b[39m(\u001b[38;5;28mcls\u001b[39m, args, kwargs):\n",
      "\u001b[0;31mKeyboardInterrupt\u001b[0m: "
     ]
    }
   ],
   "source": [
    "qinf1_max_err = list()\n",
    "\n",
    "for j in range(nb_obs):\n",
    "    qinf1_max_err.append(list())\n",
    "    print(f\"Run number {j} -\", end=' ')\n",
    "    for i in value_range:\n",
    "\n",
    "        qinf1.setMaxIter(i)\n",
    "        qinf1.makeInference()\n",
    "\n",
    "        offset = qinf1.posterior(tn1).toarray() - ie1.posterior(tn1).toarray()\n",
    "        max_offset = offset.max()\n",
    "        qinf1_max_err[j].append(max_offset)\n",
    "\n",
    "        print(f\"{i}: {max_offset:.4f}\", end=', ')\n",
    "    print()\n",
    "\n",
    "qinf1_max_err = np.array(qinf1_max_err)"
   ]
  },
  {
   "cell_type": "code",
   "execution_count": null,
   "metadata": {},
   "outputs": [],
   "source": [
    "mc1_mean = np.mean(mc1_max_err, axis=0)\n",
    "mc1_percentile_25 = np.percentile(mc1_max_err, 25, axis=0)\n",
    "mc1_percentile_75 = np.percentile(mc1_max_err, 75, axis=0)\n",
    "\n",
    "qinf1_mean = np.mean(qinf1_max_err, axis=0)\n",
    "qinf1_percentile_25 = np.percentile(qinf1_max_err, 25, axis=0)\n",
    "qinf1_percentile_75 = np.percentile(qinf1_max_err, 75, axis=0)\n",
    "\n",
    "\n",
    "plt.plot(value_range, mc1_mean, label='MC Mean', color='orange')\n",
    "plt.plot(value_range, qinf1_mean, label='QI Mean', color='blue')\n",
    "\n",
    "plt.fill_between(value_range, mc1_percentile_25, mc1_percentile_75, color='orange', alpha=0.2, label='25th-75th Percentile')\n",
    "plt.fill_between(value_range, qinf1_percentile_25, qinf1_percentile_75, color='blue', alpha=0.2, label='25th-75th Percentile')\n",
    "\n",
    "plt.xlabel('Iterations')\n",
    "plt.ylabel('Error')\n",
    "plt.title(f'Max Error evolution of MC/QI samplers ({nb_obs} observations)')\n",
    "plt.legend()\n",
    "plt.grid(True)\n",
    "\n",
    "plt.savefig('ErrEvoIter.png')\n",
    "plt.show()"
   ]
  },
  {
   "cell_type": "code",
   "execution_count": null,
   "metadata": {},
   "outputs": [],
   "source": [
    "qrt1 = qRuntime(qinf1, backend)\n",
    "qrt1.getGateExecutionTime()\n",
    "A_time = qrt1.A_time\n",
    "G_time = qrt1.G_time"
   ]
  },
  {
   "cell_type": "code",
   "execution_count": null,
   "metadata": {},
   "outputs": [],
   "source": [
    "nb_obs = 10"
   ]
  },
  {
   "cell_type": "code",
   "execution_count": null,
   "metadata": {},
   "outputs": [],
   "source": [
    "mc1_time = list()\n",
    "\n",
    "for j in range(nb_obs):\n",
    "    mc1_time.append(list())\n",
    "    for i in value_range:\n",
    "\n",
    "        mc1 = gum.MonteCarloSampling(bn1)\n",
    "        mc1.setEvidence(ev1)\n",
    "        mc1.setEpsilon(1e-10)\n",
    "        mc1.setMaxTime(1e10)\n",
    "        mc1.setMaxIter(i)\n",
    "        mc1.makeInference()\n",
    "\n",
    "        mc1_time[j].append(mc1.currentTime())\n",
    "\n",
    "mc1_time = np.array(mc1_time)"
   ]
  },
  {
   "cell_type": "code",
   "execution_count": null,
   "metadata": {},
   "outputs": [],
   "source": [
    "qinf1_time = list()\n",
    "\n",
    "for j in range(nb_obs):\n",
    "    qinf1_time.append(list())\n",
    "    print(f\"Run number {j} -\", end=' ')\n",
    "    for i in value_range:\n",
    "\n",
    "        qinf1.setMaxIter(i)\n",
    "        qinf1.makeInference()\n",
    "\n",
    "        qrt = qRuntime(qinf1, backend)\n",
    "        qrt.A_time = A_time\n",
    "        qrt.G_time = G_time\n",
    "\n",
    "        run_time = qrt.rejectionSamplingRuntime()\n",
    "        qinf1_time[j].append(run_time)\n",
    "\n",
    "        print(f\"{i}: {run_time:.4f}\", end=', ')\n",
    "    print()\n",
    "\n",
    "qinf1_time = np.array(qinf1_time)"
   ]
  },
  {
   "cell_type": "code",
   "execution_count": null,
   "metadata": {},
   "outputs": [],
   "source": [
    "mc1_mean = np.mean(mc1_time, axis=0)\n",
    "mc1_percentile_25 = np.percentile(mc1_time, 25, axis=0)\n",
    "mc1_percentile_75 = np.percentile(mc1_time, 75, axis=0)\n",
    "\n",
    "qinf1_mean = np.mean(qinf1_time, axis=0)\n",
    "qinf1_percentile_25 = np.percentile(qinf1_time, 25, axis=0)\n",
    "qinf1_percentile_75 = np.percentile(qinf1_time, 75, axis=0)\n",
    "\n",
    "\n",
    "plt.plot(value_range, mc1_mean, label='MC Mean', color='orange')\n",
    "plt.plot(value_range, qinf1_mean, label='QI Mean', color='blue')\n",
    "\n",
    "plt.fill_between(value_range, mc1_percentile_25, mc1_percentile_75, color='orange', alpha=0.2, label='25th-75th Percentile')\n",
    "plt.fill_between(value_range, qinf1_percentile_25, qinf1_percentile_75, color='blue', alpha=0.2, label='25th-75th Percentile')\n",
    "\n",
    "plt.xlabel('Time')\n",
    "plt.ylabel('Iterations')\n",
    "plt.title(f'Time evolution of MC/QI samplers ({nb_obs} observations)')\n",
    "plt.legend()\n",
    "plt.grid(True)\n",
    "\n",
    "plt.savefig('TimeEvoIter.png')\n",
    "plt.show()"
   ]
  },
  {
   "cell_type": "code",
   "execution_count": null,
   "metadata": {},
   "outputs": [],
   "source": [
    "value_range = range(100, 1001 ,100)\n",
    "nb_obs = 10\n",
    "iter = 200"
   ]
  },
  {
   "cell_type": "code",
   "execution_count": null,
   "metadata": {},
   "outputs": [],
   "source": [
    "\n",
    "qinf_run_time_list = list()\n",
    "qinf_proba_err_list = list()\n",
    "\n",
    "for j in range(nb_obs):\n",
    "\n",
    "    qinf_run_time_list.append(list())\n",
    "    qinf_proba_err_list.append(list())\n",
    "\n",
    "    for i in value_range:\n",
    "        bn = gum.fastBN(\"A->B<-C\", 2)\n",
    "        bn.cpt(\"C\")[:] = [i**(-1/2), 1-i**(-1/2)]\n",
    "        bn.cpt(\"A\")[:] = [i**(-1/2), 1-i**(-1/2)]\n",
    "        bn.cpt(\"B\")[:] = [[[0.3,0.7],[0.4,0.6]],[[0.5,0.5],[0.6,0.4]]]\n",
    "        evidence = {\"A\": 0, \"C\": 0}\n",
    "        target = \"B\"\n",
    "\n",
    "        ie = gum.LazyPropagation(bn)\n",
    "        ie.setEvidence(evidence)\n",
    "        ie.makeInference()\n",
    "\n",
    "        qbn = qBNMC(bn)\n",
    "\n",
    "        qinf = qBNRejection(qbn)\n",
    "        qinf.setEvidence(evidence)\n",
    "        qinf.getGates()\n",
    "        qinf.setMaxIter(iter)\n",
    "        qinf.makeInference()\n",
    "\n",
    "        qrt = qRuntime(qinf, backend)\n",
    "        run_time = qrt.rejectionSamplingRuntime()\n",
    "\n",
    "        error = (qinf.posterior(target).toarray() - ie.posterior(target).toarray()).max()\n",
    "\n",
    "        print(f\"i: {i}, P(e): {ie.evidenceProbability():.10f}, log: {qinf.log}, runtime: {run_time:.5f}, error: {error}\")\n",
    "\n",
    "        qinf_run_time_list[j].append(run_time)\n",
    "        qinf_proba_err_list[j].append(error)\n",
    "\n",
    "qinf_run_time_list = np.array(qinf_run_time_list)\n",
    "qinf_proba_err_list = np.array(qinf_proba_err_list)"
   ]
  },
  {
   "cell_type": "code",
   "execution_count": null,
   "metadata": {},
   "outputs": [],
   "source": [
    "mc_run_time_list = list()\n",
    "mc_proba_err_list = list()\n",
    "\n",
    "ev_proba_list = list()\n",
    "\n",
    "for j in range(nb_obs):\n",
    "\n",
    "    mc_run_time_list.append(list())\n",
    "    mc_proba_err_list.append(list())\n",
    "    ev_proba_list.append(list())\n",
    "\n",
    "    for i in value_range:\n",
    "        bn = gum.fastBN(\"A->B<-C\", 2)\n",
    "        bn.cpt(\"C\")[:] = [i**(-1/2), 1-i**(-1/2)]\n",
    "        bn.cpt(\"A\")[:] = [i**(-1/2), 1-i**(-1/2)]\n",
    "        bn.cpt(\"B\")[:] = [[[0.3,0.7],[0.4,0.6]],[[0.5,0.5],[0.6,0.4]]]\n",
    "        evidence = {\"A\": 0, \"C\": 0}\n",
    "        target = \"B\"\n",
    "\n",
    "        ie = gum.LazyPropagation(bn)\n",
    "        ie.setEvidence(evidence)\n",
    "        ie.makeInference()\n",
    "\n",
    "        mc = gum.MonteCarloSampling(bn)\n",
    "\n",
    "        mc.setEvidence(evidence)\n",
    "        mc.setEpsilon(1e-10)\n",
    "        mc.setMaxTime(1e10)\n",
    "        mc.setMaxIter(iter)\n",
    "        mc.makeInference()\n",
    "\n",
    "        run_time = mc.currentTime()\n",
    "\n",
    "        error = (mc.posterior(target).toarray() - ie.posterior(target).toarray()).max()\n",
    "\n",
    "        print(f\"i: {i}, P(e): {ie.evidenceProbability():.10f}, runtime: {run_time:.5f}, error: {error}\")\n",
    "\n",
    "        mc_run_time_list[j].append(run_time)\n",
    "        mc_proba_err_list[j].append(error)\n",
    "\n",
    "        ev_proba_list[j].append(ie.evidenceProbability())\n",
    "\n",
    "ev_proba_list = ev_proba_list[0]\n",
    "\n",
    "mc_run_time_list = np.array(mc_run_time_list)\n",
    "mc_proba_err_list = np.array(mc_proba_err_list)"
   ]
  },
  {
   "cell_type": "code",
   "execution_count": null,
   "metadata": {},
   "outputs": [],
   "source": [
    "mc1_mean = np.mean(mc_run_time_list, axis=0)\n",
    "mc1_percentile_25 = np.percentile(mc_run_time_list, 25, axis=0)\n",
    "mc1_percentile_75 = np.percentile(mc_run_time_list, 75, axis=0)\n",
    "\n",
    "qinf1_mean = np.mean(qinf_run_time_list, axis=0)\n",
    "qinf1_percentile_25 = np.percentile(qinf_run_time_list, 25, axis=0)\n",
    "qinf1_percentile_75 = np.percentile(qinf_run_time_list, 75, axis=0)\n",
    "\n",
    "plt.plot(ev_proba_list, mc1_mean, label='MC Mean', color='orange')\n",
    "plt.plot(ev_proba_list, qinf1_mean, label='QI Mean', color='blue')\n",
    "\n",
    "plt.fill_between(ev_proba_list, mc1_percentile_25, mc1_percentile_75, color='orange', alpha=0.2, label='25th-75th Percentile')\n",
    "plt.fill_between(ev_proba_list, qinf1_percentile_25, qinf1_percentile_75, color='blue', alpha=0.2, label='25th-75th Percentile')\n",
    "\n",
    "plt.xlabel('Evidence probability')\n",
    "plt.ylabel('Time')\n",
    "plt.title(f'Time evolution of MC/QI samplers ({nb_obs} observations, {iter} iterations)')\n",
    "plt.legend()\n",
    "plt.grid(True)\n",
    "\n",
    "plt.savefig('TimeEvoProb.png')\n",
    "plt.show()"
   ]
  },
  {
   "cell_type": "code",
   "execution_count": null,
   "metadata": {},
   "outputs": [],
   "source": [
    "mc1_mean = np.mean(mc_proba_err_list, axis=0)\n",
    "mc1_percentile_25 = np.percentile(mc_proba_err_list, 25, axis=0)\n",
    "mc1_percentile_75 = np.percentile(mc_proba_err_list, 75, axis=0)\n",
    "\n",
    "qinf1_mean = np.mean(qinf_proba_err_list, axis=0)\n",
    "qinf1_percentile_25 = np.percentile(qinf_proba_err_list, 25, axis=0)\n",
    "qinf1_percentile_75 = np.percentile(qinf_proba_err_list, 75, axis=0)\n",
    "\n",
    "plt.plot(ev_proba_list, mc1_mean, label='MC Mean', color='orange')\n",
    "plt.plot(ev_proba_list, qinf1_mean, label='QI Mean', color='blue')\n",
    "\n",
    "plt.fill_between(ev_proba_list, mc1_percentile_25, mc1_percentile_75, color='orange', alpha=0.2, label='25th-75th Percentile')\n",
    "plt.fill_between(ev_proba_list, qinf1_percentile_25, qinf1_percentile_75, color='blue', alpha=0.2, label='25th-75th Percentile')\n",
    "\n",
    "plt.xlabel('Evidence probability')\n",
    "plt.ylabel('Error')\n",
    "plt.title(f'Error evolution of MC/QI samplers ({nb_obs} observations, {iter} iterations)')\n",
    "plt.legend()\n",
    "plt.grid(True)\n",
    "\n",
    "plt.savefig('ErrEvoProb.png')\n",
    "plt.show()"
   ]
  },
  {
   "cell_type": "code",
   "execution_count": null,
   "metadata": {},
   "outputs": [],
   "source": []
  }
 ],
 "metadata": {
  "kernelspec": {
   "display_name": "Python 3",
   "language": "python",
   "name": "python3"
  },
  "language_info": {
   "codemirror_mode": {
    "name": "ipython",
    "version": 3
   },
   "file_extension": ".py",
   "mimetype": "text/x-python",
   "name": "python",
   "nbconvert_exporter": "python",
   "pygments_lexer": "ipython3",
   "version": "3.10.12"
  }
 },
 "nbformat": 4,
 "nbformat_minor": 2
}
