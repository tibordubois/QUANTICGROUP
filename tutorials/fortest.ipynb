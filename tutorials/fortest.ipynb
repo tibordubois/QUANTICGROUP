{
 "cells": [
  {
   "cell_type": "code",
   "execution_count": 3,
   "metadata": {},
   "outputs": [
    {
     "name": "stdout",
     "output_type": "stream",
     "text": [
      "The autoreload extension is already loaded. To reload it, use:\n",
      "  %reload_ext autoreload\n"
     ]
    }
   ],
   "source": [
    "%load_ext autoreload\n",
    "%autoreload 2\n",
    "\n",
    "import sys\n",
    "if sys.path[-1] != \"..\": sys.path.append(\"../\")\n",
    "\n",
    "from qBN.qBNMC import qBNMC\n",
    "from qBN.qBNRejection import qBNRejection\n",
    "from XPs.qBNRT import qRuntime\n",
    "\n",
    "import pyAgrum as gum\n",
    "import pyAgrum.lib.notebook as gnb\n",
    "\n",
    "import random\n",
    "import numpy as np\n",
    "\n",
    "import matplotlib.pyplot as plt"
   ]
  },
  {
   "cell_type": "code",
   "execution_count": 4,
   "metadata": {},
   "outputs": [
    {
     "name": "stderr",
     "output_type": "stream",
     "text": [
      "/tmp/ipykernel_21851/1320750717.py:9: DeprecationWarning: The get_backend() method is deprecated as of qiskit-ibm-runtime 0.24 and will be removed no sooner than 3 months after the release date. Please use backend() instead.\n",
      "  backend = service.get_backend(\"ibm_brisbane\")\n"
     ]
    }
   ],
   "source": [
    "from qiskit_ibm_runtime import QiskitRuntimeService\n",
    "\n",
    "service = QiskitRuntimeService(\n",
    "    channel='ibm_quantum',\n",
    "    instance='ibm-q/open/main',\n",
    "    token='1b6910ff55c1d3853e5c8e2ca2b0dbbc3b415fb897d26a6c272c63254527581c824aea1180585f706ab8263318f3c553549d136ca32952ef401abb54011eee33'\n",
    ")\n",
    "\n",
    "backend = service.get_backend(\"ibm_brisbane\")"
   ]
  },
  {
   "cell_type": "code",
   "execution_count": 5,
   "metadata": {},
   "outputs": [
    {
     "data": {
      "image/svg+xml": [
       "<svg xmlns=\"http://www.w3.org/2000/svg\" xmlns:xlink=\"http://www.w3.org/1999/xlink\" width=\"380pt\" height=\"260pt\" viewBox=\"0.00 0.00 380.09 260.00\">\n",
       "<g id=\"graph0\" class=\"graph\" transform=\"scale(1 1) rotate(0) translate(4 256)\">\n",
       "<title>G</title>\n",
       "<!-- dyspnoea -->\n",
       "<g id=\"node1\" class=\"node\">\n",
       "<title>dyspnoea</title>\n",
       "<g id=\"a_node1\"><a xlink:title=\"(7) dyspnoea\">\n",
       "<ellipse fill=\"#404040\" stroke=\"#4a4a4a\" cx=\"77.84\" cy=\"-18\" rx=\"54.69\" ry=\"18\"/>\n",
       "<text text-anchor=\"middle\" x=\"77.84\" y=\"-14.3\" font-family=\"Times,serif\" font-size=\"14.00\" fill=\"white\">dyspnoea</text>\n",
       "</a>\n",
       "</g>\n",
       "</g>\n",
       "<!-- lung_cancer -->\n",
       "<g id=\"node2\" class=\"node\">\n",
       "<title>lung_cancer</title>\n",
       "<g id=\"a_node2\"><a xlink:title=\"(4) lung_cancer\">\n",
       "<ellipse fill=\"#404040\" stroke=\"#4a4a4a\" cx=\"151.84\" cy=\"-162\" rx=\"66.09\" ry=\"18\"/>\n",
       "<text text-anchor=\"middle\" x=\"151.84\" y=\"-158.3\" font-family=\"Times,serif\" font-size=\"14.00\" fill=\"white\">lung_cancer</text>\n",
       "</a>\n",
       "</g>\n",
       "</g>\n",
       "<!-- tuberculos_or_cancer -->\n",
       "<g id=\"node5\" class=\"node\">\n",
       "<title>tuberculos_or_cancer</title>\n",
       "<g id=\"a_node5\"><a xlink:title=\"(2) tuberculos_or_cancer\">\n",
       "<ellipse fill=\"#404040\" stroke=\"#4a4a4a\" cx=\"242.84\" cy=\"-90\" rx=\"109.38\" ry=\"18\"/>\n",
       "<text text-anchor=\"middle\" x=\"242.84\" y=\"-86.3\" font-family=\"Times,serif\" font-size=\"14.00\" fill=\"white\">tuberculos_or_cancer</text>\n",
       "</a>\n",
       "</g>\n",
       "</g>\n",
       "<!-- lung_cancer&#45;&gt;tuberculos_or_cancer -->\n",
       "<g id=\"edge5\" class=\"edge\">\n",
       "<title>lung_cancer-&gt;tuberculos_or_cancer</title>\n",
       "<g id=\"a_edge5\"><a xlink:title=\"4 → 2\">\n",
       "<path fill=\"none\" stroke=\"#4a4a4a\" d=\"M172.95,-144.76C184.75,-135.69 199.66,-124.22 212.68,-114.21\"/>\n",
       "<polygon fill=\"#4a4a4a\" stroke=\"#4a4a4a\" points=\"215.11,-116.75 220.9,-107.88 210.84,-111.2 215.11,-116.75\"/>\n",
       "</a>\n",
       "</g>\n",
       "</g>\n",
       "<!-- visit_to_Asia -->\n",
       "<g id=\"node3\" class=\"node\">\n",
       "<title>visit_to_Asia</title>\n",
       "<g id=\"a_node3\"><a xlink:title=\"(0) visit_to_Asia\">\n",
       "<ellipse fill=\"#404040\" stroke=\"#4a4a4a\" cx=\"303.84\" cy=\"-234\" rx=\"68.49\" ry=\"18\"/>\n",
       "<text text-anchor=\"middle\" x=\"303.84\" y=\"-230.3\" font-family=\"Times,serif\" font-size=\"14.00\" fill=\"white\">visit_to_Asia</text>\n",
       "</a>\n",
       "</g>\n",
       "</g>\n",
       "<!-- tuberculosis -->\n",
       "<g id=\"node8\" class=\"node\">\n",
       "<title>tuberculosis</title>\n",
       "<g id=\"a_node8\"><a xlink:title=\"(1) tuberculosis\">\n",
       "<ellipse fill=\"#404040\" stroke=\"#4a4a4a\" cx=\"303.84\" cy=\"-162\" rx=\"67.69\" ry=\"18\"/>\n",
       "<text text-anchor=\"middle\" x=\"303.84\" y=\"-158.3\" font-family=\"Times,serif\" font-size=\"14.00\" fill=\"white\">tuberculosis</text>\n",
       "</a>\n",
       "</g>\n",
       "</g>\n",
       "<!-- visit_to_Asia&#45;&gt;tuberculosis -->\n",
       "<g id=\"edge1\" class=\"edge\">\n",
       "<title>visit_to_Asia-&gt;tuberculosis</title>\n",
       "<g id=\"a_edge1\"><a xlink:title=\"0 → 1\">\n",
       "<path fill=\"none\" stroke=\"#4a4a4a\" d=\"M303.84,-215.7C303.84,-207.98 303.84,-198.71 303.84,-190.11\"/>\n",
       "<polygon fill=\"#4a4a4a\" stroke=\"#4a4a4a\" points=\"307.34,-190.1 303.84,-180.1 300.34,-190.1 307.34,-190.1\"/>\n",
       "</a>\n",
       "</g>\n",
       "</g>\n",
       "<!-- bronchitis -->\n",
       "<g id=\"node4\" class=\"node\">\n",
       "<title>bronchitis</title>\n",
       "<g id=\"a_node4\"><a xlink:title=\"(6) bronchitis\">\n",
       "<ellipse fill=\"#404040\" stroke=\"#4a4a4a\" cx=\"57.84\" cy=\"-90\" rx=\"57.69\" ry=\"18\"/>\n",
       "<text text-anchor=\"middle\" x=\"57.84\" y=\"-86.3\" font-family=\"Times,serif\" font-size=\"14.00\" fill=\"white\">bronchitis</text>\n",
       "</a>\n",
       "</g>\n",
       "</g>\n",
       "<!-- bronchitis&#45;&gt;dyspnoea -->\n",
       "<g id=\"edge7\" class=\"edge\">\n",
       "<title>bronchitis-&gt;dyspnoea</title>\n",
       "<g id=\"a_edge7\"><a xlink:title=\"6 → 7\">\n",
       "<path fill=\"none\" stroke=\"#4a4a4a\" d=\"M62.69,-72.05C64.91,-64.26 67.61,-54.82 70.11,-46.08\"/>\n",
       "<polygon fill=\"#4a4a4a\" stroke=\"#4a4a4a\" points=\"73.53,-46.85 72.91,-36.28 66.8,-44.93 73.53,-46.85\"/>\n",
       "</a>\n",
       "</g>\n",
       "</g>\n",
       "<!-- tuberculos_or_cancer&#45;&gt;dyspnoea -->\n",
       "<g id=\"edge3\" class=\"edge\">\n",
       "<title>tuberculos_or_cancer-&gt;dyspnoea</title>\n",
       "<g id=\"a_edge3\"><a xlink:title=\"2 → 7\">\n",
       "<path fill=\"none\" stroke=\"#4a4a4a\" d=\"M204.99,-72.94C179.4,-62.08 145.61,-47.75 119.29,-36.58\"/>\n",
       "<polygon fill=\"#4a4a4a\" stroke=\"#4a4a4a\" points=\"120.54,-33.31 109.97,-32.63 117.8,-39.75 120.54,-33.31\"/>\n",
       "</a>\n",
       "</g>\n",
       "</g>\n",
       "<!-- positive_XraY -->\n",
       "<g id=\"node6\" class=\"node\">\n",
       "<title>positive_XraY</title>\n",
       "<g id=\"a_node6\"><a xlink:title=\"(3) positive_XraY\">\n",
       "<ellipse fill=\"#404040\" stroke=\"#4a4a4a\" cx=\"242.84\" cy=\"-18\" rx=\"73.39\" ry=\"18\"/>\n",
       "<text text-anchor=\"middle\" x=\"242.84\" y=\"-14.3\" font-family=\"Times,serif\" font-size=\"14.00\" fill=\"white\">positive_XraY</text>\n",
       "</a>\n",
       "</g>\n",
       "</g>\n",
       "<!-- tuberculos_or_cancer&#45;&gt;positive_XraY -->\n",
       "<g id=\"edge6\" class=\"edge\">\n",
       "<title>tuberculos_or_cancer-&gt;positive_XraY</title>\n",
       "<g id=\"a_edge6\"><a xlink:title=\"2 → 3\">\n",
       "<path fill=\"none\" stroke=\"#4a4a4a\" d=\"M242.84,-71.7C242.84,-63.98 242.84,-54.71 242.84,-46.11\"/>\n",
       "<polygon fill=\"#4a4a4a\" stroke=\"#4a4a4a\" points=\"246.34,-46.1 242.84,-36.1 239.34,-46.1 246.34,-46.1\"/>\n",
       "</a>\n",
       "</g>\n",
       "</g>\n",
       "<!-- smoking -->\n",
       "<g id=\"node7\" class=\"node\">\n",
       "<title>smoking</title>\n",
       "<g id=\"a_node7\"><a xlink:title=\"(5) smoking\">\n",
       "<ellipse fill=\"#404040\" stroke=\"#4a4a4a\" cx=\"104.84\" cy=\"-234\" rx=\"50.09\" ry=\"18\"/>\n",
       "<text text-anchor=\"middle\" x=\"104.84\" y=\"-230.3\" font-family=\"Times,serif\" font-size=\"14.00\" fill=\"white\">smoking</text>\n",
       "</a>\n",
       "</g>\n",
       "</g>\n",
       "<!-- smoking&#45;&gt;lung_cancer -->\n",
       "<g id=\"edge4\" class=\"edge\">\n",
       "<title>smoking-&gt;lung_cancer</title>\n",
       "<g id=\"a_edge4\"><a xlink:title=\"5 → 4\">\n",
       "<path fill=\"none\" stroke=\"#4a4a4a\" d=\"M115.98,-216.41C121.58,-208.08 128.48,-197.8 134.73,-188.49\"/>\n",
       "<polygon fill=\"#4a4a4a\" stroke=\"#4a4a4a\" points=\"137.79,-190.21 140.46,-179.96 131.98,-186.31 137.79,-190.21\"/>\n",
       "</a>\n",
       "</g>\n",
       "</g>\n",
       "<!-- smoking&#45;&gt;bronchitis -->\n",
       "<g id=\"edge8\" class=\"edge\">\n",
       "<title>smoking-&gt;bronchitis</title>\n",
       "<g id=\"a_edge8\"><a xlink:title=\"5 → 6\">\n",
       "<path fill=\"none\" stroke=\"#4a4a4a\" d=\"M94.53,-216.36C88.61,-206.19 81.46,-192.72 76.84,-180 69.53,-159.86 64.64,-136.08 61.65,-118.17\"/>\n",
       "<polygon fill=\"#4a4a4a\" stroke=\"#4a4a4a\" points=\"65.08,-117.45 60.07,-108.12 58.16,-118.54 65.08,-117.45\"/>\n",
       "</a>\n",
       "</g>\n",
       "</g>\n",
       "<!-- tuberculosis&#45;&gt;tuberculos_or_cancer -->\n",
       "<g id=\"edge2\" class=\"edge\">\n",
       "<title>tuberculosis-&gt;tuberculos_or_cancer</title>\n",
       "<g id=\"a_edge2\"><a xlink:title=\"1 → 2\">\n",
       "<path fill=\"none\" stroke=\"#4a4a4a\" d=\"M289.39,-144.41C281.9,-135.82 272.61,-125.16 264.31,-115.63\"/>\n",
       "<polygon fill=\"#4a4a4a\" stroke=\"#4a4a4a\" points=\"266.83,-113.2 257.62,-107.96 261.55,-117.79 266.83,-113.2\"/>\n",
       "</a>\n",
       "</g>\n",
       "</g>\n",
       "</g>\n",
       "</svg>"
      ],
      "text/plain": [
       "<IPython.core.display.SVG object>"
      ]
     },
     "metadata": {},
     "output_type": "display_data"
    },
    {
     "name": "stdout",
     "output_type": "stream",
     "text": [
      "visit_to_Asia:Labelized({0|1}) 0\n",
      "tuberculosis:Labelized({0|1}) 1\n",
      "tuberculos_or_cancer:Labelized({0|1}) 2\n",
      "positive_XraY:Labelized({0|1}) 3\n",
      "lung_cancer:Labelized({0|1}) 4\n",
      "smoking:Labelized({0|1}) 5\n",
      "bronchitis:Labelized({0|1}) 6\n",
      "dyspnoea:Labelized({0|1}) 7\n"
     ]
    }
   ],
   "source": [
    "asia_bn = gum.loadBN(\"../tutorials/bayes_nets/asia.bif\")\n",
    "gnb.showBN(asia_bn, size=20)\n",
    "for n_id in asia_bn.nodes():\n",
    "    print(asia_bn.variable(n_id), n_id)"
   ]
  },
  {
   "cell_type": "code",
   "execution_count": 17,
   "metadata": {},
   "outputs": [
    {
     "data": {
      "text/plain": [
       "[{'tuberculosis': 0, 'lung_cancer': 0},\n",
       " {'tuberculosis': 1, 'lung_cancer': 0},\n",
       " {'tuberculosis': 0, 'lung_cancer': 1},\n",
       " {'tuberculosis': 1, 'lung_cancer': 1}]"
      ]
     },
     "execution_count": 17,
     "metadata": {},
     "output_type": "execute_result"
    }
   ],
   "source": [
    "qbn = qBNMC(asia_bn)\n",
    "qbn.getAllParentSates('tuberculos_or_cancer')"
   ]
  },
  {
   "cell_type": "code",
   "execution_count": 21,
   "metadata": {},
   "outputs": [
    {
     "data": {
      "text/plain": [
       "1000"
      ]
     },
     "execution_count": 21,
     "metadata": {},
     "output_type": "execute_result"
    }
   ],
   "source": [
    "qr = qBNRejection(qbn)\n",
    "qr.maxIter()"
   ]
  },
  {
   "cell_type": "code",
   "execution_count": null,
   "metadata": {},
   "outputs": [],
   "source": []
  }
 ],
 "metadata": {
  "kernelspec": {
   "display_name": "Python 3",
   "language": "python",
   "name": "python3"
  },
  "language_info": {
   "codemirror_mode": {
    "name": "ipython",
    "version": 3
   },
   "file_extension": ".py",
   "mimetype": "text/x-python",
   "name": "python",
   "nbconvert_exporter": "python",
   "pygments_lexer": "ipython3",
   "version": "3.10.12"
  }
 },
 "nbformat": 4,
 "nbformat_minor": 2
}
