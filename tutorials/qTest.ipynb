{
 "cells": [
  {
   "cell_type": "code",
   "execution_count": 1,
   "id": "9c438004-dbdc-4971-aee4-209108887d3a",
   "metadata": {},
   "outputs": [
    {
     "ename": "ModuleNotFoundError",
     "evalue": "No module named 'qBN'",
     "output_type": "error",
     "traceback": [
      "\u001b[0;31m---------------------------------------------------------------------------\u001b[0m",
      "\u001b[0;31mModuleNotFoundError\u001b[0m                       Traceback (most recent call last)",
      "Cell \u001b[0;32mIn[1], line 1\u001b[0m\n\u001b[0;32m----> 1\u001b[0m \u001b[38;5;28;01mfrom\u001b[39;00m \u001b[38;5;21;01mqBN\u001b[39;00m\u001b[38;5;21;01m.\u001b[39;00m\u001b[38;5;21;01mqBNclass\u001b[39;00m \u001b[38;5;28;01mimport\u001b[39;00m qBayesNet\n\u001b[1;32m      2\u001b[0m \u001b[38;5;28;01mfrom\u001b[39;00m \u001b[38;5;21;01mqInference\u001b[39;00m\u001b[38;5;21;01m.\u001b[39;00m\u001b[38;5;21;01mqInferenceBN\u001b[39;00m \u001b[38;5;28;01mimport\u001b[39;00m qInfBN\n\u001b[1;32m      3\u001b[0m \u001b[38;5;28;01mfrom\u001b[39;00m \u001b[38;5;21;01mqTest\u001b[39;00m\u001b[38;5;21;01m.\u001b[39;00m\u001b[38;5;21;01mqBayesNetTest\u001b[39;00m \u001b[38;5;28;01mimport\u001b[39;00m TestQBayesNet\n",
      "\u001b[0;31mModuleNotFoundError\u001b[0m: No module named 'qBN'"
     ]
    }
   ],
   "source": [
    "from qBN.qBNclass import qBayesNet\n",
    "from qInference.qInferenceBN import qInfBN\n",
    "from qTest.qBayesNetTest import TestQBayesNet\n",
    "from qTest.qInfBNTest import TestQInfBN\n",
    "import pyAgrum as gum\n",
    "import unittest"
   ]
  },
  {
   "cell_type": "code",
   "execution_count": 2,
   "id": "81c82817-1767-4e0f-890d-8928c2700c70",
   "metadata": {},
   "outputs": [
    {
     "name": "stderr",
     "output_type": "stream",
     "text": [
      "----------------------------------------------------------------------\n",
      "Ran 4 tests in 0.002s\n",
      "\n",
      "OK\n"
     ]
    },
    {
     "data": {
      "text/plain": [
       "<unittest.runner.TextTestResult run=4 errors=0 failures=0>"
      ]
     },
     "execution_count": 2,
     "metadata": {},
     "output_type": "execute_result"
    }
   ],
   "source": [
    "suite1 = unittest.TestLoader().loadTestsFromTestCase(TestQBayesNet)\n",
    "#suite2 = unittest.TestLoader().loadTestsFromTestCase(TestQInfBN) j'ai pas encore terminé. \n",
    "#all_suites = unittest.TestSuite([suite1, suite2])\n",
    "runner = unittest.TextTestRunner(verbosity=0) #plus de detail en cas d'erreur 2, sinon 0 cest suffisant..\n",
    "runner.run(suite1)"
   ]
  },
  {
   "cell_type": "code",
   "execution_count": null,
   "id": "a6ec9190-ffd1-456c-9596-b8f33557aad6",
   "metadata": {},
   "outputs": [],
   "source": []
  }
 ],
 "metadata": {
  "kernelspec": {
   "display_name": "Python 3 (ipykernel)",
   "language": "python",
   "name": "python3"
  },
  "language_info": {
   "codemirror_mode": {
    "name": "ipython",
    "version": 3
   },
   "file_extension": ".py",
   "mimetype": "text/x-python",
   "name": "python",
   "nbconvert_exporter": "python",
   "pygments_lexer": "ipython3",
   "version": "3.10.12"
  }
 },
 "nbformat": 4,
 "nbformat_minor": 5
}
