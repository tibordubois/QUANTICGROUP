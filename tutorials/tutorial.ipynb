{
 "cells": [
  {
   "cell_type": "code",
   "execution_count": 2,
   "metadata": {},
   "outputs": [
    {
     "name": "stderr",
     "output_type": "stream",
     "text": [
      "/usr/lib/python3/dist-packages/scipy/__init__.py:146: UserWarning: A NumPy version >=1.17.3 and <1.25.0 is required for this version of SciPy (detected version 1.26.3\n",
      "  warnings.warn(f\"A NumPy version >={np_minversion} and <{np_maxversion}\"\n"
     ]
    }
   ],
   "source": [
    "%load_ext autoreload\n",
    "%autoreload 2\n",
    "\n",
    "import sys\n",
    "if sys.path[-1] != \"..\": sys.path.append(\"..\")\n",
    "\n",
    "from source.qBN.qBNMC import qBayesNet\n",
    "from source.qBN.qBNRejection import qInference\n",
    "from source.qBN.qBNRT import qRuntime\n",
    "\n",
    "import pyAgrum as gum\n",
    "import pyAgrum.lib.notebook as gnb"
   ]
  },
  {
   "cell_type": "code",
   "execution_count": 3,
   "metadata": {},
   "outputs": [],
   "source": [
    "from qiskit_ibm_runtime import QiskitRuntimeService\n",
    "\n",
    "service = QiskitRuntimeService(\n",
    "    channel='ibm_quantum',\n",
    "    instance='ibm-q/open/main',\n",
    "    token='1b6910ff55c1d3853e5c8e2ca2b0dbbc3b415fb897d26a6c272c63254527581c824aea1180585f706ab8263318f3c553549d136ca32952ef401abb54011eee33'\n",
    ")\n",
    "\n",
    "backend = service.get_backend(\"ibm_brisbane\")\n",
    "\n",
    "# Or save your credentials on disk.\n",
    "# QiskitRuntimeService.save_account(channel='ibm_quantum', instance='ibm-q/open/main', token='1b6910ff55c1d3853e5c8e2ca2b0dbbc3b415fb897d26a6c272c63254527581c824aea1180585f706ab8263318f3c553549d136ca32952ef401abb54011eee33')"
   ]
  },
  {
   "cell_type": "markdown",
   "metadata": {},
   "source": [
    "# Demo 1: \n",
    "### 3 variables, 2 states per variable "
   ]
  },
  {
   "cell_type": "code",
   "execution_count": 64,
   "metadata": {},
   "outputs": [
    {
     "data": {
      "text/html": [
       "<svg xmlns=\"http://www.w3.org/2000/svg\" xmlns:xlink=\"http://www.w3.org/1999/xlink\" width=\"134pt\" height=\"116pt\" viewBox=\"0.00 0.00 134.00 116.00\">\n",
       "<g id=\"graph0\" class=\"graph\" transform=\"scale(1 1) rotate(0) translate(4 112)\">\n",
       "<title>G</title>\n",
       "<!-- C -->\n",
       "<g id=\"node1\" class=\"node\">\n",
       "<title>C</title>\n",
       "<g id=\"a_node1\"><a xlink:title=\"(2) C\">\n",
       "<ellipse fill=\"#404040\" stroke=\"#4a4a4a\" cx=\"27\" cy=\"-90\" rx=\"27\" ry=\"18\"/>\n",
       "<text text-anchor=\"middle\" x=\"27\" y=\"-86.3\" font-family=\"Times,serif\" font-size=\"14.00\" fill=\"white\">C</text>\n",
       "</a>\n",
       "</g>\n",
       "</g>\n",
       "<!-- B -->\n",
       "<g id=\"node2\" class=\"node\">\n",
       "<title>B</title>\n",
       "<g id=\"a_node2\"><a xlink:title=\"(1) B\">\n",
       "<ellipse fill=\"#404040\" stroke=\"#4a4a4a\" cx=\"63\" cy=\"-18\" rx=\"27\" ry=\"18\"/>\n",
       "<text text-anchor=\"middle\" x=\"63\" y=\"-14.3\" font-family=\"Times,serif\" font-size=\"14.00\" fill=\"white\">B</text>\n",
       "</a>\n",
       "</g>\n",
       "</g>\n",
       "<!-- C&#45;&gt;B -->\n",
       "<g id=\"edge2\" class=\"edge\">\n",
       "<title>C-&gt;B</title>\n",
       "<g id=\"a_edge2\"><a xlink:title=\"2 → 1\">\n",
       "<path fill=\"none\" stroke=\"#4a4a4a\" d=\"M35.35,-72.76C39.71,-64.28 45.15,-53.71 50.04,-44.2\"/>\n",
       "<polygon fill=\"#4a4a4a\" stroke=\"#4a4a4a\" points=\"53.23,-45.64 54.7,-35.15 47.01,-42.44 53.23,-45.64\"/>\n",
       "</a>\n",
       "</g>\n",
       "</g>\n",
       "<!-- A -->\n",
       "<g id=\"node3\" class=\"node\">\n",
       "<title>A</title>\n",
       "<g id=\"a_node3\"><a xlink:title=\"(0) A\">\n",
       "<ellipse fill=\"#404040\" stroke=\"#4a4a4a\" cx=\"99\" cy=\"-90\" rx=\"27\" ry=\"18\"/>\n",
       "<text text-anchor=\"middle\" x=\"99\" y=\"-86.3\" font-family=\"Times,serif\" font-size=\"14.00\" fill=\"white\">A</text>\n",
       "</a>\n",
       "</g>\n",
       "</g>\n",
       "<!-- A&#45;&gt;B -->\n",
       "<g id=\"edge1\" class=\"edge\">\n",
       "<title>A-&gt;B</title>\n",
       "<g id=\"a_edge1\"><a xlink:title=\"0 → 1\">\n",
       "<path fill=\"none\" stroke=\"#4a4a4a\" d=\"M90.65,-72.76C86.29,-64.28 80.85,-53.71 75.96,-44.2\"/>\n",
       "<polygon fill=\"#4a4a4a\" stroke=\"#4a4a4a\" points=\"78.99,-42.44 71.3,-35.15 72.77,-45.64 78.99,-42.44\"/>\n",
       "</a>\n",
       "</g>\n",
       "</g>\n",
       "</g>\n",
       "</svg>"
      ],
      "text/plain": [
       "(pyAgrum.BayesNet<double>@0x632dc0218230) BN{nodes: 3, arcs: 2, domainSize: 8, dim: 6, mem: 96o}"
      ]
     },
     "execution_count": 64,
     "metadata": {},
     "output_type": "execute_result"
    }
   ],
   "source": [
    "bn1 = gum.fastBN(\"A->B<-C\", 2)\n",
    "bn1"
   ]
  },
  {
   "cell_type": "code",
   "execution_count": 65,
   "metadata": {},
   "outputs": [],
   "source": [
    "qbn1 = qBayesNet(bn1)\n",
    "qc1 = qbn1.buildCircuit(add_measure=True)\n",
    "#qc1.draw(output=\"mpl\", scale=0.5)"
   ]
  },
  {
   "cell_type": "code",
   "execution_count": 69,
   "metadata": {},
   "outputs": [
    {
     "name": "stdout",
     "output_type": "stream",
     "text": [
      "Evidence: {'B': 0}\n",
      "Evidence probability: 0.6405078326629379\n"
     ]
    }
   ],
   "source": [
    "ev1 = {\"B\": 0}\n",
    "ie1=gum.LazyPropagation(bn1)\n",
    "ie1.setEvidence(ev1)\n",
    "ie1.makeInference()\n",
    "print(f\"Evidence: {ev1}\")\n",
    "print(f\"Evidence probability: {ie1.evidenceProbability()}\")"
   ]
  },
  {
   "cell_type": "code",
   "execution_count": 67,
   "metadata": {},
   "outputs": [],
   "source": [
    "target_node_bn1 = \"A\""
   ]
  },
  {
   "cell_type": "code",
   "execution_count": 68,
   "metadata": {},
   "outputs": [
    {
     "data": {
      "text/html": [
       "<svg xmlns=\"http://www.w3.org/2000/svg\" xmlns:xlink=\"http://www.w3.org/1999/xlink\" width=\"134pt\" height=\"116pt\" viewBox=\"0.00 0.00 134.00 116.00\">\n",
       "<g id=\"graph0\" class=\"graph\" transform=\"scale(1 1) rotate(0) translate(4 112)\">\n",
       "<title>G</title>\n",
       "<!-- C -->\n",
       "<g id=\"node1\" class=\"node\">\n",
       "<title>C</title>\n",
       "<g id=\"a_node1\"><a xlink:title=\"(2) C\">\n",
       "<ellipse fill=\"#404040\" stroke=\"#4a4a4a\" cx=\"27\" cy=\"-90\" rx=\"27\" ry=\"18\"/>\n",
       "<text text-anchor=\"middle\" x=\"27\" y=\"-86.3\" font-family=\"Times,serif\" font-size=\"14.00\" fill=\"white\">C</text>\n",
       "</a>\n",
       "</g>\n",
       "</g>\n",
       "<!-- B -->\n",
       "<g id=\"node2\" class=\"node\">\n",
       "<title>B</title>\n",
       "<g id=\"a_node2\"><a xlink:title=\"(1) B\">\n",
       "<ellipse fill=\"#404040\" stroke=\"#4a4a4a\" cx=\"63\" cy=\"-18\" rx=\"27\" ry=\"18\"/>\n",
       "<text text-anchor=\"middle\" x=\"63\" y=\"-14.3\" font-family=\"Times,serif\" font-size=\"14.00\" fill=\"white\">B</text>\n",
       "</a>\n",
       "</g>\n",
       "</g>\n",
       "<!-- C&#45;&gt;B -->\n",
       "<g id=\"edge2\" class=\"edge\">\n",
       "<title>C-&gt;B</title>\n",
       "<g id=\"a_edge2\"><a xlink:title=\"2 → 1\">\n",
       "<path fill=\"none\" stroke=\"#4a4a4a\" d=\"M35.35,-72.76C39.71,-64.28 45.15,-53.71 50.04,-44.2\"/>\n",
       "<polygon fill=\"#4a4a4a\" stroke=\"#4a4a4a\" points=\"53.23,-45.64 54.7,-35.15 47.01,-42.44 53.23,-45.64\"/>\n",
       "</a>\n",
       "</g>\n",
       "</g>\n",
       "<!-- A -->\n",
       "<g id=\"node3\" class=\"node\">\n",
       "<title>A</title>\n",
       "<g id=\"a_node3\"><a xlink:title=\"(0) A\">\n",
       "<ellipse fill=\"#404040\" stroke=\"#4a4a4a\" cx=\"99\" cy=\"-90\" rx=\"27\" ry=\"18\"/>\n",
       "<text text-anchor=\"middle\" x=\"99\" y=\"-86.3\" font-family=\"Times,serif\" font-size=\"14.00\" fill=\"white\">A</text>\n",
       "</a>\n",
       "</g>\n",
       "</g>\n",
       "<!-- A&#45;&gt;B -->\n",
       "<g id=\"edge1\" class=\"edge\">\n",
       "<title>A-&gt;B</title>\n",
       "<g id=\"a_edge1\"><a xlink:title=\"0 → 1\">\n",
       "<path fill=\"none\" stroke=\"#4a4a4a\" d=\"M90.65,-72.76C86.29,-64.28 80.85,-53.71 75.96,-44.2\"/>\n",
       "<polygon fill=\"#4a4a4a\" stroke=\"#4a4a4a\" points=\"78.99,-42.44 71.3,-35.15 72.77,-45.64 78.99,-42.44\"/>\n",
       "</a>\n",
       "</g>\n",
       "</g>\n",
       "</g>\n",
       "</svg>"
      ],
      "text/plain": [
       "(pyAgrum.BayesNet<double>@0x632db70c5590) BN{nodes: 3, arcs: 2, domainSize: 8, dim: 6, mem: 96o}"
      ]
     },
     "execution_count": 68,
     "metadata": {},
     "output_type": "execute_result"
    }
   ],
   "source": [
    "qinf1 = qInference(qbn1)\n",
    "qinf1.setEvidence(ev1)\n",
    "qinf1.setMaxIter(1000)\n",
    "qinf1.useFragmentBN(target={target_node_bn1})\n",
    "qinf1.qbn.bn"
   ]
  },
  {
   "cell_type": "code",
   "execution_count": null,
   "metadata": {},
   "outputs": [],
   "source": [
    "#ie1.posterior(target_node_bn1)"
   ]
  },
  {
   "cell_type": "code",
   "execution_count": 70,
   "metadata": {},
   "outputs": [],
   "source": [
    "qinf1.makeInference()"
   ]
  },
  {
   "cell_type": "code",
   "execution_count": 71,
   "metadata": {},
   "outputs": [
    {
     "data": {
      "text/html": [
       "<table style=\"border-style: hidden; border-collapse: collapse;\" width=\"100%\"><tr><td style=\"border-top:hidden;border-bottom:hidden;vertical-align:middle;\"><div align=\"center\" style=\"vertical-align:middle;\"><table style=\"border:1px solid black;border-collapse: collapse;\">\n",
       "<tr style='border:1px solid black;color:black;background-color:#808080'>\n",
       "      <th colspan='2'><center>A</center></th></tr>\n",
       "<tr><th style='border:1px solid black;border-bottom-style: double;color:black;background-color:#BBBBBB'>\n",
       "      <center>0</center></th><th style='border:1px solid black;border-bottom-style: double;color:black;background-color:#BBBBBB'>\n",
       "      <center>1</center></th></tr>\n",
       "<tr><td style='color:black;background-color:#bac364;text-align:right;padding: 3px;'>0.5380</td><td style='color:black;background-color:#c3ba64;text-align:right;padding: 3px;'>0.4620</td></tr>\n",
       "</table><br><small><i>qInference</i></small></div></td><td style=\"border-top:hidden;border-bottom:hidden;vertical-align:middle;\"><div align=\"center\" style=\"vertical-align:middle;\"><table style=\"border:1px solid black;border-collapse: collapse;\">\n",
       "<tr style='border:1px solid black;color:black;background-color:#808080'>\n",
       "      <th colspan='2'><center>A</center></th></tr>\n",
       "<tr><th style='border:1px solid black;border-bottom-style: double;color:black;background-color:#BBBBBB'>\n",
       "      <center>0</center></th><th style='border:1px solid black;border-bottom-style: double;color:black;background-color:#BBBBBB'>\n",
       "      <center>1</center></th></tr>\n",
       "<tr><td style='color:black;background-color:#bbc264;text-align:right;padding: 3px;'>0.5310</td><td style='color:black;background-color:#c2bb64;text-align:right;padding: 3px;'>0.4690</td></tr>\n",
       "</table><br><small><i>LazyPropagation</i></small></div></td></tr></table>"
      ],
      "text/plain": [
       "<IPython.core.display.HTML object>"
      ]
     },
     "metadata": {},
     "output_type": "display_data"
    }
   ],
   "source": [
    "gnb.sideBySide(qinf1.posterior(target_node_bn1),\n",
    "               ie1.posterior(target_node_bn1),\n",
    "               captions=[\"qInference\", \"LazyPropagation\"])"
   ]
  },
  {
   "cell_type": "code",
   "execution_count": 72,
   "metadata": {},
   "outputs": [
    {
     "name": "stdout",
     "output_type": "stream",
     "text": [
      "A gate transpiled circuit depth: 148\n",
      "A gate execution time: 4.3520000000000003e-05 s\n",
      "G gate transpiled circuit depth: 176\n",
      "G gate execution time: 4.54e-05 s\n",
      "q-Inference log: {'A': 1894, 'G': 1930}\n"
     ]
    },
    {
     "data": {
      "text/plain": [
       "0.17004888"
      ]
     },
     "execution_count": 72,
     "metadata": {},
     "output_type": "execute_result"
    }
   ],
   "source": [
    "qrt1 = qRuntime(qinf1, backend)\n",
    "qrt1.getGateExecutionTime()\n",
    "print(f\"q-Inference log: {qrt1.qinf.log}\")\n",
    "qrt1.rejectionSamplingRuntime()"
   ]
  },
  {
   "cell_type": "markdown",
   "metadata": {},
   "source": [
    "# Demo 2:\n",
    "### 3 variables, 5 states  per variable"
   ]
  },
  {
   "cell_type": "code",
   "execution_count": 53,
   "metadata": {},
   "outputs": [
    {
     "data": {
      "text/html": [
       "<svg xmlns=\"http://www.w3.org/2000/svg\" xmlns:xlink=\"http://www.w3.org/1999/xlink\" width=\"134pt\" height=\"116pt\" viewBox=\"0.00 0.00 134.00 116.00\">\n",
       "<g id=\"graph0\" class=\"graph\" transform=\"scale(1 1) rotate(0) translate(4 112)\">\n",
       "<title>G</title>\n",
       "<!-- C -->\n",
       "<g id=\"node1\" class=\"node\">\n",
       "<title>C</title>\n",
       "<g id=\"a_node1\"><a xlink:title=\"(2) C\">\n",
       "<ellipse fill=\"#404040\" stroke=\"#4a4a4a\" cx=\"27\" cy=\"-90\" rx=\"27\" ry=\"18\"/>\n",
       "<text text-anchor=\"middle\" x=\"27\" y=\"-86.3\" font-family=\"Times,serif\" font-size=\"14.00\" fill=\"white\">C</text>\n",
       "</a>\n",
       "</g>\n",
       "</g>\n",
       "<!-- B -->\n",
       "<g id=\"node2\" class=\"node\">\n",
       "<title>B</title>\n",
       "<g id=\"a_node2\"><a xlink:title=\"(1) B\">\n",
       "<ellipse fill=\"#404040\" stroke=\"#4a4a4a\" cx=\"63\" cy=\"-18\" rx=\"27\" ry=\"18\"/>\n",
       "<text text-anchor=\"middle\" x=\"63\" y=\"-14.3\" font-family=\"Times,serif\" font-size=\"14.00\" fill=\"white\">B</text>\n",
       "</a>\n",
       "</g>\n",
       "</g>\n",
       "<!-- C&#45;&gt;B -->\n",
       "<g id=\"edge2\" class=\"edge\">\n",
       "<title>C-&gt;B</title>\n",
       "<g id=\"a_edge2\"><a xlink:title=\"2 → 1\">\n",
       "<path fill=\"none\" stroke=\"#4a4a4a\" d=\"M35.35,-72.76C39.71,-64.28 45.15,-53.71 50.04,-44.2\"/>\n",
       "<polygon fill=\"#4a4a4a\" stroke=\"#4a4a4a\" points=\"53.23,-45.64 54.7,-35.15 47.01,-42.44 53.23,-45.64\"/>\n",
       "</a>\n",
       "</g>\n",
       "</g>\n",
       "<!-- A -->\n",
       "<g id=\"node3\" class=\"node\">\n",
       "<title>A</title>\n",
       "<g id=\"a_node3\"><a xlink:title=\"(0) A\">\n",
       "<ellipse fill=\"#404040\" stroke=\"#4a4a4a\" cx=\"99\" cy=\"-90\" rx=\"27\" ry=\"18\"/>\n",
       "<text text-anchor=\"middle\" x=\"99\" y=\"-86.3\" font-family=\"Times,serif\" font-size=\"14.00\" fill=\"white\">A</text>\n",
       "</a>\n",
       "</g>\n",
       "</g>\n",
       "<!-- A&#45;&gt;B -->\n",
       "<g id=\"edge1\" class=\"edge\">\n",
       "<title>A-&gt;B</title>\n",
       "<g id=\"a_edge1\"><a xlink:title=\"0 → 1\">\n",
       "<path fill=\"none\" stroke=\"#4a4a4a\" d=\"M90.65,-72.76C86.29,-64.28 80.85,-53.71 75.96,-44.2\"/>\n",
       "<polygon fill=\"#4a4a4a\" stroke=\"#4a4a4a\" points=\"78.99,-42.44 71.3,-35.15 72.77,-45.64 78.99,-42.44\"/>\n",
       "</a>\n",
       "</g>\n",
       "</g>\n",
       "</g>\n",
       "</svg>"
      ],
      "text/plain": [
       "(pyAgrum.BayesNet<double>@0x632db2b29920) BN{nodes: 3, arcs: 2, domainSize: 27, dim: 22, mem: 264o}"
      ]
     },
     "execution_count": 53,
     "metadata": {},
     "output_type": "execute_result"
    }
   ],
   "source": [
    "bn2 = gum.fastBN(\"A->B<-C\", 3)\n",
    "bn2"
   ]
  },
  {
   "cell_type": "code",
   "execution_count": 54,
   "metadata": {},
   "outputs": [],
   "source": [
    "qbn2 = qBayesNet(bn2)\n",
    "qc2 = qbn2.buildCircuit(add_measure=True)\n",
    "#qc2.draw(output=\"mpl\", scale=0.5)"
   ]
  },
  {
   "cell_type": "code",
   "execution_count": 55,
   "metadata": {},
   "outputs": [
    {
     "name": "stdout",
     "output_type": "stream",
     "text": [
      "Evidence: {'B': 0}\n",
      "Evidence probability: 0.5101632293848157\n"
     ]
    }
   ],
   "source": [
    "ev2 = {\"B\": 0}\n",
    "ie2=gum.LazyPropagation(bn2)\n",
    "ie2.setEvidence(ev2)\n",
    "ie2.makeInference()\n",
    "print(f\"Evidence: {ev2}\")\n",
    "print(f\"Evidence probability: {ie2.evidenceProbability()}\")"
   ]
  },
  {
   "cell_type": "code",
   "execution_count": 56,
   "metadata": {},
   "outputs": [],
   "source": [
    "target_node_bn2 = \"A\""
   ]
  },
  {
   "cell_type": "code",
   "execution_count": 60,
   "metadata": {},
   "outputs": [
    {
     "data": {
      "text/html": [
       "<svg xmlns=\"http://www.w3.org/2000/svg\" xmlns:xlink=\"http://www.w3.org/1999/xlink\" width=\"134pt\" height=\"116pt\" viewBox=\"0.00 0.00 134.00 116.00\">\n",
       "<g id=\"graph0\" class=\"graph\" transform=\"scale(1 1) rotate(0) translate(4 112)\">\n",
       "<title>G</title>\n",
       "<!-- C -->\n",
       "<g id=\"node1\" class=\"node\">\n",
       "<title>C</title>\n",
       "<g id=\"a_node1\"><a xlink:title=\"(2) C\">\n",
       "<ellipse fill=\"#404040\" stroke=\"#4a4a4a\" cx=\"27\" cy=\"-90\" rx=\"27\" ry=\"18\"/>\n",
       "<text text-anchor=\"middle\" x=\"27\" y=\"-86.3\" font-family=\"Times,serif\" font-size=\"14.00\" fill=\"white\">C</text>\n",
       "</a>\n",
       "</g>\n",
       "</g>\n",
       "<!-- B -->\n",
       "<g id=\"node2\" class=\"node\">\n",
       "<title>B</title>\n",
       "<g id=\"a_node2\"><a xlink:title=\"(1) B\">\n",
       "<ellipse fill=\"#404040\" stroke=\"#4a4a4a\" cx=\"63\" cy=\"-18\" rx=\"27\" ry=\"18\"/>\n",
       "<text text-anchor=\"middle\" x=\"63\" y=\"-14.3\" font-family=\"Times,serif\" font-size=\"14.00\" fill=\"white\">B</text>\n",
       "</a>\n",
       "</g>\n",
       "</g>\n",
       "<!-- C&#45;&gt;B -->\n",
       "<g id=\"edge2\" class=\"edge\">\n",
       "<title>C-&gt;B</title>\n",
       "<g id=\"a_edge2\"><a xlink:title=\"2 → 1\">\n",
       "<path fill=\"none\" stroke=\"#4a4a4a\" d=\"M35.35,-72.76C39.71,-64.28 45.15,-53.71 50.04,-44.2\"/>\n",
       "<polygon fill=\"#4a4a4a\" stroke=\"#4a4a4a\" points=\"53.23,-45.64 54.7,-35.15 47.01,-42.44 53.23,-45.64\"/>\n",
       "</a>\n",
       "</g>\n",
       "</g>\n",
       "<!-- A -->\n",
       "<g id=\"node3\" class=\"node\">\n",
       "<title>A</title>\n",
       "<g id=\"a_node3\"><a xlink:title=\"(0) A\">\n",
       "<ellipse fill=\"#404040\" stroke=\"#4a4a4a\" cx=\"99\" cy=\"-90\" rx=\"27\" ry=\"18\"/>\n",
       "<text text-anchor=\"middle\" x=\"99\" y=\"-86.3\" font-family=\"Times,serif\" font-size=\"14.00\" fill=\"white\">A</text>\n",
       "</a>\n",
       "</g>\n",
       "</g>\n",
       "<!-- A&#45;&gt;B -->\n",
       "<g id=\"edge1\" class=\"edge\">\n",
       "<title>A-&gt;B</title>\n",
       "<g id=\"a_edge1\"><a xlink:title=\"0 → 1\">\n",
       "<path fill=\"none\" stroke=\"#4a4a4a\" d=\"M90.65,-72.76C86.29,-64.28 80.85,-53.71 75.96,-44.2\"/>\n",
       "<polygon fill=\"#4a4a4a\" stroke=\"#4a4a4a\" points=\"78.99,-42.44 71.3,-35.15 72.77,-45.64 78.99,-42.44\"/>\n",
       "</a>\n",
       "</g>\n",
       "</g>\n",
       "</g>\n",
       "</svg>"
      ],
      "text/plain": [
       "(pyAgrum.BayesNet<double>@0x632db57b1480) BN{nodes: 3, arcs: 2, domainSize: 27, dim: 22, mem: 264o}"
      ]
     },
     "execution_count": 60,
     "metadata": {},
     "output_type": "execute_result"
    }
   ],
   "source": [
    "qinf2 = qInference(qbn2)\n",
    "qinf2.setEvidence(ev2)\n",
    "qinf2.setMaxIter(1000)\n",
    "qinf2.useFragmentBN(target={target_node_bn2})\n",
    "qinf2.qbn.bn"
   ]
  },
  {
   "cell_type": "code",
   "execution_count": 61,
   "metadata": {},
   "outputs": [],
   "source": [
    "qinf2.makeInference()"
   ]
  },
  {
   "cell_type": "code",
   "execution_count": 62,
   "metadata": {},
   "outputs": [
    {
     "data": {
      "text/html": [
       "<table style=\"border-style: hidden; border-collapse: collapse;\" width=\"100%\"><tr><td style=\"border-top:hidden;border-bottom:hidden;vertical-align:middle;\"><div align=\"center\" style=\"vertical-align:middle;\"><table style=\"border:1px solid black;border-collapse: collapse;\">\n",
       "<tr style='border:1px solid black;color:black;background-color:#808080'>\n",
       "      <th colspan='3'><center>A</center></th></tr>\n",
       "<tr><th style='border:1px solid black;border-bottom-style: double;color:black;background-color:#BBBBBB'>\n",
       "      <center>0</center></th><th style='border:1px solid black;border-bottom-style: double;color:black;background-color:#BBBBBB'>\n",
       "      <center>1</center></th><th style='border:1px solid black;border-bottom-style: double;color:black;background-color:#BBBBBB'>\n",
       "      <center>2</center></th></tr>\n",
       "<tr><td style='color:black;background-color:#fb8264;text-align:right;padding: 3px;'>0.0240</td><td style='color:black;background-color:#b7c664;text-align:right;padding: 3px;'>0.5590</td><td style='color:black;background-color:#c9b464;text-align:right;padding: 3px;'>0.4170</td></tr>\n",
       "</table><br><small><i>qInference</i></small></div></td><td style=\"border-top:hidden;border-bottom:hidden;vertical-align:middle;\"><div align=\"center\" style=\"vertical-align:middle;\"><table style=\"border:1px solid black;border-collapse: collapse;\">\n",
       "<tr style='border:1px solid black;color:black;background-color:#808080'>\n",
       "      <th colspan='3'><center>A</center></th></tr>\n",
       "<tr><th style='border:1px solid black;border-bottom-style: double;color:black;background-color:#BBBBBB'>\n",
       "      <center>0</center></th><th style='border:1px solid black;border-bottom-style: double;color:black;background-color:#BBBBBB'>\n",
       "      <center>1</center></th><th style='border:1px solid black;border-bottom-style: double;color:black;background-color:#BBBBBB'>\n",
       "      <center>2</center></th></tr>\n",
       "<tr><td style='color:black;background-color:#fb8264;text-align:right;padding: 3px;'>0.0242</td><td style='color:black;background-color:#bac364;text-align:right;padding: 3px;'>0.5371</td><td style='color:black;background-color:#c6b764;text-align:right;padding: 3px;'>0.4388</td></tr>\n",
       "</table><br><small><i>LazyPropagation</i></small></div></td></tr></table>"
      ],
      "text/plain": [
       "<IPython.core.display.HTML object>"
      ]
     },
     "metadata": {},
     "output_type": "display_data"
    }
   ],
   "source": [
    "gnb.sideBySide(qinf2.posterior(target_node_bn2),\n",
    "               ie2.posterior(target_node_bn2),\n",
    "               captions=[\"qInference\", \"LazyPropagation\"])"
   ]
  },
  {
   "cell_type": "code",
   "execution_count": 63,
   "metadata": {},
   "outputs": [
    {
     "name": "stdout",
     "output_type": "stream",
     "text": [
      "A gate transpiled circuit depth: 17253\n",
      "A gate execution time: 0.005118360000000001 s\n",
      "G gate transpiled circuit depth: 17272\n",
      "G gate execution time: 0.00511884 s\n",
      "q-Inference log: {'A': 1920, 'G': 3630}\n"
     ]
    },
    {
     "data": {
      "text/plain": [
       "28.408640400000003"
      ]
     },
     "execution_count": 63,
     "metadata": {},
     "output_type": "execute_result"
    }
   ],
   "source": [
    "qrt2 = qRuntime(qinf2, backend)\n",
    "qrt2.getGateExecutionTime()\n",
    "print(f\"q-Inference log: {qrt2.qinf.log}\")\n",
    "qrt2.rejectionSamplingRuntime()"
   ]
  },
  {
   "cell_type": "markdown",
   "metadata": {},
   "source": [
    "# Demo 3: (Section 4.1)\n",
    "### 4 variables, 2 states  per variable"
   ]
  },
  {
   "cell_type": "code",
   "execution_count": 41,
   "metadata": {},
   "outputs": [
    {
     "data": {
      "text/html": [
       "<svg xmlns=\"http://www.w3.org/2000/svg\" xmlns:xlink=\"http://www.w3.org/1999/xlink\" width=\"134pt\" height=\"188pt\" viewBox=\"0.00 0.00 134.00 188.00\">\n",
       "<g id=\"graph0\" class=\"graph\" transform=\"scale(1 1) rotate(0) translate(4 184)\">\n",
       "<title>G</title>\n",
       "<!-- SM -->\n",
       "<g id=\"node1\" class=\"node\">\n",
       "<title>SM</title>\n",
       "<g id=\"a_node1\"><a xlink:title=\"(1) SM\">\n",
       "<ellipse fill=\"#404040\" stroke=\"#4a4a4a\" cx=\"99\" cy=\"-90\" rx=\"27\" ry=\"18\"/>\n",
       "<text text-anchor=\"middle\" x=\"99\" y=\"-86.3\" font-family=\"Times,serif\" font-size=\"14.00\" fill=\"white\">SM</text>\n",
       "</a>\n",
       "</g>\n",
       "</g>\n",
       "<!-- SP -->\n",
       "<g id=\"node4\" class=\"node\">\n",
       "<title>SP</title>\n",
       "<g id=\"a_node4\"><a xlink:title=\"(2) SP\">\n",
       "<ellipse fill=\"#404040\" stroke=\"#4a4a4a\" cx=\"63\" cy=\"-18\" rx=\"27\" ry=\"18\"/>\n",
       "<text text-anchor=\"middle\" x=\"63\" y=\"-14.3\" font-family=\"Times,serif\" font-size=\"14.00\" fill=\"white\">SP</text>\n",
       "</a>\n",
       "</g>\n",
       "</g>\n",
       "<!-- SM&#45;&gt;SP -->\n",
       "<g id=\"edge3\" class=\"edge\">\n",
       "<title>SM-&gt;SP</title>\n",
       "<g id=\"a_edge3\"><a xlink:title=\"1 → 2\">\n",
       "<path fill=\"none\" stroke=\"#4a4a4a\" d=\"M90.65,-72.76C86.29,-64.28 80.85,-53.71 75.96,-44.2\"/>\n",
       "<polygon fill=\"#4a4a4a\" stroke=\"#4a4a4a\" points=\"78.99,-42.44 71.3,-35.15 72.77,-45.64 78.99,-42.44\"/>\n",
       "</a>\n",
       "</g>\n",
       "</g>\n",
       "<!-- OI -->\n",
       "<g id=\"node2\" class=\"node\">\n",
       "<title>OI</title>\n",
       "<g id=\"a_node2\"><a xlink:title=\"(3) OI\">\n",
       "<ellipse fill=\"#404040\" stroke=\"#4a4a4a\" cx=\"27\" cy=\"-90\" rx=\"27\" ry=\"18\"/>\n",
       "<text text-anchor=\"middle\" x=\"27\" y=\"-86.3\" font-family=\"Times,serif\" font-size=\"14.00\" fill=\"white\">OI</text>\n",
       "</a>\n",
       "</g>\n",
       "</g>\n",
       "<!-- OI&#45;&gt;SP -->\n",
       "<g id=\"edge2\" class=\"edge\">\n",
       "<title>OI-&gt;SP</title>\n",
       "<g id=\"a_edge2\"><a xlink:title=\"3 → 2\">\n",
       "<path fill=\"none\" stroke=\"#4a4a4a\" d=\"M35.35,-72.76C39.71,-64.28 45.15,-53.71 50.04,-44.2\"/>\n",
       "<polygon fill=\"#4a4a4a\" stroke=\"#4a4a4a\" points=\"53.23,-45.64 54.7,-35.15 47.01,-42.44 53.23,-45.64\"/>\n",
       "</a>\n",
       "</g>\n",
       "</g>\n",
       "<!-- IR -->\n",
       "<g id=\"node3\" class=\"node\">\n",
       "<title>IR</title>\n",
       "<g id=\"a_node3\"><a xlink:title=\"(0) IR\">\n",
       "<ellipse fill=\"#404040\" stroke=\"#4a4a4a\" cx=\"99\" cy=\"-162\" rx=\"27\" ry=\"18\"/>\n",
       "<text text-anchor=\"middle\" x=\"99\" y=\"-158.3\" font-family=\"Times,serif\" font-size=\"14.00\" fill=\"white\">IR</text>\n",
       "</a>\n",
       "</g>\n",
       "</g>\n",
       "<!-- IR&#45;&gt;SM -->\n",
       "<g id=\"edge1\" class=\"edge\">\n",
       "<title>IR-&gt;SM</title>\n",
       "<g id=\"a_edge1\"><a xlink:title=\"0 → 1\">\n",
       "<path fill=\"none\" stroke=\"#4a4a4a\" d=\"M99,-143.7C99,-135.98 99,-126.71 99,-118.11\"/>\n",
       "<polygon fill=\"#4a4a4a\" stroke=\"#4a4a4a\" points=\"102.5,-118.1 99,-108.1 95.5,-118.1 102.5,-118.1\"/>\n",
       "</a>\n",
       "</g>\n",
       "</g>\n",
       "</g>\n",
       "</svg>"
      ],
      "text/plain": [
       "(pyAgrum.BayesNet<double>@0x632dae1906a0) BN{nodes: 4, arcs: 3, domainSize: 16, dim: 8, mem: 128o}"
      ]
     },
     "execution_count": 41,
     "metadata": {},
     "output_type": "execute_result"
    }
   ],
   "source": [
    "bn3 = gum.fastBN(\"IR->SM->SP<-OI\", 2)\n",
    "bn3.cpt(\"IR\")[:] = [0.75, 0.25]\n",
    "bn3.cpt(\"SM\")[:] = [[0.3, 0.7], [0.8, 0.2]]\n",
    "bn3.cpt(\"OI\")[:] = [0.6,0.4]\n",
    "bn3.cpt(\"SP\")[:] = [[[0.9, 0.1], [0.5, 0.5]], [[0.4, 0.6], [0.2, 0.8]]]\n",
    "bn3"
   ]
  },
  {
   "cell_type": "code",
   "execution_count": 42,
   "metadata": {},
   "outputs": [],
   "source": [
    "qbn3 = qBayesNet(bn3)\n",
    "qc3 = qbn3.buildCircuit(add_measure=True)\n",
    "#qc3.draw(output=\"mpl\", scale=0.5)"
   ]
  },
  {
   "cell_type": "code",
   "execution_count": 43,
   "metadata": {},
   "outputs": [],
   "source": [
    "target_node_bn3 = \"OI\""
   ]
  },
  {
   "cell_type": "code",
   "execution_count": 44,
   "metadata": {},
   "outputs": [
    {
     "name": "stdout",
     "output_type": "stream",
     "text": [
      "Evidence: {'SP': 1}\n",
      "Evidence probability: 0.48400000000000004\n"
     ]
    }
   ],
   "source": [
    "ev3 = {\"SP\": 1}\n",
    "ie3=gum.LazyPropagation(bn3)\n",
    "ie3.setEvidence(ev3)\n",
    "ie3.makeInference()\n",
    "print(f\"Evidence: {ev3}\")\n",
    "print(f\"Evidence probability: {ie3.evidenceProbability()}\")\n",
    "#ie3.posterior(target_node_bn3)"
   ]
  },
  {
   "cell_type": "code",
   "execution_count": 45,
   "metadata": {},
   "outputs": [
    {
     "data": {
      "text/html": [
       "<svg xmlns=\"http://www.w3.org/2000/svg\" xmlns:xlink=\"http://www.w3.org/1999/xlink\" width=\"134pt\" height=\"188pt\" viewBox=\"0.00 0.00 134.00 188.00\">\n",
       "<g id=\"graph0\" class=\"graph\" transform=\"scale(1 1) rotate(0) translate(4 184)\">\n",
       "<title>G</title>\n",
       "<!-- SM -->\n",
       "<g id=\"node1\" class=\"node\">\n",
       "<title>SM</title>\n",
       "<g id=\"a_node1\"><a xlink:title=\"(1) SM\">\n",
       "<ellipse fill=\"#404040\" stroke=\"#4a4a4a\" cx=\"99\" cy=\"-90\" rx=\"27\" ry=\"18\"/>\n",
       "<text text-anchor=\"middle\" x=\"99\" y=\"-86.3\" font-family=\"Times,serif\" font-size=\"14.00\" fill=\"white\">SM</text>\n",
       "</a>\n",
       "</g>\n",
       "</g>\n",
       "<!-- SP -->\n",
       "<g id=\"node4\" class=\"node\">\n",
       "<title>SP</title>\n",
       "<g id=\"a_node4\"><a xlink:title=\"(2) SP\">\n",
       "<ellipse fill=\"#404040\" stroke=\"#4a4a4a\" cx=\"63\" cy=\"-18\" rx=\"27\" ry=\"18\"/>\n",
       "<text text-anchor=\"middle\" x=\"63\" y=\"-14.3\" font-family=\"Times,serif\" font-size=\"14.00\" fill=\"white\">SP</text>\n",
       "</a>\n",
       "</g>\n",
       "</g>\n",
       "<!-- SM&#45;&gt;SP -->\n",
       "<g id=\"edge3\" class=\"edge\">\n",
       "<title>SM-&gt;SP</title>\n",
       "<g id=\"a_edge3\"><a xlink:title=\"1 → 2\">\n",
       "<path fill=\"none\" stroke=\"#4a4a4a\" d=\"M90.65,-72.76C86.29,-64.28 80.85,-53.71 75.96,-44.2\"/>\n",
       "<polygon fill=\"#4a4a4a\" stroke=\"#4a4a4a\" points=\"78.99,-42.44 71.3,-35.15 72.77,-45.64 78.99,-42.44\"/>\n",
       "</a>\n",
       "</g>\n",
       "</g>\n",
       "<!-- OI -->\n",
       "<g id=\"node2\" class=\"node\">\n",
       "<title>OI</title>\n",
       "<g id=\"a_node2\"><a xlink:title=\"(3) OI\">\n",
       "<ellipse fill=\"#404040\" stroke=\"#4a4a4a\" cx=\"27\" cy=\"-90\" rx=\"27\" ry=\"18\"/>\n",
       "<text text-anchor=\"middle\" x=\"27\" y=\"-86.3\" font-family=\"Times,serif\" font-size=\"14.00\" fill=\"white\">OI</text>\n",
       "</a>\n",
       "</g>\n",
       "</g>\n",
       "<!-- OI&#45;&gt;SP -->\n",
       "<g id=\"edge2\" class=\"edge\">\n",
       "<title>OI-&gt;SP</title>\n",
       "<g id=\"a_edge2\"><a xlink:title=\"3 → 2\">\n",
       "<path fill=\"none\" stroke=\"#4a4a4a\" d=\"M35.35,-72.76C39.71,-64.28 45.15,-53.71 50.04,-44.2\"/>\n",
       "<polygon fill=\"#4a4a4a\" stroke=\"#4a4a4a\" points=\"53.23,-45.64 54.7,-35.15 47.01,-42.44 53.23,-45.64\"/>\n",
       "</a>\n",
       "</g>\n",
       "</g>\n",
       "<!-- IR -->\n",
       "<g id=\"node3\" class=\"node\">\n",
       "<title>IR</title>\n",
       "<g id=\"a_node3\"><a xlink:title=\"(0) IR\">\n",
       "<ellipse fill=\"#404040\" stroke=\"#4a4a4a\" cx=\"99\" cy=\"-162\" rx=\"27\" ry=\"18\"/>\n",
       "<text text-anchor=\"middle\" x=\"99\" y=\"-158.3\" font-family=\"Times,serif\" font-size=\"14.00\" fill=\"white\">IR</text>\n",
       "</a>\n",
       "</g>\n",
       "</g>\n",
       "<!-- IR&#45;&gt;SM -->\n",
       "<g id=\"edge1\" class=\"edge\">\n",
       "<title>IR-&gt;SM</title>\n",
       "<g id=\"a_edge1\"><a xlink:title=\"0 → 1\">\n",
       "<path fill=\"none\" stroke=\"#4a4a4a\" d=\"M99,-143.7C99,-135.98 99,-126.71 99,-118.11\"/>\n",
       "<polygon fill=\"#4a4a4a\" stroke=\"#4a4a4a\" points=\"102.5,-118.1 99,-108.1 95.5,-118.1 102.5,-118.1\"/>\n",
       "</a>\n",
       "</g>\n",
       "</g>\n",
       "</g>\n",
       "</svg>"
      ],
      "text/plain": [
       "(pyAgrum.BayesNet<double>@0x632db44b6220) BN{nodes: 4, arcs: 3, domainSize: 16, dim: 8, mem: 128o}"
      ]
     },
     "execution_count": 45,
     "metadata": {},
     "output_type": "execute_result"
    }
   ],
   "source": [
    "qinf3 = qInference(qbn3)\n",
    "qinf3.setEvidence(ev3)\n",
    "qinf3.setMaxIter(1000)\n",
    "qinf3.useFragmentBN(target={target_node_bn3})\n",
    "qinf3.qbn.bn"
   ]
  },
  {
   "cell_type": "code",
   "execution_count": 47,
   "metadata": {},
   "outputs": [],
   "source": [
    "qinf3.makeInference()"
   ]
  },
  {
   "cell_type": "code",
   "execution_count": 46,
   "metadata": {},
   "outputs": [
    {
     "data": {
      "text/html": [
       "<table style=\"border-style: hidden; border-collapse: collapse;\" width=\"100%\"><tr><td style=\"border-top:hidden;border-bottom:hidden;vertical-align:middle;\"><div align=\"center\" style=\"vertical-align:middle;\"><table style=\"border:1px solid black;border-collapse: collapse;\">\n",
       "<tr style='border:1px solid black;color:black;background-color:#808080'>\n",
       "      <th colspan='2'><center>OI</center></th></tr>\n",
       "<tr><th style='border:1px solid black;border-bottom-style: double;color:black;background-color:#BBBBBB'>\n",
       "      <center>0</center></th><th style='border:1px solid black;border-bottom-style: double;color:black;background-color:#BBBBBB'>\n",
       "      <center>1</center></th></tr>\n",
       "<tr><td style='color:black;background-color:#c4b964;text-align:right;padding: 3px;'>0.4570</td><td style='color:black;background-color:#b9c464;text-align:right;padding: 3px;'>0.5430</td></tr>\n",
       "</table><br><small><i>qInference</i></small></div></td><td style=\"border-top:hidden;border-bottom:hidden;vertical-align:middle;\"><div align=\"center\" style=\"vertical-align:middle;\"><table style=\"border:1px solid black;border-collapse: collapse;\">\n",
       "<tr style='border:1px solid black;color:black;background-color:#808080'>\n",
       "      <th colspan='2'><center>OI</center></th></tr>\n",
       "<tr><th style='border:1px solid black;border-bottom-style: double;color:black;background-color:#BBBBBB'>\n",
       "      <center>0</center></th><th style='border:1px solid black;border-bottom-style: double;color:black;background-color:#BBBBBB'>\n",
       "      <center>1</center></th></tr>\n",
       "<tr><td style='color:black;background-color:#cab364;text-align:right;padding: 3px;'>0.4091</td><td style='color:black;background-color:#b3ca64;text-align:right;padding: 3px;'>0.5909</td></tr>\n",
       "</table><br><small><i>LazyPropagation</i></small></div></td></tr></table>"
      ],
      "text/plain": [
       "<IPython.core.display.HTML object>"
      ]
     },
     "metadata": {},
     "output_type": "display_data"
    }
   ],
   "source": [
    "gnb.sideBySide(qinf3.posterior(target_node_bn3),\n",
    "               ie3.posterior(target_node_bn3),\n",
    "               captions=[\"qInference\", \"LazyPropagation\"])"
   ]
  },
  {
   "cell_type": "code",
   "execution_count": 47,
   "metadata": {},
   "outputs": [
    {
     "name": "stdout",
     "output_type": "stream",
     "text": [
      "A gate transpiled circuit depth: 953\n",
      "A gate execution time: 0.00029383999999999996 s\n",
      "G gate transpiled circuit depth: 935\n",
      "G gate execution time: 0.0002693 s\n",
      "q-Inference log: {'A': 2014, 'G': 6394}\n"
     ]
    },
    {
     "data": {
      "text/plain": [
       "2.31369796"
      ]
     },
     "execution_count": 47,
     "metadata": {},
     "output_type": "execute_result"
    }
   ],
   "source": [
    "qrt3 = qRuntime(qinf3, backend)\n",
    "qrt3.getGateExecutionTime()\n",
    "print(f\"q-Inference log: {qrt3.qinf.log}\")\n",
    "qrt3.rejectionSamplingRuntime()"
   ]
  },
  {
   "cell_type": "markdown",
   "metadata": {},
   "source": [
    "# Demo 4: (Section 4.2)\n",
    "### 10 variables, 2 states  per variable"
   ]
  },
  {
   "cell_type": "code",
   "execution_count": 21,
   "metadata": {},
   "outputs": [
    {
     "data": {
      "image/svg+xml": [
       "<svg xmlns=\"http://www.w3.org/2000/svg\" xmlns:xlink=\"http://www.w3.org/1999/xlink\" width=\"186pt\" height=\"548pt\" viewBox=\"0.00 0.00 185.99 548.00\">\n",
       "<g id=\"graph0\" class=\"graph\" transform=\"scale(1 1) rotate(0) translate(4 544)\">\n",
       "<title>G</title>\n",
       "<!-- X8 -->\n",
       "<g id=\"node1\" class=\"node\">\n",
       "<title>X8</title>\n",
       "<g id=\"a_node1\"><a xlink:title=\"(2) X8\">\n",
       "<ellipse fill=\"#404040\" stroke=\"#4a4a4a\" cx=\"54\" cy=\"-378\" rx=\"27\" ry=\"18\"/>\n",
       "<text text-anchor=\"middle\" x=\"54\" y=\"-374.3\" font-family=\"Times,serif\" font-size=\"14.00\" fill=\"white\">X8</text>\n",
       "</a>\n",
       "</g>\n",
       "</g>\n",
       "<!-- X5 -->\n",
       "<g id=\"node4\" class=\"node\">\n",
       "<title>X5</title>\n",
       "<g id=\"a_node4\"><a xlink:title=\"(3) X5\">\n",
       "<ellipse fill=\"#404040\" stroke=\"#4a4a4a\" cx=\"27\" cy=\"-90\" rx=\"27\" ry=\"18\"/>\n",
       "<text text-anchor=\"middle\" x=\"27\" y=\"-86.3\" font-family=\"Times,serif\" font-size=\"14.00\" fill=\"white\">X5</text>\n",
       "</a>\n",
       "</g>\n",
       "</g>\n",
       "<!-- X8&#45;&gt;X5 -->\n",
       "<g id=\"edge7\" class=\"edge\">\n",
       "<title>X8-&gt;X5</title>\n",
       "<g id=\"a_edge7\"><a xlink:title=\"2 → 3\">\n",
       "<path fill=\"none\" stroke=\"#4a4a4a\" d=\"M51.11,-359.85C49.44,-349.5 47.4,-336.02 46,-324 37.37,-249.67 31.32,-161.55 28.6,-118.06\"/>\n",
       "<polygon fill=\"#4a4a4a\" stroke=\"#4a4a4a\" points=\"32.09,-117.76 27.99,-108 25.1,-118.19 32.09,-117.76\"/>\n",
       "</a>\n",
       "</g>\n",
       "</g>\n",
       "<!-- X9 -->\n",
       "<g id=\"node10\" class=\"node\">\n",
       "<title>X9</title>\n",
       "<g id=\"a_node10\"><a xlink:title=\"(5) X9\">\n",
       "<ellipse fill=\"#404040\" stroke=\"#4a4a4a\" cx=\"82\" cy=\"-306\" rx=\"27\" ry=\"18\"/>\n",
       "<text text-anchor=\"middle\" x=\"82\" y=\"-302.3\" font-family=\"Times,serif\" font-size=\"14.00\" fill=\"white\">X9</text>\n",
       "</a>\n",
       "</g>\n",
       "</g>\n",
       "<!-- X8&#45;&gt;X9 -->\n",
       "<g id=\"edge12\" class=\"edge\">\n",
       "<title>X8-&gt;X9</title>\n",
       "<g id=\"a_edge12\"><a xlink:title=\"2 → 5\">\n",
       "<path fill=\"none\" stroke=\"#4a4a4a\" d=\"M60.64,-360.41C63.91,-352.22 67.94,-342.14 71.62,-332.95\"/>\n",
       "<polygon fill=\"#4a4a4a\" stroke=\"#4a4a4a\" points=\"74.95,-334.05 75.41,-323.47 68.45,-331.45 74.95,-334.05\"/>\n",
       "</a>\n",
       "</g>\n",
       "</g>\n",
       "<!-- X10 -->\n",
       "<g id=\"node2\" class=\"node\">\n",
       "<title>X10</title>\n",
       "<g id=\"a_node2\"><a xlink:title=\"(7) X10\">\n",
       "<ellipse fill=\"#404040\" stroke=\"#4a4a4a\" cx=\"137\" cy=\"-18\" rx=\"28.7\" ry=\"18\"/>\n",
       "<text text-anchor=\"middle\" x=\"137\" y=\"-14.3\" font-family=\"Times,serif\" font-size=\"14.00\" fill=\"white\">X10</text>\n",
       "</a>\n",
       "</g>\n",
       "</g>\n",
       "<!-- X4 -->\n",
       "<g id=\"node3\" class=\"node\">\n",
       "<title>X4</title>\n",
       "<g id=\"a_node3\"><a xlink:title=\"(8) X4\">\n",
       "<ellipse fill=\"#404040\" stroke=\"#4a4a4a\" cx=\"82\" cy=\"-162\" rx=\"27\" ry=\"18\"/>\n",
       "<text text-anchor=\"middle\" x=\"82\" y=\"-158.3\" font-family=\"Times,serif\" font-size=\"14.00\" fill=\"white\">X4</text>\n",
       "</a>\n",
       "</g>\n",
       "</g>\n",
       "<!-- X4&#45;&gt;X10 -->\n",
       "<g id=\"edge5\" class=\"edge\">\n",
       "<title>X4-&gt;X10</title>\n",
       "<g id=\"a_edge5\"><a xlink:title=\"8 → 7\">\n",
       "<path fill=\"none\" stroke=\"#4a4a4a\" d=\"M83.66,-144.01C85.89,-125.65 90.83,-95.83 101,-72 105.39,-61.72 111.88,-51.34 118.15,-42.53\"/>\n",
       "<polygon fill=\"#4a4a4a\" stroke=\"#4a4a4a\" points=\"121.11,-44.41 124.25,-34.3 115.48,-40.24 121.11,-44.41\"/>\n",
       "</a>\n",
       "</g>\n",
       "</g>\n",
       "<!-- X4&#45;&gt;X5 -->\n",
       "<g id=\"edge9\" class=\"edge\">\n",
       "<title>X4-&gt;X5</title>\n",
       "<g id=\"a_edge9\"><a xlink:title=\"8 → 3\">\n",
       "<path fill=\"none\" stroke=\"#4a4a4a\" d=\"M70.07,-145.81C62.79,-136.55 53.34,-124.52 45.15,-114.09\"/>\n",
       "<polygon fill=\"#4a4a4a\" stroke=\"#4a4a4a\" points=\"47.84,-111.86 38.91,-106.16 42.34,-116.18 47.84,-111.86\"/>\n",
       "</a>\n",
       "</g>\n",
       "</g>\n",
       "<!-- X2 -->\n",
       "<g id=\"node6\" class=\"node\">\n",
       "<title>X2</title>\n",
       "<g id=\"a_node6\"><a xlink:title=\"(9) X2\">\n",
       "<ellipse fill=\"#404040\" stroke=\"#4a4a4a\" cx=\"137\" cy=\"-90\" rx=\"27\" ry=\"18\"/>\n",
       "<text text-anchor=\"middle\" x=\"137\" y=\"-86.3\" font-family=\"Times,serif\" font-size=\"14.00\" fill=\"white\">X2</text>\n",
       "</a>\n",
       "</g>\n",
       "</g>\n",
       "<!-- X4&#45;&gt;X2 -->\n",
       "<g id=\"edge10\" class=\"edge\">\n",
       "<title>X4-&gt;X2</title>\n",
       "<g id=\"a_edge10\"><a xlink:title=\"8 → 9\">\n",
       "<path fill=\"none\" stroke=\"#4a4a4a\" d=\"M93.93,-145.81C101.21,-136.55 110.66,-124.52 118.85,-114.09\"/>\n",
       "<polygon fill=\"#4a4a4a\" stroke=\"#4a4a4a\" points=\"121.66,-116.18 125.09,-106.16 116.16,-111.86 121.66,-116.18\"/>\n",
       "</a>\n",
       "</g>\n",
       "</g>\n",
       "<!-- X3 -->\n",
       "<g id=\"node7\" class=\"node\">\n",
       "<title>X3</title>\n",
       "<g id=\"a_node7\"><a xlink:title=\"(4) X3\">\n",
       "<ellipse fill=\"#404040\" stroke=\"#4a4a4a\" cx=\"27\" cy=\"-18\" rx=\"27\" ry=\"18\"/>\n",
       "<text text-anchor=\"middle\" x=\"27\" y=\"-14.3\" font-family=\"Times,serif\" font-size=\"14.00\" fill=\"white\">X3</text>\n",
       "</a>\n",
       "</g>\n",
       "</g>\n",
       "<!-- X5&#45;&gt;X3 -->\n",
       "<g id=\"edge3\" class=\"edge\">\n",
       "<title>X5-&gt;X3</title>\n",
       "<g id=\"a_edge3\"><a xlink:title=\"3 → 4\">\n",
       "<path fill=\"none\" stroke=\"#4a4a4a\" d=\"M27,-71.7C27,-63.98 27,-54.71 27,-46.11\"/>\n",
       "<polygon fill=\"#4a4a4a\" stroke=\"#4a4a4a\" points=\"30.5,-46.1 27,-36.1 23.5,-46.1 30.5,-46.1\"/>\n",
       "</a>\n",
       "</g>\n",
       "</g>\n",
       "<!-- X6 -->\n",
       "<g id=\"node5\" class=\"node\">\n",
       "<title>X6</title>\n",
       "<g id=\"a_node5\"><a xlink:title=\"(0) X6\">\n",
       "<ellipse fill=\"#404040\" stroke=\"#4a4a4a\" cx=\"54\" cy=\"-522\" rx=\"27\" ry=\"18\"/>\n",
       "<text text-anchor=\"middle\" x=\"54\" y=\"-518.3\" font-family=\"Times,serif\" font-size=\"14.00\" fill=\"white\">X6</text>\n",
       "</a>\n",
       "</g>\n",
       "</g>\n",
       "<!-- X7 -->\n",
       "<g id=\"node9\" class=\"node\">\n",
       "<title>X7</title>\n",
       "<g id=\"a_node9\"><a xlink:title=\"(1) X7\">\n",
       "<ellipse fill=\"#404040\" stroke=\"#4a4a4a\" cx=\"54\" cy=\"-450\" rx=\"27\" ry=\"18\"/>\n",
       "<text text-anchor=\"middle\" x=\"54\" y=\"-446.3\" font-family=\"Times,serif\" font-size=\"14.00\" fill=\"white\">X7</text>\n",
       "</a>\n",
       "</g>\n",
       "</g>\n",
       "<!-- X6&#45;&gt;X7 -->\n",
       "<g id=\"edge1\" class=\"edge\">\n",
       "<title>X6-&gt;X7</title>\n",
       "<g id=\"a_edge1\"><a xlink:title=\"0 → 1\">\n",
       "<path fill=\"none\" stroke=\"#4a4a4a\" d=\"M54,-503.7C54,-495.98 54,-486.71 54,-478.11\"/>\n",
       "<polygon fill=\"#4a4a4a\" stroke=\"#4a4a4a\" points=\"57.5,-478.1 54,-468.1 50.5,-478.1 57.5,-478.1\"/>\n",
       "</a>\n",
       "</g>\n",
       "</g>\n",
       "<!-- X2&#45;&gt;X10 -->\n",
       "<g id=\"edge13\" class=\"edge\">\n",
       "<title>X2-&gt;X10</title>\n",
       "<g id=\"a_edge13\"><a xlink:title=\"9 → 7\">\n",
       "<path fill=\"none\" stroke=\"#4a4a4a\" d=\"M137,-71.7C137,-63.98 137,-54.71 137,-46.11\"/>\n",
       "<polygon fill=\"#4a4a4a\" stroke=\"#4a4a4a\" points=\"140.5,-46.1 137,-36.1 133.5,-46.1 140.5,-46.1\"/>\n",
       "</a>\n",
       "</g>\n",
       "</g>\n",
       "<!-- X1 -->\n",
       "<g id=\"node8\" class=\"node\">\n",
       "<title>X1</title>\n",
       "<g id=\"a_node8\"><a xlink:title=\"(6) X1\">\n",
       "<ellipse fill=\"#404040\" stroke=\"#4a4a4a\" cx=\"137\" cy=\"-234\" rx=\"27\" ry=\"18\"/>\n",
       "<text text-anchor=\"middle\" x=\"137\" y=\"-230.3\" font-family=\"Times,serif\" font-size=\"14.00\" fill=\"white\">X1</text>\n",
       "</a>\n",
       "</g>\n",
       "</g>\n",
       "<!-- X1&#45;&gt;X10 -->\n",
       "<g id=\"edge8\" class=\"edge\">\n",
       "<title>X1-&gt;X10</title>\n",
       "<g id=\"a_edge8\"><a xlink:title=\"6 → 7\">\n",
       "<path fill=\"none\" stroke=\"#4a4a4a\" d=\"M146.13,-216.79C161.42,-187.51 189,-124.02 173,-72 169.71,-61.31 163.46,-50.85 157.07,-42.08\"/>\n",
       "<polygon fill=\"#4a4a4a\" stroke=\"#4a4a4a\" points=\"159.65,-39.69 150.75,-33.93 154.12,-43.98 159.65,-39.69\"/>\n",
       "</a>\n",
       "</g>\n",
       "</g>\n",
       "<!-- X1&#45;&gt;X4 -->\n",
       "<g id=\"edge6\" class=\"edge\">\n",
       "<title>X1-&gt;X4</title>\n",
       "<g id=\"a_edge6\"><a xlink:title=\"6 → 8\">\n",
       "<path fill=\"none\" stroke=\"#4a4a4a\" d=\"M125.07,-217.81C117.79,-208.55 108.34,-196.52 100.15,-186.09\"/>\n",
       "<polygon fill=\"#4a4a4a\" stroke=\"#4a4a4a\" points=\"102.84,-183.86 93.91,-178.16 97.34,-188.18 102.84,-183.86\"/>\n",
       "</a>\n",
       "</g>\n",
       "</g>\n",
       "<!-- X7&#45;&gt;X8 -->\n",
       "<g id=\"edge2\" class=\"edge\">\n",
       "<title>X7-&gt;X8</title>\n",
       "<g id=\"a_edge2\"><a xlink:title=\"1 → 2\">\n",
       "<path fill=\"none\" stroke=\"#4a4a4a\" d=\"M54,-431.7C54,-423.98 54,-414.71 54,-406.11\"/>\n",
       "<polygon fill=\"#4a4a4a\" stroke=\"#4a4a4a\" points=\"57.5,-406.1 54,-396.1 50.5,-406.1 57.5,-406.1\"/>\n",
       "</a>\n",
       "</g>\n",
       "</g>\n",
       "<!-- X9&#45;&gt;X4 -->\n",
       "<g id=\"edge4\" class=\"edge\">\n",
       "<title>X9-&gt;X4</title>\n",
       "<g id=\"a_edge4\"><a xlink:title=\"5 → 8\">\n",
       "<path fill=\"none\" stroke=\"#4a4a4a\" d=\"M82,-287.87C82,-263.67 82,-219.21 82,-190.39\"/>\n",
       "<polygon fill=\"#4a4a4a\" stroke=\"#4a4a4a\" points=\"85.5,-190.19 82,-180.19 78.5,-190.19 85.5,-190.19\"/>\n",
       "</a>\n",
       "</g>\n",
       "</g>\n",
       "<!-- X9&#45;&gt;X1 -->\n",
       "<g id=\"edge11\" class=\"edge\">\n",
       "<title>X9-&gt;X1</title>\n",
       "<g id=\"a_edge11\"><a xlink:title=\"5 → 6\">\n",
       "<path fill=\"none\" stroke=\"#4a4a4a\" d=\"M93.93,-289.81C101.21,-280.55 110.66,-268.52 118.85,-258.09\"/>\n",
       "<polygon fill=\"#4a4a4a\" stroke=\"#4a4a4a\" points=\"121.66,-260.18 125.09,-250.16 116.16,-255.86 121.66,-260.18\"/>\n",
       "</a>\n",
       "</g>\n",
       "</g>\n",
       "</g>\n",
       "</svg>"
      ],
      "text/plain": [
       "<IPython.core.display.SVG object>"
      ]
     },
     "metadata": {},
     "output_type": "display_data"
    }
   ],
   "source": [
    "bn4 = gum.fastBN(\"X6->X7->X8->X5->X3; X8->X9->X1->X10; X9->X4<-X1; X5<-X4->X10; X4->X2->X10\", 2)\n",
    "bn4.cpt(\"X6\")[:] = [0.98, 0.02]\n",
    "bn4.cpt(\"X7\")[:] = [[0.988, 0.012], [0.429, 0.571]]\n",
    "bn4.cpt(\"X8\")[:] = [[0.006,0.994], [0.875, 0.125]]\n",
    "bn4.cpt(\"X9\")[:] = [[0, 1], [0.982, 0.018]]\n",
    "bn4.cpt(\"X1\")[:] = [[0.448, 0.552], [0.067, 0.933]]\n",
    "bn4.cpt(\"X4\")[:] = [[[0.151, 0.849], [0.874, 0.126]], [[1, 0], [1, 0]]]\n",
    "bn4.cpt(\"X2\")[:] = [[0.76, 0.24], [1, 0]]\n",
    "bn4.cpt(\"X5\")[:] = [[[0, 1], [0, 1]], [[0.723, 0.277], [0.311, 0.689]]]\n",
    "bn4.cpt(\"X3\")[:] = [[1, 0], [0.949, 0.051]]\n",
    "bn4.cpt(\"X10\")[:] = [[[[0.684, 0.316], [0, 1]], [[0, 1], [0.474, 0.526]]], [[[1, 0], [0, 1]], [[0.481, 0.519], [1, 0]]]]\n",
    "\n",
    "gnb.showBN(bn4, size=10)"
   ]
  },
  {
   "cell_type": "code",
   "execution_count": 28,
   "metadata": {},
   "outputs": [],
   "source": [
    "qbn4 = qBayesNet(bn4)\n",
    "qc4 = qbn4.buildCircuit(add_measure=True)\n",
    "#qc4.draw(output=\"mpl\", scale=0.5)"
   ]
  },
  {
   "cell_type": "code",
   "execution_count": 24,
   "metadata": {},
   "outputs": [
    {
     "name": "stdout",
     "output_type": "stream",
     "text": [
      "Evidence: {'X9': 1}\n",
      "Evidence probability: 0.04367283844000001\n"
     ]
    }
   ],
   "source": [
    "ev4 = {\"X9\": 1}\n",
    "ie4=gum.LazyPropagation(bn4)\n",
    "ie4.setEvidence(ev4)\n",
    "ie4.makeInference()\n",
    "print(f\"Evidence: {ev4}\")\n",
    "print(f\"Evidence probability: {ie4.evidenceProbability()}\")"
   ]
  },
  {
   "cell_type": "code",
   "execution_count": 39,
   "metadata": {},
   "outputs": [],
   "source": [
    "target_node_bn4 = \"X6\""
   ]
  },
  {
   "cell_type": "code",
   "execution_count": 25,
   "metadata": {},
   "outputs": [
    {
     "data": {
      "image/svg+xml": [
       "<svg xmlns=\"http://www.w3.org/2000/svg\" xmlns:xlink=\"http://www.w3.org/1999/xlink\" width=\"130pt\" height=\"548pt\" viewBox=\"0.00 0.00 129.53 548.00\">\n",
       "<g id=\"graph0\" class=\"graph\" transform=\"scale(1 1) rotate(0) translate(4 544)\">\n",
       "<title>G</title>\n",
       "<!-- X8 -->\n",
       "<g id=\"node1\" class=\"node\">\n",
       "<title>X8</title>\n",
       "<g id=\"a_node1\"><a xlink:title=\"(2) X8\">\n",
       "<ellipse fill=\"#404040\" stroke=\"#4a4a4a\" cx=\"66.53\" cy=\"-378\" rx=\"27\" ry=\"18\"/>\n",
       "<text text-anchor=\"middle\" x=\"66.53\" y=\"-374.3\" font-family=\"Times,serif\" font-size=\"14.00\" fill=\"white\">X8</text>\n",
       "</a>\n",
       "</g>\n",
       "</g>\n",
       "<!-- X9 -->\n",
       "<g id=\"node8\" class=\"node\">\n",
       "<title>X9</title>\n",
       "<g id=\"a_node8\"><a xlink:title=\"(5) X9\">\n",
       "<ellipse fill=\"#404040\" stroke=\"#4a4a4a\" cx=\"66.53\" cy=\"-306\" rx=\"27\" ry=\"18\"/>\n",
       "<text text-anchor=\"middle\" x=\"66.53\" y=\"-302.3\" font-family=\"Times,serif\" font-size=\"14.00\" fill=\"white\">X9</text>\n",
       "</a>\n",
       "</g>\n",
       "</g>\n",
       "<!-- X8&#45;&gt;X9 -->\n",
       "<g id=\"edge9\" class=\"edge\">\n",
       "<title>X8-&gt;X9</title>\n",
       "<g id=\"a_edge9\"><a xlink:title=\"2 → 5\">\n",
       "<path fill=\"none\" stroke=\"#4a4a4a\" d=\"M66.53,-359.7C66.53,-351.98 66.53,-342.71 66.53,-334.11\"/>\n",
       "<polygon fill=\"#4a4a4a\" stroke=\"#4a4a4a\" points=\"70.03,-334.1 66.53,-324.1 63.03,-334.1 70.03,-334.1\"/>\n",
       "</a>\n",
       "</g>\n",
       "</g>\n",
       "<!-- X10 -->\n",
       "<g id=\"node2\" class=\"node\">\n",
       "<title>X10</title>\n",
       "<g id=\"a_node2\"><a xlink:title=\"(7) X10\">\n",
       "<ellipse fill=\"#404040\" stroke=\"#4a4a4a\" cx=\"39.53\" cy=\"-18\" rx=\"28.7\" ry=\"18\"/>\n",
       "<text text-anchor=\"middle\" x=\"39.53\" y=\"-14.3\" font-family=\"Times,serif\" font-size=\"14.00\" fill=\"white\">X10</text>\n",
       "</a>\n",
       "</g>\n",
       "</g>\n",
       "<!-- X4 -->\n",
       "<g id=\"node3\" class=\"node\">\n",
       "<title>X4</title>\n",
       "<g id=\"a_node3\"><a xlink:title=\"(8) X4\">\n",
       "<ellipse fill=\"#404040\" stroke=\"#4a4a4a\" cx=\"39.53\" cy=\"-162\" rx=\"27\" ry=\"18\"/>\n",
       "<text text-anchor=\"middle\" x=\"39.53\" y=\"-158.3\" font-family=\"Times,serif\" font-size=\"14.00\" fill=\"white\">X4</text>\n",
       "</a>\n",
       "</g>\n",
       "</g>\n",
       "<!-- X4&#45;&gt;X10 -->\n",
       "<g id=\"edge4\" class=\"edge\">\n",
       "<title>X4-&gt;X10</title>\n",
       "<g id=\"a_edge4\"><a xlink:title=\"8 → 7\">\n",
       "<path fill=\"none\" stroke=\"#4a4a4a\" d=\"M25.78,-146.07C17.57,-136.1 7.91,-122.25 3.53,-108 -1.18,-92.71 -1.18,-87.29 3.53,-72 6.81,-61.31 13.07,-50.85 19.45,-42.08\"/>\n",
       "<polygon fill=\"#4a4a4a\" stroke=\"#4a4a4a\" points=\"22.41,-43.98 25.78,-33.93 16.88,-39.69 22.41,-43.98\"/>\n",
       "</a>\n",
       "</g>\n",
       "</g>\n",
       "<!-- X2 -->\n",
       "<g id=\"node5\" class=\"node\">\n",
       "<title>X2</title>\n",
       "<g id=\"a_node5\"><a xlink:title=\"(9) X2\">\n",
       "<ellipse fill=\"#404040\" stroke=\"#4a4a4a\" cx=\"39.53\" cy=\"-90\" rx=\"27\" ry=\"18\"/>\n",
       "<text text-anchor=\"middle\" x=\"39.53\" y=\"-86.3\" font-family=\"Times,serif\" font-size=\"14.00\" fill=\"white\">X2</text>\n",
       "</a>\n",
       "</g>\n",
       "</g>\n",
       "<!-- X4&#45;&gt;X2 -->\n",
       "<g id=\"edge7\" class=\"edge\">\n",
       "<title>X4-&gt;X2</title>\n",
       "<g id=\"a_edge7\"><a xlink:title=\"8 → 9\">\n",
       "<path fill=\"none\" stroke=\"#4a4a4a\" d=\"M39.53,-143.7C39.53,-135.98 39.53,-126.71 39.53,-118.11\"/>\n",
       "<polygon fill=\"#4a4a4a\" stroke=\"#4a4a4a\" points=\"43.03,-118.1 39.53,-108.1 36.03,-118.1 43.03,-118.1\"/>\n",
       "</a>\n",
       "</g>\n",
       "</g>\n",
       "<!-- X6 -->\n",
       "<g id=\"node4\" class=\"node\">\n",
       "<title>X6</title>\n",
       "<g id=\"a_node4\"><a xlink:title=\"(0) X6\">\n",
       "<ellipse fill=\"#404040\" stroke=\"#4a4a4a\" cx=\"66.53\" cy=\"-522\" rx=\"27\" ry=\"18\"/>\n",
       "<text text-anchor=\"middle\" x=\"66.53\" y=\"-518.3\" font-family=\"Times,serif\" font-size=\"14.00\" fill=\"white\">X6</text>\n",
       "</a>\n",
       "</g>\n",
       "</g>\n",
       "<!-- X7 -->\n",
       "<g id=\"node7\" class=\"node\">\n",
       "<title>X7</title>\n",
       "<g id=\"a_node7\"><a xlink:title=\"(1) X7\">\n",
       "<ellipse fill=\"#404040\" stroke=\"#4a4a4a\" cx=\"66.53\" cy=\"-450\" rx=\"27\" ry=\"18\"/>\n",
       "<text text-anchor=\"middle\" x=\"66.53\" y=\"-446.3\" font-family=\"Times,serif\" font-size=\"14.00\" fill=\"white\">X7</text>\n",
       "</a>\n",
       "</g>\n",
       "</g>\n",
       "<!-- X6&#45;&gt;X7 -->\n",
       "<g id=\"edge1\" class=\"edge\">\n",
       "<title>X6-&gt;X7</title>\n",
       "<g id=\"a_edge1\"><a xlink:title=\"0 → 1\">\n",
       "<path fill=\"none\" stroke=\"#4a4a4a\" d=\"M66.53,-503.7C66.53,-495.98 66.53,-486.71 66.53,-478.11\"/>\n",
       "<polygon fill=\"#4a4a4a\" stroke=\"#4a4a4a\" points=\"70.03,-478.1 66.53,-468.1 63.03,-478.1 70.03,-478.1\"/>\n",
       "</a>\n",
       "</g>\n",
       "</g>\n",
       "<!-- X2&#45;&gt;X10 -->\n",
       "<g id=\"edge10\" class=\"edge\">\n",
       "<title>X2-&gt;X10</title>\n",
       "<g id=\"a_edge10\"><a xlink:title=\"9 → 7\">\n",
       "<path fill=\"none\" stroke=\"#4a4a4a\" d=\"M39.53,-71.7C39.53,-63.98 39.53,-54.71 39.53,-46.11\"/>\n",
       "<polygon fill=\"#4a4a4a\" stroke=\"#4a4a4a\" points=\"43.03,-46.1 39.53,-36.1 36.03,-46.1 43.03,-46.1\"/>\n",
       "</a>\n",
       "</g>\n",
       "</g>\n",
       "<!-- X1 -->\n",
       "<g id=\"node6\" class=\"node\">\n",
       "<title>X1</title>\n",
       "<g id=\"a_node6\"><a xlink:title=\"(6) X1\">\n",
       "<ellipse fill=\"#404040\" stroke=\"#4a4a4a\" cx=\"94.53\" cy=\"-234\" rx=\"27\" ry=\"18\"/>\n",
       "<text text-anchor=\"middle\" x=\"94.53\" y=\"-230.3\" font-family=\"Times,serif\" font-size=\"14.00\" fill=\"white\">X1</text>\n",
       "</a>\n",
       "</g>\n",
       "</g>\n",
       "<!-- X1&#45;&gt;X10 -->\n",
       "<g id=\"edge6\" class=\"edge\">\n",
       "<title>X1-&gt;X10</title>\n",
       "<g id=\"a_edge6\"><a xlink:title=\"6 → 7\">\n",
       "<path fill=\"none\" stroke=\"#4a4a4a\" d=\"M95.12,-215.93C95.62,-185.84 94.12,-121.84 75.53,-72 71.62,-61.53 65.23,-51.11 58.91,-42.32\"/>\n",
       "<polygon fill=\"#4a4a4a\" stroke=\"#4a4a4a\" points=\"61.54,-39.98 52.71,-34.12 55.96,-44.21 61.54,-39.98\"/>\n",
       "</a>\n",
       "</g>\n",
       "</g>\n",
       "<!-- X1&#45;&gt;X4 -->\n",
       "<g id=\"edge5\" class=\"edge\">\n",
       "<title>X1-&gt;X4</title>\n",
       "<g id=\"a_edge5\"><a xlink:title=\"6 → 8\">\n",
       "<path fill=\"none\" stroke=\"#4a4a4a\" d=\"M82.59,-217.81C75.31,-208.55 65.86,-196.52 57.67,-186.09\"/>\n",
       "<polygon fill=\"#4a4a4a\" stroke=\"#4a4a4a\" points=\"60.37,-183.86 51.44,-178.16 54.86,-188.18 60.37,-183.86\"/>\n",
       "</a>\n",
       "</g>\n",
       "</g>\n",
       "<!-- X7&#45;&gt;X8 -->\n",
       "<g id=\"edge2\" class=\"edge\">\n",
       "<title>X7-&gt;X8</title>\n",
       "<g id=\"a_edge2\"><a xlink:title=\"1 → 2\">\n",
       "<path fill=\"none\" stroke=\"#4a4a4a\" d=\"M66.53,-431.7C66.53,-423.98 66.53,-414.71 66.53,-406.11\"/>\n",
       "<polygon fill=\"#4a4a4a\" stroke=\"#4a4a4a\" points=\"70.03,-406.1 66.53,-396.1 63.03,-406.1 70.03,-406.1\"/>\n",
       "</a>\n",
       "</g>\n",
       "</g>\n",
       "<!-- X9&#45;&gt;X4 -->\n",
       "<g id=\"edge3\" class=\"edge\">\n",
       "<title>X9-&gt;X4</title>\n",
       "<g id=\"a_edge3\"><a xlink:title=\"5 → 8\">\n",
       "<path fill=\"none\" stroke=\"#4a4a4a\" d=\"M63.27,-287.87C58.67,-263.67 50.22,-219.21 44.74,-190.39\"/>\n",
       "<polygon fill=\"#4a4a4a\" stroke=\"#4a4a4a\" points=\"48.1,-189.36 42.8,-180.19 41.23,-190.67 48.1,-189.36\"/>\n",
       "</a>\n",
       "</g>\n",
       "</g>\n",
       "<!-- X9&#45;&gt;X1 -->\n",
       "<g id=\"edge8\" class=\"edge\">\n",
       "<title>X9-&gt;X1</title>\n",
       "<g id=\"a_edge8\"><a xlink:title=\"5 → 6\">\n",
       "<path fill=\"none\" stroke=\"#4a4a4a\" d=\"M73.16,-288.41C76.44,-280.22 80.47,-270.14 84.15,-260.95\"/>\n",
       "<polygon fill=\"#4a4a4a\" stroke=\"#4a4a4a\" points=\"87.47,-262.05 87.94,-251.47 80.98,-259.45 87.47,-262.05\"/>\n",
       "</a>\n",
       "</g>\n",
       "</g>\n",
       "</g>\n",
       "</svg>"
      ],
      "text/plain": [
       "<IPython.core.display.SVG object>"
      ]
     },
     "metadata": {},
     "output_type": "display_data"
    }
   ],
   "source": [
    "qinf4 = qInference(qbn4)\n",
    "qinf4.setEvidence(ev4)\n",
    "qinf4.setMaxIter(1000)\n",
    "qinf4.useFragmentBN(target={target_node_bn4})\n",
    "gnb.showBN(qinf4.qbn.bn, size=10)"
   ]
  },
  {
   "cell_type": "code",
   "execution_count": 26,
   "metadata": {},
   "outputs": [],
   "source": [
    "qinf4.makeInference()"
   ]
  },
  {
   "cell_type": "code",
   "execution_count": 40,
   "metadata": {},
   "outputs": [
    {
     "data": {
      "text/html": [
       "<table style=\"border-style: hidden; border-collapse: collapse;\" width=\"100%\"><tr><td style=\"border-top:hidden;border-bottom:hidden;vertical-align:middle;\"><div align=\"center\" style=\"vertical-align:middle;\"><table style=\"border:1px solid black;border-collapse: collapse;\">\n",
       "<tr style='border:1px solid black;color:black;background-color:#808080'>\n",
       "      <th colspan='2'><center>X6</center></th></tr>\n",
       "<tr><th style='border:1px solid black;border-bottom-style: double;color:black;background-color:#BBBBBB'>\n",
       "      <center>0</center></th><th style='border:1px solid black;border-bottom-style: double;color:black;background-color:#BBBBBB'>\n",
       "      <center>1</center></th></tr>\n",
       "<tr><td style='color:black;background-color:#9ce164;text-align:right;padding: 3px;'>0.7720</td><td style='color:black;background-color:#e19c64;text-align:right;padding: 3px;'>0.2280</td></tr>\n",
       "</table><br><small><i>qInference</i></small></div></td><td style=\"border-top:hidden;border-bottom:hidden;vertical-align:middle;\"><div align=\"center\" style=\"vertical-align:middle;\"><table style=\"border:1px solid black;border-collapse: collapse;\">\n",
       "<tr style='border:1px solid black;color:black;background-color:#808080'>\n",
       "      <th colspan='2'><center>X6</center></th></tr>\n",
       "<tr><th style='border:1px solid black;border-bottom-style: double;color:black;background-color:#BBBBBB'>\n",
       "      <center>0</center></th><th style='border:1px solid black;border-bottom-style: double;color:black;background-color:#BBBBBB'>\n",
       "      <center>1</center></th></tr>\n",
       "<tr><td style='color:black;background-color:#9ce164;text-align:right;padding: 3px;'>0.7659</td><td style='color:black;background-color:#e19c64;text-align:right;padding: 3px;'>0.2341</td></tr>\n",
       "</table><br><small><i>LazyPropagation</i></small></div></td></tr></table>"
      ],
      "text/plain": [
       "<IPython.core.display.HTML object>"
      ]
     },
     "metadata": {},
     "output_type": "display_data"
    }
   ],
   "source": [
    "gnb.sideBySide(qinf4.posterior(target_node_bn4),\n",
    "               ie4.posterior(target_node_bn4),\n",
    "               captions=[\"qInference\", \"LazyPropagation\"])"
   ]
  },
  {
   "cell_type": "code",
   "execution_count": 62,
   "metadata": {},
   "outputs": [
    {
     "name": "stdout",
     "output_type": "stream",
     "text": [
      "A gate transpiled circuit depth: 264036\n",
      "A gate execution time: 0.08419066 s\n"
     ]
    },
    {
     "ename": "KeyboardInterrupt",
     "evalue": "",
     "output_type": "error",
     "traceback": [
      "\u001b[0;31m---------------------------------------------------------------------------\u001b[0m",
      "\u001b[0;31mKeyboardInterrupt\u001b[0m                         Traceback (most recent call last)",
      "Cell \u001b[0;32mIn[62], line 2\u001b[0m\n\u001b[1;32m      1\u001b[0m qrt4 \u001b[38;5;241m=\u001b[39m qRuntime(qinf4, backend)\n\u001b[0;32m----> 2\u001b[0m \u001b[43mqrt4\u001b[49m\u001b[38;5;241;43m.\u001b[39;49m\u001b[43mgetGateExecutionTime\u001b[49m\u001b[43m(\u001b[49m\u001b[43m)\u001b[49m\n\u001b[1;32m      3\u001b[0m \u001b[38;5;28mprint\u001b[39m(\u001b[38;5;124mf\u001b[39m\u001b[38;5;124m\"\u001b[39m\u001b[38;5;124mq-Inference log: \u001b[39m\u001b[38;5;132;01m{\u001b[39;00mqrt4\u001b[38;5;241m.\u001b[39mqinf\u001b[38;5;241m.\u001b[39mlog\u001b[38;5;132;01m}\u001b[39;00m\u001b[38;5;124m\"\u001b[39m)\n\u001b[1;32m      4\u001b[0m qrt4\u001b[38;5;241m.\u001b[39mrejectionSamplingRuntime()\n",
      "File \u001b[0;32m~/Desktop/ProjetQuanticBN/github/QUANTICGROUP/Demo/../Source/qBN/qBNRT.py:53\u001b[0m, in \u001b[0;36mqRuntime.getGateExecutionTime\u001b[0;34m(self)\u001b[0m\n\u001b[1;32m     48\u001b[0m \u001b[38;5;250m\u001b[39m\u001b[38;5;124;03m\"\"\"\u001b[39;00m\n\u001b[1;32m     49\u001b[0m \u001b[38;5;124;03mStores the execution time of gate A and G\u001b[39;00m\n\u001b[1;32m     50\u001b[0m \u001b[38;5;124;03m\u001b[39;00m\n\u001b[1;32m     51\u001b[0m \u001b[38;5;124;03m\"\"\"\u001b[39;00m\n\u001b[1;32m     52\u001b[0m \u001b[38;5;28mself\u001b[39m\u001b[38;5;241m.\u001b[39mA_time \u001b[38;5;241m=\u001b[39m \u001b[38;5;28mself\u001b[39m\u001b[38;5;241m.\u001b[39mgetAtime()\n\u001b[0;32m---> 53\u001b[0m \u001b[38;5;28mself\u001b[39m\u001b[38;5;241m.\u001b[39mG_time \u001b[38;5;241m=\u001b[39m \u001b[38;5;28;43mself\u001b[39;49m\u001b[38;5;241;43m.\u001b[39;49m\u001b[43mgetGtime\u001b[49m\u001b[43m(\u001b[49m\u001b[43m)\u001b[49m\n",
      "File \u001b[0;32m~/Desktop/ProjetQuanticBN/github/QUANTICGROUP/Demo/../Source/qBN/qBNRT.py:115\u001b[0m, in \u001b[0;36mqRuntime.getGtime\u001b[0;34m(self, backend)\u001b[0m\n\u001b[1;32m    112\u001b[0m evidence_qbs \u001b[38;5;241m=\u001b[39m \u001b[38;5;28mself\u001b[39m\u001b[38;5;241m.\u001b[39mqinf\u001b[38;5;241m.\u001b[39mgetEvidenceQuBits(evidence_n_id)\n\u001b[1;32m    114\u001b[0m A \u001b[38;5;241m=\u001b[39m \u001b[38;5;28mself\u001b[39m\u001b[38;5;241m.\u001b[39mqinf\u001b[38;5;241m.\u001b[39mgetA() \u001b[38;5;66;03m#gate depth may be shorter due to optimisation\u001b[39;00m\n\u001b[0;32m--> 115\u001b[0m G \u001b[38;5;241m=\u001b[39m \u001b[38;5;28;43mself\u001b[39;49m\u001b[38;5;241;43m.\u001b[39;49m\u001b[43mqinf\u001b[49m\u001b[38;5;241;43m.\u001b[39;49m\u001b[43mgetG\u001b[49m\u001b[43m(\u001b[49m\u001b[43mA\u001b[49m\u001b[43m,\u001b[49m\u001b[43m \u001b[49m\u001b[43mevidence_qbs\u001b[49m\u001b[38;5;241;43m=\u001b[39;49m\u001b[43mevidence_qbs\u001b[49m\u001b[43m)\u001b[49m\n\u001b[1;32m    117\u001b[0m circuit \u001b[38;5;241m=\u001b[39m QuantumCircuit(\u001b[38;5;241m*\u001b[39m\u001b[38;5;28mlist\u001b[39m(\u001b[38;5;28mself\u001b[39m\u001b[38;5;241m.\u001b[39mqinf\u001b[38;5;241m.\u001b[39mq_registers\u001b[38;5;241m.\u001b[39mvalues()))\n\u001b[1;32m    118\u001b[0m circuit\u001b[38;5;241m.\u001b[39mcompose(G, inplace\u001b[38;5;241m=\u001b[39m\u001b[38;5;28;01mTrue\u001b[39;00m)\n",
      "File \u001b[0;32m~/Desktop/ProjetQuanticBN/github/QUANTICGROUP/Demo/../Source/qBN/qBNInference.py:220\u001b[0m, in \u001b[0;36mqInference.getG\u001b[0;34m(self, A, evidence_qbs)\u001b[0m\n\u001b[1;32m    201\u001b[0m \u001b[38;5;250m\u001b[39m\u001b[38;5;124;03m\"\"\"\u001b[39;00m\n\u001b[1;32m    202\u001b[0m \u001b[38;5;124;03mGives the Grover iterate\u001b[39;00m\n\u001b[1;32m    203\u001b[0m \n\u001b[0;32m   (...)\u001b[0m\n\u001b[1;32m    215\u001b[0m \n\u001b[1;32m    216\u001b[0m \u001b[38;5;124;03m\"\"\"\u001b[39;00m\n\u001b[1;32m    218\u001b[0m circuit \u001b[38;5;241m=\u001b[39m QuantumCircuit(\u001b[38;5;241m*\u001b[39m\u001b[38;5;28mlist\u001b[39m(\u001b[38;5;28mself\u001b[39m\u001b[38;5;241m.\u001b[39mq_registers\u001b[38;5;241m.\u001b[39mvalues()))\n\u001b[0;32m--> 220\u001b[0m Se \u001b[38;5;241m=\u001b[39m \u001b[38;5;28;43mself\u001b[39;49m\u001b[38;5;241;43m.\u001b[39;49m\u001b[43mgetS\u001b[49m\u001b[43m(\u001b[49m\u001b[43mevidence_qbs\u001b[49m\u001b[43m)\u001b[49m\n\u001b[1;32m    221\u001b[0m S0 \u001b[38;5;241m=\u001b[39m \u001b[38;5;28mself\u001b[39m\u001b[38;5;241m.\u001b[39mgetS({qb_id: \u001b[38;5;241m0\u001b[39m \u001b[38;5;28;01mfor\u001b[39;00m qb_id \u001b[38;5;129;01min\u001b[39;00m \u001b[38;5;28mself\u001b[39m\u001b[38;5;241m.\u001b[39mall_qbits})\n\u001b[1;32m    223\u001b[0m A_adj \u001b[38;5;241m=\u001b[39m \u001b[38;5;28mself\u001b[39m\u001b[38;5;241m.\u001b[39mgetAdjoint(A)\n",
      "File \u001b[0;32m~/Desktop/ProjetQuanticBN/github/QUANTICGROUP/Demo/../Source/qBN/qBNInference.py:189\u001b[0m, in \u001b[0;36mqInference.getS\u001b[0;34m(self, evidence_qbs)\u001b[0m\n\u001b[1;32m    185\u001b[0m evidence_string \u001b[38;5;241m=\u001b[39m \u001b[38;5;124m'\u001b[39m\u001b[38;5;124m'\u001b[39m\u001b[38;5;241m.\u001b[39mjoin([\u001b[38;5;28mstr\u001b[39m(q_state) \u001b[38;5;28;01mfor\u001b[39;00m q_state \u001b[38;5;129;01min\u001b[39;00m evidence_qbs\u001b[38;5;241m.\u001b[39mvalues()])\n\u001b[1;32m    187\u001b[0m circuit \u001b[38;5;241m=\u001b[39m circuit\u001b[38;5;241m.\u001b[39mdecompose()\n\u001b[0;32m--> 189\u001b[0m S \u001b[38;5;241m=\u001b[39m \u001b[43mOperator\u001b[49m\u001b[43m(\u001b[49m\u001b[43mcircuit\u001b[49m\u001b[43m)\u001b[49m\n\u001b[1;32m    190\u001b[0m S \u001b[38;5;241m=\u001b[39m S\u001b[38;5;241m.\u001b[39mto_instruction()\n\u001b[1;32m    191\u001b[0m label \u001b[38;5;241m=\u001b[39m \u001b[38;5;124m'\u001b[39m\u001b[38;5;124mS\u001b[39m\u001b[38;5;124m'\u001b[39m\u001b[38;5;241m+\u001b[39mevidence_string\n",
      "File \u001b[0;32m~/.local/lib/python3.10/site-packages/qiskit/quantum_info/operators/operator.py:97\u001b[0m, in \u001b[0;36mOperator.__init__\u001b[0;34m(self, data, input_dims, output_dims)\u001b[0m\n\u001b[1;32m     88\u001b[0m     \u001b[38;5;28mself\u001b[39m\u001b[38;5;241m.\u001b[39m_data \u001b[38;5;241m=\u001b[39m np\u001b[38;5;241m.\u001b[39masarray(data, dtype\u001b[38;5;241m=\u001b[39m\u001b[38;5;28mcomplex\u001b[39m)\n\u001b[1;32m     89\u001b[0m \u001b[38;5;28;01melif\u001b[39;00m \u001b[38;5;28misinstance\u001b[39m(data, (QuantumCircuit, Operation)):\n\u001b[1;32m     90\u001b[0m     \u001b[38;5;66;03m# If the input is a Terra QuantumCircuit or Operation we\u001b[39;00m\n\u001b[1;32m     91\u001b[0m     \u001b[38;5;66;03m# perform a simulation to construct the unitary operator.\u001b[39;00m\n\u001b[0;32m   (...)\u001b[0m\n\u001b[1;32m     95\u001b[0m     \u001b[38;5;66;03m# conditional gates, measure, or reset will cause an\u001b[39;00m\n\u001b[1;32m     96\u001b[0m     \u001b[38;5;66;03m# exception to be raised.\u001b[39;00m\n\u001b[0;32m---> 97\u001b[0m     \u001b[38;5;28mself\u001b[39m\u001b[38;5;241m.\u001b[39m_data \u001b[38;5;241m=\u001b[39m \u001b[38;5;28;43mself\u001b[39;49m\u001b[38;5;241;43m.\u001b[39;49m\u001b[43m_init_instruction\u001b[49m\u001b[43m(\u001b[49m\u001b[43mdata\u001b[49m\u001b[43m)\u001b[49m\u001b[38;5;241m.\u001b[39mdata\n\u001b[1;32m     98\u001b[0m \u001b[38;5;28;01melif\u001b[39;00m \u001b[38;5;28mhasattr\u001b[39m(data, \u001b[38;5;124m\"\u001b[39m\u001b[38;5;124mto_operator\u001b[39m\u001b[38;5;124m\"\u001b[39m):\n\u001b[1;32m     99\u001b[0m     \u001b[38;5;66;03m# If the data object has a 'to_operator' attribute this is given\u001b[39;00m\n\u001b[1;32m    100\u001b[0m     \u001b[38;5;66;03m# higher preference than the 'to_matrix' method for initializing\u001b[39;00m\n\u001b[1;32m    101\u001b[0m     \u001b[38;5;66;03m# an Operator object.\u001b[39;00m\n\u001b[1;32m    102\u001b[0m     data \u001b[38;5;241m=\u001b[39m data\u001b[38;5;241m.\u001b[39mto_operator()\n",
      "File \u001b[0;32m~/.local/lib/python3.10/site-packages/qiskit/quantum_info/operators/operator.py:707\u001b[0m, in \u001b[0;36mOperator._init_instruction\u001b[0;34m(cls, instruction)\u001b[0m\n\u001b[1;32m    705\u001b[0m \u001b[38;5;28;01mif\u001b[39;00m \u001b[38;5;28misinstance\u001b[39m(instruction, QuantumCircuit):\n\u001b[1;32m    706\u001b[0m     instruction \u001b[38;5;241m=\u001b[39m instruction\u001b[38;5;241m.\u001b[39mto_instruction()\n\u001b[0;32m--> 707\u001b[0m \u001b[43mop\u001b[49m\u001b[38;5;241;43m.\u001b[39;49m\u001b[43m_append_instruction\u001b[49m\u001b[43m(\u001b[49m\u001b[43minstruction\u001b[49m\u001b[43m)\u001b[49m\n\u001b[1;32m    708\u001b[0m \u001b[38;5;28;01mreturn\u001b[39;00m op\n",
      "File \u001b[0;32m~/.local/lib/python3.10/site-packages/qiskit/quantum_info/operators/operator.py:785\u001b[0m, in \u001b[0;36mOperator._append_instruction\u001b[0;34m(self, obj, qargs)\u001b[0m\n\u001b[1;32m    783\u001b[0m \u001b[38;5;28;01melse\u001b[39;00m:\n\u001b[1;32m    784\u001b[0m     new_qargs \u001b[38;5;241m=\u001b[39m [qargs[bit_indices[tup]] \u001b[38;5;28;01mfor\u001b[39;00m tup \u001b[38;5;129;01min\u001b[39;00m instruction\u001b[38;5;241m.\u001b[39mqubits]\n\u001b[0;32m--> 785\u001b[0m \u001b[38;5;28;43mself\u001b[39;49m\u001b[38;5;241;43m.\u001b[39;49m\u001b[43m_append_instruction\u001b[49m\u001b[43m(\u001b[49m\u001b[43minstruction\u001b[49m\u001b[38;5;241;43m.\u001b[39;49m\u001b[43moperation\u001b[49m\u001b[43m,\u001b[49m\u001b[43m \u001b[49m\u001b[43mqargs\u001b[49m\u001b[38;5;241;43m=\u001b[39;49m\u001b[43mnew_qargs\u001b[49m\u001b[43m)\u001b[49m\n",
      "File \u001b[0;32m~/.local/lib/python3.10/site-packages/qiskit/quantum_info/operators/operator.py:743\u001b[0m, in \u001b[0;36mOperator._append_instruction\u001b[0;34m(self, obj, qargs)\u001b[0m\n\u001b[1;32m    739\u001b[0m mat \u001b[38;5;241m=\u001b[39m \u001b[38;5;28mself\u001b[39m\u001b[38;5;241m.\u001b[39m_instruction_to_matrix(obj)\n\u001b[1;32m    740\u001b[0m \u001b[38;5;28;01mif\u001b[39;00m mat \u001b[38;5;129;01mis\u001b[39;00m \u001b[38;5;129;01mnot\u001b[39;00m \u001b[38;5;28;01mNone\u001b[39;00m:\n\u001b[1;32m    741\u001b[0m     \u001b[38;5;66;03m# Perform the composition and inplace update the current state\u001b[39;00m\n\u001b[1;32m    742\u001b[0m     \u001b[38;5;66;03m# of the operator\u001b[39;00m\n\u001b[0;32m--> 743\u001b[0m     op \u001b[38;5;241m=\u001b[39m \u001b[38;5;28;43mself\u001b[39;49m\u001b[38;5;241;43m.\u001b[39;49m\u001b[43mcompose\u001b[49m\u001b[43m(\u001b[49m\u001b[43mmat\u001b[49m\u001b[43m,\u001b[49m\u001b[43m \u001b[49m\u001b[43mqargs\u001b[49m\u001b[38;5;241;43m=\u001b[39;49m\u001b[43mqargs\u001b[49m\u001b[43m)\u001b[49m\n\u001b[1;32m    744\u001b[0m     \u001b[38;5;28mself\u001b[39m\u001b[38;5;241m.\u001b[39m_data \u001b[38;5;241m=\u001b[39m op\u001b[38;5;241m.\u001b[39mdata\n\u001b[1;32m    745\u001b[0m \u001b[38;5;28;01melif\u001b[39;00m \u001b[38;5;28misinstance\u001b[39m(obj, Barrier):\n",
      "File \u001b[0;32m~/.local/lib/python3.10/site-packages/qiskit/quantum_info/operators/operator.py:505\u001b[0m, in \u001b[0;36mOperator.compose\u001b[0;34m(self, other, qargs, front)\u001b[0m\n\u001b[1;32m    502\u001b[0m indices \u001b[38;5;241m=\u001b[39m [num_indices \u001b[38;5;241m-\u001b[39m \u001b[38;5;241m1\u001b[39m \u001b[38;5;241m-\u001b[39m qubit \u001b[38;5;28;01mfor\u001b[39;00m qubit \u001b[38;5;129;01min\u001b[39;00m qargs]\n\u001b[1;32m    503\u001b[0m final_shape \u001b[38;5;241m=\u001b[39m [\u001b[38;5;28mint\u001b[39m(np\u001b[38;5;241m.\u001b[39mprod(output_dims)), \u001b[38;5;28mint\u001b[39m(np\u001b[38;5;241m.\u001b[39mprod(input_dims))]\n\u001b[1;32m    504\u001b[0m data \u001b[38;5;241m=\u001b[39m np\u001b[38;5;241m.\u001b[39mreshape(\n\u001b[0;32m--> 505\u001b[0m     \u001b[43mOperator\u001b[49m\u001b[38;5;241;43m.\u001b[39;49m\u001b[43m_einsum_matmul\u001b[49m\u001b[43m(\u001b[49m\u001b[43mtensor\u001b[49m\u001b[43m,\u001b[49m\u001b[43m \u001b[49m\u001b[43mmat\u001b[49m\u001b[43m,\u001b[49m\u001b[43m \u001b[49m\u001b[43mindices\u001b[49m\u001b[43m,\u001b[49m\u001b[43m \u001b[49m\u001b[43mshift\u001b[49m\u001b[43m,\u001b[49m\u001b[43m \u001b[49m\u001b[43mright_mul\u001b[49m\u001b[43m)\u001b[49m, final_shape\n\u001b[1;32m    506\u001b[0m )\n\u001b[1;32m    507\u001b[0m ret \u001b[38;5;241m=\u001b[39m Operator(data, input_dims, output_dims)\n\u001b[1;32m    508\u001b[0m ret\u001b[38;5;241m.\u001b[39m_op_shape \u001b[38;5;241m=\u001b[39m new_shape\n",
      "File \u001b[0;32m~/.local/lib/python3.10/site-packages/qiskit/quantum_info/operators/operator.py:693\u001b[0m, in \u001b[0;36mOperator._einsum_matmul\u001b[0;34m(cls, tensor, mat, indices, shift, right_mul)\u001b[0m\n\u001b[1;32m    691\u001b[0m \u001b[38;5;28;01melse\u001b[39;00m:\n\u001b[1;32m    692\u001b[0m     indices_mat \u001b[38;5;241m=\u001b[39m mat_free \u001b[38;5;241m+\u001b[39m mat_contract\n\u001b[0;32m--> 693\u001b[0m \u001b[38;5;28;01mreturn\u001b[39;00m \u001b[43mnp\u001b[49m\u001b[38;5;241;43m.\u001b[39;49m\u001b[43meinsum\u001b[49m\u001b[43m(\u001b[49m\u001b[43mtensor\u001b[49m\u001b[43m,\u001b[49m\u001b[43m \u001b[49m\u001b[43mindices_tensor\u001b[49m\u001b[43m,\u001b[49m\u001b[43m \u001b[49m\u001b[43mmat\u001b[49m\u001b[43m,\u001b[49m\u001b[43m \u001b[49m\u001b[43mindices_mat\u001b[49m\u001b[43m)\u001b[49m\n",
      "File \u001b[0;32m~/.local/lib/python3.10/site-packages/numpy/core/einsumfunc.py:1371\u001b[0m, in \u001b[0;36meinsum\u001b[0;34m(out, optimize, *operands, **kwargs)\u001b[0m\n\u001b[1;32m   1369\u001b[0m     \u001b[38;5;28;01mif\u001b[39;00m specified_out:\n\u001b[1;32m   1370\u001b[0m         kwargs[\u001b[38;5;124m'\u001b[39m\u001b[38;5;124mout\u001b[39m\u001b[38;5;124m'\u001b[39m] \u001b[38;5;241m=\u001b[39m out\n\u001b[0;32m-> 1371\u001b[0m     \u001b[38;5;28;01mreturn\u001b[39;00m \u001b[43mc_einsum\u001b[49m\u001b[43m(\u001b[49m\u001b[38;5;241;43m*\u001b[39;49m\u001b[43moperands\u001b[49m\u001b[43m,\u001b[49m\u001b[43m \u001b[49m\u001b[38;5;241;43m*\u001b[39;49m\u001b[38;5;241;43m*\u001b[39;49m\u001b[43mkwargs\u001b[49m\u001b[43m)\u001b[49m\n\u001b[1;32m   1373\u001b[0m \u001b[38;5;66;03m# Check the kwargs to avoid a more cryptic error later, without having to\u001b[39;00m\n\u001b[1;32m   1374\u001b[0m \u001b[38;5;66;03m# repeat default values here\u001b[39;00m\n\u001b[1;32m   1375\u001b[0m valid_einsum_kwargs \u001b[38;5;241m=\u001b[39m [\u001b[38;5;124m'\u001b[39m\u001b[38;5;124mdtype\u001b[39m\u001b[38;5;124m'\u001b[39m, \u001b[38;5;124m'\u001b[39m\u001b[38;5;124morder\u001b[39m\u001b[38;5;124m'\u001b[39m, \u001b[38;5;124m'\u001b[39m\u001b[38;5;124mcasting\u001b[39m\u001b[38;5;124m'\u001b[39m]\n",
      "\u001b[0;31mKeyboardInterrupt\u001b[0m: "
     ]
    }
   ],
   "source": [
    "qrt4 = qRuntime(qinf4, backend)\n",
    "qrt4.getGateExecutionTime()\n",
    "print(f\"q-Inference log: {qrt4.qinf.log}\")\n",
    "qrt4.rejectionSamplingRuntime()"
   ]
  },
  {
   "cell_type": "markdown",
   "metadata": {},
   "source": [
    "# Demo 5:\n",
    "### Demo 4 with nodes X2, X4, X1, X10"
   ]
  },
  {
   "cell_type": "code",
   "execution_count": 4,
   "metadata": {},
   "outputs": [
    {
     "data": {
      "image/svg+xml": [
       "<svg xmlns=\"http://www.w3.org/2000/svg\" xmlns:xlink=\"http://www.w3.org/1999/xlink\" width=\"206pt\" height=\"260pt\" viewBox=\"0.00 0.00 206.00 260.00\">\n",
       "<g id=\"graph0\" class=\"graph\" transform=\"scale(1 1) rotate(0) translate(4 256)\">\n",
       "<title>G</title>\n",
       "<!-- E -->\n",
       "<g id=\"node1\" class=\"node\">\n",
       "<title>E</title>\n",
       "<g id=\"a_node1\"><a xlink:title=\"(6) E\">\n",
       "<ellipse fill=\"#404040\" stroke=\"#4a4a4a\" cx=\"27\" cy=\"-90\" rx=\"27\" ry=\"18\"/>\n",
       "<text text-anchor=\"middle\" x=\"27\" y=\"-86.3\" font-family=\"Times,serif\" font-size=\"14.00\" fill=\"white\">E</text>\n",
       "</a>\n",
       "</g>\n",
       "</g>\n",
       "<!-- F -->\n",
       "<g id=\"node2\" class=\"node\">\n",
       "<title>F</title>\n",
       "<g id=\"a_node2\"><a xlink:title=\"(8) F\">\n",
       "<ellipse fill=\"#404040\" stroke=\"#4a4a4a\" cx=\"27\" cy=\"-162\" rx=\"27\" ry=\"18\"/>\n",
       "<text text-anchor=\"middle\" x=\"27\" y=\"-158.3\" font-family=\"Times,serif\" font-size=\"14.00\" fill=\"white\">F</text>\n",
       "</a>\n",
       "</g>\n",
       "</g>\n",
       "<!-- F&#45;&gt;E -->\n",
       "<g id=\"edge7\" class=\"edge\">\n",
       "<title>F-&gt;E</title>\n",
       "<g id=\"a_edge7\"><a xlink:title=\"8 → 6\">\n",
       "<path fill=\"none\" stroke=\"#4a4a4a\" d=\"M27,-143.7C27,-135.98 27,-126.71 27,-118.11\"/>\n",
       "<polygon fill=\"#4a4a4a\" stroke=\"#4a4a4a\" points=\"30.5,-118.1 27,-108.1 23.5,-118.1 30.5,-118.1\"/>\n",
       "</a>\n",
       "</g>\n",
       "</g>\n",
       "<!-- H -->\n",
       "<g id=\"node3\" class=\"node\">\n",
       "<title>H</title>\n",
       "<g id=\"a_node3\"><a xlink:title=\"(3) H\">\n",
       "<ellipse fill=\"#404040\" stroke=\"#4a4a4a\" cx=\"135\" cy=\"-18\" rx=\"27\" ry=\"18\"/>\n",
       "<text text-anchor=\"middle\" x=\"135\" y=\"-14.3\" font-family=\"Times,serif\" font-size=\"14.00\" fill=\"white\">H</text>\n",
       "</a>\n",
       "</g>\n",
       "</g>\n",
       "<!-- G -->\n",
       "<g id=\"node4\" class=\"node\">\n",
       "<title>G</title>\n",
       "<g id=\"a_node4\"><a xlink:title=\"(7) G\">\n",
       "<ellipse fill=\"#404040\" stroke=\"#4a4a4a\" cx=\"27\" cy=\"-234\" rx=\"27\" ry=\"18\"/>\n",
       "<text text-anchor=\"middle\" x=\"27\" y=\"-230.3\" font-family=\"Times,serif\" font-size=\"14.00\" fill=\"white\">G</text>\n",
       "</a>\n",
       "</g>\n",
       "</g>\n",
       "<!-- G&#45;&gt;F -->\n",
       "<g id=\"edge8\" class=\"edge\">\n",
       "<title>G-&gt;F</title>\n",
       "<g id=\"a_edge8\"><a xlink:title=\"7 → 8\">\n",
       "<path fill=\"none\" stroke=\"#4a4a4a\" d=\"M27,-215.7C27,-207.98 27,-198.71 27,-190.11\"/>\n",
       "<polygon fill=\"#4a4a4a\" stroke=\"#4a4a4a\" points=\"30.5,-190.1 27,-180.1 23.5,-190.1 30.5,-190.1\"/>\n",
       "</a>\n",
       "</g>\n",
       "</g>\n",
       "<!-- A -->\n",
       "<g id=\"node5\" class=\"node\">\n",
       "<title>A</title>\n",
       "<g id=\"a_node5\"><a xlink:title=\"(0) A\">\n",
       "<ellipse fill=\"#404040\" stroke=\"#4a4a4a\" cx=\"135\" cy=\"-234\" rx=\"27\" ry=\"18\"/>\n",
       "<text text-anchor=\"middle\" x=\"135\" y=\"-230.3\" font-family=\"Times,serif\" font-size=\"14.00\" fill=\"white\">A</text>\n",
       "</a>\n",
       "</g>\n",
       "</g>\n",
       "<!-- D -->\n",
       "<g id=\"node6\" class=\"node\">\n",
       "<title>D</title>\n",
       "<g id=\"a_node6\"><a xlink:title=\"(5) D\">\n",
       "<ellipse fill=\"#404040\" stroke=\"#4a4a4a\" cx=\"99\" cy=\"-162\" rx=\"27\" ry=\"18\"/>\n",
       "<text text-anchor=\"middle\" x=\"99\" y=\"-158.3\" font-family=\"Times,serif\" font-size=\"14.00\" fill=\"white\">D</text>\n",
       "</a>\n",
       "</g>\n",
       "</g>\n",
       "<!-- A&#45;&gt;D -->\n",
       "<g id=\"edge6\" class=\"edge\">\n",
       "<title>A-&gt;D</title>\n",
       "<g id=\"a_edge6\"><a xlink:title=\"0 → 5\">\n",
       "<path fill=\"none\" stroke=\"#4a4a4a\" d=\"M126.65,-216.76C122.29,-208.28 116.85,-197.71 111.96,-188.2\"/>\n",
       "<polygon fill=\"#4a4a4a\" stroke=\"#4a4a4a\" points=\"114.99,-186.44 107.3,-179.15 108.77,-189.64 114.99,-186.44\"/>\n",
       "</a>\n",
       "</g>\n",
       "</g>\n",
       "<!-- B -->\n",
       "<g id=\"node8\" class=\"node\">\n",
       "<title>B</title>\n",
       "<g id=\"a_node8\"><a xlink:title=\"(1) B\">\n",
       "<ellipse fill=\"#404040\" stroke=\"#4a4a4a\" cx=\"171\" cy=\"-162\" rx=\"27\" ry=\"18\"/>\n",
       "<text text-anchor=\"middle\" x=\"171\" y=\"-158.3\" font-family=\"Times,serif\" font-size=\"14.00\" fill=\"white\">B</text>\n",
       "</a>\n",
       "</g>\n",
       "</g>\n",
       "<!-- A&#45;&gt;B -->\n",
       "<g id=\"edge1\" class=\"edge\">\n",
       "<title>A-&gt;B</title>\n",
       "<g id=\"a_edge1\"><a xlink:title=\"0 → 1\">\n",
       "<path fill=\"none\" stroke=\"#4a4a4a\" d=\"M143.35,-216.76C147.71,-208.28 153.15,-197.71 158.04,-188.2\"/>\n",
       "<polygon fill=\"#4a4a4a\" stroke=\"#4a4a4a\" points=\"161.23,-189.64 162.7,-179.15 155.01,-186.44 161.23,-189.64\"/>\n",
       "</a>\n",
       "</g>\n",
       "</g>\n",
       "<!-- D&#45;&gt;E -->\n",
       "<g id=\"edge5\" class=\"edge\">\n",
       "<title>D-&gt;E</title>\n",
       "<g id=\"a_edge5\"><a xlink:title=\"5 → 6\">\n",
       "<path fill=\"none\" stroke=\"#4a4a4a\" d=\"M84.43,-146.83C74.25,-136.94 60.48,-123.55 48.97,-112.36\"/>\n",
       "<polygon fill=\"#4a4a4a\" stroke=\"#4a4a4a\" points=\"51.41,-109.85 41.8,-105.38 46.53,-114.87 51.41,-109.85\"/>\n",
       "</a>\n",
       "</g>\n",
       "</g>\n",
       "<!-- C -->\n",
       "<g id=\"node7\" class=\"node\">\n",
       "<title>C</title>\n",
       "<g id=\"a_node7\"><a xlink:title=\"(2) C\">\n",
       "<ellipse fill=\"#404040\" stroke=\"#4a4a4a\" cx=\"171\" cy=\"-90\" rx=\"27\" ry=\"18\"/>\n",
       "<text text-anchor=\"middle\" x=\"171\" y=\"-86.3\" font-family=\"Times,serif\" font-size=\"14.00\" fill=\"white\">C</text>\n",
       "</a>\n",
       "</g>\n",
       "</g>\n",
       "<!-- D&#45;&gt;C -->\n",
       "<g id=\"edge9\" class=\"edge\">\n",
       "<title>D-&gt;C</title>\n",
       "<g id=\"a_edge9\"><a xlink:title=\"5 → 2\">\n",
       "<path fill=\"none\" stroke=\"#4a4a4a\" d=\"M113.57,-146.83C123.75,-136.94 137.52,-123.55 149.03,-112.36\"/>\n",
       "<polygon fill=\"#4a4a4a\" stroke=\"#4a4a4a\" points=\"151.47,-114.87 156.2,-105.38 146.59,-109.85 151.47,-114.87\"/>\n",
       "</a>\n",
       "</g>\n",
       "</g>\n",
       "<!-- C&#45;&gt;H -->\n",
       "<g id=\"edge4\" class=\"edge\">\n",
       "<title>C-&gt;H</title>\n",
       "<g id=\"a_edge4\"><a xlink:title=\"2 → 3\">\n",
       "<path fill=\"none\" stroke=\"#4a4a4a\" d=\"M162.65,-72.76C158.29,-64.28 152.85,-53.71 147.96,-44.2\"/>\n",
       "<polygon fill=\"#4a4a4a\" stroke=\"#4a4a4a\" points=\"150.99,-42.44 143.3,-35.15 144.77,-45.64 150.99,-42.44\"/>\n",
       "</a>\n",
       "</g>\n",
       "</g>\n",
       "<!-- B&#45;&gt;C -->\n",
       "<g id=\"edge2\" class=\"edge\">\n",
       "<title>B-&gt;C</title>\n",
       "<g id=\"a_edge2\"><a xlink:title=\"1 → 2\">\n",
       "<path fill=\"none\" stroke=\"#4a4a4a\" d=\"M171,-143.7C171,-135.98 171,-126.71 171,-118.11\"/>\n",
       "<polygon fill=\"#4a4a4a\" stroke=\"#4a4a4a\" points=\"174.5,-118.1 171,-108.1 167.5,-118.1 174.5,-118.1\"/>\n",
       "</a>\n",
       "</g>\n",
       "</g>\n",
       "<!-- I -->\n",
       "<g id=\"node9\" class=\"node\">\n",
       "<title>I</title>\n",
       "<g id=\"a_node9\"><a xlink:title=\"(4) I\">\n",
       "<ellipse fill=\"#404040\" stroke=\"#4a4a4a\" cx=\"99\" cy=\"-90\" rx=\"27\" ry=\"18\"/>\n",
       "<text text-anchor=\"middle\" x=\"99\" y=\"-86.3\" font-family=\"Times,serif\" font-size=\"14.00\" fill=\"white\">I</text>\n",
       "</a>\n",
       "</g>\n",
       "</g>\n",
       "<!-- I&#45;&gt;H -->\n",
       "<g id=\"edge3\" class=\"edge\">\n",
       "<title>I-&gt;H</title>\n",
       "<g id=\"a_edge3\"><a xlink:title=\"4 → 3\">\n",
       "<path fill=\"none\" stroke=\"#4a4a4a\" d=\"M107.35,-72.76C111.71,-64.28 117.15,-53.71 122.04,-44.2\"/>\n",
       "<polygon fill=\"#4a4a4a\" stroke=\"#4a4a4a\" points=\"125.23,-45.64 126.7,-35.15 119.01,-42.44 125.23,-45.64\"/>\n",
       "</a>\n",
       "</g>\n",
       "</g>\n",
       "</g>\n",
       "</svg>"
      ],
      "text/plain": [
       "<IPython.core.display.SVG object>"
      ]
     },
     "metadata": {},
     "output_type": "display_data"
    }
   ],
   "source": [
    "bn5 = gum.fastBN(\"A->B->C->H;I->H;A->D->C;D->E;G->F->E\", 2)\n",
    "\n",
    "gnb.showBN(bn5, size=10)"
   ]
  },
  {
   "cell_type": "code",
   "execution_count": 6,
   "metadata": {},
   "outputs": [],
   "source": [
    "qbn5 = qBayesNet(bn5)\n",
    "qc5 = qbn5.buildCircuit(add_measure=True)\n",
    "#qc5.draw(output=\"mpl\", scale=0.5)"
   ]
  },
  {
   "cell_type": "code",
   "execution_count": 7,
   "metadata": {},
   "outputs": [
    {
     "name": "stdout",
     "output_type": "stream",
     "text": [
      "Evidence: {'H': 0, 'A': 1}\n",
      "Evidence probability: 0.33430046969155575\n"
     ]
    }
   ],
   "source": [
    "ev5 = {\"H\": 0, \"A\":1}\n",
    "ie5=gum.LazyPropagation(bn5)\n",
    "ie5.setEvidence(ev5)\n",
    "ie5.makeInference()\n",
    "print(f\"Evidence: {ev5}\")\n",
    "print(f\"Evidence probability: {ie5.evidenceProbability()}\")"
   ]
  },
  {
   "cell_type": "code",
   "execution_count": 18,
   "metadata": {},
   "outputs": [],
   "source": [
    "target_node_bn5 = \"D\""
   ]
  },
  {
   "cell_type": "code",
   "execution_count": 9,
   "metadata": {},
   "outputs": [
    {
     "data": {
      "image/svg+xml": [
       "<svg xmlns=\"http://www.w3.org/2000/svg\" xmlns:xlink=\"http://www.w3.org/1999/xlink\" width=\"170pt\" height=\"260pt\" viewBox=\"0.00 0.00 170.00 260.00\">\n",
       "<g id=\"graph0\" class=\"graph\" transform=\"scale(1 1) rotate(0) translate(4 256)\">\n",
       "<title>G</title>\n",
       "<!-- H -->\n",
       "<g id=\"node1\" class=\"node\">\n",
       "<title>H</title>\n",
       "<g id=\"a_node1\"><a xlink:title=\"(3) H\">\n",
       "<ellipse fill=\"#404040\" stroke=\"#4a4a4a\" cx=\"99\" cy=\"-18\" rx=\"27\" ry=\"18\"/>\n",
       "<text text-anchor=\"middle\" x=\"99\" y=\"-14.3\" font-family=\"Times,serif\" font-size=\"14.00\" fill=\"white\">H</text>\n",
       "</a>\n",
       "</g>\n",
       "</g>\n",
       "<!-- A -->\n",
       "<g id=\"node2\" class=\"node\">\n",
       "<title>A</title>\n",
       "<g id=\"a_node2\"><a xlink:title=\"(0) A\">\n",
       "<ellipse fill=\"#404040\" stroke=\"#4a4a4a\" cx=\"63\" cy=\"-234\" rx=\"27\" ry=\"18\"/>\n",
       "<text text-anchor=\"middle\" x=\"63\" y=\"-230.3\" font-family=\"Times,serif\" font-size=\"14.00\" fill=\"white\">A</text>\n",
       "</a>\n",
       "</g>\n",
       "</g>\n",
       "<!-- D -->\n",
       "<g id=\"node3\" class=\"node\">\n",
       "<title>D</title>\n",
       "<g id=\"a_node3\"><a xlink:title=\"(5) D\">\n",
       "<ellipse fill=\"#404040\" stroke=\"#4a4a4a\" cx=\"27\" cy=\"-162\" rx=\"27\" ry=\"18\"/>\n",
       "<text text-anchor=\"middle\" x=\"27\" y=\"-158.3\" font-family=\"Times,serif\" font-size=\"14.00\" fill=\"white\">D</text>\n",
       "</a>\n",
       "</g>\n",
       "</g>\n",
       "<!-- A&#45;&gt;D -->\n",
       "<g id=\"edge5\" class=\"edge\">\n",
       "<title>A-&gt;D</title>\n",
       "<g id=\"a_edge5\"><a xlink:title=\"0 → 5\">\n",
       "<path fill=\"none\" stroke=\"#4a4a4a\" d=\"M54.65,-216.76C50.29,-208.28 44.85,-197.71 39.96,-188.2\"/>\n",
       "<polygon fill=\"#4a4a4a\" stroke=\"#4a4a4a\" points=\"42.99,-186.44 35.3,-179.15 36.77,-189.64 42.99,-186.44\"/>\n",
       "</a>\n",
       "</g>\n",
       "</g>\n",
       "<!-- B -->\n",
       "<g id=\"node5\" class=\"node\">\n",
       "<title>B</title>\n",
       "<g id=\"a_node5\"><a xlink:title=\"(1) B\">\n",
       "<ellipse fill=\"#404040\" stroke=\"#4a4a4a\" cx=\"99\" cy=\"-162\" rx=\"27\" ry=\"18\"/>\n",
       "<text text-anchor=\"middle\" x=\"99\" y=\"-158.3\" font-family=\"Times,serif\" font-size=\"14.00\" fill=\"white\">B</text>\n",
       "</a>\n",
       "</g>\n",
       "</g>\n",
       "<!-- A&#45;&gt;B -->\n",
       "<g id=\"edge1\" class=\"edge\">\n",
       "<title>A-&gt;B</title>\n",
       "<g id=\"a_edge1\"><a xlink:title=\"0 → 1\">\n",
       "<path fill=\"none\" stroke=\"#4a4a4a\" d=\"M71.35,-216.76C75.71,-208.28 81.15,-197.71 86.04,-188.2\"/>\n",
       "<polygon fill=\"#4a4a4a\" stroke=\"#4a4a4a\" points=\"89.23,-189.64 90.7,-179.15 83.01,-186.44 89.23,-189.64\"/>\n",
       "</a>\n",
       "</g>\n",
       "</g>\n",
       "<!-- C -->\n",
       "<g id=\"node4\" class=\"node\">\n",
       "<title>C</title>\n",
       "<g id=\"a_node4\"><a xlink:title=\"(2) C\">\n",
       "<ellipse fill=\"#404040\" stroke=\"#4a4a4a\" cx=\"63\" cy=\"-90\" rx=\"27\" ry=\"18\"/>\n",
       "<text text-anchor=\"middle\" x=\"63\" y=\"-86.3\" font-family=\"Times,serif\" font-size=\"14.00\" fill=\"white\">C</text>\n",
       "</a>\n",
       "</g>\n",
       "</g>\n",
       "<!-- D&#45;&gt;C -->\n",
       "<g id=\"edge6\" class=\"edge\">\n",
       "<title>D-&gt;C</title>\n",
       "<g id=\"a_edge6\"><a xlink:title=\"5 → 2\">\n",
       "<path fill=\"none\" stroke=\"#4a4a4a\" d=\"M35.35,-144.76C39.71,-136.28 45.15,-125.71 50.04,-116.2\"/>\n",
       "<polygon fill=\"#4a4a4a\" stroke=\"#4a4a4a\" points=\"53.23,-117.64 54.7,-107.15 47.01,-114.44 53.23,-117.64\"/>\n",
       "</a>\n",
       "</g>\n",
       "</g>\n",
       "<!-- C&#45;&gt;H -->\n",
       "<g id=\"edge4\" class=\"edge\">\n",
       "<title>C-&gt;H</title>\n",
       "<g id=\"a_edge4\"><a xlink:title=\"2 → 3\">\n",
       "<path fill=\"none\" stroke=\"#4a4a4a\" d=\"M71.35,-72.76C75.71,-64.28 81.15,-53.71 86.04,-44.2\"/>\n",
       "<polygon fill=\"#4a4a4a\" stroke=\"#4a4a4a\" points=\"89.23,-45.64 90.7,-35.15 83.01,-42.44 89.23,-45.64\"/>\n",
       "</a>\n",
       "</g>\n",
       "</g>\n",
       "<!-- B&#45;&gt;C -->\n",
       "<g id=\"edge2\" class=\"edge\">\n",
       "<title>B-&gt;C</title>\n",
       "<g id=\"a_edge2\"><a xlink:title=\"1 → 2\">\n",
       "<path fill=\"none\" stroke=\"#4a4a4a\" d=\"M90.65,-144.76C86.29,-136.28 80.85,-125.71 75.96,-116.2\"/>\n",
       "<polygon fill=\"#4a4a4a\" stroke=\"#4a4a4a\" points=\"78.99,-114.44 71.3,-107.15 72.77,-117.64 78.99,-114.44\"/>\n",
       "</a>\n",
       "</g>\n",
       "</g>\n",
       "<!-- I -->\n",
       "<g id=\"node6\" class=\"node\">\n",
       "<title>I</title>\n",
       "<g id=\"a_node6\"><a xlink:title=\"(4) I\">\n",
       "<ellipse fill=\"#404040\" stroke=\"#4a4a4a\" cx=\"135\" cy=\"-90\" rx=\"27\" ry=\"18\"/>\n",
       "<text text-anchor=\"middle\" x=\"135\" y=\"-86.3\" font-family=\"Times,serif\" font-size=\"14.00\" fill=\"white\">I</text>\n",
       "</a>\n",
       "</g>\n",
       "</g>\n",
       "<!-- I&#45;&gt;H -->\n",
       "<g id=\"edge3\" class=\"edge\">\n",
       "<title>I-&gt;H</title>\n",
       "<g id=\"a_edge3\"><a xlink:title=\"4 → 3\">\n",
       "<path fill=\"none\" stroke=\"#4a4a4a\" d=\"M126.65,-72.76C122.29,-64.28 116.85,-53.71 111.96,-44.2\"/>\n",
       "<polygon fill=\"#4a4a4a\" stroke=\"#4a4a4a\" points=\"114.99,-42.44 107.3,-35.15 108.77,-45.64 114.99,-42.44\"/>\n",
       "</a>\n",
       "</g>\n",
       "</g>\n",
       "</g>\n",
       "</svg>"
      ],
      "text/plain": [
       "<IPython.core.display.SVG object>"
      ]
     },
     "metadata": {},
     "output_type": "display_data"
    }
   ],
   "source": [
    "qinf5 = qInference(qbn5)\n",
    "qinf5.setEvidence(ev5)\n",
    "qinf5.setMaxIter(5000)\n",
    "qinf5.useFragmentBN(target={target_node_bn5})\n",
    "gnb.showBN(qinf5.qbn.bn, size=10)"
   ]
  },
  {
   "cell_type": "code",
   "execution_count": 10,
   "metadata": {},
   "outputs": [],
   "source": [
    "qinf5.makeInference()"
   ]
  },
  {
   "cell_type": "code",
   "execution_count": 19,
   "metadata": {},
   "outputs": [
    {
     "data": {
      "text/html": [
       "<table style=\"border-style: hidden; border-collapse: collapse;\" width=\"100%\"><tr><td style=\"border-top:hidden;border-bottom:hidden;vertical-align:middle;\"><div align=\"center\" style=\"vertical-align:middle;\"><table style=\"border:1px solid black;border-collapse: collapse;\">\n",
       "<tr style='border:1px solid black;color:black;background-color:#808080'>\n",
       "      <th colspan='2'><center>D</center></th></tr>\n",
       "<tr><th style='border:1px solid black;border-bottom-style: double;color:black;background-color:#BBBBBB'>\n",
       "      <center>0</center></th><th style='border:1px solid black;border-bottom-style: double;color:black;background-color:#BBBBBB'>\n",
       "      <center>1</center></th></tr>\n",
       "<tr><td style='color:black;background-color:#fa8364;text-align:right;padding: 3px;'>0.0338</td><td style='color:black;background-color:#83fa64;text-align:right;padding: 3px;'>0.9662</td></tr>\n",
       "</table><br><small><i>qInference</i></small></div></td><td style=\"border-top:hidden;border-bottom:hidden;vertical-align:middle;\"><div align=\"center\" style=\"vertical-align:middle;\"><table style=\"border:1px solid black;border-collapse: collapse;\">\n",
       "<tr style='border:1px solid black;color:black;background-color:#808080'>\n",
       "      <th colspan='2'><center>D</center></th></tr>\n",
       "<tr><th style='border:1px solid black;border-bottom-style: double;color:black;background-color:#BBBBBB'>\n",
       "      <center>0</center></th><th style='border:1px solid black;border-bottom-style: double;color:black;background-color:#BBBBBB'>\n",
       "      <center>1</center></th></tr>\n",
       "<tr><td style='color:black;background-color:#fb8264;text-align:right;padding: 3px;'>0.0257</td><td style='color:black;background-color:#82fb64;text-align:right;padding: 3px;'>0.9743</td></tr>\n",
       "</table><br><small><i>LazyPropagation</i></small></div></td></tr></table>"
      ],
      "text/plain": [
       "<IPython.core.display.HTML object>"
      ]
     },
     "metadata": {},
     "output_type": "display_data"
    }
   ],
   "source": [
    "gnb.sideBySide(qinf5.posterior(target_node_bn5),\n",
    "               ie5.posterior(target_node_bn5),\n",
    "               captions=[\"qInference\", \"LazyPropagation\"])"
   ]
  },
  {
   "cell_type": "code",
   "execution_count": 20,
   "metadata": {},
   "outputs": [
    {
     "name": "stdout",
     "output_type": "stream",
     "text": [
      "A gate transpiled circuit depth: 17226\n",
      "A gate execution time: 0.00511116 s\n",
      "G gate transpiled circuit depth: 17657\n",
      "G gate execution time: 0.00525096 s\n",
      "q-Inference log: {'A': 5062, 'G': 5164}\n"
     ]
    },
    {
     "data": {
      "text/plain": [
       "52.98864936"
      ]
     },
     "execution_count": 20,
     "metadata": {},
     "output_type": "execute_result"
    }
   ],
   "source": [
    "qrt5 = qRuntime(qinf5, backend)\n",
    "qrt5.getGateExecutionTime()\n",
    "print(f\"q-Inference log: {qrt5.qinf.log}\")\n",
    "qrt5.rejectionSamplingRuntime()"
   ]
  },
  {
   "cell_type": "code",
   "execution_count": null,
   "metadata": {},
   "outputs": [],
   "source": []
  }
 ],
 "metadata": {
  "kernelspec": {
   "display_name": "Python 3",
   "language": "python",
   "name": "python3"
  },
  "language_info": {
   "codemirror_mode": {
    "name": "ipython",
    "version": 3
   },
   "file_extension": ".py",
   "mimetype": "text/x-python",
   "name": "python",
   "nbconvert_exporter": "python",
   "pygments_lexer": "ipython3",
   "version": "3.10.12"
  }
 },
 "nbformat": 4,
 "nbformat_minor": 2
}
