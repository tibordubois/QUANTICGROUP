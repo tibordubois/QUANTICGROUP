{
 "cells": [
  {
   "cell_type": "code",
   "execution_count": 1,
   "metadata": {},
   "outputs": [
    {
     "name": "stdout",
     "output_type": "stream",
     "text": [
      "The autoreload extension is already loaded. To reload it, use:\n",
      "  %reload_ext autoreload\n"
     ]
    }
   ],
   "source": [
    "%load_ext autoreload\n",
    "%autoreload 2\n",
    "\n",
    "import sys\n",
    "if sys.path[-1] != \"..\": sys.path.append(\"..\")\n",
    "\n",

    "from qBN.qBNMC import qBayesNet\n",
    "from qBN.qBNRejection import qInference\n",
    "from XPs.qBNRT import qRuntime\n",

    "\n",
    "import pyAgrum as gum\n",
    "import pyAgrum.lib.notebook as gnb"
   ]
  },
  {
   "cell_type": "code",
   "execution_count": 16,
   "metadata": {},
   "outputs": [],
   "source": [
    "from qiskit_ibm_runtime import QiskitRuntimeService\n",
    "\n",
    "service = QiskitRuntimeService(\n",
    "    channel='ibm_quantum',\n",
    "    instance='ibm-q/open/main',\n",
    "    token='1b6910ff55c1d3853e5c8e2ca2b0dbbc3b415fb897d26a6c272c63254527581c824aea1180585f706ab8263318f3c553549d136ca32952ef401abb54011eee33'\n",
    ")\n",
    "\n",
    "backend = service.get_backend(\"ibm_brisbane\")\n",
    "\n",
    "# Or save your credentials on disk.\n",
    "# QiskitRuntimeService.save_account(channel='ibm_quantum', instance='ibm-q/open/main', token='1b6910ff55c1d3853e5c8e2ca2b0dbbc3b415fb897d26a6c272c63254527581c824aea1180585f706ab8263318f3c553549d136ca32952ef401abb54011eee33')"
   ]
  },
  {
   "cell_type": "markdown",
   "metadata": {},
   "source": [
    "# Demo 1: \n",
    "### 3 variables, 2 states per variable "
   ]
  },
  {
   "cell_type": "code",
   "execution_count": 3,
   "metadata": {},
   "outputs": [
    {
     "data": {
      "text/html": [
       "<svg xmlns=\"http://www.w3.org/2000/svg\" xmlns:xlink=\"http://www.w3.org/1999/xlink\" width=\"134pt\" height=\"116pt\" viewBox=\"0.00 0.00 134.00 116.00\">\n",
       "<g id=\"graph0\" class=\"graph\" transform=\"scale(1 1) rotate(0) translate(4 112)\">\n",
       "<title>G</title>\n",
       "<!-- A -->\n",
       "<g id=\"node1\" class=\"node\">\n",
       "<title>A</title>\n",
       "<g id=\"a_node1\"><a xlink:title=\"(0) A\">\n",
       "<ellipse fill=\"#404040\" stroke=\"#4a4a4a\" cx=\"27\" cy=\"-90\" rx=\"27\" ry=\"18\"/>\n",
       "<text text-anchor=\"middle\" x=\"27\" y=\"-86.3\" font-family=\"Times,serif\" font-size=\"14.00\" fill=\"white\">A</text>\n",
       "</a>\n",
       "</g>\n",
       "</g>\n",
       "<!-- B -->\n",
       "<g id=\"node3\" class=\"node\">\n",
       "<title>B</title>\n",
       "<g id=\"a_node3\"><a xlink:title=\"(1) B\">\n",
       "<ellipse fill=\"#404040\" stroke=\"#4a4a4a\" cx=\"63\" cy=\"-18\" rx=\"27\" ry=\"18\"/>\n",
       "<text text-anchor=\"middle\" x=\"63\" y=\"-14.3\" font-family=\"Times,serif\" font-size=\"14.00\" fill=\"white\">B</text>\n",
       "</a>\n",
       "</g>\n",
       "</g>\n",
       "<!-- A&#45;&gt;B -->\n",
       "<g id=\"edge1\" class=\"edge\">\n",
       "<title>A-&gt;B</title>\n",
       "<g id=\"a_edge1\"><a xlink:title=\"0 → 1\">\n",
       "<path fill=\"none\" stroke=\"#4a4a4a\" d=\"M35.35,-72.76C39.71,-64.28 45.15,-53.71 50.04,-44.2\"/>\n",
       "<polygon fill=\"#4a4a4a\" stroke=\"#4a4a4a\" points=\"53.23,-45.64 54.7,-35.15 47.01,-42.44 53.23,-45.64\"/>\n",
       "</a>\n",
       "</g>\n",
       "</g>\n",
       "<!-- C -->\n",
       "<g id=\"node2\" class=\"node\">\n",
       "<title>C</title>\n",
       "<g id=\"a_node2\"><a xlink:title=\"(2) C\">\n",
       "<ellipse fill=\"#404040\" stroke=\"#4a4a4a\" cx=\"99\" cy=\"-90\" rx=\"27\" ry=\"18\"/>\n",
       "<text text-anchor=\"middle\" x=\"99\" y=\"-86.3\" font-family=\"Times,serif\" font-size=\"14.00\" fill=\"white\">C</text>\n",
       "</a>\n",
       "</g>\n",
       "</g>\n",
       "<!-- C&#45;&gt;B -->\n",
       "<g id=\"edge2\" class=\"edge\">\n",
       "<title>C-&gt;B</title>\n",
       "<g id=\"a_edge2\"><a xlink:title=\"2 → 1\">\n",
       "<path fill=\"none\" stroke=\"#4a4a4a\" d=\"M90.65,-72.76C86.29,-64.28 80.85,-53.71 75.96,-44.2\"/>\n",
       "<polygon fill=\"#4a4a4a\" stroke=\"#4a4a4a\" points=\"78.99,-42.44 71.3,-35.15 72.77,-45.64 78.99,-42.44\"/>\n",
       "</a>\n",
       "</g>\n",
       "</g>\n",
       "</g>\n",
       "</svg>"
      ],
      "text/plain": [
       "(pyAgrum.BayesNet<double>@0x5a2c2a8e2590) BN{nodes: 3, arcs: 2, domainSize: 8, dim: 6, mem: 96o}"
      ]
     },
     "execution_count": 3,
     "metadata": {},
     "output_type": "execute_result"
    }
   ],
   "source": [
    "bn1 = gum.fastBN(\"A->B<-C\", 2)\n",
    "bn1"
   ]
  },
  {
   "cell_type": "code",
   "execution_count": 4,
   "metadata": {},
   "outputs": [],
   "source": [
    "qbn1 = qBayesNet(bn1)\n",
    "qc1 = qbn1.buildCircuit(add_measure=True)\n",
    "#qc1.draw(output=\"mpl\", scale=0.5)"
   ]
  },
  {
   "cell_type": "code",
   "execution_count": 5,
   "metadata": {},
   "outputs": [
    {
     "name": "stdout",
     "output_type": "stream",
     "text": [
      "Evidence: {'B': 0}\n",
      "Evidence probability: 0.31141950632644305\n"
     ]
    }
   ],
   "source": [
    "ev1 = {\"B\": 0}\n",
    "ie1=gum.LazyPropagation(bn1)\n",
    "ie1.setEvidence(ev1)\n",
    "ie1.makeInference()\n",
    "print(f\"Evidence: {ev1}\")\n",
    "print(f\"Evidence probability: {ie1.evidenceProbability()}\")"
   ]
  },
  {
   "cell_type": "code",
   "execution_count": 6,
   "metadata": {},
   "outputs": [],
   "source": [
    "target_node_bn1 = \"A\""
   ]
  },
  {
   "cell_type": "code",
   "execution_count": 7,
   "metadata": {},
   "outputs": [
    {
     "data": {
      "text/html": [
       "<svg xmlns=\"http://www.w3.org/2000/svg\" xmlns:xlink=\"http://www.w3.org/1999/xlink\" width=\"134pt\" height=\"116pt\" viewBox=\"0.00 0.00 134.00 116.00\">\n",
       "<g id=\"graph0\" class=\"graph\" transform=\"scale(1 1) rotate(0) translate(4 112)\">\n",
       "<title>G</title>\n",
       "<!-- A -->\n",
       "<g id=\"node1\" class=\"node\">\n",
       "<title>A</title>\n",
       "<g id=\"a_node1\"><a xlink:title=\"(0) A\">\n",
       "<ellipse fill=\"#404040\" stroke=\"#4a4a4a\" cx=\"27\" cy=\"-90\" rx=\"27\" ry=\"18\"/>\n",
       "<text text-anchor=\"middle\" x=\"27\" y=\"-86.3\" font-family=\"Times,serif\" font-size=\"14.00\" fill=\"white\">A</text>\n",
       "</a>\n",
       "</g>\n",
       "</g>\n",
       "<!-- B -->\n",
       "<g id=\"node3\" class=\"node\">\n",
       "<title>B</title>\n",
       "<g id=\"a_node3\"><a xlink:title=\"(1) B\">\n",
       "<ellipse fill=\"#404040\" stroke=\"#4a4a4a\" cx=\"63\" cy=\"-18\" rx=\"27\" ry=\"18\"/>\n",
       "<text text-anchor=\"middle\" x=\"63\" y=\"-14.3\" font-family=\"Times,serif\" font-size=\"14.00\" fill=\"white\">B</text>\n",
       "</a>\n",
       "</g>\n",
       "</g>\n",
       "<!-- A&#45;&gt;B -->\n",
       "<g id=\"edge1\" class=\"edge\">\n",
       "<title>A-&gt;B</title>\n",
       "<g id=\"a_edge1\"><a xlink:title=\"0 → 1\">\n",
       "<path fill=\"none\" stroke=\"#4a4a4a\" d=\"M35.35,-72.76C39.71,-64.28 45.15,-53.71 50.04,-44.2\"/>\n",
       "<polygon fill=\"#4a4a4a\" stroke=\"#4a4a4a\" points=\"53.23,-45.64 54.7,-35.15 47.01,-42.44 53.23,-45.64\"/>\n",
       "</a>\n",
       "</g>\n",
       "</g>\n",
       "<!-- C -->\n",
       "<g id=\"node2\" class=\"node\">\n",
       "<title>C</title>\n",
       "<g id=\"a_node2\"><a xlink:title=\"(2) C\">\n",
       "<ellipse fill=\"#404040\" stroke=\"#4a4a4a\" cx=\"99\" cy=\"-90\" rx=\"27\" ry=\"18\"/>\n",
       "<text text-anchor=\"middle\" x=\"99\" y=\"-86.3\" font-family=\"Times,serif\" font-size=\"14.00\" fill=\"white\">C</text>\n",
       "</a>\n",
       "</g>\n",
       "</g>\n",
       "<!-- C&#45;&gt;B -->\n",
       "<g id=\"edge2\" class=\"edge\">\n",
       "<title>C-&gt;B</title>\n",
       "<g id=\"a_edge2\"><a xlink:title=\"2 → 1\">\n",
       "<path fill=\"none\" stroke=\"#4a4a4a\" d=\"M90.65,-72.76C86.29,-64.28 80.85,-53.71 75.96,-44.2\"/>\n",
       "<polygon fill=\"#4a4a4a\" stroke=\"#4a4a4a\" points=\"78.99,-42.44 71.3,-35.15 72.77,-45.64 78.99,-42.44\"/>\n",
       "</a>\n",
       "</g>\n",
       "</g>\n",
       "</g>\n",
       "</svg>"
      ],
      "text/plain": [
       "(pyAgrum.BayesNet<double>@0x5a2c2a983ed0) BN{nodes: 3, arcs: 2, domainSize: 8, dim: 6, mem: 96o}"
      ]
     },
     "execution_count": 7,
     "metadata": {},
     "output_type": "execute_result"
    }
   ],
   "source": [
    "qinf1 = qInference(qbn1)\n",
    "qinf1.setEvidence(ev1)\n",
    "qinf1.setMaxIter(1000)\n",
    "qinf1.useFragmentBN(target={target_node_bn1})\n",
    "qinf1.qbn.bn"
   ]
  },
  {
   "cell_type": "code",
   "execution_count": 11,
   "metadata": {},
   "outputs": [
    {
     "data": {
      "text/html": [
       "<table style=\"border:1px solid black;border-collapse: collapse;\">\n",
       "<tr style='border:1px solid black;color:black;background-color:#808080'>\n",
       "      <th colspan='2'><center>A</center></th></tr>\n",
       "<tr><th style='border:1px solid black;border-bottom-style: double;color:black;background-color:#BBBBBB'>\n",
       "      <center>0</center></th><th style='border:1px solid black;border-bottom-style: double;color:black;background-color:#BBBBBB'>\n",
       "      <center>1</center></th></tr>\n",
       "<tr><td style='color:black;background-color:#e89564;text-align:right;padding: 3px;'>0.1759</td><td style='color:black;background-color:#95e864;text-align:right;padding: 3px;'>0.8241</td></tr>\n",
       "</table>"
      ],
      "text/plain": [
       "(pyAgrum.Potential<double>@0x5a2c2ab0b340) \n",
       "  A                |\n",
       "0        |1        |\n",
       "---------|---------|\n",
       " 0.1759  | 0.8241  |"
      ]
     },
     "execution_count": 11,
     "metadata": {},
     "output_type": "execute_result"
    }
   ],
   "source": [
    "ie1.posterior(target_node_bn1)"
   ]
  },
  {
   "cell_type": "code",
   "execution_count": 13,
   "metadata": {},
   "outputs": [
    {
     "data": {
      "text/plain": [
       "{'A': [0.18000000000000013, 0.8200000000000006],\n",
       " 'B': [1.0000000000000007, 0],\n",
       " 'C': [0.6890000000000005, 0.3110000000000002]}"
      ]
     },
     "execution_count": 13,
     "metadata": {},
     "output_type": "execute_result"
    }
   ],
   "source": [
    "qinf1.makeInference()"
   ]
  },
  {
   "cell_type": "code",
   "execution_count": 14,
   "metadata": {},
   "outputs": [
    {
     "data": {
      "text/html": [
       "<table style=\"border-style: hidden; border-collapse: collapse;\" width=\"100%\"><tr><td style=\"border-top:hidden;border-bottom:hidden;vertical-align:middle;\"><div align=\"center\" style=\"vertical-align:middle;\"><table style=\"border:1px solid black;border-collapse: collapse;\">\n",
       "<tr style='border:1px solid black;color:black;background-color:#808080'>\n",
       "      <th colspan='2'><center>A</center></th></tr>\n",
       "<tr><th style='border:1px solid black;border-bottom-style: double;color:black;background-color:#BBBBBB'>\n",
       "      <center>0</center></th><th style='border:1px solid black;border-bottom-style: double;color:black;background-color:#BBBBBB'>\n",
       "      <center>1</center></th></tr>\n",
       "<tr><td style='color:black;background-color:#e79664;text-align:right;padding: 3px;'>0.1800</td><td style='color:black;background-color:#96e764;text-align:right;padding: 3px;'>0.8200</td></tr>\n",
       "</table><br><small><i>qInference</i></small></div></td><td style=\"border-top:hidden;border-bottom:hidden;vertical-align:middle;\"><div align=\"center\" style=\"vertical-align:middle;\"><table style=\"border:1px solid black;border-collapse: collapse;\">\n",
       "<tr style='border:1px solid black;color:black;background-color:#808080'>\n",
       "      <th colspan='2'><center>A</center></th></tr>\n",
       "<tr><th style='border:1px solid black;border-bottom-style: double;color:black;background-color:#BBBBBB'>\n",
       "      <center>0</center></th><th style='border:1px solid black;border-bottom-style: double;color:black;background-color:#BBBBBB'>\n",
       "      <center>1</center></th></tr>\n",
       "<tr><td style='color:black;background-color:#e89564;text-align:right;padding: 3px;'>0.1759</td><td style='color:black;background-color:#95e864;text-align:right;padding: 3px;'>0.8241</td></tr>\n",
       "</table><br><small><i>LazyPropagation</i></small></div></td></tr></table>"
      ],
      "text/plain": [
       "<IPython.core.display.HTML object>"
      ]
     },
     "metadata": {},
     "output_type": "display_data"
    }
   ],
   "source": [
    "gnb.sideBySide(qinf1.posterior(target_node_bn1),\n",
    "               ie1.posterior(target_node_bn1),\n",
    "               captions=[\"qInference\", \"LazyPropagation\"])"
   ]
  },
  {
   "cell_type": "code",
   "execution_count": 17,
   "metadata": {},
   "outputs": [
    {
     "name": "stdout",
     "output_type": "stream",
     "text": [
      "q-Inference log: {'A': 1095, 'G': 1419}\n"
     ]
    },
    {
     "data": {
      "text/plain": [
       "0.45681810000000006"
      ]
     },
     "execution_count": 17,
     "metadata": {},
     "output_type": "execute_result"
    }
   ],
   "source": [
    "qrt1 = qRuntime(qinf1, backend)\n",
    "qrt1.getGateExecutionTime()\n",
    "print(f\"q-Inference log: {qrt1.qinf.log}\")\n",
    "qrt1.rejectionSamplingRuntime()"
   ]
  },
  {
   "cell_type": "markdown",
   "metadata": {},
   "source": [
    "# Demo 2:\n",
    "### 3 variables, 5 states  per variable"
   ]
  },
  {
   "cell_type": "code",
   "execution_count": 18,
   "metadata": {},
   "outputs": [
    {
     "data": {
      "text/html": [
       "<svg xmlns=\"http://www.w3.org/2000/svg\" xmlns:xlink=\"http://www.w3.org/1999/xlink\" width=\"134pt\" height=\"116pt\" viewBox=\"0.00 0.00 134.00 116.00\">\n",
       "<g id=\"graph0\" class=\"graph\" transform=\"scale(1 1) rotate(0) translate(4 112)\">\n",
       "<title>G</title>\n",
       "<!-- A -->\n",
       "<g id=\"node1\" class=\"node\">\n",
       "<title>A</title>\n",
       "<g id=\"a_node1\"><a xlink:title=\"(0) A\">\n",
       "<ellipse fill=\"#404040\" stroke=\"#4a4a4a\" cx=\"27\" cy=\"-90\" rx=\"27\" ry=\"18\"/>\n",
       "<text text-anchor=\"middle\" x=\"27\" y=\"-86.3\" font-family=\"Times,serif\" font-size=\"14.00\" fill=\"white\">A</text>\n",
       "</a>\n",
       "</g>\n",
       "</g>\n",
       "<!-- B -->\n",
       "<g id=\"node3\" class=\"node\">\n",
       "<title>B</title>\n",
       "<g id=\"a_node3\"><a xlink:title=\"(1) B\">\n",
       "<ellipse fill=\"#404040\" stroke=\"#4a4a4a\" cx=\"63\" cy=\"-18\" rx=\"27\" ry=\"18\"/>\n",
       "<text text-anchor=\"middle\" x=\"63\" y=\"-14.3\" font-family=\"Times,serif\" font-size=\"14.00\" fill=\"white\">B</text>\n",
       "</a>\n",
       "</g>\n",
       "</g>\n",
       "<!-- A&#45;&gt;B -->\n",
       "<g id=\"edge1\" class=\"edge\">\n",
       "<title>A-&gt;B</title>\n",
       "<g id=\"a_edge1\"><a xlink:title=\"0 → 1\">\n",
       "<path fill=\"none\" stroke=\"#4a4a4a\" d=\"M35.35,-72.76C39.71,-64.28 45.15,-53.71 50.04,-44.2\"/>\n",
       "<polygon fill=\"#4a4a4a\" stroke=\"#4a4a4a\" points=\"53.23,-45.64 54.7,-35.15 47.01,-42.44 53.23,-45.64\"/>\n",
       "</a>\n",
       "</g>\n",
       "</g>\n",
       "<!-- C -->\n",
       "<g id=\"node2\" class=\"node\">\n",
       "<title>C</title>\n",
       "<g id=\"a_node2\"><a xlink:title=\"(2) C\">\n",
       "<ellipse fill=\"#404040\" stroke=\"#4a4a4a\" cx=\"99\" cy=\"-90\" rx=\"27\" ry=\"18\"/>\n",
       "<text text-anchor=\"middle\" x=\"99\" y=\"-86.3\" font-family=\"Times,serif\" font-size=\"14.00\" fill=\"white\">C</text>\n",
       "</a>\n",
       "</g>\n",
       "</g>\n",
       "<!-- C&#45;&gt;B -->\n",
       "<g id=\"edge2\" class=\"edge\">\n",
       "<title>C-&gt;B</title>\n",
       "<g id=\"a_edge2\"><a xlink:title=\"2 → 1\">\n",
       "<path fill=\"none\" stroke=\"#4a4a4a\" d=\"M90.65,-72.76C86.29,-64.28 80.85,-53.71 75.96,-44.2\"/>\n",
       "<polygon fill=\"#4a4a4a\" stroke=\"#4a4a4a\" points=\"78.99,-42.44 71.3,-35.15 72.77,-45.64 78.99,-42.44\"/>\n",
       "</a>\n",
       "</g>\n",
       "</g>\n",
       "</g>\n",
       "</svg>"
      ],
      "text/plain": [
       "(pyAgrum.BayesNet<double>@0x5a2c2ab82440) BN{nodes: 3, arcs: 2, domainSize: 27, dim: 22, mem: 264o}"
      ]
     },
     "execution_count": 18,
     "metadata": {},
     "output_type": "execute_result"
    }
   ],
   "source": [
    "bn2 = gum.fastBN(\"A->B<-C\", 3)\n",
    "bn2"
   ]
  },
  {
   "cell_type": "code",
   "execution_count": 19,
   "metadata": {},
   "outputs": [],
   "source": [
    "qbn2 = qBayesNet(bn2)\n",
    "qc2 = qbn2.buildCircuit(add_measure=True)\n",
    "#qc2.draw(output=\"mpl\", scale=0.5)"
   ]
  },
  {
   "cell_type": "code",
   "execution_count": 20,
   "metadata": {},
   "outputs": [
    {
     "name": "stdout",
     "output_type": "stream",
     "text": [
      "Evidence: {'B': 0}\n",
      "Evidence probability: 0.29024943469321524\n"
     ]
    }
   ],
   "source": [
    "ev2 = {\"B\": 0}\n",
    "ie2=gum.LazyPropagation(bn2)\n",
    "ie2.setEvidence(ev2)\n",
    "ie2.makeInference()\n",
    "print(f\"Evidence: {ev2}\")\n",
    "print(f\"Evidence probability: {ie2.evidenceProbability()}\")"
   ]
  },
  {
   "cell_type": "code",
   "execution_count": 21,
   "metadata": {},
   "outputs": [],
   "source": [
    "target_node_bn2 = \"A\""
   ]
  },
  {
   "cell_type": "code",
   "execution_count": 22,
   "metadata": {},
   "outputs": [
    {
     "data": {
      "text/html": [
       "<svg xmlns=\"http://www.w3.org/2000/svg\" xmlns:xlink=\"http://www.w3.org/1999/xlink\" width=\"134pt\" height=\"116pt\" viewBox=\"0.00 0.00 134.00 116.00\">\n",
       "<g id=\"graph0\" class=\"graph\" transform=\"scale(1 1) rotate(0) translate(4 112)\">\n",
       "<title>G</title>\n",
       "<!-- A -->\n",
       "<g id=\"node1\" class=\"node\">\n",
       "<title>A</title>\n",
       "<g id=\"a_node1\"><a xlink:title=\"(0) A\">\n",
       "<ellipse fill=\"#404040\" stroke=\"#4a4a4a\" cx=\"27\" cy=\"-90\" rx=\"27\" ry=\"18\"/>\n",
       "<text text-anchor=\"middle\" x=\"27\" y=\"-86.3\" font-family=\"Times,serif\" font-size=\"14.00\" fill=\"white\">A</text>\n",
       "</a>\n",
       "</g>\n",
       "</g>\n",
       "<!-- B -->\n",
       "<g id=\"node3\" class=\"node\">\n",
       "<title>B</title>\n",
       "<g id=\"a_node3\"><a xlink:title=\"(1) B\">\n",
       "<ellipse fill=\"#404040\" stroke=\"#4a4a4a\" cx=\"63\" cy=\"-18\" rx=\"27\" ry=\"18\"/>\n",
       "<text text-anchor=\"middle\" x=\"63\" y=\"-14.3\" font-family=\"Times,serif\" font-size=\"14.00\" fill=\"white\">B</text>\n",
       "</a>\n",
       "</g>\n",
       "</g>\n",
       "<!-- A&#45;&gt;B -->\n",
       "<g id=\"edge1\" class=\"edge\">\n",
       "<title>A-&gt;B</title>\n",
       "<g id=\"a_edge1\"><a xlink:title=\"0 → 1\">\n",
       "<path fill=\"none\" stroke=\"#4a4a4a\" d=\"M35.35,-72.76C39.71,-64.28 45.15,-53.71 50.04,-44.2\"/>\n",
       "<polygon fill=\"#4a4a4a\" stroke=\"#4a4a4a\" points=\"53.23,-45.64 54.7,-35.15 47.01,-42.44 53.23,-45.64\"/>\n",
       "</a>\n",
       "</g>\n",
       "</g>\n",
       "<!-- C -->\n",
       "<g id=\"node2\" class=\"node\">\n",
       "<title>C</title>\n",
       "<g id=\"a_node2\"><a xlink:title=\"(2) C\">\n",
       "<ellipse fill=\"#404040\" stroke=\"#4a4a4a\" cx=\"99\" cy=\"-90\" rx=\"27\" ry=\"18\"/>\n",
       "<text text-anchor=\"middle\" x=\"99\" y=\"-86.3\" font-family=\"Times,serif\" font-size=\"14.00\" fill=\"white\">C</text>\n",
       "</a>\n",
       "</g>\n",
       "</g>\n",
       "<!-- C&#45;&gt;B -->\n",
       "<g id=\"edge2\" class=\"edge\">\n",
       "<title>C-&gt;B</title>\n",
       "<g id=\"a_edge2\"><a xlink:title=\"2 → 1\">\n",
       "<path fill=\"none\" stroke=\"#4a4a4a\" d=\"M90.65,-72.76C86.29,-64.28 80.85,-53.71 75.96,-44.2\"/>\n",
       "<polygon fill=\"#4a4a4a\" stroke=\"#4a4a4a\" points=\"78.99,-42.44 71.3,-35.15 72.77,-45.64 78.99,-42.44\"/>\n",
       "</a>\n",
       "</g>\n",
       "</g>\n",
       "</g>\n",
       "</svg>"
      ],
      "text/plain": [
       "(pyAgrum.BayesNet<double>@0x5a2c2ae9ac80) BN{nodes: 3, arcs: 2, domainSize: 27, dim: 22, mem: 264o}"
      ]
     },
     "execution_count": 22,
     "metadata": {},
     "output_type": "execute_result"
    }
   ],
   "source": [
    "qinf2 = qInference(qbn2)\n",
    "qinf2.setEvidence(ev2)\n",
    "qinf2.setMaxIter(1000)\n",
    "qinf2.useFragmentBN(target={target_node_bn2})\n",
    "qinf2.qbn.bn"
   ]
  },
  {
   "cell_type": "code",
   "execution_count": 23,
   "metadata": {},
   "outputs": [
    {
     "ename": "KeyboardInterrupt",
     "evalue": "",
     "output_type": "error",
     "traceback": [
      "\u001b[0;31m---------------------------------------------------------------------------\u001b[0m",
      "\u001b[0;31mKeyboardInterrupt\u001b[0m                         Traceback (most recent call last)",
      "Cell \u001b[0;32mIn[23], line 1\u001b[0m\n\u001b[0;32m----> 1\u001b[0m \u001b[43mqinf2\u001b[49m\u001b[38;5;241;43m.\u001b[39;49m\u001b[43mmakeInference\u001b[49m\u001b[43m(\u001b[49m\u001b[43m)\u001b[49m\n",
      "File \u001b[0;32m~/Desktop/ProjetQuanticBN/github/QUANTICGROUP/tutorials/../source/qBN/qBNRejection.py:376\u001b[0m, in \u001b[0;36mqInference.makeInference\u001b[0;34m(self)\u001b[0m\n\u001b[1;32m    372\u001b[0m res \u001b[38;5;241m=\u001b[39m {node: [\u001b[38;5;241m0\u001b[39m] \u001b[38;5;241m*\u001b[39m \u001b[38;5;28mself\u001b[39m\u001b[38;5;241m.\u001b[39mqbn\u001b[38;5;241m.\u001b[39mbn\u001b[38;5;241m.\u001b[39mvariable(node)\u001b[38;5;241m.\u001b[39mdomainSize()\n\u001b[1;32m    373\u001b[0m        \u001b[38;5;28;01mfor\u001b[39;00m node \u001b[38;5;129;01min\u001b[39;00m \u001b[38;5;28mself\u001b[39m\u001b[38;5;241m.\u001b[39mqbn\u001b[38;5;241m.\u001b[39mn_qb_map\u001b[38;5;241m.\u001b[39mkeys()}\n\u001b[1;32m    375\u001b[0m \u001b[38;5;28;01mfor\u001b[39;00m i \u001b[38;5;129;01min\u001b[39;00m \u001b[38;5;28mrange\u001b[39m(\u001b[38;5;28mself\u001b[39m\u001b[38;5;241m.\u001b[39mmax_iter):\n\u001b[0;32m--> 376\u001b[0m     sample \u001b[38;5;241m=\u001b[39m \u001b[38;5;28;43mself\u001b[39;49m\u001b[38;5;241;43m.\u001b[39;49m\u001b[43mgetSample\u001b[49m\u001b[43m(\u001b[49m\u001b[38;5;28;43mself\u001b[39;49m\u001b[38;5;241;43m.\u001b[39;49m\u001b[43mA\u001b[49m\u001b[43m,\u001b[49m\u001b[43m \u001b[49m\u001b[38;5;28;43mself\u001b[39;49m\u001b[38;5;241;43m.\u001b[39;49m\u001b[43mG\u001b[49m\u001b[43m,\u001b[49m\u001b[43m \u001b[49m\u001b[38;5;28;43mself\u001b[39;49m\u001b[38;5;241;43m.\u001b[39;49m\u001b[43mevidence\u001b[49m\u001b[43m)\u001b[49m\n\u001b[1;32m    378\u001b[0m     \u001b[38;5;28;01mfor\u001b[39;00m node, state \u001b[38;5;129;01min\u001b[39;00m sample\u001b[38;5;241m.\u001b[39mitems():\n\u001b[1;32m    379\u001b[0m         res[node][state] \u001b[38;5;241m+\u001b[39m\u001b[38;5;241m=\u001b[39m \u001b[38;5;241m1.0\u001b[39m\u001b[38;5;241m/\u001b[39m\u001b[38;5;28mself\u001b[39m\u001b[38;5;241m.\u001b[39mmax_iter\n",
      "File \u001b[0;32m~/Desktop/ProjetQuanticBN/github/QUANTICGROUP/tutorials/../source/qBN/qBNRejection.py:265\u001b[0m, in \u001b[0;36mqInference.getSample\u001b[0;34m(self, A, G, evidence, verbose)\u001b[0m\n\u001b[1;32m    261\u001b[0m circuit\u001b[38;5;241m.\u001b[39mcompose(G\u001b[38;5;241m.\u001b[39mpower(\u001b[38;5;28mint\u001b[39m(np\u001b[38;5;241m.\u001b[39mceil(\u001b[38;5;241m2.0\u001b[39m\u001b[38;5;241m*\u001b[39m\u001b[38;5;241m*\u001b[39mk))), inplace\u001b[38;5;241m=\u001b[39m\u001b[38;5;28;01mTrue\u001b[39;00m)\n\u001b[1;32m    263\u001b[0m circuit\u001b[38;5;241m.\u001b[39mmeasure_all(add_bits\u001b[38;5;241m=\u001b[39m\u001b[38;5;28;01mFalse\u001b[39;00m)\n\u001b[0;32m--> 265\u001b[0m run_res \u001b[38;5;241m=\u001b[39m \u001b[38;5;28;43mself\u001b[39;49m\u001b[38;5;241;43m.\u001b[39;49m\u001b[43mqbn\u001b[49m\u001b[38;5;241;43m.\u001b[39;49m\u001b[43maerSimulation\u001b[49m\u001b[43m(\u001b[49m\u001b[43mcircuit\u001b[49m\u001b[43m,\u001b[49m\u001b[43m \u001b[49m\u001b[43mshots\u001b[49m\u001b[38;5;241;43m=\u001b[39;49m\u001b[38;5;241;43m1\u001b[39;49m\u001b[43m)\u001b[49m\n\u001b[1;32m    267\u001b[0m run_res \u001b[38;5;241m=\u001b[39m {\u001b[38;5;28mself\u001b[39m\u001b[38;5;241m.\u001b[39mqbn\u001b[38;5;241m.\u001b[39mbn\u001b[38;5;241m.\u001b[39mnodeId(\u001b[38;5;28mself\u001b[39m\u001b[38;5;241m.\u001b[39mqbn\u001b[38;5;241m.\u001b[39mbn\u001b[38;5;241m.\u001b[39mvariable(node)): state\u001b[38;5;241m.\u001b[39mindex(\u001b[38;5;241m1.0\u001b[39m)\n\u001b[1;32m    268\u001b[0m            \u001b[38;5;28;01mfor\u001b[39;00m node, state \u001b[38;5;129;01min\u001b[39;00m run_res\u001b[38;5;241m.\u001b[39mitems()}\n\u001b[1;32m    270\u001b[0m \u001b[38;5;28;01mif\u001b[39;00m verbose \u001b[38;5;241m>\u001b[39m \u001b[38;5;241m0\u001b[39m: \u001b[38;5;28mprint\u001b[39m(\u001b[38;5;124mf\u001b[39m\u001b[38;5;124m\"\u001b[39m\u001b[38;5;124mrun_res = \u001b[39m\u001b[38;5;132;01m{\u001b[39;00mrun_res\u001b[38;5;132;01m}\u001b[39;00m\u001b[38;5;124m\"\u001b[39m)\n",
      "File \u001b[0;32m~/Desktop/ProjetQuanticBN/github/QUANTICGROUP/tutorials/../source/qBN/qBNMC.py:579\u001b[0m, in \u001b[0;36mqBayesNet.aerSimulation\u001b[0;34m(self, circuit, shots)\u001b[0m\n\u001b[1;32m    577\u001b[0m circuit_aer \u001b[38;5;241m=\u001b[39m transpile(circuit, backend\u001b[38;5;241m=\u001b[39mbackend_aer)\n\u001b[1;32m    578\u001b[0m job_aer \u001b[38;5;241m=\u001b[39m sampler_aer\u001b[38;5;241m.\u001b[39mrun([circuit_aer], shots\u001b[38;5;241m=\u001b[39mshots)\n\u001b[0;32m--> 579\u001b[0m result_aer \u001b[38;5;241m=\u001b[39m \u001b[43mjob_aer\u001b[49m\u001b[38;5;241;43m.\u001b[39;49m\u001b[43mresult\u001b[49m\u001b[43m(\u001b[49m\u001b[43m)\u001b[49m\n\u001b[1;32m    580\u001b[0m counts_aer \u001b[38;5;241m=\u001b[39m result_aer[\u001b[38;5;241m0\u001b[39m]\u001b[38;5;241m.\u001b[39mdata\u001b[38;5;241m.\u001b[39mmeas\u001b[38;5;241m.\u001b[39mget_counts()\n\u001b[1;32m    582\u001b[0m res \u001b[38;5;241m=\u001b[39m \u001b[38;5;28mdict\u001b[39m()\n",
      "File \u001b[0;32m~/.local/lib/python3.10/site-packages/qiskit/primitives/primitive_job.py:51\u001b[0m, in \u001b[0;36mPrimitiveJob.result\u001b[0;34m(self)\u001b[0m\n\u001b[1;32m     49\u001b[0m \u001b[38;5;28;01mdef\u001b[39;00m \u001b[38;5;21mresult\u001b[39m(\u001b[38;5;28mself\u001b[39m) \u001b[38;5;241m-\u001b[39m\u001b[38;5;241m>\u001b[39m ResultT:\n\u001b[1;32m     50\u001b[0m     \u001b[38;5;28mself\u001b[39m\u001b[38;5;241m.\u001b[39m_check_submitted()\n\u001b[0;32m---> 51\u001b[0m     \u001b[38;5;28;01mreturn\u001b[39;00m \u001b[38;5;28;43mself\u001b[39;49m\u001b[38;5;241;43m.\u001b[39;49m\u001b[43m_future\u001b[49m\u001b[38;5;241;43m.\u001b[39;49m\u001b[43mresult\u001b[49m\u001b[43m(\u001b[49m\u001b[43m)\u001b[49m\n",
      "File \u001b[0;32m/usr/lib/python3.10/concurrent/futures/_base.py:453\u001b[0m, in \u001b[0;36mFuture.result\u001b[0;34m(self, timeout)\u001b[0m\n\u001b[1;32m    450\u001b[0m \u001b[38;5;28;01melif\u001b[39;00m \u001b[38;5;28mself\u001b[39m\u001b[38;5;241m.\u001b[39m_state \u001b[38;5;241m==\u001b[39m FINISHED:\n\u001b[1;32m    451\u001b[0m     \u001b[38;5;28;01mreturn\u001b[39;00m \u001b[38;5;28mself\u001b[39m\u001b[38;5;241m.\u001b[39m__get_result()\n\u001b[0;32m--> 453\u001b[0m \u001b[38;5;28;43mself\u001b[39;49m\u001b[38;5;241;43m.\u001b[39;49m\u001b[43m_condition\u001b[49m\u001b[38;5;241;43m.\u001b[39;49m\u001b[43mwait\u001b[49m\u001b[43m(\u001b[49m\u001b[43mtimeout\u001b[49m\u001b[43m)\u001b[49m\n\u001b[1;32m    455\u001b[0m \u001b[38;5;28;01mif\u001b[39;00m \u001b[38;5;28mself\u001b[39m\u001b[38;5;241m.\u001b[39m_state \u001b[38;5;129;01min\u001b[39;00m [CANCELLED, CANCELLED_AND_NOTIFIED]:\n\u001b[1;32m    456\u001b[0m     \u001b[38;5;28;01mraise\u001b[39;00m CancelledError()\n",
      "File \u001b[0;32m/usr/lib/python3.10/threading.py:320\u001b[0m, in \u001b[0;36mCondition.wait\u001b[0;34m(self, timeout)\u001b[0m\n\u001b[1;32m    318\u001b[0m \u001b[38;5;28;01mtry\u001b[39;00m:    \u001b[38;5;66;03m# restore state no matter what (e.g., KeyboardInterrupt)\u001b[39;00m\n\u001b[1;32m    319\u001b[0m     \u001b[38;5;28;01mif\u001b[39;00m timeout \u001b[38;5;129;01mis\u001b[39;00m \u001b[38;5;28;01mNone\u001b[39;00m:\n\u001b[0;32m--> 320\u001b[0m         \u001b[43mwaiter\u001b[49m\u001b[38;5;241;43m.\u001b[39;49m\u001b[43macquire\u001b[49m\u001b[43m(\u001b[49m\u001b[43m)\u001b[49m\n\u001b[1;32m    321\u001b[0m         gotit \u001b[38;5;241m=\u001b[39m \u001b[38;5;28;01mTrue\u001b[39;00m\n\u001b[1;32m    322\u001b[0m     \u001b[38;5;28;01melse\u001b[39;00m:\n",
      "\u001b[0;31mKeyboardInterrupt\u001b[0m: "
     ]
    }
   ],
   "source": [
    "qinf2.makeInference()"
   ]
  },
  {
   "cell_type": "code",
   "execution_count": 62,
   "metadata": {},
   "outputs": [
    {
     "data": {
      "text/html": [
       "<table style=\"border-style: hidden; border-collapse: collapse;\" width=\"100%\"><tr><td style=\"border-top:hidden;border-bottom:hidden;vertical-align:middle;\"><div align=\"center\" style=\"vertical-align:middle;\"><table style=\"border:1px solid black;border-collapse: collapse;\">\n",
       "<tr style='border:1px solid black;color:black;background-color:#808080'>\n",
       "      <th colspan='3'><center>A</center></th></tr>\n",
       "<tr><th style='border:1px solid black;border-bottom-style: double;color:black;background-color:#BBBBBB'>\n",
       "      <center>0</center></th><th style='border:1px solid black;border-bottom-style: double;color:black;background-color:#BBBBBB'>\n",
       "      <center>1</center></th><th style='border:1px solid black;border-bottom-style: double;color:black;background-color:#BBBBBB'>\n",
       "      <center>2</center></th></tr>\n",
       "<tr><td style='color:black;background-color:#fb8264;text-align:right;padding: 3px;'>0.0240</td><td style='color:black;background-color:#b7c664;text-align:right;padding: 3px;'>0.5590</td><td style='color:black;background-color:#c9b464;text-align:right;padding: 3px;'>0.4170</td></tr>\n",
       "</table><br><small><i>qInference</i></small></div></td><td style=\"border-top:hidden;border-bottom:hidden;vertical-align:middle;\"><div align=\"center\" style=\"vertical-align:middle;\"><table style=\"border:1px solid black;border-collapse: collapse;\">\n",
       "<tr style='border:1px solid black;color:black;background-color:#808080'>\n",
       "      <th colspan='3'><center>A</center></th></tr>\n",
       "<tr><th style='border:1px solid black;border-bottom-style: double;color:black;background-color:#BBBBBB'>\n",
       "      <center>0</center></th><th style='border:1px solid black;border-bottom-style: double;color:black;background-color:#BBBBBB'>\n",
       "      <center>1</center></th><th style='border:1px solid black;border-bottom-style: double;color:black;background-color:#BBBBBB'>\n",
       "      <center>2</center></th></tr>\n",
       "<tr><td style='color:black;background-color:#fb8264;text-align:right;padding: 3px;'>0.0242</td><td style='color:black;background-color:#bac364;text-align:right;padding: 3px;'>0.5371</td><td style='color:black;background-color:#c6b764;text-align:right;padding: 3px;'>0.4388</td></tr>\n",
       "</table><br><small><i>LazyPropagation</i></small></div></td></tr></table>"
      ],
      "text/plain": [
       "<IPython.core.display.HTML object>"
      ]
     },
     "metadata": {},
     "output_type": "display_data"
    }
   ],
   "source": [
    "gnb.sideBySide(qinf2.posterior(target_node_bn2),\n",
    "               ie2.posterior(target_node_bn2),\n",
    "               captions=[\"qInference\", \"LazyPropagation\"])"
   ]
  },
  {
   "cell_type": "code",
   "execution_count": 63,
   "metadata": {},
   "outputs": [
    {
     "name": "stdout",
     "output_type": "stream",
     "text": [
      "A gate transpiled circuit depth: 17253\n",
      "A gate execution time: 0.005118360000000001 s\n",
      "G gate transpiled circuit depth: 17272\n",
      "G gate execution time: 0.00511884 s\n",
      "q-Inference log: {'A': 1920, 'G': 3630}\n"
     ]
    },
    {
     "data": {
      "text/plain": [
       "28.408640400000003"
      ]
     },
     "execution_count": 63,
     "metadata": {},
     "output_type": "execute_result"
    }
   ],
   "source": [
    "qrt2 = qRuntime(qinf2, backend)\n",
    "qrt2.getGateExecutionTime()\n",
    "print(f\"q-Inference log: {qrt2.qinf.log}\")\n",
    "qrt2.rejectionSamplingRuntime()"
   ]
  },
  {
   "cell_type": "markdown",
   "metadata": {},
   "source": [
    "# Demo 3: (Section 4.1)\n",
    "### 4 variables, 2 states  per variable"
   ]
  },
  {
   "cell_type": "code",
   "execution_count": 24,
   "metadata": {},
   "outputs": [
    {
     "data": {
      "text/html": [
       "<svg xmlns=\"http://www.w3.org/2000/svg\" xmlns:xlink=\"http://www.w3.org/1999/xlink\" width=\"134pt\" height=\"188pt\" viewBox=\"0.00 0.00 134.00 188.00\">\n",
       "<g id=\"graph0\" class=\"graph\" transform=\"scale(1 1) rotate(0) translate(4 184)\">\n",
       "<title>G</title>\n",
       "<!-- SM -->\n",
       "<g id=\"node1\" class=\"node\">\n",
       "<title>SM</title>\n",
       "<g id=\"a_node1\"><a xlink:title=\"(1) SM\">\n",
       "<ellipse fill=\"#404040\" stroke=\"#4a4a4a\" cx=\"99\" cy=\"-90\" rx=\"27\" ry=\"18\"/>\n",
       "<text text-anchor=\"middle\" x=\"99\" y=\"-86.3\" font-family=\"Times,serif\" font-size=\"14.00\" fill=\"white\">SM</text>\n",
       "</a>\n",
       "</g>\n",
       "</g>\n",
       "<!-- SP -->\n",
       "<g id=\"node3\" class=\"node\">\n",
       "<title>SP</title>\n",
       "<g id=\"a_node3\"><a xlink:title=\"(2) SP\">\n",
       "<ellipse fill=\"#404040\" stroke=\"#4a4a4a\" cx=\"63\" cy=\"-18\" rx=\"27\" ry=\"18\"/>\n",
       "<text text-anchor=\"middle\" x=\"63\" y=\"-14.3\" font-family=\"Times,serif\" font-size=\"14.00\" fill=\"white\">SP</text>\n",
       "</a>\n",
       "</g>\n",
       "</g>\n",
       "<!-- SM&#45;&gt;SP -->\n",
       "<g id=\"edge3\" class=\"edge\">\n",
       "<title>SM-&gt;SP</title>\n",
       "<g id=\"a_edge3\"><a xlink:title=\"1 → 2\">\n",
       "<path fill=\"none\" stroke=\"#4a4a4a\" d=\"M90.65,-72.76C86.29,-64.28 80.85,-53.71 75.96,-44.2\"/>\n",
       "<polygon fill=\"#4a4a4a\" stroke=\"#4a4a4a\" points=\"78.99,-42.44 71.3,-35.15 72.77,-45.64 78.99,-42.44\"/>\n",
       "</a>\n",
       "</g>\n",
       "</g>\n",
       "<!-- IR -->\n",
       "<g id=\"node2\" class=\"node\">\n",
       "<title>IR</title>\n",
       "<g id=\"a_node2\"><a xlink:title=\"(0) IR\">\n",
       "<ellipse fill=\"#404040\" stroke=\"#4a4a4a\" cx=\"99\" cy=\"-162\" rx=\"27\" ry=\"18\"/>\n",
       "<text text-anchor=\"middle\" x=\"99\" y=\"-158.3\" font-family=\"Times,serif\" font-size=\"14.00\" fill=\"white\">IR</text>\n",
       "</a>\n",
       "</g>\n",
       "</g>\n",
       "<!-- IR&#45;&gt;SM -->\n",
       "<g id=\"edge1\" class=\"edge\">\n",
       "<title>IR-&gt;SM</title>\n",
       "<g id=\"a_edge1\"><a xlink:title=\"0 → 1\">\n",
       "<path fill=\"none\" stroke=\"#4a4a4a\" d=\"M99,-143.7C99,-135.98 99,-126.71 99,-118.11\"/>\n",
       "<polygon fill=\"#4a4a4a\" stroke=\"#4a4a4a\" points=\"102.5,-118.1 99,-108.1 95.5,-118.1 102.5,-118.1\"/>\n",
       "</a>\n",
       "</g>\n",
       "</g>\n",
       "<!-- OI -->\n",
       "<g id=\"node4\" class=\"node\">\n",
       "<title>OI</title>\n",
       "<g id=\"a_node4\"><a xlink:title=\"(3) OI\">\n",
       "<ellipse fill=\"#404040\" stroke=\"#4a4a4a\" cx=\"27\" cy=\"-90\" rx=\"27\" ry=\"18\"/>\n",
       "<text text-anchor=\"middle\" x=\"27\" y=\"-86.3\" font-family=\"Times,serif\" font-size=\"14.00\" fill=\"white\">OI</text>\n",
       "</a>\n",
       "</g>\n",
       "</g>\n",
       "<!-- OI&#45;&gt;SP -->\n",
       "<g id=\"edge2\" class=\"edge\">\n",
       "<title>OI-&gt;SP</title>\n",
       "<g id=\"a_edge2\"><a xlink:title=\"3 → 2\">\n",
       "<path fill=\"none\" stroke=\"#4a4a4a\" d=\"M35.35,-72.76C39.71,-64.28 45.15,-53.71 50.04,-44.2\"/>\n",
       "<polygon fill=\"#4a4a4a\" stroke=\"#4a4a4a\" points=\"53.23,-45.64 54.7,-35.15 47.01,-42.44 53.23,-45.64\"/>\n",
       "</a>\n",
       "</g>\n",
       "</g>\n",
       "</g>\n",
       "</svg>"
      ],
      "text/plain": [
       "(pyAgrum.BayesNet<double>@0x5a2c2c8f6bc0) BN{nodes: 4, arcs: 3, domainSize: 16, dim: 8, mem: 128o}"
      ]
     },
     "execution_count": 24,
     "metadata": {},
     "output_type": "execute_result"
    }
   ],
   "source": [
    "bn3 = gum.fastBN(\"IR->SM->SP<-OI\", 2)\n",
    "bn3.cpt(\"IR\")[:] = [0.75, 0.25]\n",
    "bn3.cpt(\"SM\")[:] = [[0.3, 0.7], [0.8, 0.2]]\n",
    "bn3.cpt(\"OI\")[:] = [0.6,0.4]\n",
    "bn3.cpt(\"SP\")[:] = [[[0.9, 0.1], [0.5, 0.5]], [[0.4, 0.6], [0.2, 0.8]]]\n",
    "bn3"
   ]
  },
  {
   "cell_type": "code",
   "execution_count": 25,
   "metadata": {},
   "outputs": [],
   "source": [
    "qbn3 = qBayesNet(bn3)\n",
    "qc3 = qbn3.buildCircuit(add_measure=True)\n",
    "#qc3.draw(output=\"mpl\", scale=0.5)"
   ]
  },
  {
   "cell_type": "code",
   "execution_count": 26,
   "metadata": {},
   "outputs": [],
   "source": [
    "target_node_bn3 = \"OI\""
   ]
  },
  {
   "cell_type": "code",
   "execution_count": 27,
   "metadata": {},
   "outputs": [
    {
     "name": "stdout",
     "output_type": "stream",
     "text": [
      "Evidence: {'SP': 1}\n",
      "Evidence probability: 0.48400000000000004\n"
     ]
    }
   ],
   "source": [
    "ev3 = {\"SP\": 1}\n",
    "ie3=gum.LazyPropagation(bn3)\n",
    "ie3.setEvidence(ev3)\n",
    "ie3.makeInference()\n",
    "print(f\"Evidence: {ev3}\")\n",
    "print(f\"Evidence probability: {ie3.evidenceProbability()}\")\n",
    "#ie3.posterior(target_node_bn3)"
   ]
  },
  {
   "cell_type": "code",
   "execution_count": 28,
   "metadata": {},
   "outputs": [
    {
     "data": {
      "text/html": [
       "<svg xmlns=\"http://www.w3.org/2000/svg\" xmlns:xlink=\"http://www.w3.org/1999/xlink\" width=\"134pt\" height=\"188pt\" viewBox=\"0.00 0.00 134.00 188.00\">\n",
       "<g id=\"graph0\" class=\"graph\" transform=\"scale(1 1) rotate(0) translate(4 184)\">\n",
       "<title>G</title>\n",
       "<!-- SM -->\n",
       "<g id=\"node1\" class=\"node\">\n",
       "<title>SM</title>\n",
       "<g id=\"a_node1\"><a xlink:title=\"(1) SM\">\n",
       "<ellipse fill=\"#404040\" stroke=\"#4a4a4a\" cx=\"99\" cy=\"-90\" rx=\"27\" ry=\"18\"/>\n",
       "<text text-anchor=\"middle\" x=\"99\" y=\"-86.3\" font-family=\"Times,serif\" font-size=\"14.00\" fill=\"white\">SM</text>\n",
       "</a>\n",
       "</g>\n",
       "</g>\n",
       "<!-- SP -->\n",
       "<g id=\"node3\" class=\"node\">\n",
       "<title>SP</title>\n",
       "<g id=\"a_node3\"><a xlink:title=\"(2) SP\">\n",
       "<ellipse fill=\"#404040\" stroke=\"#4a4a4a\" cx=\"63\" cy=\"-18\" rx=\"27\" ry=\"18\"/>\n",
       "<text text-anchor=\"middle\" x=\"63\" y=\"-14.3\" font-family=\"Times,serif\" font-size=\"14.00\" fill=\"white\">SP</text>\n",
       "</a>\n",
       "</g>\n",
       "</g>\n",
       "<!-- SM&#45;&gt;SP -->\n",
       "<g id=\"edge3\" class=\"edge\">\n",
       "<title>SM-&gt;SP</title>\n",
       "<g id=\"a_edge3\"><a xlink:title=\"1 → 2\">\n",
       "<path fill=\"none\" stroke=\"#4a4a4a\" d=\"M90.65,-72.76C86.29,-64.28 80.85,-53.71 75.96,-44.2\"/>\n",
       "<polygon fill=\"#4a4a4a\" stroke=\"#4a4a4a\" points=\"78.99,-42.44 71.3,-35.15 72.77,-45.64 78.99,-42.44\"/>\n",
       "</a>\n",
       "</g>\n",
       "</g>\n",
       "<!-- IR -->\n",
       "<g id=\"node2\" class=\"node\">\n",
       "<title>IR</title>\n",
       "<g id=\"a_node2\"><a xlink:title=\"(0) IR\">\n",
       "<ellipse fill=\"#404040\" stroke=\"#4a4a4a\" cx=\"99\" cy=\"-162\" rx=\"27\" ry=\"18\"/>\n",
       "<text text-anchor=\"middle\" x=\"99\" y=\"-158.3\" font-family=\"Times,serif\" font-size=\"14.00\" fill=\"white\">IR</text>\n",
       "</a>\n",
       "</g>\n",
       "</g>\n",
       "<!-- IR&#45;&gt;SM -->\n",
       "<g id=\"edge1\" class=\"edge\">\n",
       "<title>IR-&gt;SM</title>\n",
       "<g id=\"a_edge1\"><a xlink:title=\"0 → 1\">\n",
       "<path fill=\"none\" stroke=\"#4a4a4a\" d=\"M99,-143.7C99,-135.98 99,-126.71 99,-118.11\"/>\n",
       "<polygon fill=\"#4a4a4a\" stroke=\"#4a4a4a\" points=\"102.5,-118.1 99,-108.1 95.5,-118.1 102.5,-118.1\"/>\n",
       "</a>\n",
       "</g>\n",
       "</g>\n",
       "<!-- OI -->\n",
       "<g id=\"node4\" class=\"node\">\n",
       "<title>OI</title>\n",
       "<g id=\"a_node4\"><a xlink:title=\"(3) OI\">\n",
       "<ellipse fill=\"#404040\" stroke=\"#4a4a4a\" cx=\"27\" cy=\"-90\" rx=\"27\" ry=\"18\"/>\n",
       "<text text-anchor=\"middle\" x=\"27\" y=\"-86.3\" font-family=\"Times,serif\" font-size=\"14.00\" fill=\"white\">OI</text>\n",
       "</a>\n",
       "</g>\n",
       "</g>\n",
       "<!-- OI&#45;&gt;SP -->\n",
       "<g id=\"edge2\" class=\"edge\">\n",
       "<title>OI-&gt;SP</title>\n",
       "<g id=\"a_edge2\"><a xlink:title=\"3 → 2\">\n",
       "<path fill=\"none\" stroke=\"#4a4a4a\" d=\"M35.35,-72.76C39.71,-64.28 45.15,-53.71 50.04,-44.2\"/>\n",
       "<polygon fill=\"#4a4a4a\" stroke=\"#4a4a4a\" points=\"53.23,-45.64 54.7,-35.15 47.01,-42.44 53.23,-45.64\"/>\n",
       "</a>\n",
       "</g>\n",
       "</g>\n",
       "</g>\n",
       "</svg>"
      ],
      "text/plain": [
       "(pyAgrum.BayesNet<double>@0x5a2c2c691ac0) BN{nodes: 4, arcs: 3, domainSize: 16, dim: 8, mem: 128o}"
      ]
     },
     "execution_count": 28,
     "metadata": {},
     "output_type": "execute_result"
    }
   ],
   "source": [
    "qinf3 = qInference(qbn3)\n",
    "qinf3.setEvidence(ev3)\n",
    "qinf3.setMaxIter(1000)\n",
    "qinf3.useFragmentBN(target={target_node_bn3})\n",
    "qinf3.qbn.bn"
   ]
  },
  {
   "cell_type": "code",
   "execution_count": 29,
   "metadata": {},
   "outputs": [
    {
     "data": {
      "text/plain": [
       "{'IR': [0.8420000000000006, 0.1580000000000001],\n",
       " 'SM': [0.20200000000000015, 0.7980000000000006],\n",
       " 'SP': [0, 1.0000000000000007],\n",
       " 'OI': [0.47000000000000036, 0.5300000000000004]}"
      ]
     },
     "execution_count": 29,
     "metadata": {},
     "output_type": "execute_result"
    }
   ],
   "source": [
    "qinf3.makeInference()"
   ]
  },
  {
   "cell_type": "code",
   "execution_count": 30,
   "metadata": {},
   "outputs": [
    {
     "data": {
      "text/html": [
       "<table style=\"border-style: hidden; border-collapse: collapse;\" width=\"100%\"><tr><td style=\"border-top:hidden;border-bottom:hidden;vertical-align:middle;\"><div align=\"center\" style=\"vertical-align:middle;\"><table style=\"border:1px solid black;border-collapse: collapse;\">\n",
       "<tr style='border:1px solid black;color:black;background-color:#808080'>\n",
       "      <th colspan='2'><center>OI</center></th></tr>\n",
       "<tr><th style='border:1px solid black;border-bottom-style: double;color:black;background-color:#BBBBBB'>\n",
       "      <center>0</center></th><th style='border:1px solid black;border-bottom-style: double;color:black;background-color:#BBBBBB'>\n",
       "      <center>1</center></th></tr>\n",
       "<tr><td style='color:black;background-color:#c2bb64;text-align:right;padding: 3px;'>0.4700</td><td style='color:black;background-color:#bbc264;text-align:right;padding: 3px;'>0.5300</td></tr>\n",
       "</table><br><small><i>qInference</i></small></div></td><td style=\"border-top:hidden;border-bottom:hidden;vertical-align:middle;\"><div align=\"center\" style=\"vertical-align:middle;\"><table style=\"border:1px solid black;border-collapse: collapse;\">\n",
       "<tr style='border:1px solid black;color:black;background-color:#808080'>\n",
       "      <th colspan='2'><center>OI</center></th></tr>\n",
       "<tr><th style='border:1px solid black;border-bottom-style: double;color:black;background-color:#BBBBBB'>\n",
       "      <center>0</center></th><th style='border:1px solid black;border-bottom-style: double;color:black;background-color:#BBBBBB'>\n",
       "      <center>1</center></th></tr>\n",
       "<tr><td style='color:black;background-color:#cab364;text-align:right;padding: 3px;'>0.4091</td><td style='color:black;background-color:#b3ca64;text-align:right;padding: 3px;'>0.5909</td></tr>\n",
       "</table><br><small><i>LazyPropagation</i></small></div></td></tr></table>"
      ],
      "text/plain": [
       "<IPython.core.display.HTML object>"
      ]
     },
     "metadata": {},
     "output_type": "display_data"
    }
   ],
   "source": [
    "gnb.sideBySide(qinf3.posterior(target_node_bn3),\n",
    "               ie3.posterior(target_node_bn3),\n",
    "               captions=[\"qInference\", \"LazyPropagation\"])"
   ]
  },
  {
   "cell_type": "code",
   "execution_count": 47,
   "metadata": {},
   "outputs": [
    {
     "name": "stdout",
     "output_type": "stream",
     "text": [
      "A gate transpiled circuit depth: 953\n",
      "A gate execution time: 0.00029383999999999996 s\n",
      "G gate transpiled circuit depth: 935\n",
      "G gate execution time: 0.0002693 s\n",
      "q-Inference log: {'A': 2014, 'G': 6394}\n"
     ]
    },
    {
     "data": {
      "text/plain": [
       "2.31369796"
      ]
     },
     "execution_count": 47,
     "metadata": {},
     "output_type": "execute_result"
    }
   ],
   "source": [
    "qrt3 = qRuntime(qinf3, backend)\n",
    "qrt3.getGateExecutionTime()\n",
    "print(f\"q-Inference log: {qrt3.qinf.log}\")\n",
    "qrt3.rejectionSamplingRuntime()"
   ]
  },
  {
   "cell_type": "markdown",
   "metadata": {},
   "source": [
    "# Demo 4: (Section 4.2)\n",
    "### 10 variables, 2 states  per variable"
   ]
  },
  {
   "cell_type": "code",
   "execution_count": 31,
   "metadata": {},
   "outputs": [
    {
     "data": {
      "image/svg+xml": [
       "<svg xmlns=\"http://www.w3.org/2000/svg\" xmlns:xlink=\"http://www.w3.org/1999/xlink\" width=\"191pt\" height=\"548pt\" viewBox=\"0.00 0.00 190.60 548.00\">\n",
       "<g id=\"graph0\" class=\"graph\" transform=\"scale(1 1) rotate(0) translate(4 544)\">\n",
       "<title>G</title>\n",
       "<!-- X1 -->\n",
       "<g id=\"node1\" class=\"node\">\n",
       "<title>X1</title>\n",
       "<g id=\"a_node1\"><a xlink:title=\"(6) X1\">\n",
       "<ellipse fill=\"#404040\" stroke=\"#4a4a4a\" cx=\"150\" cy=\"-234\" rx=\"27\" ry=\"18\"/>\n",
       "<text text-anchor=\"middle\" x=\"150\" y=\"-230.3\" font-family=\"Times,serif\" font-size=\"14.00\" fill=\"white\">X1</text>\n",
       "</a>\n",
       "</g>\n",
       "</g>\n",
       "<!-- X4 -->\n",
       "<g id=\"node7\" class=\"node\">\n",
       "<title>X4</title>\n",
       "<g id=\"a_node7\"><a xlink:title=\"(8) X4\">\n",
       "<ellipse fill=\"#404040\" stroke=\"#4a4a4a\" cx=\"99\" cy=\"-162\" rx=\"27\" ry=\"18\"/>\n",
       "<text text-anchor=\"middle\" x=\"99\" y=\"-158.3\" font-family=\"Times,serif\" font-size=\"14.00\" fill=\"white\">X4</text>\n",
       "</a>\n",
       "</g>\n",
       "</g>\n",
       "<!-- X1&#45;&gt;X4 -->\n",
       "<g id=\"edge6\" class=\"edge\">\n",
       "<title>X1-&gt;X4</title>\n",
       "<g id=\"a_edge6\"><a xlink:title=\"6 → 8\">\n",
       "<path fill=\"none\" stroke=\"#4a4a4a\" d=\"M138.68,-217.46C132.08,-208.4 123.62,-196.79 116.2,-186.61\"/>\n",
       "<polygon fill=\"#4a4a4a\" stroke=\"#4a4a4a\" points=\"119,-184.51 110.29,-178.49 113.35,-188.64 119,-184.51\"/>\n",
       "</a>\n",
       "</g>\n",
       "</g>\n",
       "<!-- X10 -->\n",
       "<g id=\"node10\" class=\"node\">\n",
       "<title>X10</title>\n",
       "<g id=\"a_node10\"><a xlink:title=\"(7) X10\">\n",
       "<ellipse fill=\"#404040\" stroke=\"#4a4a4a\" cx=\"154\" cy=\"-18\" rx=\"28.7\" ry=\"18\"/>\n",
       "<text text-anchor=\"middle\" x=\"154\" y=\"-14.3\" font-family=\"Times,serif\" font-size=\"14.00\" fill=\"white\">X10</text>\n",
       "</a>\n",
       "</g>\n",
       "</g>\n",
       "<!-- X1&#45;&gt;X10 -->\n",
       "<g id=\"edge8\" class=\"edge\">\n",
       "<title>X1-&gt;X10</title>\n",
       "<g id=\"a_edge8\"><a xlink:title=\"6 → 7\">\n",
       "<path fill=\"none\" stroke=\"#4a4a4a\" d=\"M150.73,-215.61C151.71,-191.47 153.39,-146.43 154,-108 154.33,-87.27 154.32,-63.83 154.23,-46.21\"/>\n",
       "<polygon fill=\"#4a4a4a\" stroke=\"#4a4a4a\" points=\"157.72,-46.04 154.16,-36.06 150.72,-46.08 157.72,-46.04\"/>\n",
       "</a>\n",
       "</g>\n",
       "</g>\n",
       "<!-- X2 -->\n",
       "<g id=\"node2\" class=\"node\">\n",
       "<title>X2</title>\n",
       "<g id=\"a_node2\"><a xlink:title=\"(9) X2\">\n",
       "<ellipse fill=\"#404040\" stroke=\"#4a4a4a\" cx=\"99\" cy=\"-90\" rx=\"27\" ry=\"18\"/>\n",
       "<text text-anchor=\"middle\" x=\"99\" y=\"-86.3\" font-family=\"Times,serif\" font-size=\"14.00\" fill=\"white\">X2</text>\n",
       "</a>\n",
       "</g>\n",
       "</g>\n",
       "<!-- X2&#45;&gt;X10 -->\n",
       "<g id=\"edge13\" class=\"edge\">\n",
       "<title>X2-&gt;X10</title>\n",
       "<g id=\"a_edge13\"><a xlink:title=\"9 → 7\">\n",
       "<path fill=\"none\" stroke=\"#4a4a4a\" d=\"M110.93,-73.81C118.11,-64.67 127.4,-52.85 135.52,-42.52\"/>\n",
       "<polygon fill=\"#4a4a4a\" stroke=\"#4a4a4a\" points=\"138.28,-44.67 141.71,-34.64 132.78,-40.34 138.28,-44.67\"/>\n",
       "</a>\n",
       "</g>\n",
       "</g>\n",
       "<!-- X6 -->\n",
       "<g id=\"node3\" class=\"node\">\n",
       "<title>X6</title>\n",
       "<g id=\"a_node3\"><a xlink:title=\"(0) X6\">\n",
       "<ellipse fill=\"#404040\" stroke=\"#4a4a4a\" cx=\"63\" cy=\"-522\" rx=\"27\" ry=\"18\"/>\n",
       "<text text-anchor=\"middle\" x=\"63\" y=\"-518.3\" font-family=\"Times,serif\" font-size=\"14.00\" fill=\"white\">X6</text>\n",
       "</a>\n",
       "</g>\n",
       "</g>\n",
       "<!-- X7 -->\n",
       "<g id=\"node9\" class=\"node\">\n",
       "<title>X7</title>\n",
       "<g id=\"a_node9\"><a xlink:title=\"(1) X7\">\n",
       "<ellipse fill=\"#404040\" stroke=\"#4a4a4a\" cx=\"63\" cy=\"-450\" rx=\"27\" ry=\"18\"/>\n",
       "<text text-anchor=\"middle\" x=\"63\" y=\"-446.3\" font-family=\"Times,serif\" font-size=\"14.00\" fill=\"white\">X7</text>\n",
       "</a>\n",
       "</g>\n",
       "</g>\n",
       "<!-- X6&#45;&gt;X7 -->\n",
       "<g id=\"edge1\" class=\"edge\">\n",
       "<title>X6-&gt;X7</title>\n",
       "<g id=\"a_edge1\"><a xlink:title=\"0 → 1\">\n",
       "<path fill=\"none\" stroke=\"#4a4a4a\" d=\"M63,-503.7C63,-495.98 63,-486.71 63,-478.11\"/>\n",
       "<polygon fill=\"#4a4a4a\" stroke=\"#4a4a4a\" points=\"66.5,-478.1 63,-468.1 59.5,-478.1 66.5,-478.1\"/>\n",
       "</a>\n",
       "</g>\n",
       "</g>\n",
       "<!-- X8 -->\n",
       "<g id=\"node4\" class=\"node\">\n",
       "<title>X8</title>\n",
       "<g id=\"a_node4\"><a xlink:title=\"(2) X8\">\n",
       "<ellipse fill=\"#404040\" stroke=\"#4a4a4a\" cx=\"63\" cy=\"-378\" rx=\"27\" ry=\"18\"/>\n",
       "<text text-anchor=\"middle\" x=\"63\" y=\"-374.3\" font-family=\"Times,serif\" font-size=\"14.00\" fill=\"white\">X8</text>\n",
       "</a>\n",
       "</g>\n",
       "</g>\n",
       "<!-- X5 -->\n",
       "<g id=\"node5\" class=\"node\">\n",
       "<title>X5</title>\n",
       "<g id=\"a_node5\"><a xlink:title=\"(3) X5\">\n",
       "<ellipse fill=\"#404040\" stroke=\"#4a4a4a\" cx=\"27\" cy=\"-90\" rx=\"27\" ry=\"18\"/>\n",
       "<text text-anchor=\"middle\" x=\"27\" y=\"-86.3\" font-family=\"Times,serif\" font-size=\"14.00\" fill=\"white\">X5</text>\n",
       "</a>\n",
       "</g>\n",
       "</g>\n",
       "<!-- X8&#45;&gt;X5 -->\n",
       "<g id=\"edge7\" class=\"edge\">\n",
       "<title>X8-&gt;X5</title>\n",
       "<g id=\"a_edge7\"><a xlink:title=\"2 → 3\">\n",
       "<path fill=\"none\" stroke=\"#4a4a4a\" d=\"M60.86,-359.97C54.84,-312.18 37.77,-176.54 30.43,-118.22\"/>\n",
       "<polygon fill=\"#4a4a4a\" stroke=\"#4a4a4a\" points=\"33.85,-117.43 29.13,-107.94 26.91,-118.3 33.85,-117.43\"/>\n",
       "</a>\n",
       "</g>\n",
       "</g>\n",
       "<!-- X9 -->\n",
       "<g id=\"node6\" class=\"node\">\n",
       "<title>X9</title>\n",
       "<g id=\"a_node6\"><a xlink:title=\"(5) X9\">\n",
       "<ellipse fill=\"#404040\" stroke=\"#4a4a4a\" cx=\"95\" cy=\"-306\" rx=\"27\" ry=\"18\"/>\n",
       "<text text-anchor=\"middle\" x=\"95\" y=\"-302.3\" font-family=\"Times,serif\" font-size=\"14.00\" fill=\"white\">X9</text>\n",
       "</a>\n",
       "</g>\n",
       "</g>\n",
       "<!-- X8&#45;&gt;X9 -->\n",
       "<g id=\"edge12\" class=\"edge\">\n",
       "<title>X8-&gt;X9</title>\n",
       "<g id=\"a_edge12\"><a xlink:title=\"2 → 5\">\n",
       "<path fill=\"none\" stroke=\"#4a4a4a\" d=\"M70.58,-360.41C74.37,-352.13 79.03,-341.92 83.27,-332.66\"/>\n",
       "<polygon fill=\"#4a4a4a\" stroke=\"#4a4a4a\" points=\"86.5,-334.02 87.47,-323.47 80.13,-331.11 86.5,-334.02\"/>\n",
       "</a>\n",
       "</g>\n",
       "</g>\n",
       "<!-- X3 -->\n",
       "<g id=\"node8\" class=\"node\">\n",
       "<title>X3</title>\n",
       "<g id=\"a_node8\"><a xlink:title=\"(4) X3\">\n",
       "<ellipse fill=\"#404040\" stroke=\"#4a4a4a\" cx=\"27\" cy=\"-18\" rx=\"27\" ry=\"18\"/>\n",
       "<text text-anchor=\"middle\" x=\"27\" y=\"-14.3\" font-family=\"Times,serif\" font-size=\"14.00\" fill=\"white\">X3</text>\n",
       "</a>\n",
       "</g>\n",
       "</g>\n",
       "<!-- X5&#45;&gt;X3 -->\n",
       "<g id=\"edge3\" class=\"edge\">\n",
       "<title>X5-&gt;X3</title>\n",
       "<g id=\"a_edge3\"><a xlink:title=\"3 → 4\">\n",
       "<path fill=\"none\" stroke=\"#4a4a4a\" d=\"M27,-71.7C27,-63.98 27,-54.71 27,-46.11\"/>\n",
       "<polygon fill=\"#4a4a4a\" stroke=\"#4a4a4a\" points=\"30.5,-46.1 27,-36.1 23.5,-46.1 30.5,-46.1\"/>\n",
       "</a>\n",
       "</g>\n",
       "</g>\n",
       "<!-- X9&#45;&gt;X1 -->\n",
       "<g id=\"edge11\" class=\"edge\">\n",
       "<title>X9-&gt;X1</title>\n",
       "<g id=\"a_edge11\"><a xlink:title=\"5 → 6\">\n",
       "<path fill=\"none\" stroke=\"#4a4a4a\" d=\"M106.93,-289.81C114.21,-280.55 123.66,-268.52 131.85,-258.09\"/>\n",
       "<polygon fill=\"#4a4a4a\" stroke=\"#4a4a4a\" points=\"134.66,-260.18 138.09,-250.16 129.16,-255.86 134.66,-260.18\"/>\n",
       "</a>\n",
       "</g>\n",
       "</g>\n",
       "<!-- X9&#45;&gt;X4 -->\n",
       "<g id=\"edge4\" class=\"edge\">\n",
       "<title>X9-&gt;X4</title>\n",
       "<g id=\"a_edge4\"><a xlink:title=\"5 → 8\">\n",
       "<path fill=\"none\" stroke=\"#4a4a4a\" d=\"M95.48,-287.87C96.16,-263.67 97.42,-219.21 98.23,-190.39\"/>\n",
       "<polygon fill=\"#4a4a4a\" stroke=\"#4a4a4a\" points=\"101.73,-190.28 98.52,-180.19 94.74,-190.09 101.73,-190.28\"/>\n",
       "</a>\n",
       "</g>\n",
       "</g>\n",
       "<!-- X4&#45;&gt;X2 -->\n",
       "<g id=\"edge10\" class=\"edge\">\n",
       "<title>X4-&gt;X2</title>\n",
       "<g id=\"a_edge10\"><a xlink:title=\"8 → 9\">\n",
       "<path fill=\"none\" stroke=\"#4a4a4a\" d=\"M99,-143.7C99,-135.98 99,-126.71 99,-118.11\"/>\n",
       "<polygon fill=\"#4a4a4a\" stroke=\"#4a4a4a\" points=\"102.5,-118.1 99,-108.1 95.5,-118.1 102.5,-118.1\"/>\n",
       "</a>\n",
       "</g>\n",
       "</g>\n",
       "<!-- X4&#45;&gt;X5 -->\n",
       "<g id=\"edge9\" class=\"edge\">\n",
       "<title>X4-&gt;X5</title>\n",
       "<g id=\"a_edge9\"><a xlink:title=\"8 → 3\">\n",
       "<path fill=\"none\" stroke=\"#4a4a4a\" d=\"M84.43,-146.83C74.25,-136.94 60.48,-123.55 48.97,-112.36\"/>\n",
       "<polygon fill=\"#4a4a4a\" stroke=\"#4a4a4a\" points=\"51.41,-109.85 41.8,-105.38 46.53,-114.87 51.41,-109.85\"/>\n",
       "</a>\n",
       "</g>\n",
       "</g>\n",
       "<!-- X4&#45;&gt;X10 -->\n",
       "<g id=\"edge5\" class=\"edge\">\n",
       "<title>X4-&gt;X10</title>\n",
       "<g id=\"a_edge5\"><a xlink:title=\"8 → 7\">\n",
       "<path fill=\"none\" stroke=\"#4a4a4a\" d=\"M111.75,-145.7C119.56,-135.59 129.15,-121.71 135,-108 143.46,-88.17 148.3,-64.2 150.98,-46.13\"/>\n",
       "<polygon fill=\"#4a4a4a\" stroke=\"#4a4a4a\" points=\"154.48,-46.37 152.34,-35.99 147.54,-45.43 154.48,-46.37\"/>\n",
       "</a>\n",
       "</g>\n",
       "</g>\n",
       "<!-- X7&#45;&gt;X8 -->\n",
       "<g id=\"edge2\" class=\"edge\">\n",
       "<title>X7-&gt;X8</title>\n",
       "<g id=\"a_edge2\"><a xlink:title=\"1 → 2\">\n",
       "<path fill=\"none\" stroke=\"#4a4a4a\" d=\"M63,-431.7C63,-423.98 63,-414.71 63,-406.11\"/>\n",
       "<polygon fill=\"#4a4a4a\" stroke=\"#4a4a4a\" points=\"66.5,-406.1 63,-396.1 59.5,-406.1 66.5,-406.1\"/>\n",
       "</a>\n",
       "</g>\n",
       "</g>\n",
       "</g>\n",
       "</svg>"
      ],
      "text/plain": [
       "<IPython.core.display.SVG object>"
      ]
     },
     "metadata": {},
     "output_type": "display_data"
    }
   ],
   "source": [
    "bn4 = gum.fastBN(\"X6->X7->X8->X5->X3; X8->X9->X1->X10; X9->X4<-X1; X5<-X4->X10; X4->X2->X10\", 2)\n",
    "bn4.cpt(\"X6\")[:] = [0.98, 0.02]\n",
    "bn4.cpt(\"X7\")[:] = [[0.988, 0.012], [0.429, 0.571]]\n",
    "bn4.cpt(\"X8\")[:] = [[0.006,0.994], [0.875, 0.125]]\n",
    "bn4.cpt(\"X9\")[:] = [[0, 1], [0.982, 0.018]]\n",
    "bn4.cpt(\"X1\")[:] = [[0.448, 0.552], [0.067, 0.933]]\n",
    "bn4.cpt(\"X4\")[:] = [[[0.151, 0.849], [0.874, 0.126]], [[1, 0], [1, 0]]]\n",
    "bn4.cpt(\"X2\")[:] = [[0.76, 0.24], [1, 0]]\n",
    "bn4.cpt(\"X5\")[:] = [[[0, 1], [0, 1]], [[0.723, 0.277], [0.311, 0.689]]]\n",
    "bn4.cpt(\"X3\")[:] = [[1, 0], [0.949, 0.051]]\n",
    "bn4.cpt(\"X10\")[:] = [[[[0.684, 0.316], [0, 1]], [[0, 1], [0.474, 0.526]]], [[[1, 0], [0, 1]], [[0.481, 0.519], [1, 0]]]]\n",
    "\n",
    "gnb.showBN(bn4, size=10)"
   ]
  },
  {
   "cell_type": "code",
   "execution_count": 32,
   "metadata": {},
   "outputs": [],
   "source": [
    "qbn4 = qBayesNet(bn4)\n",
    "qc4 = qbn4.buildCircuit(add_measure=True)\n",
    "#qc4.draw(output=\"mpl\", scale=0.5)"
   ]
  },
  {
   "cell_type": "code",
   "execution_count": 33,
   "metadata": {},
   "outputs": [
    {
     "name": "stdout",
     "output_type": "stream",
     "text": [
      "Evidence: {'X9': 1}\n",
      "Evidence probability: 0.04367283844000001\n"
     ]
    }
   ],
   "source": [
    "ev4 = {\"X9\": 1}\n",
    "ie4=gum.LazyPropagation(bn4)\n",
    "ie4.setEvidence(ev4)\n",
    "ie4.makeInference()\n",
    "print(f\"Evidence: {ev4}\")\n",
    "print(f\"Evidence probability: {ie4.evidenceProbability()}\")"
   ]
  },
  {
   "cell_type": "code",
   "execution_count": 34,
   "metadata": {},
   "outputs": [],
   "source": [
    "target_node_bn4 = \"X6\""
   ]
  },
  {
   "cell_type": "code",
   "execution_count": 35,
   "metadata": {},
   "outputs": [
    {
     "data": {
      "image/svg+xml": [
       "<svg xmlns=\"http://www.w3.org/2000/svg\" xmlns:xlink=\"http://www.w3.org/1999/xlink\" width=\"62pt\" height=\"260pt\" viewBox=\"0.00 0.00 62.00 260.00\">\n",
       "<g id=\"graph0\" class=\"graph\" transform=\"scale(1 1) rotate(0) translate(4 256)\">\n",
       "<title>G</title>\n",
       "<!-- X9 -->\n",
       "<g id=\"node1\" class=\"node\">\n",
       "<title>X9</title>\n",
       "<g id=\"a_node1\"><a xlink:title=\"(5) X9\">\n",
       "<ellipse fill=\"#404040\" stroke=\"#4a4a4a\" cx=\"27\" cy=\"-18\" rx=\"27\" ry=\"18\"/>\n",
       "<text text-anchor=\"middle\" x=\"27\" y=\"-14.3\" font-family=\"Times,serif\" font-size=\"14.00\" fill=\"white\">X9</text>\n",
       "</a>\n",
       "</g>\n",
       "</g>\n",
       "<!-- X7 -->\n",
       "<g id=\"node2\" class=\"node\">\n",
       "<title>X7</title>\n",
       "<g id=\"a_node2\"><a xlink:title=\"(1) X7\">\n",
       "<ellipse fill=\"#404040\" stroke=\"#4a4a4a\" cx=\"27\" cy=\"-162\" rx=\"27\" ry=\"18\"/>\n",
       "<text text-anchor=\"middle\" x=\"27\" y=\"-158.3\" font-family=\"Times,serif\" font-size=\"14.00\" fill=\"white\">X7</text>\n",
       "</a>\n",
       "</g>\n",
       "</g>\n",
       "<!-- X8 -->\n",
       "<g id=\"node4\" class=\"node\">\n",
       "<title>X8</title>\n",
       "<g id=\"a_node4\"><a xlink:title=\"(2) X8\">\n",
       "<ellipse fill=\"#404040\" stroke=\"#4a4a4a\" cx=\"27\" cy=\"-90\" rx=\"27\" ry=\"18\"/>\n",
       "<text text-anchor=\"middle\" x=\"27\" y=\"-86.3\" font-family=\"Times,serif\" font-size=\"14.00\" fill=\"white\">X8</text>\n",
       "</a>\n",
       "</g>\n",
       "</g>\n",
       "<!-- X7&#45;&gt;X8 -->\n",
       "<g id=\"edge2\" class=\"edge\">\n",
       "<title>X7-&gt;X8</title>\n",
       "<g id=\"a_edge2\"><a xlink:title=\"1 → 2\">\n",
       "<path fill=\"none\" stroke=\"#4a4a4a\" d=\"M27,-143.7C27,-135.98 27,-126.71 27,-118.11\"/>\n",
       "<polygon fill=\"#4a4a4a\" stroke=\"#4a4a4a\" points=\"30.5,-118.1 27,-108.1 23.5,-118.1 30.5,-118.1\"/>\n",
       "</a>\n",
       "</g>\n",
       "</g>\n",
       "<!-- X6 -->\n",
       "<g id=\"node3\" class=\"node\">\n",
       "<title>X6</title>\n",
       "<g id=\"a_node3\"><a xlink:title=\"(0) X6\">\n",
       "<ellipse fill=\"#404040\" stroke=\"#4a4a4a\" cx=\"27\" cy=\"-234\" rx=\"27\" ry=\"18\"/>\n",
       "<text text-anchor=\"middle\" x=\"27\" y=\"-230.3\" font-family=\"Times,serif\" font-size=\"14.00\" fill=\"white\">X6</text>\n",
       "</a>\n",
       "</g>\n",
       "</g>\n",
       "<!-- X6&#45;&gt;X7 -->\n",
       "<g id=\"edge1\" class=\"edge\">\n",
       "<title>X6-&gt;X7</title>\n",
       "<g id=\"a_edge1\"><a xlink:title=\"0 → 1\">\n",
       "<path fill=\"none\" stroke=\"#4a4a4a\" d=\"M27,-215.7C27,-207.98 27,-198.71 27,-190.11\"/>\n",
       "<polygon fill=\"#4a4a4a\" stroke=\"#4a4a4a\" points=\"30.5,-190.1 27,-180.1 23.5,-190.1 30.5,-190.1\"/>\n",
       "</a>\n",
       "</g>\n",
       "</g>\n",
       "<!-- X8&#45;&gt;X9 -->\n",
       "<g id=\"edge3\" class=\"edge\">\n",
       "<title>X8-&gt;X9</title>\n",
       "<g id=\"a_edge3\"><a xlink:title=\"2 → 5\">\n",
       "<path fill=\"none\" stroke=\"#4a4a4a\" d=\"M27,-71.7C27,-63.98 27,-54.71 27,-46.11\"/>\n",
       "<polygon fill=\"#4a4a4a\" stroke=\"#4a4a4a\" points=\"30.5,-46.1 27,-36.1 23.5,-46.1 30.5,-46.1\"/>\n",
       "</a>\n",
       "</g>\n",
       "</g>\n",
       "</g>\n",
       "</svg>"
      ],
      "text/plain": [
       "<IPython.core.display.SVG object>"
      ]
     },
     "metadata": {},
     "output_type": "display_data"
    }
   ],
   "source": [
    "qinf4 = qInference(qbn4)\n",
    "qinf4.setEvidence(ev4)\n",
    "qinf4.setMaxIter(1000)\n",
    "qinf4.useFragmentBN(target={target_node_bn4})\n",
    "gnb.showBN(qinf4.qbn.bn, size=10)"
   ]
  },
  {
   "cell_type": "code",
   "execution_count": 36,
   "metadata": {},
   "outputs": [
    {
     "data": {
      "text/plain": [
       "{'X6': [0.7950000000000006, 0.20500000000000015],\n",
       " 'X7': [0.5550000000000004, 0.44500000000000034],\n",
       " 'X8': [0.5840000000000004, 0.4160000000000003],\n",
       " 'X9': [0, 1.0000000000000007]}"
      ]
     },
     "execution_count": 36,
     "metadata": {},
     "output_type": "execute_result"
    }
   ],
   "source": [
    "qinf4.makeInference()"
   ]
  },
  {
   "cell_type": "code",
   "execution_count": 37,
   "metadata": {},
   "outputs": [
    {
     "data": {
      "text/html": [
       "<table style=\"border-style: hidden; border-collapse: collapse;\" width=\"100%\"><tr><td style=\"border-top:hidden;border-bottom:hidden;vertical-align:middle;\"><div align=\"center\" style=\"vertical-align:middle;\"><table style=\"border:1px solid black;border-collapse: collapse;\">\n",
       "<tr style='border:1px solid black;color:black;background-color:#808080'>\n",
       "      <th colspan='2'><center>X6</center></th></tr>\n",
       "<tr><th style='border:1px solid black;border-bottom-style: double;color:black;background-color:#BBBBBB'>\n",
       "      <center>0</center></th><th style='border:1px solid black;border-bottom-style: double;color:black;background-color:#BBBBBB'>\n",
       "      <center>1</center></th></tr>\n",
       "<tr><td style='color:black;background-color:#99e464;text-align:right;padding: 3px;'>0.7950</td><td style='color:black;background-color:#e49964;text-align:right;padding: 3px;'>0.2050</td></tr>\n",
       "</table><br><small><i>qInference</i></small></div></td><td style=\"border-top:hidden;border-bottom:hidden;vertical-align:middle;\"><div align=\"center\" style=\"vertical-align:middle;\"><table style=\"border:1px solid black;border-collapse: collapse;\">\n",
       "<tr style='border:1px solid black;color:black;background-color:#808080'>\n",
       "      <th colspan='2'><center>X6</center></th></tr>\n",
       "<tr><th style='border:1px solid black;border-bottom-style: double;color:black;background-color:#BBBBBB'>\n",
       "      <center>0</center></th><th style='border:1px solid black;border-bottom-style: double;color:black;background-color:#BBBBBB'>\n",
       "      <center>1</center></th></tr>\n",
       "<tr><td style='color:black;background-color:#9ce164;text-align:right;padding: 3px;'>0.7659</td><td style='color:black;background-color:#e19c64;text-align:right;padding: 3px;'>0.2341</td></tr>\n",
       "</table><br><small><i>LazyPropagation</i></small></div></td></tr></table>"
      ],
      "text/plain": [
       "<IPython.core.display.HTML object>"
      ]
     },
     "metadata": {},
     "output_type": "display_data"
    }
   ],
   "source": [
    "gnb.sideBySide(qinf4.posterior(target_node_bn4),\n",
    "               ie4.posterior(target_node_bn4),\n",
    "               captions=[\"qInference\", \"LazyPropagation\"])"
   ]
  },
  {
   "cell_type": "code",
   "execution_count": 38,
   "metadata": {},
   "outputs": [
    {
     "name": "stdout",
     "output_type": "stream",
     "text": [
      "q-Inference log: {'A': 1830, 'G': 2596}\n"
     ]
    },
    {
     "data": {
      "text/plain": [
       "0.26446480000000006"
      ]
     },
     "execution_count": 38,
     "metadata": {},
     "output_type": "execute_result"
    }
   ],
   "source": [
    "qrt4 = qRuntime(qinf4, backend)\n",
    "qrt4.getGateExecutionTime()\n",
    "print(f\"q-Inference log: {qrt4.qinf.log}\")\n",
    "qrt4.rejectionSamplingRuntime()"
   ]
  },
  {
   "cell_type": "markdown",
   "metadata": {},
   "source": [
    "# Demo 5:\n",
    "### Demo 4 with nodes X2, X4, X1, X10"
   ]
  },
  {
   "cell_type": "code",
   "execution_count": 4,
   "metadata": {},
   "outputs": [
    {
     "data": {
      "image/svg+xml": [
       "<svg xmlns=\"http://www.w3.org/2000/svg\" xmlns:xlink=\"http://www.w3.org/1999/xlink\" width=\"206pt\" height=\"260pt\" viewBox=\"0.00 0.00 206.00 260.00\">\n",
       "<g id=\"graph0\" class=\"graph\" transform=\"scale(1 1) rotate(0) translate(4 256)\">\n",
       "<title>G</title>\n",
       "<!-- E -->\n",
       "<g id=\"node1\" class=\"node\">\n",
       "<title>E</title>\n",
       "<g id=\"a_node1\"><a xlink:title=\"(6) E\">\n",
       "<ellipse fill=\"#404040\" stroke=\"#4a4a4a\" cx=\"27\" cy=\"-90\" rx=\"27\" ry=\"18\"/>\n",
       "<text text-anchor=\"middle\" x=\"27\" y=\"-86.3\" font-family=\"Times,serif\" font-size=\"14.00\" fill=\"white\">E</text>\n",
       "</a>\n",
       "</g>\n",
       "</g>\n",
       "<!-- F -->\n",
       "<g id=\"node2\" class=\"node\">\n",
       "<title>F</title>\n",
       "<g id=\"a_node2\"><a xlink:title=\"(8) F\">\n",
       "<ellipse fill=\"#404040\" stroke=\"#4a4a4a\" cx=\"27\" cy=\"-162\" rx=\"27\" ry=\"18\"/>\n",
       "<text text-anchor=\"middle\" x=\"27\" y=\"-158.3\" font-family=\"Times,serif\" font-size=\"14.00\" fill=\"white\">F</text>\n",
       "</a>\n",
       "</g>\n",
       "</g>\n",
       "<!-- F&#45;&gt;E -->\n",
       "<g id=\"edge7\" class=\"edge\">\n",
       "<title>F-&gt;E</title>\n",
       "<g id=\"a_edge7\"><a xlink:title=\"8 → 6\">\n",
       "<path fill=\"none\" stroke=\"#4a4a4a\" d=\"M27,-143.7C27,-135.98 27,-126.71 27,-118.11\"/>\n",
       "<polygon fill=\"#4a4a4a\" stroke=\"#4a4a4a\" points=\"30.5,-118.1 27,-108.1 23.5,-118.1 30.5,-118.1\"/>\n",
       "</a>\n",
       "</g>\n",
       "</g>\n",
       "<!-- H -->\n",
       "<g id=\"node3\" class=\"node\">\n",
       "<title>H</title>\n",
       "<g id=\"a_node3\"><a xlink:title=\"(3) H\">\n",
       "<ellipse fill=\"#404040\" stroke=\"#4a4a4a\" cx=\"135\" cy=\"-18\" rx=\"27\" ry=\"18\"/>\n",
       "<text text-anchor=\"middle\" x=\"135\" y=\"-14.3\" font-family=\"Times,serif\" font-size=\"14.00\" fill=\"white\">H</text>\n",
       "</a>\n",
       "</g>\n",
       "</g>\n",
       "<!-- G -->\n",
       "<g id=\"node4\" class=\"node\">\n",
       "<title>G</title>\n",
       "<g id=\"a_node4\"><a xlink:title=\"(7) G\">\n",
       "<ellipse fill=\"#404040\" stroke=\"#4a4a4a\" cx=\"27\" cy=\"-234\" rx=\"27\" ry=\"18\"/>\n",
       "<text text-anchor=\"middle\" x=\"27\" y=\"-230.3\" font-family=\"Times,serif\" font-size=\"14.00\" fill=\"white\">G</text>\n",
       "</a>\n",
       "</g>\n",
       "</g>\n",
       "<!-- G&#45;&gt;F -->\n",
       "<g id=\"edge8\" class=\"edge\">\n",
       "<title>G-&gt;F</title>\n",
       "<g id=\"a_edge8\"><a xlink:title=\"7 → 8\">\n",
       "<path fill=\"none\" stroke=\"#4a4a4a\" d=\"M27,-215.7C27,-207.98 27,-198.71 27,-190.11\"/>\n",
       "<polygon fill=\"#4a4a4a\" stroke=\"#4a4a4a\" points=\"30.5,-190.1 27,-180.1 23.5,-190.1 30.5,-190.1\"/>\n",
       "</a>\n",
       "</g>\n",
       "</g>\n",
       "<!-- A -->\n",
       "<g id=\"node5\" class=\"node\">\n",
       "<title>A</title>\n",
       "<g id=\"a_node5\"><a xlink:title=\"(0) A\">\n",
       "<ellipse fill=\"#404040\" stroke=\"#4a4a4a\" cx=\"135\" cy=\"-234\" rx=\"27\" ry=\"18\"/>\n",
       "<text text-anchor=\"middle\" x=\"135\" y=\"-230.3\" font-family=\"Times,serif\" font-size=\"14.00\" fill=\"white\">A</text>\n",
       "</a>\n",
       "</g>\n",
       "</g>\n",
       "<!-- D -->\n",
       "<g id=\"node6\" class=\"node\">\n",
       "<title>D</title>\n",
       "<g id=\"a_node6\"><a xlink:title=\"(5) D\">\n",
       "<ellipse fill=\"#404040\" stroke=\"#4a4a4a\" cx=\"99\" cy=\"-162\" rx=\"27\" ry=\"18\"/>\n",
       "<text text-anchor=\"middle\" x=\"99\" y=\"-158.3\" font-family=\"Times,serif\" font-size=\"14.00\" fill=\"white\">D</text>\n",
       "</a>\n",
       "</g>\n",
       "</g>\n",
       "<!-- A&#45;&gt;D -->\n",
       "<g id=\"edge6\" class=\"edge\">\n",
       "<title>A-&gt;D</title>\n",
       "<g id=\"a_edge6\"><a xlink:title=\"0 → 5\">\n",
       "<path fill=\"none\" stroke=\"#4a4a4a\" d=\"M126.65,-216.76C122.29,-208.28 116.85,-197.71 111.96,-188.2\"/>\n",
       "<polygon fill=\"#4a4a4a\" stroke=\"#4a4a4a\" points=\"114.99,-186.44 107.3,-179.15 108.77,-189.64 114.99,-186.44\"/>\n",
       "</a>\n",
       "</g>\n",
       "</g>\n",
       "<!-- B -->\n",
       "<g id=\"node8\" class=\"node\">\n",
       "<title>B</title>\n",
       "<g id=\"a_node8\"><a xlink:title=\"(1) B\">\n",
       "<ellipse fill=\"#404040\" stroke=\"#4a4a4a\" cx=\"171\" cy=\"-162\" rx=\"27\" ry=\"18\"/>\n",
       "<text text-anchor=\"middle\" x=\"171\" y=\"-158.3\" font-family=\"Times,serif\" font-size=\"14.00\" fill=\"white\">B</text>\n",
       "</a>\n",
       "</g>\n",
       "</g>\n",
       "<!-- A&#45;&gt;B -->\n",
       "<g id=\"edge1\" class=\"edge\">\n",
       "<title>A-&gt;B</title>\n",
       "<g id=\"a_edge1\"><a xlink:title=\"0 → 1\">\n",
       "<path fill=\"none\" stroke=\"#4a4a4a\" d=\"M143.35,-216.76C147.71,-208.28 153.15,-197.71 158.04,-188.2\"/>\n",
       "<polygon fill=\"#4a4a4a\" stroke=\"#4a4a4a\" points=\"161.23,-189.64 162.7,-179.15 155.01,-186.44 161.23,-189.64\"/>\n",
       "</a>\n",
       "</g>\n",
       "</g>\n",
       "<!-- D&#45;&gt;E -->\n",
       "<g id=\"edge5\" class=\"edge\">\n",
       "<title>D-&gt;E</title>\n",
       "<g id=\"a_edge5\"><a xlink:title=\"5 → 6\">\n",
       "<path fill=\"none\" stroke=\"#4a4a4a\" d=\"M84.43,-146.83C74.25,-136.94 60.48,-123.55 48.97,-112.36\"/>\n",
       "<polygon fill=\"#4a4a4a\" stroke=\"#4a4a4a\" points=\"51.41,-109.85 41.8,-105.38 46.53,-114.87 51.41,-109.85\"/>\n",
       "</a>\n",
       "</g>\n",
       "</g>\n",
       "<!-- C -->\n",
       "<g id=\"node7\" class=\"node\">\n",
       "<title>C</title>\n",
       "<g id=\"a_node7\"><a xlink:title=\"(2) C\">\n",
       "<ellipse fill=\"#404040\" stroke=\"#4a4a4a\" cx=\"171\" cy=\"-90\" rx=\"27\" ry=\"18\"/>\n",
       "<text text-anchor=\"middle\" x=\"171\" y=\"-86.3\" font-family=\"Times,serif\" font-size=\"14.00\" fill=\"white\">C</text>\n",
       "</a>\n",
       "</g>\n",
       "</g>\n",
       "<!-- D&#45;&gt;C -->\n",
       "<g id=\"edge9\" class=\"edge\">\n",
       "<title>D-&gt;C</title>\n",
       "<g id=\"a_edge9\"><a xlink:title=\"5 → 2\">\n",
       "<path fill=\"none\" stroke=\"#4a4a4a\" d=\"M113.57,-146.83C123.75,-136.94 137.52,-123.55 149.03,-112.36\"/>\n",
       "<polygon fill=\"#4a4a4a\" stroke=\"#4a4a4a\" points=\"151.47,-114.87 156.2,-105.38 146.59,-109.85 151.47,-114.87\"/>\n",
       "</a>\n",
       "</g>\n",
       "</g>\n",
       "<!-- C&#45;&gt;H -->\n",
       "<g id=\"edge4\" class=\"edge\">\n",
       "<title>C-&gt;H</title>\n",
       "<g id=\"a_edge4\"><a xlink:title=\"2 → 3\">\n",
       "<path fill=\"none\" stroke=\"#4a4a4a\" d=\"M162.65,-72.76C158.29,-64.28 152.85,-53.71 147.96,-44.2\"/>\n",
       "<polygon fill=\"#4a4a4a\" stroke=\"#4a4a4a\" points=\"150.99,-42.44 143.3,-35.15 144.77,-45.64 150.99,-42.44\"/>\n",
       "</a>\n",
       "</g>\n",
       "</g>\n",
       "<!-- B&#45;&gt;C -->\n",
       "<g id=\"edge2\" class=\"edge\">\n",
       "<title>B-&gt;C</title>\n",
       "<g id=\"a_edge2\"><a xlink:title=\"1 → 2\">\n",
       "<path fill=\"none\" stroke=\"#4a4a4a\" d=\"M171,-143.7C171,-135.98 171,-126.71 171,-118.11\"/>\n",
       "<polygon fill=\"#4a4a4a\" stroke=\"#4a4a4a\" points=\"174.5,-118.1 171,-108.1 167.5,-118.1 174.5,-118.1\"/>\n",
       "</a>\n",
       "</g>\n",
       "</g>\n",
       "<!-- I -->\n",
       "<g id=\"node9\" class=\"node\">\n",
       "<title>I</title>\n",
       "<g id=\"a_node9\"><a xlink:title=\"(4) I\">\n",
       "<ellipse fill=\"#404040\" stroke=\"#4a4a4a\" cx=\"99\" cy=\"-90\" rx=\"27\" ry=\"18\"/>\n",
       "<text text-anchor=\"middle\" x=\"99\" y=\"-86.3\" font-family=\"Times,serif\" font-size=\"14.00\" fill=\"white\">I</text>\n",
       "</a>\n",
       "</g>\n",
       "</g>\n",
       "<!-- I&#45;&gt;H -->\n",
       "<g id=\"edge3\" class=\"edge\">\n",
       "<title>I-&gt;H</title>\n",
       "<g id=\"a_edge3\"><a xlink:title=\"4 → 3\">\n",
       "<path fill=\"none\" stroke=\"#4a4a4a\" d=\"M107.35,-72.76C111.71,-64.28 117.15,-53.71 122.04,-44.2\"/>\n",
       "<polygon fill=\"#4a4a4a\" stroke=\"#4a4a4a\" points=\"125.23,-45.64 126.7,-35.15 119.01,-42.44 125.23,-45.64\"/>\n",
       "</a>\n",
       "</g>\n",
       "</g>\n",
       "</g>\n",
       "</svg>"
      ],
      "text/plain": [
       "<IPython.core.display.SVG object>"
      ]
     },
     "metadata": {},
     "output_type": "display_data"
    }
   ],
   "source": [
    "bn5 = gum.fastBN(\"A->B->C->H;I->H;A->D->C;D->E;G->F->E\", 2)\n",
    "\n",
    "gnb.showBN(bn5, size=10)"
   ]
  },
  {
   "cell_type": "code",
   "execution_count": 6,
   "metadata": {},
   "outputs": [],
   "source": [
    "qbn5 = qBayesNet(bn5)\n",
    "qc5 = qbn5.buildCircuit(add_measure=True)\n",
    "#qc5.draw(output=\"mpl\", scale=0.5)"
   ]
  },
  {
   "cell_type": "code",
   "execution_count": 7,
   "metadata": {},
   "outputs": [
    {
     "name": "stdout",
     "output_type": "stream",
     "text": [
      "Evidence: {'H': 0, 'A': 1}\n",
      "Evidence probability: 0.33430046969155575\n"
     ]
    }
   ],
   "source": [
    "ev5 = {\"H\": 0, \"A\":1}\n",
    "ie5=gum.LazyPropagation(bn5)\n",
    "ie5.setEvidence(ev5)\n",
    "ie5.makeInference()\n",
    "print(f\"Evidence: {ev5}\")\n",
    "print(f\"Evidence probability: {ie5.evidenceProbability()}\")"
   ]
  },
  {
   "cell_type": "code",
   "execution_count": 18,
   "metadata": {},
   "outputs": [],
   "source": [
    "target_node_bn5 = \"D\""
   ]
  },
  {
   "cell_type": "code",
   "execution_count": 9,
   "metadata": {},
   "outputs": [
    {
     "data": {
      "image/svg+xml": [
       "<svg xmlns=\"http://www.w3.org/2000/svg\" xmlns:xlink=\"http://www.w3.org/1999/xlink\" width=\"170pt\" height=\"260pt\" viewBox=\"0.00 0.00 170.00 260.00\">\n",
       "<g id=\"graph0\" class=\"graph\" transform=\"scale(1 1) rotate(0) translate(4 256)\">\n",
       "<title>G</title>\n",
       "<!-- H -->\n",
       "<g id=\"node1\" class=\"node\">\n",
       "<title>H</title>\n",
       "<g id=\"a_node1\"><a xlink:title=\"(3) H\">\n",
       "<ellipse fill=\"#404040\" stroke=\"#4a4a4a\" cx=\"99\" cy=\"-18\" rx=\"27\" ry=\"18\"/>\n",
       "<text text-anchor=\"middle\" x=\"99\" y=\"-14.3\" font-family=\"Times,serif\" font-size=\"14.00\" fill=\"white\">H</text>\n",
       "</a>\n",
       "</g>\n",
       "</g>\n",
       "<!-- A -->\n",
       "<g id=\"node2\" class=\"node\">\n",
       "<title>A</title>\n",
       "<g id=\"a_node2\"><a xlink:title=\"(0) A\">\n",
       "<ellipse fill=\"#404040\" stroke=\"#4a4a4a\" cx=\"63\" cy=\"-234\" rx=\"27\" ry=\"18\"/>\n",
       "<text text-anchor=\"middle\" x=\"63\" y=\"-230.3\" font-family=\"Times,serif\" font-size=\"14.00\" fill=\"white\">A</text>\n",
       "</a>\n",
       "</g>\n",
       "</g>\n",
       "<!-- D -->\n",
       "<g id=\"node3\" class=\"node\">\n",
       "<title>D</title>\n",
       "<g id=\"a_node3\"><a xlink:title=\"(5) D\">\n",
       "<ellipse fill=\"#404040\" stroke=\"#4a4a4a\" cx=\"27\" cy=\"-162\" rx=\"27\" ry=\"18\"/>\n",
       "<text text-anchor=\"middle\" x=\"27\" y=\"-158.3\" font-family=\"Times,serif\" font-size=\"14.00\" fill=\"white\">D</text>\n",
       "</a>\n",
       "</g>\n",
       "</g>\n",
       "<!-- A&#45;&gt;D -->\n",
       "<g id=\"edge5\" class=\"edge\">\n",
       "<title>A-&gt;D</title>\n",
       "<g id=\"a_edge5\"><a xlink:title=\"0 → 5\">\n",
       "<path fill=\"none\" stroke=\"#4a4a4a\" d=\"M54.65,-216.76C50.29,-208.28 44.85,-197.71 39.96,-188.2\"/>\n",
       "<polygon fill=\"#4a4a4a\" stroke=\"#4a4a4a\" points=\"42.99,-186.44 35.3,-179.15 36.77,-189.64 42.99,-186.44\"/>\n",
       "</a>\n",
       "</g>\n",
       "</g>\n",
       "<!-- B -->\n",
       "<g id=\"node5\" class=\"node\">\n",
       "<title>B</title>\n",
       "<g id=\"a_node5\"><a xlink:title=\"(1) B\">\n",
       "<ellipse fill=\"#404040\" stroke=\"#4a4a4a\" cx=\"99\" cy=\"-162\" rx=\"27\" ry=\"18\"/>\n",
       "<text text-anchor=\"middle\" x=\"99\" y=\"-158.3\" font-family=\"Times,serif\" font-size=\"14.00\" fill=\"white\">B</text>\n",
       "</a>\n",
       "</g>\n",
       "</g>\n",
       "<!-- A&#45;&gt;B -->\n",
       "<g id=\"edge1\" class=\"edge\">\n",
       "<title>A-&gt;B</title>\n",
       "<g id=\"a_edge1\"><a xlink:title=\"0 → 1\">\n",
       "<path fill=\"none\" stroke=\"#4a4a4a\" d=\"M71.35,-216.76C75.71,-208.28 81.15,-197.71 86.04,-188.2\"/>\n",
       "<polygon fill=\"#4a4a4a\" stroke=\"#4a4a4a\" points=\"89.23,-189.64 90.7,-179.15 83.01,-186.44 89.23,-189.64\"/>\n",
       "</a>\n",
       "</g>\n",
       "</g>\n",
       "<!-- C -->\n",
       "<g id=\"node4\" class=\"node\">\n",
       "<title>C</title>\n",
       "<g id=\"a_node4\"><a xlink:title=\"(2) C\">\n",
       "<ellipse fill=\"#404040\" stroke=\"#4a4a4a\" cx=\"63\" cy=\"-90\" rx=\"27\" ry=\"18\"/>\n",
       "<text text-anchor=\"middle\" x=\"63\" y=\"-86.3\" font-family=\"Times,serif\" font-size=\"14.00\" fill=\"white\">C</text>\n",
       "</a>\n",
       "</g>\n",
       "</g>\n",
       "<!-- D&#45;&gt;C -->\n",
       "<g id=\"edge6\" class=\"edge\">\n",
       "<title>D-&gt;C</title>\n",
       "<g id=\"a_edge6\"><a xlink:title=\"5 → 2\">\n",
       "<path fill=\"none\" stroke=\"#4a4a4a\" d=\"M35.35,-144.76C39.71,-136.28 45.15,-125.71 50.04,-116.2\"/>\n",
       "<polygon fill=\"#4a4a4a\" stroke=\"#4a4a4a\" points=\"53.23,-117.64 54.7,-107.15 47.01,-114.44 53.23,-117.64\"/>\n",
       "</a>\n",
       "</g>\n",
       "</g>\n",
       "<!-- C&#45;&gt;H -->\n",
       "<g id=\"edge4\" class=\"edge\">\n",
       "<title>C-&gt;H</title>\n",
       "<g id=\"a_edge4\"><a xlink:title=\"2 → 3\">\n",
       "<path fill=\"none\" stroke=\"#4a4a4a\" d=\"M71.35,-72.76C75.71,-64.28 81.15,-53.71 86.04,-44.2\"/>\n",
       "<polygon fill=\"#4a4a4a\" stroke=\"#4a4a4a\" points=\"89.23,-45.64 90.7,-35.15 83.01,-42.44 89.23,-45.64\"/>\n",
       "</a>\n",
       "</g>\n",
       "</g>\n",
       "<!-- B&#45;&gt;C -->\n",
       "<g id=\"edge2\" class=\"edge\">\n",
       "<title>B-&gt;C</title>\n",
       "<g id=\"a_edge2\"><a xlink:title=\"1 → 2\">\n",
       "<path fill=\"none\" stroke=\"#4a4a4a\" d=\"M90.65,-144.76C86.29,-136.28 80.85,-125.71 75.96,-116.2\"/>\n",
       "<polygon fill=\"#4a4a4a\" stroke=\"#4a4a4a\" points=\"78.99,-114.44 71.3,-107.15 72.77,-117.64 78.99,-114.44\"/>\n",
       "</a>\n",
       "</g>\n",
       "</g>\n",
       "<!-- I -->\n",
       "<g id=\"node6\" class=\"node\">\n",
       "<title>I</title>\n",
       "<g id=\"a_node6\"><a xlink:title=\"(4) I\">\n",
       "<ellipse fill=\"#404040\" stroke=\"#4a4a4a\" cx=\"135\" cy=\"-90\" rx=\"27\" ry=\"18\"/>\n",
       "<text text-anchor=\"middle\" x=\"135\" y=\"-86.3\" font-family=\"Times,serif\" font-size=\"14.00\" fill=\"white\">I</text>\n",
       "</a>\n",
       "</g>\n",
       "</g>\n",
       "<!-- I&#45;&gt;H -->\n",
       "<g id=\"edge3\" class=\"edge\">\n",
       "<title>I-&gt;H</title>\n",
       "<g id=\"a_edge3\"><a xlink:title=\"4 → 3\">\n",
       "<path fill=\"none\" stroke=\"#4a4a4a\" d=\"M126.65,-72.76C122.29,-64.28 116.85,-53.71 111.96,-44.2\"/>\n",
       "<polygon fill=\"#4a4a4a\" stroke=\"#4a4a4a\" points=\"114.99,-42.44 107.3,-35.15 108.77,-45.64 114.99,-42.44\"/>\n",
       "</a>\n",
       "</g>\n",
       "</g>\n",
       "</g>\n",
       "</svg>"
      ],
      "text/plain": [
       "<IPython.core.display.SVG object>"
      ]
     },
     "metadata": {},
     "output_type": "display_data"
    }
   ],
   "source": [
    "qinf5 = qInference(qbn5)\n",
    "qinf5.setEvidence(ev5)\n",
    "qinf5.setMaxIter(5000)\n",
    "qinf5.useFragmentBN(target={target_node_bn5})\n",
    "gnb.showBN(qinf5.qbn.bn, size=10)"
   ]
  },
  {
   "cell_type": "code",
   "execution_count": 10,
   "metadata": {},
   "outputs": [],
   "source": [
    "qinf5.makeInference()"
   ]
  },
  {
   "cell_type": "code",
   "execution_count": 19,
   "metadata": {},
   "outputs": [
    {
     "data": {
      "text/html": [
       "<table style=\"border-style: hidden; border-collapse: collapse;\" width=\"100%\"><tr><td style=\"border-top:hidden;border-bottom:hidden;vertical-align:middle;\"><div align=\"center\" style=\"vertical-align:middle;\"><table style=\"border:1px solid black;border-collapse: collapse;\">\n",
       "<tr style='border:1px solid black;color:black;background-color:#808080'>\n",
       "      <th colspan='2'><center>D</center></th></tr>\n",
       "<tr><th style='border:1px solid black;border-bottom-style: double;color:black;background-color:#BBBBBB'>\n",
       "      <center>0</center></th><th style='border:1px solid black;border-bottom-style: double;color:black;background-color:#BBBBBB'>\n",
       "      <center>1</center></th></tr>\n",
       "<tr><td style='color:black;background-color:#fa8364;text-align:right;padding: 3px;'>0.0338</td><td style='color:black;background-color:#83fa64;text-align:right;padding: 3px;'>0.9662</td></tr>\n",
       "</table><br><small><i>qInference</i></small></div></td><td style=\"border-top:hidden;border-bottom:hidden;vertical-align:middle;\"><div align=\"center\" style=\"vertical-align:middle;\"><table style=\"border:1px solid black;border-collapse: collapse;\">\n",
       "<tr style='border:1px solid black;color:black;background-color:#808080'>\n",
       "      <th colspan='2'><center>D</center></th></tr>\n",
       "<tr><th style='border:1px solid black;border-bottom-style: double;color:black;background-color:#BBBBBB'>\n",
       "      <center>0</center></th><th style='border:1px solid black;border-bottom-style: double;color:black;background-color:#BBBBBB'>\n",
       "      <center>1</center></th></tr>\n",
       "<tr><td style='color:black;background-color:#fb8264;text-align:right;padding: 3px;'>0.0257</td><td style='color:black;background-color:#82fb64;text-align:right;padding: 3px;'>0.9743</td></tr>\n",
       "</table><br><small><i>LazyPropagation</i></small></div></td></tr></table>"
      ],
      "text/plain": [
       "<IPython.core.display.HTML object>"
      ]
     },
     "metadata": {},
     "output_type": "display_data"
    }
   ],
   "source": [
    "gnb.sideBySide(qinf5.posterior(target_node_bn5),\n",
    "               ie5.posterior(target_node_bn5),\n",
    "               captions=[\"qInference\", \"LazyPropagation\"])"
   ]
  },
  {
   "cell_type": "code",
   "execution_count": 20,
   "metadata": {},
   "outputs": [
    {
     "name": "stdout",
     "output_type": "stream",
     "text": [
      "A gate transpiled circuit depth: 17226\n",
      "A gate execution time: 0.00511116 s\n",
      "G gate transpiled circuit depth: 17657\n",
      "G gate execution time: 0.00525096 s\n",
      "q-Inference log: {'A': 5062, 'G': 5164}\n"
     ]
    },
    {
     "data": {
      "text/plain": [
       "52.98864936"
      ]
     },
     "execution_count": 20,
     "metadata": {},
     "output_type": "execute_result"
    }
   ],
   "source": [
    "qrt5 = qRuntime(qinf5, backend)\n",
    "qrt5.getGateExecutionTime()\n",
    "print(f\"q-Inference log: {qrt5.qinf.log}\")\n",
    "qrt5.rejectionSamplingRuntime()"
   ]
  },
  {
   "cell_type": "code",
   "execution_count": null,
   "metadata": {},
   "outputs": [],
   "source": []
  }
 ],
 "metadata": {
  "kernelspec": {
   "display_name": "Python 3",
   "language": "python",
   "name": "python3"
  },
  "language_info": {
   "codemirror_mode": {
    "name": "ipython",
    "version": 3
   },
   "file_extension": ".py",
   "mimetype": "text/x-python",
   "name": "python",
   "nbconvert_exporter": "python",
   "pygments_lexer": "ipython3",
   "version": "3.10.12"
  }
 },
 "nbformat": 4,
 "nbformat_minor": 2
}
